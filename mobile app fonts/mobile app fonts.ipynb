{
 "cells": [
  {
   "cell_type": "markdown",
   "metadata": {},
   "source": [
    "# Анализ поведения пользователей мобильного приложения"
   ]
  },
  {
   "cell_type": "markdown",
   "metadata": {
    "toc": true
   },
   "source": [
    "<h1>Содержание<span class=\"tocSkip\"></span></h1>\n",
    "<div class=\"toc\"><ul class=\"toc-item\"><li><span><a href=\"#Загрузка-данных-и-подготовка-к-анализу\" data-toc-modified-id=\"Загрузка-данных-и-подготовка-к-анализу-1\"><span class=\"toc-item-num\">1&nbsp;&nbsp;</span>Загрузка данных и подготовка к анализу</a></span></li><li><span><a href=\"#Предобработка-данных\" data-toc-modified-id=\"Предобработка-данных-2\"><span class=\"toc-item-num\">2&nbsp;&nbsp;</span>Предобработка данных</a></span><ul class=\"toc-item\"><li><span><a href=\"#Замена-названий-и-добавление-новых-столбцов\" data-toc-modified-id=\"Замена-названий-и-добавление-новых-столбцов-2.1\"><span class=\"toc-item-num\">2.1&nbsp;&nbsp;</span>Замена названий и добавление новых столбцов</a></span></li><li><span><a href=\"#Обработка-пропусков\" data-toc-modified-id=\"Обработка-пропусков-2.2\"><span class=\"toc-item-num\">2.2&nbsp;&nbsp;</span>Обработка пропусков</a></span></li><li><span><a href=\"#Обработка-дубликатов\" data-toc-modified-id=\"Обработка-дубликатов-2.3\"><span class=\"toc-item-num\">2.3&nbsp;&nbsp;</span>Обработка дубликатов</a></span></li><li><span><a href=\"#Проверка-правильности-подготовки-к-A/A/B-тесту\" data-toc-modified-id=\"Проверка-правильности-подготовки-к-A/A/B-тесту-2.4\"><span class=\"toc-item-num\">2.4&nbsp;&nbsp;</span>Проверка правильности подготовки к A/A/B-тесту</a></span></li></ul></li><li><span><a href=\"#Исследование-и-проверка-данных\" data-toc-modified-id=\"Исследование-и-проверка-данных-3\"><span class=\"toc-item-num\">3&nbsp;&nbsp;</span>Исследование и проверка данных</a></span></li><li><span><a href=\"#Изучение-воронки-событий\" data-toc-modified-id=\"Изучение-воронки-событий-4\"><span class=\"toc-item-num\">4&nbsp;&nbsp;</span>Изучение воронки событий</a></span><ul class=\"toc-item\"><li><span><a href=\"#Построение-цепочки-событий\" data-toc-modified-id=\"Построение-цепочки-событий-4.1\"><span class=\"toc-item-num\">4.1&nbsp;&nbsp;</span>Построение цепочки событий</a></span></li><li><span><a href=\"#Расчет-воронки\" data-toc-modified-id=\"Расчет-воронки-4.2\"><span class=\"toc-item-num\">4.2&nbsp;&nbsp;</span>Расчет воронки</a></span></li></ul></li><li><span><a href=\"#Изучение-результатов-A/A/B-теста\" data-toc-modified-id=\"Изучение-результатов-A/A/B-теста-5\"><span class=\"toc-item-num\">5&nbsp;&nbsp;</span>Изучение результатов A/A/B-теста</a></span><ul class=\"toc-item\"><li><span><a href=\"#Выбор-уровня-значимости-с-учетом-множественности-проверок\" data-toc-modified-id=\"Выбор-уровня-значимости-с-учетом-множественности-проверок-5.1\"><span class=\"toc-item-num\">5.1&nbsp;&nbsp;</span>Выбор уровня значимости с учетом множественности проверок</a></span></li><li><span><a href=\"#Проверка-контрольных-групп-A/A\" data-toc-modified-id=\"Проверка-контрольных-групп-A/A-5.2\"><span class=\"toc-item-num\">5.2&nbsp;&nbsp;</span>Проверка контрольных групп A/A</a></span><ul class=\"toc-item\"><li><span><a href=\"#Среднее-количество-действий\" data-toc-modified-id=\"Среднее-количество-действий-5.2.1\"><span class=\"toc-item-num\">5.2.1&nbsp;&nbsp;</span>Среднее количество действий</a></span></li><li><span><a href=\"#Среднее-количество-событий\" data-toc-modified-id=\"Среднее-количество-событий-5.2.2\"><span class=\"toc-item-num\">5.2.2&nbsp;&nbsp;</span>Среднее количество событий</a></span></li><li><span><a href=\"#Среднее-время-посещения-сайта\" data-toc-modified-id=\"Среднее-время-посещения-сайта-5.2.3\"><span class=\"toc-item-num\">5.2.3&nbsp;&nbsp;</span>Среднее время посещения сайта</a></span></li><li><span><a href=\"#Доли-совершивших-события\" data-toc-modified-id=\"Доли-совершивших-события-5.2.4\"><span class=\"toc-item-num\">5.2.4&nbsp;&nbsp;</span>Доли совершивших события</a></span></li></ul></li><li><span><a href=\"#Сравнение-долей-соверших-события-в-экспериментальной-группе-с-контрольными\" data-toc-modified-id=\"Сравнение-долей-соверших-события-в-экспериментальной-группе-с-контрольными-5.3\"><span class=\"toc-item-num\">5.3&nbsp;&nbsp;</span>Сравнение долей соверших события в экспериментальной группе с контрольными</a></span><ul class=\"toc-item\"><li><span><a href=\"#Сравнение-долей-совершивших-события-в-группах-248-и-246\" data-toc-modified-id=\"Сравнение-долей-совершивших-события-в-группах-248-и-246-5.3.1\"><span class=\"toc-item-num\">5.3.1&nbsp;&nbsp;</span>Сравнение долей совершивших события в группах 248 и 246</a></span></li><li><span><a href=\"#Сравнение-долей-совершивших-события-в-группах-248-и-247\" data-toc-modified-id=\"Сравнение-долей-совершивших-события-в-группах-248-и-247-5.3.2\"><span class=\"toc-item-num\">5.3.2&nbsp;&nbsp;</span>Сравнение долей совершивших события в группах 248 и 247</a></span></li><li><span><a href=\"#Сравнение-долей-совершивших-события-в-группах-248-и-(246+247)\" data-toc-modified-id=\"Сравнение-долей-совершивших-события-в-группах-248-и-(246+247)-5.3.3\"><span class=\"toc-item-num\">5.3.3&nbsp;&nbsp;</span>Сравнение долей совершивших события в группах 248 и (246+247)</a></span></li></ul></li><li><span><a href=\"#Решение-по-результатам-A/A/B-теста\" data-toc-modified-id=\"Решение-по-результатам-A/A/B-теста-5.4\"><span class=\"toc-item-num\">5.4&nbsp;&nbsp;</span>Решение по результатам A/A/B-теста</a></span></li></ul></li><li><span><a href=\"#Выводы\" data-toc-modified-id=\"Выводы-6\"><span class=\"toc-item-num\">6&nbsp;&nbsp;</span>Выводы</a></span></li></ul></div>"
   ]
  },
  {
   "cell_type": "markdown",
   "metadata": {},
   "source": [
    "Краткое описание проекта: стартап продает продукты питания через свое мобильное приложение. Необходимо разобраться в поведении пользователей, изучить воронку продаж. Также необходимо исследовать результат эксперимента по внедрению новых шрифтов в приложение, в рамках которого все пользователи были поделены на 2 контрольные и 1 экспериментальную группы. "
   ]
  },
  {
   "cell_type": "markdown",
   "metadata": {},
   "source": [
    "Описание данных: \n",
    "* `EventName` — название события;\n",
    "* `DeviceIDHash` — уникальный идентификатор пользователя;\n",
    "* `EventTimestamp` — время события;\n",
    "* `ExpId` — номер эксперимента: 246 и 247 — контрольные группы, а 248 — экспериментальная."
   ]
  },
  {
   "cell_type": "markdown",
   "metadata": {},
   "source": [
    "План исследования: \n",
    "1. Выгрузка данных и первичное знакомство с данными.\n",
    "2. Изменение типов данных, обработка дубликатов и пропусков, добавление новых столбцов.\n",
    "3. Проверка корректности подготовки к проведению A/A/B-теста.\n",
    "4. Исследование и проверка данных.\n",
    "5. Изучение воронки событий.\n",
    "6. Сравнение результатов A/A-теста для контрольных групп.\n",
    "7. Сравнение результатов A/A/B-теста для экспериментальной и контрольных групп.\n",
    "8. Принятие решения по результатам A/A/B-теста.\n",
    "9. Выводы. "
   ]
  },
  {
   "cell_type": "markdown",
   "metadata": {},
   "source": [
    "Цель проекта: рассмотрение целесообразности изменения шрифтов в мобильном приложении посредством изучения потребительского поведения."
   ]
  },
  {
   "cell_type": "code",
   "execution_count": 69,
   "metadata": {},
   "outputs": [],
   "source": [
    "import pandas as pd\n",
    "import matplotlib.pyplot as plt\n",
    "import numpy as np\n",
    "import seaborn as sns\n",
    "import datetime as dt\n",
    "import plotly.express as px\n",
    "from scipy import stats as st\n",
    "from statsmodels.stats import proportion as pr\n",
    "from plotly import graph_objects as go\n",
    "from scipy.stats import binom, norm\n",
    "from math import sqrt\n",
    "from IPython.display import display\n",
    "from IPython.display import Image"
   ]
  },
  {
   "cell_type": "markdown",
   "metadata": {},
   "source": [
    "### Загрузка данных и подготовка к анализу"
   ]
  },
  {
   "cell_type": "code",
   "execution_count": 70,
   "metadata": {},
   "outputs": [],
   "source": [
    "logs = pd.read_csv('logs_exp.csv', sep = '\\t')"
   ]
  },
  {
   "cell_type": "code",
   "execution_count": 71,
   "metadata": {},
   "outputs": [
    {
     "name": "stdout",
     "output_type": "stream",
     "text": [
      "<class 'pandas.core.frame.DataFrame'>\n",
      "RangeIndex: 244126 entries, 0 to 244125\n",
      "Data columns (total 4 columns):\n",
      " #   Column          Non-Null Count   Dtype \n",
      "---  ------          --------------   ----- \n",
      " 0   EventName       244126 non-null  object\n",
      " 1   DeviceIDHash    244126 non-null  int64 \n",
      " 2   EventTimestamp  244126 non-null  int64 \n",
      " 3   ExpId           244126 non-null  int64 \n",
      "dtypes: int64(3), object(1)\n",
      "memory usage: 7.5+ MB\n"
     ]
    }
   ],
   "source": [
    "logs.info()"
   ]
  },
  {
   "cell_type": "markdown",
   "metadata": {},
   "source": [
    "### Предобработка данных"
   ]
  },
  {
   "cell_type": "markdown",
   "metadata": {},
   "source": [
    "#### Замена названий и добавление новых столбцов"
   ]
  },
  {
   "cell_type": "code",
   "execution_count": 72,
   "metadata": {},
   "outputs": [],
   "source": [
    "logs.columns = ['event', 'user_id', 'timestamp', 'group']"
   ]
  },
  {
   "cell_type": "code",
   "execution_count": 73,
   "metadata": {},
   "outputs": [],
   "source": [
    "logs['datetime'] = logs['timestamp'].map(lambda x: dt.datetime.fromtimestamp(x))"
   ]
  },
  {
   "cell_type": "code",
   "execution_count": 74,
   "metadata": {},
   "outputs": [],
   "source": [
    "logs['dt'] = logs['datetime'].dt.date\n",
    "logs['dt'] = pd.to_datetime(logs['dt'])"
   ]
  },
  {
   "cell_type": "markdown",
   "metadata": {},
   "source": [
    "#### Обработка пропусков"
   ]
  },
  {
   "cell_type": "markdown",
   "metadata": {},
   "source": [
    "Из первичного знакомства с данными видно, что пропуски отсутствуют. "
   ]
  },
  {
   "cell_type": "markdown",
   "metadata": {},
   "source": [
    "#### Обработка дубликатов"
   ]
  },
  {
   "cell_type": "code",
   "execution_count": 75,
   "metadata": {},
   "outputs": [
    {
     "name": "stdout",
     "output_type": "stream",
     "text": [
      "Количество дубликатов: 413\n",
      "Доля дубликатов: 0.17 %\n"
     ]
    }
   ],
   "source": [
    "print('Количество дубликатов:', logs.duplicated().sum())\n",
    "print('Доля дубликатов:', round(logs.duplicated().sum()/len(logs)*100,2),'%')"
   ]
  },
  {
   "cell_type": "markdown",
   "metadata": {},
   "source": [
    "В данных обнаружено 413 явных дубликатов, что составляет примерно 0,17% от общего количества записей. Поэтому дубликаты лучше удалить."
   ]
  },
  {
   "cell_type": "code",
   "execution_count": 76,
   "metadata": {},
   "outputs": [],
   "source": [
    "logs = logs.drop_duplicates()"
   ]
  },
  {
   "cell_type": "markdown",
   "metadata": {},
   "source": [
    "#### Проверка правильности подготовки к A/A/B-тесту"
   ]
  },
  {
   "cell_type": "markdown",
   "metadata": {},
   "source": [
    "Проверим корректность деления трафика, в идеале пользователей должно быть равное количество в каждой из 3 групп:"
   ]
  },
  {
   "cell_type": "code",
   "execution_count": 77,
   "metadata": {},
   "outputs": [
    {
     "data": {
      "text/html": [
       "<div>\n",
       "<style scoped>\n",
       "    .dataframe tbody tr th:only-of-type {\n",
       "        vertical-align: middle;\n",
       "    }\n",
       "\n",
       "    .dataframe tbody tr th {\n",
       "        vertical-align: top;\n",
       "    }\n",
       "\n",
       "    .dataframe thead th {\n",
       "        text-align: right;\n",
       "    }\n",
       "</style>\n",
       "<table border=\"1\" class=\"dataframe\">\n",
       "  <thead>\n",
       "    <tr style=\"text-align: right;\">\n",
       "      <th></th>\n",
       "      <th>user_id</th>\n",
       "    </tr>\n",
       "    <tr>\n",
       "      <th>group</th>\n",
       "      <th></th>\n",
       "    </tr>\n",
       "  </thead>\n",
       "  <tbody>\n",
       "    <tr>\n",
       "      <th>246</th>\n",
       "      <td>2489</td>\n",
       "    </tr>\n",
       "    <tr>\n",
       "      <th>247</th>\n",
       "      <td>2520</td>\n",
       "    </tr>\n",
       "    <tr>\n",
       "      <th>248</th>\n",
       "      <td>2542</td>\n",
       "    </tr>\n",
       "  </tbody>\n",
       "</table>\n",
       "</div>"
      ],
      "text/plain": [
       "       user_id\n",
       "group         \n",
       "246       2489\n",
       "247       2520\n",
       "248       2542"
      ]
     },
     "execution_count": 77,
     "metadata": {},
     "output_type": "execute_result"
    }
   ],
   "source": [
    "logs.groupby(by='group').agg({'user_id': 'nunique'})"
   ]
  },
  {
   "cell_type": "code",
   "execution_count": 78,
   "metadata": {},
   "outputs": [
    {
     "name": "stdout",
     "output_type": "stream",
     "text": [
      "Относительная разница между группой 248 и 246: 2.13 %\n"
     ]
    }
   ],
   "source": [
    "print('Относительная разница между группой 248 и 246:', \n",
    "      round(logs.query('group==248')['user_id'].nunique()/logs.query('group==246')['user_id'].nunique()*100-100, 2), '%')"
   ]
  },
  {
   "cell_type": "markdown",
   "metadata": {},
   "source": [
    "Из результатов проверки видно, что в каждой из групп количество пользователей отличается, но не сильно. Максимальное отличие составляет 53 пользователя или примерно 2.13%. В целом деление трафика можно считать равномерным."
   ]
  },
  {
   "cell_type": "markdown",
   "metadata": {},
   "source": [
    "Проверим, есть ли в данных пользователи, которые числятся в 2 или 3 группах сразу:"
   ]
  },
  {
   "cell_type": "code",
   "execution_count": 79,
   "metadata": {},
   "outputs": [
    {
     "data": {
      "text/plain": [
       "0"
      ]
     },
     "execution_count": 79,
     "metadata": {},
     "output_type": "execute_result"
    }
   ],
   "source": [
    "logs.groupby(by='user_id', as_index=False).agg({'group': 'nunique'}).query('group>1')['user_id'].nunique()"
   ]
  },
  {
   "cell_type": "markdown",
   "metadata": {},
   "source": [
    "Каждый из пользователей входит только в одну группу."
   ]
  },
  {
   "cell_type": "markdown",
   "metadata": {},
   "source": [
    "Предобработка данных показала, что данные довольно высокого качества, в них нет пропусков, 0,17% являются дубликатами, которые пришлось удалить.\\\n",
    "Подготовка к проведению A/A/B-теста также была выполнена правильно, в целом выборка поделена на группы равномерно (по количеству пользователей группы отличаются друг от друг на 1-2%), а пользователей, которые состояли бы в нескольких группах, нет."
   ]
  },
  {
   "cell_type": "markdown",
   "metadata": {},
   "source": [
    "### Исследование и проверка данных"
   ]
  },
  {
   "cell_type": "code",
   "execution_count": 80,
   "metadata": {},
   "outputs": [
    {
     "name": "stdout",
     "output_type": "stream",
     "text": [
      "Количество уникальных событий: 5\n",
      "Количество уникальных пользователей: 7551\n"
     ]
    }
   ],
   "source": [
    "print('Количество уникальных событий:', logs['event'].nunique())\n",
    "print('Количество уникальных пользователей:', logs['user_id'].nunique())"
   ]
  },
  {
   "cell_type": "code",
   "execution_count": 81,
   "metadata": {},
   "outputs": [],
   "source": [
    "event_df = logs.groupby(by='user_id').agg({'event': ['nunique', 'count']}).droplevel(1, axis=1)\n",
    "event_df.columns = ['nunique', 'count']"
   ]
  },
  {
   "cell_type": "markdown",
   "metadata": {},
   "source": [
    "Проверим, есть ли в данных о событиях и действиях выбросы:"
   ]
  },
  {
   "cell_type": "code",
   "execution_count": 82,
   "metadata": {},
   "outputs": [
    {
     "data": {
      "image/png": "[encoded data removed]",
      "text/plain": [
       "<Figure size 1500x500 with 2 Axes>"
      ]
     },
     "metadata": {},
     "output_type": "display_data"
    }
   ],
   "source": [
    "ax1 = event_df['nunique'].plot(kind='box', ax=plt.subplot(1,2,1), figsize=(15,5))\n",
    "ax1.set(xticklabels=[])\n",
    "ax1.set_ylabel('Количество событий')\n",
    "ax1.set_title('Диаграмма размаха количества событий')\n",
    "ax2 = event_df['count'].plot(kind='box', ax=plt.subplot(1,2,2), figsize=(15,5))\n",
    "ax2.set(xticklabels=[])\n",
    "ax2.set_ylabel('Количество действий')\n",
    "ax2.set_title('Диаграмма размаха количества действий')\n",
    "plt.show()"
   ]
  },
  {
   "cell_type": "markdown",
   "metadata": {},
   "source": [
    "В данных о событиях выбросов нет, а в данных о действиях есть большое количество пользователей с аномально высокими показателями посещения мобильного приложения. Поэтому в случае с количеством событий можно ориентироваться на среднее количество, а для действий лучше использовать медианы для нивелирования влияния выбросов."
   ]
  },
  {
   "cell_type": "code",
   "execution_count": 83,
   "metadata": {},
   "outputs": [
    {
     "name": "stdout",
     "output_type": "stream",
     "text": [
      "Среднее уникальных событий на пользователя: 2.67\n",
      "Среднее действий, совершаемых одним пользователем: 32.28\n"
     ]
    }
   ],
   "source": [
    "print('Среднее уникальных событий на пользователя:', \n",
    "      round(event_df['nunique'].mean(),2))\n",
    "print('Среднее действий, совершаемых одним пользователем:', \n",
    "      round(event_df['count'].mean(),2))"
   ]
  },
  {
   "cell_type": "markdown",
   "metadata": {},
   "source": [
    "В логе всего бывает 5 разных видов событий, а уникальных пользователей всего 7551. На каждого пользователя в среднем приходится 2.67 события, а всего действий в среднем каждый пользователь совершает примерно 32.28."
   ]
  },
  {
   "cell_type": "code",
   "execution_count": 84,
   "metadata": {},
   "outputs": [
    {
     "name": "stdout",
     "output_type": "stream",
     "text": [
      "Медиана уникальных событий на пользователя: 3.0\n",
      "Медиана действий, совершаемых одним пользователем: 20.0\n"
     ]
    }
   ],
   "source": [
    "print('Медиана уникальных событий на пользователя:', \n",
    "      round(event_df['nunique'].median(),2))\n",
    "print('Медиана действий, совершаемых одним пользователем:', \n",
    "      round(event_df['count'].median(),2))"
   ]
  },
  {
   "cell_type": "markdown",
   "metadata": {},
   "source": [
    "Медиана количества посещений пользователем равна 3, а медиана действий равна 20. Это подтверждает влияние выбросов на среднее и медиану: для событий медиана от среднего отличается несильно (3 против 2.67), а для действий отличие большое (20 против 32.28). "
   ]
  },
  {
   "cell_type": "code",
   "execution_count": 85,
   "metadata": {},
   "outputs": [
    {
     "name": "stdout",
     "output_type": "stream",
     "text": [
      "Дата начала периода: 2019-07-25\n",
      "Дата окончания периода: 2019-08-08\n"
     ]
    }
   ],
   "source": [
    "print('Дата начала периода:', logs['dt'].min().strftime('%Y-%m-%d'))\n",
    "print('Дата окончания периода:', logs['dt'].max().strftime('%Y-%m-%d'))"
   ]
  },
  {
   "cell_type": "code",
   "execution_count": 86,
   "metadata": {},
   "outputs": [],
   "source": [
    "event_count = logs.pivot_table(index='dt', columns='group', values='event', aggfunc='count')"
   ]
  },
  {
   "cell_type": "code",
   "execution_count": 87,
   "metadata": {},
   "outputs": [
    {
     "data": {
      "image/png": "[encoded data removed]",
      "text/plain": [
       "<Figure size 1000x500 with 1 Axes>"
      ]
     },
     "metadata": {},
     "output_type": "display_data"
    }
   ],
   "source": [
    "fig, ax = plt.subplots(figsize=(10,5))\n",
    "ax.bar(event_count.index, event_count[246], color='r', label=246)\n",
    "ax.bar(event_count.index, event_count[247], bottom=event_count[246], color='b', label=247)\n",
    "ax.bar(event_count.index, event_count[248], bottom=event_count[246]+event_count[247], color='y', label=248)\n",
    "ax.xaxis_date() \n",
    "ax.set_xlabel('Дата')\n",
    "ax.set_ylabel('Количество событий')\n",
    "ax.set_title('Динамика количества событий по группам')\n",
    "fig.autofmt_xdate() \n",
    "plt.legend()\n",
    "plt.show()"
   ]
  },
  {
   "cell_type": "markdown",
   "metadata": {},
   "source": [
    "На столбчатой диаграмме видно, что до 31 июля включительно данных в логе намного меньше, чем после 31 июля. Соответственно данные до 1 августа необходимо отбросить и рассматривать период с 1 по 7 августа включительно. На графике также четко видно, что в выборке остаются пользователи из всех 3 экспериментальных групп."
   ]
  },
  {
   "cell_type": "code",
   "execution_count": 88,
   "metadata": {},
   "outputs": [],
   "source": [
    "logs_new=logs[logs['dt']>='2019-08-01']"
   ]
  },
  {
   "cell_type": "code",
   "execution_count": 89,
   "metadata": {},
   "outputs": [
    {
     "name": "stdout",
     "output_type": "stream",
     "text": [
      "Количество удаленных из лога записей: 1989\n",
      "Доля удаленных из лога записей: 0.82 %\n"
     ]
    }
   ],
   "source": [
    "print('Количество удаленных из лога записей:', len(logs)-len(logs_new))\n",
    "print('Доля удаленных из лога записей:', round((len(logs)-len(logs_new))/len(logs)*100,2), '%')"
   ]
  },
  {
   "cell_type": "code",
   "execution_count": 90,
   "metadata": {},
   "outputs": [
    {
     "name": "stdout",
     "output_type": "stream",
     "text": [
      "Количество удаленных из лога пользователей: 13\n",
      "Доля удаленных из лога пользователей: 0.17 %\n"
     ]
    }
   ],
   "source": [
    "print('Количество удаленных из лога пользователей:', logs['user_id'].nunique()-logs_new['user_id'].nunique())\n",
    "print('Доля удаленных из лога пользователей:', \n",
    "      round((logs['user_id'].nunique()-logs_new['user_id'].nunique())/logs['user_id'].nunique()*100,2), '%')"
   ]
  },
  {
   "cell_type": "markdown",
   "metadata": {},
   "source": [
    "Из лога было удалено 1989 записей, что составляет лишь 0,82% от общего количества всех событий. А пользователей было потеряно 13, что составляет 0,17% от общего количества пользователей в данных. Это еще раз подтверждает, что в отброшенном периоде данные неполные и их настолько мало, что лучше их убрать."
   ]
  },
  {
   "cell_type": "markdown",
   "metadata": {},
   "source": [
    "В логе представлены данные за период с 2019.07.25 до 2019.08.07. На каждого пользователя в среднем приходится примерно 2,67 события, а медиана действий составляет 20. Оказалось, что за период с 2019.07.25 по 2019.07.31 данных очень мало, они составляют лишь 0,82% от общего количества данных, поэтому данные скорее всего являются неполными, и их можно удалить. После удаления данных также удается сохранить примерно равномерное распределение пользователей по группам."
   ]
  },
  {
   "cell_type": "markdown",
   "metadata": {},
   "source": [
    "### Изучение воронки событий"
   ]
  },
  {
   "cell_type": "markdown",
   "metadata": {},
   "source": [
    "#### Построение цепочки событий"
   ]
  },
  {
   "cell_type": "code",
   "execution_count": 91,
   "metadata": {},
   "outputs": [],
   "source": [
    "events_df = logs_new.groupby('event').agg({'user_id':['count', 'nunique']}).droplevel(1, axis=1)\n",
    "events_df.columns = ['total', 'user_cnt']\n",
    "events_df['conversion'] = round(events_df['user_cnt']/logs_new['user_id'].nunique()*100,2)"
   ]
  },
  {
   "cell_type": "code",
   "execution_count": 92,
   "metadata": {},
   "outputs": [
    {
     "data": {
      "image/png": "[encoded data removed]",
      "text/plain": [
       "<Figure size 1000x1000 with 3 Axes>"
      ]
     },
     "metadata": {},
     "output_type": "display_data"
    }
   ],
   "source": [
    "ax = events_df.sort_values(by='total')['total'].plot(kind='barh', figsize=(10,10), ax=plt.subplot(3,1,1))\n",
    "ax.set_xlabel('Количество событий')\n",
    "ax.set_ylabel('Событие')\n",
    "ax.set_title('Частота событий')\n",
    "ax1 = events_df.sort_values(by='total')['user_cnt'].plot(kind='barh', figsize=(10,10), ax=plt.subplot(3,1,2))\n",
    "ax1.set_xlabel('Количество пользователей')\n",
    "ax1.set_ylabel('Событие')\n",
    "ax1.set_title('Количество пользователей, совершивших событие')\n",
    "ax2 = events_df.sort_values(by='total')['conversion'].plot(kind='barh', figsize=(10,10), ax=plt.subplot(3,1,3))\n",
    "ax2.set_xlabel('Доля пользователей, %')\n",
    "ax2.set_ylabel('Событие')\n",
    "ax2.set_title('Доля пользователей, совершивших событие')\n",
    "plt.tight_layout()\n",
    "plt.show()"
   ]
  },
  {
   "cell_type": "code",
   "execution_count": 93,
   "metadata": {},
   "outputs": [
    {
     "data": {
      "text/html": [
       "<div>\n",
       "<style scoped>\n",
       "    .dataframe tbody tr th:only-of-type {\n",
       "        vertical-align: middle;\n",
       "    }\n",
       "\n",
       "    .dataframe tbody tr th {\n",
       "        vertical-align: top;\n",
       "    }\n",
       "\n",
       "    .dataframe thead th {\n",
       "        text-align: right;\n",
       "    }\n",
       "</style>\n",
       "<table border=\"1\" class=\"dataframe\">\n",
       "  <thead>\n",
       "    <tr style=\"text-align: right;\">\n",
       "      <th></th>\n",
       "      <th>total</th>\n",
       "      <th>user_cnt</th>\n",
       "      <th>conversion</th>\n",
       "    </tr>\n",
       "    <tr>\n",
       "      <th>event</th>\n",
       "      <th></th>\n",
       "      <th></th>\n",
       "      <th></th>\n",
       "    </tr>\n",
       "  </thead>\n",
       "  <tbody>\n",
       "    <tr>\n",
       "      <th>MainScreenAppear</th>\n",
       "      <td>117889</td>\n",
       "      <td>7423</td>\n",
       "      <td>98.47</td>\n",
       "    </tr>\n",
       "    <tr>\n",
       "      <th>OffersScreenAppear</th>\n",
       "      <td>46531</td>\n",
       "      <td>4597</td>\n",
       "      <td>60.98</td>\n",
       "    </tr>\n",
       "    <tr>\n",
       "      <th>CartScreenAppear</th>\n",
       "      <td>42343</td>\n",
       "      <td>3736</td>\n",
       "      <td>49.56</td>\n",
       "    </tr>\n",
       "    <tr>\n",
       "      <th>PaymentScreenSuccessful</th>\n",
       "      <td>33951</td>\n",
       "      <td>3540</td>\n",
       "      <td>46.96</td>\n",
       "    </tr>\n",
       "    <tr>\n",
       "      <th>Tutorial</th>\n",
       "      <td>1010</td>\n",
       "      <td>843</td>\n",
       "      <td>11.18</td>\n",
       "    </tr>\n",
       "  </tbody>\n",
       "</table>\n",
       "</div>"
      ],
      "text/plain": [
       "                          total  user_cnt  conversion\n",
       "event                                                \n",
       "MainScreenAppear         117889      7423       98.47\n",
       "OffersScreenAppear        46531      4597       60.98\n",
       "CartScreenAppear          42343      3736       49.56\n",
       "PaymentScreenSuccessful   33951      3540       46.96\n",
       "Tutorial                   1010       843       11.18"
      ]
     },
     "execution_count": 93,
     "metadata": {},
     "output_type": "execute_result"
    }
   ],
   "source": [
    "events_df = events_df.sort_values(by='total', ascending=False)\n",
    "events_df"
   ]
  },
  {
   "cell_type": "markdown",
   "metadata": {},
   "source": [
    "На построенных графиках видно, что самым популярным событием является переход на главную страницу, оно встречается чаще всего (117 889 раз) и 98,47% пользователей прошли через этот этап. Далее следуют страница с предложениями (46 531 раз и 60,98% пользователей), страница с корзиной (42 343 раза и 49,56% пользователей) и страница с успешной оплатой (33 951 раз и 46,96% пользователей). Получившаяся на данных последовательность подтверждает логику работы интернет-магазина, поэтому есть основание предположить, что события выстраиваются в цепочку именно таким образом.\\\n",
    "Выбивается из общей последовательности страница с обучением, которая является наименее популярной и сильно уступает всем остальным страницам по всем показателям (1 010 раз и 11,18% пользователей). Однако вряд ли причиной столь редкого посещения страницы с обучением является ее посещение после усешной покупки. Очевидно, причина в том, что крайне мало пользователей проходит обучение перед использованием приложения. Соответственно при расчете воронки это событие учитывать не будем."
   ]
  },
  {
   "cell_type": "markdown",
   "metadata": {},
   "source": [
    "#### Расчет воронки"
   ]
  },
  {
   "cell_type": "code",
   "execution_count": 94,
   "metadata": {},
   "outputs": [],
   "source": [
    "events_df['funnel'] = round((events_df['user_cnt'].pct_change() + 1)*100,2)"
   ]
  },
  {
   "cell_type": "code",
   "execution_count": 95,
   "metadata": {},
   "outputs": [
    {
     "data": {
      "text/html": [
       "<div>\n",
       "<style scoped>\n",
       "    .dataframe tbody tr th:only-of-type {\n",
       "        vertical-align: middle;\n",
       "    }\n",
       "\n",
       "    .dataframe tbody tr th {\n",
       "        vertical-align: top;\n",
       "    }\n",
       "\n",
       "    .dataframe thead th {\n",
       "        text-align: right;\n",
       "    }\n",
       "</style>\n",
       "<table border=\"1\" class=\"dataframe\">\n",
       "  <thead>\n",
       "    <tr style=\"text-align: right;\">\n",
       "      <th></th>\n",
       "      <th>total</th>\n",
       "      <th>user_cnt</th>\n",
       "      <th>conversion</th>\n",
       "      <th>funnel</th>\n",
       "    </tr>\n",
       "  </thead>\n",
       "  <tbody>\n",
       "    <tr>\n",
       "      <th>Основная страница</th>\n",
       "      <td>117889</td>\n",
       "      <td>7423</td>\n",
       "      <td>98.47</td>\n",
       "      <td>NaN</td>\n",
       "    </tr>\n",
       "    <tr>\n",
       "      <th>Предложения</th>\n",
       "      <td>46531</td>\n",
       "      <td>4597</td>\n",
       "      <td>60.98</td>\n",
       "      <td>61.93</td>\n",
       "    </tr>\n",
       "    <tr>\n",
       "      <th>Корзина</th>\n",
       "      <td>42343</td>\n",
       "      <td>3736</td>\n",
       "      <td>49.56</td>\n",
       "      <td>81.27</td>\n",
       "    </tr>\n",
       "    <tr>\n",
       "      <th>Успешный платеж</th>\n",
       "      <td>33951</td>\n",
       "      <td>3540</td>\n",
       "      <td>46.96</td>\n",
       "      <td>94.75</td>\n",
       "    </tr>\n",
       "  </tbody>\n",
       "</table>\n",
       "</div>"
      ],
      "text/plain": [
       "                    total  user_cnt  conversion  funnel\n",
       "Основная страница  117889      7423       98.47     NaN\n",
       "Предложения         46531      4597       60.98   61.93\n",
       "Корзина             42343      3736       49.56   81.27\n",
       "Успешный платеж     33951      3540       46.96   94.75"
      ]
     },
     "execution_count": 95,
     "metadata": {},
     "output_type": "execute_result"
    }
   ],
   "source": [
    "funnel_df = events_df[events_df.index!='Tutorial']\n",
    "funnel_df.index=['Основная страница', 'Предложения', 'Корзина', 'Успешный платеж']\n",
    "funnel_df"
   ]
  },
  {
   "cell_type": "code",
   "execution_count": 96,
   "metadata": {},
   "outputs": [
    {
     "data": {
      "application/vnd.plotly.v1+json": {
       "config": {
        "plotlyServerURL": "https://plot.ly"
       },
       "data": [
        {
         "textinfo": "value+percent previous",
         "textposition": "inside",
         "type": "funnel",
         "x": [
          7423,
          4597,
          3736,
          3540
         ],
         "y": [
          "Основная страница",
          "Предложения",
          "Корзина",
          "Успешный платеж"
         ]
        }
       ],
       "layout": {
        "template": {
         "data": {
          "bar": [
           {
            "error_x": {
             "color": "#2a3f5f"
            },
            "error_y": {
             "color": "#2a3f5f"
            },
            "marker": {
             "line": {
              "color": "#E5ECF6",
              "width": 0.5
             },
             "pattern": {
              "fillmode": "overlay",
              "size": 10,
              "solidity": 0.2
             }
            },
            "type": "bar"
           }
          ],
          "barpolar": [
           {
            "marker": {
             "line": {
              "color": "#E5ECF6",
              "width": 0.5
             },
             "pattern": {
              "fillmode": "overlay",
              "size": 10,
              "solidity": 0.2
             }
            },
            "type": "barpolar"
           }
          ],
          "carpet": [
           {
            "aaxis": {
             "endlinecolor": "#2a3f5f",
             "gridcolor": "white",
             "linecolor": "white",
             "minorgridcolor": "white",
             "startlinecolor": "#2a3f5f"
            },
            "baxis": {
             "endlinecolor": "#2a3f5f",
             "gridcolor": "white",
             "linecolor": "white",
             "minorgridcolor": "white",
             "startlinecolor": "#2a3f5f"
            },
            "type": "carpet"
           }
          ],
          "choropleth": [
           {
            "colorbar": {
             "outlinewidth": 0,
             "ticks": ""
            },
            "type": "choropleth"
           }
          ],
          "contour": [
           {
            "colorbar": {
             "outlinewidth": 0,
             "ticks": ""
            },
            "colorscale": [
             [
              0,
              "#0d0887"
             ],
             [
              0.1111111111111111,
              "#46039f"
             ],
             [
              0.2222222222222222,
              "#7201a8"
             ],
             [
              0.3333333333333333,
              "#9c179e"
             ],
             [
              0.4444444444444444,
              "#bd3786"
             ],
             [
              0.5555555555555556,
              "#d8576b"
             ],
             [
              0.6666666666666666,
              "#ed7953"
             ],
             [
              0.7777777777777778,
              "#fb9f3a"
             ],
             [
              0.8888888888888888,
              "#fdca26"
             ],
             [
              1,
              "#f0f921"
             ]
            ],
            "type": "contour"
           }
          ],
          "contourcarpet": [
           {
            "colorbar": {
             "outlinewidth": 0,
             "ticks": ""
            },
            "type": "contourcarpet"
           }
          ],
          "heatmap": [
           {
            "colorbar": {
             "outlinewidth": 0,
             "ticks": ""
            },
            "colorscale": [
             [
              0,
              "#0d0887"
             ],
             [
              0.1111111111111111,
              "#46039f"
             ],
             [
              0.2222222222222222,
              "#7201a8"
             ],
             [
              0.3333333333333333,
              "#9c179e"
             ],
             [
              0.4444444444444444,
              "#bd3786"
             ],
             [
              0.5555555555555556,
              "#d8576b"
             ],
             [
              0.6666666666666666,
              "#ed7953"
             ],
             [
              0.7777777777777778,
              "#fb9f3a"
             ],
             [
              0.8888888888888888,
              "#fdca26"
             ],
             [
              1,
              "#f0f921"
             ]
            ],
            "type": "heatmap"
           }
          ],
          "heatmapgl": [
           {
            "colorbar": {
             "outlinewidth": 0,
             "ticks": ""
            },
            "colorscale": [
             [
              0,
              "#0d0887"
             ],
             [
              0.1111111111111111,
              "#46039f"
             ],
             [
              0.2222222222222222,
              "#7201a8"
             ],
             [
              0.3333333333333333,
              "#9c179e"
             ],
             [
              0.4444444444444444,
              "#bd3786"
             ],
             [
              0.5555555555555556,
              "#d8576b"
             ],
             [
              0.6666666666666666,
              "#ed7953"
             ],
             [
              0.7777777777777778,
              "#fb9f3a"
             ],
             [
              0.8888888888888888,
              "#fdca26"
             ],
             [
              1,
              "#f0f921"
             ]
            ],
            "type": "heatmapgl"
           }
          ],
          "histogram": [
           {
            "marker": {
             "pattern": {
              "fillmode": "overlay",
              "size": 10,
              "solidity": 0.2
             }
            },
            "type": "histogram"
           }
          ],
          "histogram2d": [
           {
            "colorbar": {
             "outlinewidth": 0,
             "ticks": ""
            },
            "colorscale": [
             [
              0,
              "#0d0887"
             ],
             [
              0.1111111111111111,
              "#46039f"
             ],
             [
              0.2222222222222222,
              "#7201a8"
             ],
             [
              0.3333333333333333,
              "#9c179e"
             ],
             [
              0.4444444444444444,
              "#bd3786"
             ],
             [
              0.5555555555555556,
              "#d8576b"
             ],
             [
              0.6666666666666666,
              "#ed7953"
             ],
             [
              0.7777777777777778,
              "#fb9f3a"
             ],
             [
              0.8888888888888888,
              "#fdca26"
             ],
             [
              1,
              "#f0f921"
             ]
            ],
            "type": "histogram2d"
           }
          ],
          "histogram2dcontour": [
           {
            "colorbar": {
             "outlinewidth": 0,
             "ticks": ""
            },
            "colorscale": [
             [
              0,
              "#0d0887"
             ],
             [
              0.1111111111111111,
              "#46039f"
             ],
             [
              0.2222222222222222,
              "#7201a8"
             ],
             [
              0.3333333333333333,
              "#9c179e"
             ],
             [
              0.4444444444444444,
              "#bd3786"
             ],
             [
              0.5555555555555556,
              "#d8576b"
             ],
             [
              0.6666666666666666,
              "#ed7953"
             ],
             [
              0.7777777777777778,
              "#fb9f3a"
             ],
             [
              0.8888888888888888,
              "#fdca26"
             ],
             [
              1,
              "#f0f921"
             ]
            ],
            "type": "histogram2dcontour"
           }
          ],
          "mesh3d": [
           {
            "colorbar": {
             "outlinewidth": 0,
             "ticks": ""
            },
            "type": "mesh3d"
           }
          ],
          "parcoords": [
           {
            "line": {
             "colorbar": {
              "outlinewidth": 0,
              "ticks": ""
             }
            },
            "type": "parcoords"
           }
          ],
          "pie": [
           {
            "automargin": true,
            "type": "pie"
           }
          ],
          "scatter": [
           {
            "marker": {
             "colorbar": {
              "outlinewidth": 0,
              "ticks": ""
             }
            },
            "type": "scatter"
           }
          ],
          "scatter3d": [
           {
            "line": {
             "colorbar": {
              "outlinewidth": 0,
              "ticks": ""
             }
            },
            "marker": {
             "colorbar": {
              "outlinewidth": 0,
              "ticks": ""
             }
            },
            "type": "scatter3d"
           }
          ],
          "scattercarpet": [
           {
            "marker": {
             "colorbar": {
              "outlinewidth": 0,
              "ticks": ""
             }
            },
            "type": "scattercarpet"
           }
          ],
          "scattergeo": [
           {
            "marker": {
             "colorbar": {
              "outlinewidth": 0,
              "ticks": ""
             }
            },
            "type": "scattergeo"
           }
          ],
          "scattergl": [
           {
            "marker": {
             "colorbar": {
              "outlinewidth": 0,
              "ticks": ""
             }
            },
            "type": "scattergl"
           }
          ],
          "scattermapbox": [
           {
            "marker": {
             "colorbar": {
              "outlinewidth": 0,
              "ticks": ""
             }
            },
            "type": "scattermapbox"
           }
          ],
          "scatterpolar": [
           {
            "marker": {
             "colorbar": {
              "outlinewidth": 0,
              "ticks": ""
             }
            },
            "type": "scatterpolar"
           }
          ],
          "scatterpolargl": [
           {
            "marker": {
             "colorbar": {
              "outlinewidth": 0,
              "ticks": ""
             }
            },
            "type": "scatterpolargl"
           }
          ],
          "scatterternary": [
           {
            "marker": {
             "colorbar": {
              "outlinewidth": 0,
              "ticks": ""
             }
            },
            "type": "scatterternary"
           }
          ],
          "surface": [
           {
            "colorbar": {
             "outlinewidth": 0,
             "ticks": ""
            },
            "colorscale": [
             [
              0,
              "#0d0887"
             ],
             [
              0.1111111111111111,
              "#46039f"
             ],
             [
              0.2222222222222222,
              "#7201a8"
             ],
             [
              0.3333333333333333,
              "#9c179e"
             ],
             [
              0.4444444444444444,
              "#bd3786"
             ],
             [
              0.5555555555555556,
              "#d8576b"
             ],
             [
              0.6666666666666666,
              "#ed7953"
             ],
             [
              0.7777777777777778,
              "#fb9f3a"
             ],
             [
              0.8888888888888888,
              "#fdca26"
             ],
             [
              1,
              "#f0f921"
             ]
            ],
            "type": "surface"
           }
          ],
          "table": [
           {
            "cells": {
             "fill": {
              "color": "#EBF0F8"
             },
             "line": {
              "color": "white"
             }
            },
            "header": {
             "fill": {
              "color": "#C8D4E3"
             },
             "line": {
              "color": "white"
             }
            },
            "type": "table"
           }
          ]
         },
         "layout": {
          "annotationdefaults": {
           "arrowcolor": "#2a3f5f",
           "arrowhead": 0,
           "arrowwidth": 1
          },
          "autotypenumbers": "strict",
          "coloraxis": {
           "colorbar": {
            "outlinewidth": 0,
            "ticks": ""
           }
          },
          "colorscale": {
           "diverging": [
            [
             0,
             "#8e0152"
            ],
            [
             0.1,
             "#c51b7d"
            ],
            [
             0.2,
             "#de77ae"
            ],
            [
             0.3,
             "#f1b6da"
            ],
            [
             0.4,
             "#fde0ef"
            ],
            [
             0.5,
             "#f7f7f7"
            ],
            [
             0.6,
             "#e6f5d0"
            ],
            [
             0.7,
             "#b8e186"
            ],
            [
             0.8,
             "#7fbc41"
            ],
            [
             0.9,
             "#4d9221"
            ],
            [
             1,
             "#276419"
            ]
           ],
           "sequential": [
            [
             0,
             "#0d0887"
            ],
            [
             0.1111111111111111,
             "#46039f"
            ],
            [
             0.2222222222222222,
             "#7201a8"
            ],
            [
             0.3333333333333333,
             "#9c179e"
            ],
            [
             0.4444444444444444,
             "#bd3786"
            ],
            [
             0.5555555555555556,
             "#d8576b"
            ],
            [
             0.6666666666666666,
             "#ed7953"
            ],
            [
             0.7777777777777778,
             "#fb9f3a"
            ],
            [
             0.8888888888888888,
             "#fdca26"
            ],
            [
             1,
             "#f0f921"
            ]
           ],
           "sequentialminus": [
            [
             0,
             "#0d0887"
            ],
            [
             0.1111111111111111,
             "#46039f"
            ],
            [
             0.2222222222222222,
             "#7201a8"
            ],
            [
             0.3333333333333333,
             "#9c179e"
            ],
            [
             0.4444444444444444,
             "#bd3786"
            ],
            [
             0.5555555555555556,
             "#d8576b"
            ],
            [
             0.6666666666666666,
             "#ed7953"
            ],
            [
             0.7777777777777778,
             "#fb9f3a"
            ],
            [
             0.8888888888888888,
             "#fdca26"
            ],
            [
             1,
             "#f0f921"
            ]
           ]
          },
          "colorway": [
           "#636efa",
           "#EF553B",
           "#00cc96",
           "#ab63fa",
           "#FFA15A",
           "#19d3f3",
           "#FF6692",
           "#B6E880",
           "#FF97FF",
           "#FECB52"
          ],
          "font": {
           "color": "#2a3f5f"
          },
          "geo": {
           "bgcolor": "white",
           "lakecolor": "white",
           "landcolor": "#E5ECF6",
           "showlakes": true,
           "showland": true,
           "subunitcolor": "white"
          },
          "hoverlabel": {
           "align": "left"
          },
          "hovermode": "closest",
          "mapbox": {
           "style": "light"
          },
          "paper_bgcolor": "white",
          "plot_bgcolor": "#E5ECF6",
          "polar": {
           "angularaxis": {
            "gridcolor": "white",
            "linecolor": "white",
            "ticks": ""
           },
           "bgcolor": "#E5ECF6",
           "radialaxis": {
            "gridcolor": "white",
            "linecolor": "white",
            "ticks": ""
           }
          },
          "scene": {
           "xaxis": {
            "backgroundcolor": "#E5ECF6",
            "gridcolor": "white",
            "gridwidth": 2,
            "linecolor": "white",
            "showbackground": true,
            "ticks": "",
            "zerolinecolor": "white"
           },
           "yaxis": {
            "backgroundcolor": "#E5ECF6",
            "gridcolor": "white",
            "gridwidth": 2,
            "linecolor": "white",
            "showbackground": true,
            "ticks": "",
            "zerolinecolor": "white"
           },
           "zaxis": {
            "backgroundcolor": "#E5ECF6",
            "gridcolor": "white",
            "gridwidth": 2,
            "linecolor": "white",
            "showbackground": true,
            "ticks": "",
            "zerolinecolor": "white"
           }
          },
          "shapedefaults": {
           "line": {
            "color": "#2a3f5f"
           }
          },
          "ternary": {
           "aaxis": {
            "gridcolor": "white",
            "linecolor": "white",
            "ticks": ""
           },
           "baxis": {
            "gridcolor": "white",
            "linecolor": "white",
            "ticks": ""
           },
           "bgcolor": "#E5ECF6",
           "caxis": {
            "gridcolor": "white",
            "linecolor": "white",
            "ticks": ""
           }
          },
          "title": {
           "x": 0.05
          },
          "xaxis": {
           "automargin": true,
           "gridcolor": "white",
           "linecolor": "white",
           "ticks": "",
           "title": {
            "standoff": 15
           },
           "zerolinecolor": "white",
           "zerolinewidth": 2
          },
          "yaxis": {
           "automargin": true,
           "gridcolor": "white",
           "linecolor": "white",
           "ticks": "",
           "title": {
            "standoff": 15
           },
           "zerolinecolor": "white",
           "zerolinewidth": 2
          }
         }
        },
        "title": {
         "text": "Пользовательская воронка событий",
         "x": 0.53,
         "y": 0.9
        }
       }
      },
      "text/html": [
       "<div>                            <div id=\"7807e216-1c43-4bb1-af22-dc7e48c0d796\" class=\"plotly-graph-div\" style=\"height:525px; width:100%;\"></div>            <script type=\"text/javascript\">                require([\"plotly\"], function(Plotly) {                    window.PLOTLYENV=window.PLOTLYENV || {};                                    if (document.getElementById(\"7807e216-1c43-4bb1-af22-dc7e48c0d796\")) {                    Plotly.newPlot(                        \"7807e216-1c43-4bb1-af22-dc7e48c0d796\",                        [{\"textinfo\":\"value+percent previous\",\"textposition\":\"inside\",\"x\":[7423,4597,3736,3540],\"y\":[\"\\u041e\\u0441\\u043d\\u043e\\u0432\\u043d\\u0430\\u044f \\u0441\\u0442\\u0440\\u0430\\u043d\\u0438\\u0446\\u0430\",\"\\u041f\\u0440\\u0435\\u0434\\u043b\\u043e\\u0436\\u0435\\u043d\\u0438\\u044f\",\"\\u041a\\u043e\\u0440\\u0437\\u0438\\u043d\\u0430\",\"\\u0423\\u0441\\u043f\\u0435\\u0448\\u043d\\u044b\\u0439 \\u043f\\u043b\\u0430\\u0442\\u0435\\u0436\"],\"type\":\"funnel\"}],                        {\"template\":{\"data\":{\"bar\":[{\"error_x\":{\"color\":\"#2a3f5f\"},\"error_y\":{\"color\":\"#2a3f5f\"},\"marker\":{\"line\":{\"color\":\"#E5ECF6\",\"width\":0.5},\"pattern\":{\"fillmode\":\"overlay\",\"size\":10,\"solidity\":0.2}},\"type\":\"bar\"}],\"barpolar\":[{\"marker\":{\"line\":{\"color\":\"#E5ECF6\",\"width\":0.5},\"pattern\":{\"fillmode\":\"overlay\",\"size\":10,\"solidity\":0.2}},\"type\":\"barpolar\"}],\"carpet\":[{\"aaxis\":{\"endlinecolor\":\"#2a3f5f\",\"gridcolor\":\"white\",\"linecolor\":\"white\",\"minorgridcolor\":\"white\",\"startlinecolor\":\"#2a3f5f\"},\"baxis\":{\"endlinecolor\":\"#2a3f5f\",\"gridcolor\":\"white\",\"linecolor\":\"white\",\"minorgridcolor\":\"white\",\"startlinecolor\":\"#2a3f5f\"},\"type\":\"carpet\"}],\"choropleth\":[{\"colorbar\":{\"outlinewidth\":0,\"ticks\":\"\"},\"type\":\"choropleth\"}],\"contour\":[{\"colorbar\":{\"outlinewidth\":0,\"ticks\":\"\"},\"colorscale\":[[0.0,\"#0d0887\"],[0.1111111111111111,\"#46039f\"],[0.2222222222222222,\"#7201a8\"],[0.3333333333333333,\"#9c179e\"],[0.4444444444444444,\"#bd3786\"],[0.5555555555555556,\"#d8576b\"],[0.6666666666666666,\"#ed7953\"],[0.7777777777777778,\"#fb9f3a\"],[0.8888888888888888,\"#fdca26\"],[1.0,\"#f0f921\"]],\"type\":\"contour\"}],\"contourcarpet\":[{\"colorbar\":{\"outlinewidth\":0,\"ticks\":\"\"},\"type\":\"contourcarpet\"}],\"heatmap\":[{\"colorbar\":{\"outlinewidth\":0,\"ticks\":\"\"},\"colorscale\":[[0.0,\"#0d0887\"],[0.1111111111111111,\"#46039f\"],[0.2222222222222222,\"#7201a8\"],[0.3333333333333333,\"#9c179e\"],[0.4444444444444444,\"#bd3786\"],[0.5555555555555556,\"#d8576b\"],[0.6666666666666666,\"#ed7953\"],[0.7777777777777778,\"#fb9f3a\"],[0.8888888888888888,\"#fdca26\"],[1.0,\"#f0f921\"]],\"type\":\"heatmap\"}],\"heatmapgl\":[{\"colorbar\":{\"outlinewidth\":0,\"ticks\":\"\"},\"colorscale\":[[0.0,\"#0d0887\"],[0.1111111111111111,\"#46039f\"],[0.2222222222222222,\"#7201a8\"],[0.3333333333333333,\"#9c179e\"],[0.4444444444444444,\"#bd3786\"],[0.5555555555555556,\"#d8576b\"],[0.6666666666666666,\"#ed7953\"],[0.7777777777777778,\"#fb9f3a\"],[0.8888888888888888,\"#fdca26\"],[1.0,\"#f0f921\"]],\"type\":\"heatmapgl\"}],\"histogram\":[{\"marker\":{\"pattern\":{\"fillmode\":\"overlay\",\"size\":10,\"solidity\":0.2}},\"type\":\"histogram\"}],\"histogram2d\":[{\"colorbar\":{\"outlinewidth\":0,\"ticks\":\"\"},\"colorscale\":[[0.0,\"#0d0887\"],[0.1111111111111111,\"#46039f\"],[0.2222222222222222,\"#7201a8\"],[0.3333333333333333,\"#9c179e\"],[0.4444444444444444,\"#bd3786\"],[0.5555555555555556,\"#d8576b\"],[0.6666666666666666,\"#ed7953\"],[0.7777777777777778,\"#fb9f3a\"],[0.8888888888888888,\"#fdca26\"],[1.0,\"#f0f921\"]],\"type\":\"histogram2d\"}],\"histogram2dcontour\":[{\"colorbar\":{\"outlinewidth\":0,\"ticks\":\"\"},\"colorscale\":[[0.0,\"#0d0887\"],[0.1111111111111111,\"#46039f\"],[0.2222222222222222,\"#7201a8\"],[0.3333333333333333,\"#9c179e\"],[0.4444444444444444,\"#bd3786\"],[0.5555555555555556,\"#d8576b\"],[0.6666666666666666,\"#ed7953\"],[0.7777777777777778,\"#fb9f3a\"],[0.8888888888888888,\"#fdca26\"],[1.0,\"#f0f921\"]],\"type\":\"histogram2dcontour\"}],\"mesh3d\":[{\"colorbar\":{\"outlinewidth\":0,\"ticks\":\"\"},\"type\":\"mesh3d\"}],\"parcoords\":[{\"line\":{\"colorbar\":{\"outlinewidth\":0,\"ticks\":\"\"}},\"type\":\"parcoords\"}],\"pie\":[{\"automargin\":true,\"type\":\"pie\"}],\"scatter\":[{\"marker\":{\"colorbar\":{\"outlinewidth\":0,\"ticks\":\"\"}},\"type\":\"scatter\"}],\"scatter3d\":[{\"line\":{\"colorbar\":{\"outlinewidth\":0,\"ticks\":\"\"}},\"marker\":{\"colorbar\":{\"outlinewidth\":0,\"ticks\":\"\"}},\"type\":\"scatter3d\"}],\"scattercarpet\":[{\"marker\":{\"colorbar\":{\"outlinewidth\":0,\"ticks\":\"\"}},\"type\":\"scattercarpet\"}],\"scattergeo\":[{\"marker\":{\"colorbar\":{\"outlinewidth\":0,\"ticks\":\"\"}},\"type\":\"scattergeo\"}],\"scattergl\":[{\"marker\":{\"colorbar\":{\"outlinewidth\":0,\"ticks\":\"\"}},\"type\":\"scattergl\"}],\"scattermapbox\":[{\"marker\":{\"colorbar\":{\"outlinewidth\":0,\"ticks\":\"\"}},\"type\":\"scattermapbox\"}],\"scatterpolar\":[{\"marker\":{\"colorbar\":{\"outlinewidth\":0,\"ticks\":\"\"}},\"type\":\"scatterpolar\"}],\"scatterpolargl\":[{\"marker\":{\"colorbar\":{\"outlinewidth\":0,\"ticks\":\"\"}},\"type\":\"scatterpolargl\"}],\"scatterternary\":[{\"marker\":{\"colorbar\":{\"outlinewidth\":0,\"ticks\":\"\"}},\"type\":\"scatterternary\"}],\"surface\":[{\"colorbar\":{\"outlinewidth\":0,\"ticks\":\"\"},\"colorscale\":[[0.0,\"#0d0887\"],[0.1111111111111111,\"#46039f\"],[0.2222222222222222,\"#7201a8\"],[0.3333333333333333,\"#9c179e\"],[0.4444444444444444,\"#bd3786\"],[0.5555555555555556,\"#d8576b\"],[0.6666666666666666,\"#ed7953\"],[0.7777777777777778,\"#fb9f3a\"],[0.8888888888888888,\"#fdca26\"],[1.0,\"#f0f921\"]],\"type\":\"surface\"}],\"table\":[{\"cells\":{\"fill\":{\"color\":\"#EBF0F8\"},\"line\":{\"color\":\"white\"}},\"header\":{\"fill\":{\"color\":\"#C8D4E3\"},\"line\":{\"color\":\"white\"}},\"type\":\"table\"}]},\"layout\":{\"annotationdefaults\":{\"arrowcolor\":\"#2a3f5f\",\"arrowhead\":0,\"arrowwidth\":1},\"autotypenumbers\":\"strict\",\"coloraxis\":{\"colorbar\":{\"outlinewidth\":0,\"ticks\":\"\"}},\"colorscale\":{\"diverging\":[[0,\"#8e0152\"],[0.1,\"#c51b7d\"],[0.2,\"#de77ae\"],[0.3,\"#f1b6da\"],[0.4,\"#fde0ef\"],[0.5,\"#f7f7f7\"],[0.6,\"#e6f5d0\"],[0.7,\"#b8e186\"],[0.8,\"#7fbc41\"],[0.9,\"#4d9221\"],[1,\"#276419\"]],\"sequential\":[[0.0,\"#0d0887\"],[0.1111111111111111,\"#46039f\"],[0.2222222222222222,\"#7201a8\"],[0.3333333333333333,\"#9c179e\"],[0.4444444444444444,\"#bd3786\"],[0.5555555555555556,\"#d8576b\"],[0.6666666666666666,\"#ed7953\"],[0.7777777777777778,\"#fb9f3a\"],[0.8888888888888888,\"#fdca26\"],[1.0,\"#f0f921\"]],\"sequentialminus\":[[0.0,\"#0d0887\"],[0.1111111111111111,\"#46039f\"],[0.2222222222222222,\"#7201a8\"],[0.3333333333333333,\"#9c179e\"],[0.4444444444444444,\"#bd3786\"],[0.5555555555555556,\"#d8576b\"],[0.6666666666666666,\"#ed7953\"],[0.7777777777777778,\"#fb9f3a\"],[0.8888888888888888,\"#fdca26\"],[1.0,\"#f0f921\"]]},\"colorway\":[\"#636efa\",\"#EF553B\",\"#00cc96\",\"#ab63fa\",\"#FFA15A\",\"#19d3f3\",\"#FF6692\",\"#B6E880\",\"#FF97FF\",\"#FECB52\"],\"font\":{\"color\":\"#2a3f5f\"},\"geo\":{\"bgcolor\":\"white\",\"lakecolor\":\"white\",\"landcolor\":\"#E5ECF6\",\"showlakes\":true,\"showland\":true,\"subunitcolor\":\"white\"},\"hoverlabel\":{\"align\":\"left\"},\"hovermode\":\"closest\",\"mapbox\":{\"style\":\"light\"},\"paper_bgcolor\":\"white\",\"plot_bgcolor\":\"#E5ECF6\",\"polar\":{\"angularaxis\":{\"gridcolor\":\"white\",\"linecolor\":\"white\",\"ticks\":\"\"},\"bgcolor\":\"#E5ECF6\",\"radialaxis\":{\"gridcolor\":\"white\",\"linecolor\":\"white\",\"ticks\":\"\"}},\"scene\":{\"xaxis\":{\"backgroundcolor\":\"#E5ECF6\",\"gridcolor\":\"white\",\"gridwidth\":2,\"linecolor\":\"white\",\"showbackground\":true,\"ticks\":\"\",\"zerolinecolor\":\"white\"},\"yaxis\":{\"backgroundcolor\":\"#E5ECF6\",\"gridcolor\":\"white\",\"gridwidth\":2,\"linecolor\":\"white\",\"showbackground\":true,\"ticks\":\"\",\"zerolinecolor\":\"white\"},\"zaxis\":{\"backgroundcolor\":\"#E5ECF6\",\"gridcolor\":\"white\",\"gridwidth\":2,\"linecolor\":\"white\",\"showbackground\":true,\"ticks\":\"\",\"zerolinecolor\":\"white\"}},\"shapedefaults\":{\"line\":{\"color\":\"#2a3f5f\"}},\"ternary\":{\"aaxis\":{\"gridcolor\":\"white\",\"linecolor\":\"white\",\"ticks\":\"\"},\"baxis\":{\"gridcolor\":\"white\",\"linecolor\":\"white\",\"ticks\":\"\"},\"bgcolor\":\"#E5ECF6\",\"caxis\":{\"gridcolor\":\"white\",\"linecolor\":\"white\",\"ticks\":\"\"}},\"title\":{\"x\":0.05},\"xaxis\":{\"automargin\":true,\"gridcolor\":\"white\",\"linecolor\":\"white\",\"ticks\":\"\",\"title\":{\"standoff\":15},\"zerolinecolor\":\"white\",\"zerolinewidth\":2},\"yaxis\":{\"automargin\":true,\"gridcolor\":\"white\",\"linecolor\":\"white\",\"ticks\":\"\",\"title\":{\"standoff\":15},\"zerolinecolor\":\"white\",\"zerolinewidth\":2}}},\"title\":{\"text\":\"\\u041f\\u043e\\u043b\\u044c\\u0437\\u043e\\u0432\\u0430\\u0442\\u0435\\u043b\\u044c\\u0441\\u043a\\u0430\\u044f \\u0432\\u043e\\u0440\\u043e\\u043d\\u043a\\u0430 \\u0441\\u043e\\u0431\\u044b\\u0442\\u0438\\u0439\",\"y\":0.9,\"x\":0.53}},                        {\"responsive\": true}                    ).then(function(){\n",
       "                            \n",
       "var gd = document.getElementById('7807e216-1c43-4bb1-af22-dc7e48c0d796');\n",
       "var x = new MutationObserver(function (mutations, observer) {{\n",
       "        var display = window.getComputedStyle(gd).display;\n",
       "        if (!display || display === 'none') {{\n",
       "            console.log([gd, 'removed!']);\n",
       "            Plotly.purge(gd);\n",
       "            observer.disconnect();\n",
       "        }}\n",
       "}});\n",
       "\n",
       "// Listen for the removal of the full notebook cells\n",
       "var notebookContainer = gd.closest('#notebook-container');\n",
       "if (notebookContainer) {{\n",
       "    x.observe(notebookContainer, {childList: true});\n",
       "}}\n",
       "\n",
       "// Listen for the clearing of the current output cell\n",
       "var outputEl = gd.closest('.output');\n",
       "if (outputEl) {{\n",
       "    x.observe(outputEl, {childList: true});\n",
       "}}\n",
       "\n",
       "                        })                };                });            </script>        </div>"
      ]
     },
     "metadata": {},
     "output_type": "display_data"
    }
   ],
   "source": [
    "fig = go.Figure(go.Funnel(\n",
    "    y = funnel_df.index,\n",
    "    x = funnel_df['user_cnt'],\n",
    "    textposition = \"inside\",\n",
    "    textinfo = \"value+percent previous\",\n",
    "    ))\n",
    "fig.update_layout(title={\n",
    "        'text': \"Пользовательская воронка событий\",\n",
    "        'y': 0.9,\n",
    "        'x': 0.53})\n",
    "fig.show()"
   ]
  },
  {
   "cell_type": "code",
   "execution_count": 97,
   "metadata": {},
   "outputs": [
    {
     "data": {
      "image/png": "[encoded data removed]",
      "text/plain": [
       "<IPython.core.display.Image object>"
      ]
     },
     "execution_count": 97,
     "metadata": {},
     "output_type": "execute_result"
    }
   ],
   "source": [
    "Image('funnel.png')"
   ]
  },
  {
   "cell_type": "markdown",
   "metadata": {},
   "source": [
    "На графике видно, что больше всего пользователей теряется при переходе от основной страницы к странице с предложениями товара (62% пользователей переходят на нее). То есть примерно треть пользователей посещает главную страницу сайта, а затем уходит.\\\n",
    "Примерно 81% пользователей, просматривавших предложения товара, добавляют его в корзину. Логично, что эта доля выше, чем при переходе от основной страницы к предложениям, так как если пользователь просматривает предложения товара, то он уже действительно задумался о покупке и вероятно найдет то, что ему нужно.\\\n",
    "95% пользователей, добавивших товар в корзину, успешно оплатили его. Если пользователь при выборе товара добавил его в корзину, то вероятность того, что товар он не купит, крайне мала.\\\n",
    "В целом до успешной оплаты товара доходят примерно 47,7% пользователей, посетивших основную страницу, что является очень хорошим показателем конверсии посетителя в покупателя.\\\n",
    "Также необходимо еще раз отметить, что, например, не все пользователи заходили на основную страницу (98,47% заходили). Это означает, что какие-то пользователи перешли сразу на другой этап, скорее всего на страницу с предложением товара. То есть при расчете воронки есть некоторая погрешность, однако ей можно пренебречь, так как большинство пользователей проходят именно через этот путь."
   ]
  },
  {
   "cell_type": "markdown",
   "metadata": {},
   "source": [
    "Из анализа данных о событиях следует, что в логе четко прослеживается определенная цепочка событий. При этом больше всего пользователей (38%) теряется при переходе с основной страницы на страницу с товаром, а до платежа доходят 47,7% (или 47% от общего количества) пользователей, что является очень высоким показателем конверсии посетителя в покупателя. Также стоит отметить, что не все пользователи проходят через рассмотренную воронку, однако процент непроходящих пользователей очень мал (например на основной странице побывали 98,47% всех пользователей)."
   ]
  },
  {
   "cell_type": "markdown",
   "metadata": {},
   "source": [
    "### Изучение результатов A/A/B-теста"
   ]
  },
  {
   "cell_type": "code",
   "execution_count": 98,
   "metadata": {},
   "outputs": [
    {
     "data": {
      "text/html": [
       "<div>\n",
       "<style scoped>\n",
       "    .dataframe tbody tr th:only-of-type {\n",
       "        vertical-align: middle;\n",
       "    }\n",
       "\n",
       "    .dataframe tbody tr th {\n",
       "        vertical-align: top;\n",
       "    }\n",
       "\n",
       "    .dataframe thead th {\n",
       "        text-align: right;\n",
       "    }\n",
       "</style>\n",
       "<table border=\"1\" class=\"dataframe\">\n",
       "  <thead>\n",
       "    <tr style=\"text-align: right;\">\n",
       "      <th></th>\n",
       "      <th>user_id</th>\n",
       "    </tr>\n",
       "    <tr>\n",
       "      <th>group</th>\n",
       "      <th></th>\n",
       "    </tr>\n",
       "  </thead>\n",
       "  <tbody>\n",
       "    <tr>\n",
       "      <th>246</th>\n",
       "      <td>2484</td>\n",
       "    </tr>\n",
       "    <tr>\n",
       "      <th>247</th>\n",
       "      <td>2517</td>\n",
       "    </tr>\n",
       "    <tr>\n",
       "      <th>248</th>\n",
       "      <td>2537</td>\n",
       "    </tr>\n",
       "  </tbody>\n",
       "</table>\n",
       "</div>"
      ],
      "text/plain": [
       "       user_id\n",
       "group         \n",
       "246       2484\n",
       "247       2517\n",
       "248       2537"
      ]
     },
     "execution_count": 98,
     "metadata": {},
     "output_type": "execute_result"
    }
   ],
   "source": [
    "logs_new.groupby(by='group').agg({'user_id':'nunique'})"
   ]
  },
  {
   "cell_type": "markdown",
   "metadata": {},
   "source": [
    "#### Выбор уровня значимости с учетом множественности проверок"
   ]
  },
  {
   "cell_type": "markdown",
   "metadata": {},
   "source": [
    "Для того чтобы выбрать правильный уровень значимости с учетом множественности проверок, необходимо определиться с количеством проверяемых на одних и тех же данных гипотез. Что касается гипотез о долях, то их необходимо проверить попарно для каждого события и каждой группы. Вариантов с группами всего 4 (A1 и A2; A1 и B; A2 и B; (A1+A2) и B), а событий всего 5. Поэтому гипотез с долями всего будет 5 * 4 = 20.\\\n",
    "Для лучшей проверки контрольных групп A1 и A2 можно также сравнить их средние количества событий и действий, совершаемых пользователями, а также средние времени, в которое пользователи предпочитают заходить на сайт. Это еще 3 проверки. Таким образом, общее количество проверок на одних и тех же данных составляет 23."
   ]
  },
  {
   "cell_type": "markdown",
   "metadata": {},
   "source": [
    "Поправка Бонферрони силнее всего снижает мощность теста.\\\n",
    "Поправка Холма и иные пошаговые методы являются наиболее подходящими с точки зрения мощности теста методами, однако в силу более сложного расчета уровня значимости и необходимости ранжирования гипотез по возрастанию p-value использование данного метода оправдано лишь в случае спорных значений p-value. \\\n",
    "Поэтому для первого тестирования всех гипотез лушче всего использовать поправку Шидака, так как она меньше Бонферрони снижает мощность теста, а уровень значимости одинаков для всех проверок в отличие от метода Холма. Возьмем базовый уровень значимости равным 0.05. Тогда с учетом поправки и количества гипотез уровень значимости получается равным следующему числу:"
   ]
  },
  {
   "cell_type": "code",
   "execution_count": 99,
   "metadata": {},
   "outputs": [
    {
     "name": "stdout",
     "output_type": "stream",
     "text": [
      "Уровень значимости: 0.0022\n"
     ]
    }
   ],
   "source": [
    "alpha = 0.05\n",
    "m = 23\n",
    "alpha_new = 1-(1-alpha)**(1/m)\n",
    "print('Уровень значимости:', round(alpha_new,4))"
   ]
  },
  {
   "cell_type": "markdown",
   "metadata": {},
   "source": [
    "#### Проверка контрольных групп A/A"
   ]
  },
  {
   "cell_type": "code",
   "execution_count": 100,
   "metadata": {},
   "outputs": [],
   "source": [
    "sampleA1 = logs_new[logs_new['group'] == 246].groupby(by='user_id').agg({'event':['nunique', 'count']})\n",
    "sampleA2 = logs_new[logs_new['group'] == 247].groupby(by='user_id').agg({'event':['nunique', 'count']})\n",
    "sampleA1 = sampleA1.droplevel(1,axis=1)\n",
    "sampleA2 = sampleA2.droplevel(1,axis=1)\n",
    "sampleA1.columns = ['unique', 'total']\n",
    "sampleA2.columns = ['unique', 'total']"
   ]
  },
  {
   "cell_type": "markdown",
   "metadata": {},
   "source": [
    "##### Среднее количество действий"
   ]
  },
  {
   "cell_type": "markdown",
   "metadata": {},
   "source": [
    "Сформулируем гипотезы:\\\n",
    "H0: Средние количества действий по пользователям в группах 246 и 247 равны.\\\n",
    "H1: Средние количества действий по пользователям в группах 246 и 247 не равны."
   ]
  },
  {
   "cell_type": "markdown",
   "metadata": {},
   "source": [
    "Проверим нормальность распределения данных для количества действий с помощью гистограмм и теста Шапиро-Уилка."
   ]
  },
  {
   "cell_type": "markdown",
   "metadata": {},
   "source": [
    "Избавимся от аномалий, отбросим данные после 95-ого перцентиля."
   ]
  },
  {
   "cell_type": "code",
   "execution_count": 101,
   "metadata": {},
   "outputs": [],
   "source": [
    "percA1 = np.percentile(sampleA1['total'], [90,95,99])\n",
    "percA2 = np.percentile(sampleA2['total'], [90,95,99])"
   ]
  },
  {
   "cell_type": "code",
   "execution_count": 102,
   "metadata": {
    "scrolled": true
   },
   "outputs": [
    {
     "data": {
      "image/png": "[encoded data removed]",
      "text/plain": [
       "<Figure size 1500x500 with 2 Axes>"
      ]
     },
     "metadata": {},
     "output_type": "display_data"
    }
   ],
   "source": [
    "ax = sampleA1[sampleA1['total']<=percA1[1]]['total'].plot(kind='hist', figsize=(10,5), ax=plt.subplot(1,2,1))\n",
    "ax.set_xlabel('Количество действий')\n",
    "ax.set_ylabel('Количество пользователей')\n",
    "ax.set_title('Гистограмма распределения количества действий A1')\n",
    "ax1 = sampleA2[sampleA2['total']<=percA2[1]]['total'].plot(kind='hist', figsize=(15,5), ax=plt.subplot(1,2,2))\n",
    "ax1.set_xlabel('Количество действий')\n",
    "ax1.set_ylabel('Количество пользователей')\n",
    "ax1.set_title('Гистограмма распределения количества действий A2')\n",
    "plt.show()"
   ]
  },
  {
   "cell_type": "code",
   "execution_count": 103,
   "metadata": {},
   "outputs": [
    {
     "name": "stdout",
     "output_type": "stream",
     "text": [
      "A1: ShapiroResult(statistic=0.8910079598426819, pvalue=5.833091510707499e-38)\n",
      "A2: ShapiroResult(statistic=0.8850290775299072, pvalue=5.980629741861173e-39)\n"
     ]
    }
   ],
   "source": [
    "print('A1:', st.shapiro(sampleA1[sampleA1['total']<=percA1[1]]['total']))\n",
    "print('A2:', st.shapiro(sampleA2[sampleA2['total']<=percA2[1]]['total']))"
   ]
  },
  {
   "cell_type": "markdown",
   "metadata": {},
   "source": [
    "Обе контрольные группы распределены ненормально. На гистограмме четко видно, что чем меньше количество действий, тем больше пользователей в каждой из выборок. Из теста Шапиро-Уилка также следует вывод, что гипотезу о нормальности отклоняем (p-value < 0.0022 для каждой выборки).\\\n",
    "Таким образом, для проверки гипотезы о равенстве средних следует применять непараметрический тест Манна-Уитни."
   ]
  },
  {
   "cell_type": "code",
   "execution_count": 104,
   "metadata": {},
   "outputs": [
    {
     "name": "stdout",
     "output_type": "stream",
     "text": [
      "p-value: 0.80661\n",
      "Относительная разница среднего количества действий A1 к A2: -4.1\n"
     ]
    }
   ],
   "source": [
    "print('p-value:', '{0:.5f}'.format(st.mannwhitneyu(sampleA1['total'], sampleA2['total'])[1]))\n",
    "print('Относительная разница среднего количества действий A1 к A2:', \n",
    "      '{0:.1f}'.format((sampleA2['total'].mean()/sampleA1['total'].mean()-1)*100))"
   ]
  },
  {
   "cell_type": "code",
   "execution_count": 105,
   "metadata": {},
   "outputs": [
    {
     "name": "stdout",
     "output_type": "stream",
     "text": [
      "p-value: 0.83474\n",
      "Относительная разница среднего количества действий A1 к A2: -0.7\n"
     ]
    }
   ],
   "source": [
    "print('p-value:', '{0:.5f}'.format(st.mannwhitneyu(sampleA1[sampleA1['total']<=percA1[1]]['total'], \n",
    "                                                   sampleA2[sampleA2['total']<=percA2[1]]['total'])[1]))\n",
    "print('Относительная разница среднего количества действий A1 к A2:', \n",
    "      '{0:.1f}'.format((sampleA2[sampleA2['total']<=percA2[1]]['total'].mean()/\n",
    "                       sampleA1[sampleA1['total']<=percA1[1]]['total'].mean()-1)*100))"
   ]
  },
  {
   "cell_type": "markdown",
   "metadata": {},
   "source": [
    "Как с учетом выбросов, так и без них получаем, что разница между выборками (4,1% с аномалиями и 0,7% без учета аномалий) не является статистически значимой (p-value > 0.0022). Поэтому по количеству действий существенной разницы между контрольными группами нет. Это также подтверждается распределением данных на гистограммах."
   ]
  },
  {
   "cell_type": "markdown",
   "metadata": {},
   "source": [
    "##### Среднее количество событий"
   ]
  },
  {
   "cell_type": "markdown",
   "metadata": {},
   "source": [
    "Сформулируем гипотезы:\\\n",
    "H0: Средние количества событий по пользователям в группах 246 и 247 равны.\\\n",
    "H1: Средние количества событий по пользователям в группах 246 и 247 не равны."
   ]
  },
  {
   "cell_type": "markdown",
   "metadata": {},
   "source": [
    "Проверим нормальность распределения данных для количества действий с помощью гистограмм и теста Шапиро-Уилка."
   ]
  },
  {
   "cell_type": "markdown",
   "metadata": {},
   "source": [
    "Посмотрим, есть ли аномалии:"
   ]
  },
  {
   "cell_type": "code",
   "execution_count": 106,
   "metadata": {},
   "outputs": [
    {
     "name": "stdout",
     "output_type": "stream",
     "text": [
      "A1: [4. 5. 5.]\n",
      "A2: [4. 5. 5.]\n"
     ]
    }
   ],
   "source": [
    "print('A1:', np.percentile(sampleA1['unique'], [90,95,99]))\n",
    "print('A2:', np.percentile(sampleA2['unique'], [90,95,99]))"
   ]
  },
  {
   "cell_type": "markdown",
   "metadata": {},
   "source": [
    "95-й перцентиль равен 5 событиям (максимально возможное число), поэтому аномалий в данных нет."
   ]
  },
  {
   "cell_type": "code",
   "execution_count": 107,
   "metadata": {},
   "outputs": [
    {
     "data": {
      "image/png": "[encoded data removed]",
      "text/plain": [
       "<Figure size 1500x500 with 2 Axes>"
      ]
     },
     "metadata": {},
     "output_type": "display_data"
    }
   ],
   "source": [
    "ax = sampleA1['unique'].plot(kind='hist', figsize=(10,5), ax=plt.subplot(1,2,1), bins=5)\n",
    "ax.set_xlabel('Количество событий')\n",
    "ax.set_ylabel('Количество пользователей')\n",
    "ax.set_title('Гистограмма распределения количества событий A1')\n",
    "ax1 = sampleA2['unique'].plot(kind='hist', figsize=(15,5), ax=plt.subplot(1,2,2), bins=5)\n",
    "ax1.set_xlabel('Количество событий')\n",
    "ax1.set_ylabel('Количество пользователей')\n",
    "ax1.set_title('Гистограмма распределения количества событий A2')\n",
    "plt.show()"
   ]
  },
  {
   "cell_type": "code",
   "execution_count": 108,
   "metadata": {},
   "outputs": [
    {
     "name": "stdout",
     "output_type": "stream",
     "text": [
      "A1: ShapiroResult(statistic=0.7864741086959839, pvalue=0.0)\n",
      "A2: ShapiroResult(statistic=0.7911558151245117, pvalue=0.0)\n"
     ]
    }
   ],
   "source": [
    "print('A1:', st.shapiro(sampleA1[sampleA1['unique']<=percA1[1]]['unique']))\n",
    "print('A2:', st.shapiro(sampleA2[sampleA2['unique']<=percA2[1]]['unique']))"
   ]
  },
  {
   "cell_type": "markdown",
   "metadata": {},
   "source": [
    "Обе контрольные группы распределены ненормально. На гистограмме четко видно, что распределение не напоминает \"колокол\". Из теста Шапиро-Уилка также следует вывод, что гипотезу о нормальности отклоняем (p-value < 0.0022 для каждой выборки).\\\n",
    "Таким образом, для проверки гипотезы о равенстве средних следует применять непараметрический тест Манна-Уитни."
   ]
  },
  {
   "cell_type": "code",
   "execution_count": 109,
   "metadata": {},
   "outputs": [
    {
     "name": "stdout",
     "output_type": "stream",
     "text": [
      "p-value: 0.17196\n",
      "Относительная разница среднего количества действий A1 к A2: -2.1\n"
     ]
    }
   ],
   "source": [
    "print('p-value:', '{0:.5f}'.format(st.mannwhitneyu(sampleA1['unique'], sampleA2['unique'])[1]))\n",
    "print('Относительная разница среднего количества действий A1 к A2:', \n",
    "      '{0:.1f}'.format((sampleA2['unique'].mean()/sampleA1['unique'].mean()-1)*100))"
   ]
  },
  {
   "cell_type": "markdown",
   "metadata": {},
   "source": [
    "Получаем, что разница между выборками в 2% не является статистически значимой (p-value > 0.0022). Поэтому по количеству событий существенной разницы между контрольными группами нет. Это также подтверждается распределением данных на гистограммах."
   ]
  },
  {
   "cell_type": "markdown",
   "metadata": {},
   "source": [
    "##### Среднее время посещения сайта"
   ]
  },
  {
   "cell_type": "markdown",
   "metadata": {},
   "source": [
    "Сформулируем гипотезы:\\\n",
    "H0: Среднее время посещения сайта в группах 246 и 247 одинаковое.\\\n",
    "H1: Среднее время посещения сайта в группах 246 и 247 разное."
   ]
  },
  {
   "cell_type": "markdown",
   "metadata": {},
   "source": [
    "Проверим нормальность распределения данных для количества действий с помощью гистограмм и теста Шапиро-Уилка. Для расчетов возьмем время в секундах в формате timestamp."
   ]
  },
  {
   "cell_type": "code",
   "execution_count": 110,
   "metadata": {},
   "outputs": [
    {
     "data": {
      "image/png": "[encoded data removed]",
      "text/plain": [
       "<Figure size 1500x500 with 2 Axes>"
      ]
     },
     "metadata": {},
     "output_type": "display_data"
    }
   ],
   "source": [
    "ax = logs_new[logs_new['group']==246]['timestamp'].plot(kind='hist', figsize=(10,5), ax=plt.subplot(1,2,1))\n",
    "ax.set_xlabel('Время посещения в секундах с 01.01.1970')\n",
    "ax.set_ylabel('Количество пользователей')\n",
    "ax.set_title('Гистограмма распределения времени посещения A1')\n",
    "ax1 = logs_new[logs_new['group']==247]['timestamp'].plot(kind='hist', figsize=(15,5), ax=plt.subplot(1,2,2))\n",
    "ax1.set_xlabel('Время посещения в секундах с 01.01.1970')\n",
    "ax1.set_ylabel('Количество пользователей')\n",
    "ax1.set_title('Гистограмма распределения времени посещения A2')\n",
    "plt.show()"
   ]
  },
  {
   "cell_type": "code",
   "execution_count": 111,
   "metadata": {},
   "outputs": [
    {
     "name": "stdout",
     "output_type": "stream",
     "text": [
      "A1: ShapiroResult(statistic=0.03165018558502197, pvalue=0.0)\n",
      "A2: ShapiroResult(statistic=0.021876096725463867, pvalue=0.0)\n"
     ]
    },
    {
     "name": "stderr",
     "output_type": "stream",
     "text": [
      "C:\\anaconda\\envs\\practicum\\lib\\site-packages\\scipy\\stats\\_morestats.py:1761: UserWarning:\n",
      "\n",
      "p-value may not be accurate for N > 5000.\n",
      "\n",
      "C:\\anaconda\\envs\\practicum\\lib\\site-packages\\scipy\\stats\\_morestats.py:1761: UserWarning:\n",
      "\n",
      "p-value may not be accurate for N > 5000.\n",
      "\n"
     ]
    }
   ],
   "source": [
    "print('A1:', st.shapiro(logs_new[logs_new['group']==246]['timestamp']))\n",
    "print('A2:', st.shapiro(logs_new[logs_new['group']==247]['timestamp']))"
   ]
  },
  {
   "cell_type": "markdown",
   "metadata": {},
   "source": [
    "Обе контрольные группы распределены ненормально. На гистограмме четко видно, что распределение не напоминает \"колокол\". Из теста Шапиро-Уилка также следует вывод, что гипотезу о нормальности отклоняем (p-value < 0.0022 для каждой выборки).\\\n",
    "Таким образом, для проверки гипотезы о равенстве средних следует применять непараметрический тест Манна-Уитни."
   ]
  },
  {
   "cell_type": "code",
   "execution_count": 112,
   "metadata": {},
   "outputs": [
    {
     "name": "stdout",
     "output_type": "stream",
     "text": [
      "p-value: 0.000000000000013\n",
      "Относительная разница времени посещения A2 к A1: -0.0004352\n"
     ]
    }
   ],
   "source": [
    "print('p-value:', '{0:.15f}'.format(st.mannwhitneyu(logs_new[logs_new['group']==246]['timestamp'], \n",
    "                                                   logs_new[logs_new['group']==247]['timestamp'])[1]))\n",
    "print('Относительная разница времени посещения A2 к A1:', \n",
    "      '{0:.7f}'.format((logs_new[logs_new['group']==247]['timestamp'].mean()/\n",
    "                       logs_new[logs_new['group']==246]['timestamp'].mean()-1)*100))"
   ]
  },
  {
   "cell_type": "markdown",
   "metadata": {},
   "source": [
    "По времени посещения разница очень маленькая (0.00044%). Объясняется это скорее всего тем, что время исчисляется в миллиардах секунд, и соответственно разница в несколько секунд в относительном выражении будет крайне мала. Однако при этом она является статистически значимой (p-value < 0.0022).\\\n",
    "Если обратиться к гистограммам распределения данных, то на них заметно, что пользователи распределны похожим образом. Среди отличий можно лишь отметить, что лидерство времени, которое примерно приходится на 5 августа (1.5650e^9) в группе A1 выражено более ярко, чем в группе А2.\\\n",
    "Результат теста скорее всего обусловлен большим количеством наблюдений и их повышенной чувствительностью к небольшим различиям. На гистограмме очень хорошо видно, что на самом деле по времени посещения сайта выборки мало чем отличаются друг от друга."
   ]
  },
  {
   "cell_type": "markdown",
   "metadata": {},
   "source": [
    "##### Доли совершивших события"
   ]
  },
  {
   "cell_type": "markdown",
   "metadata": {},
   "source": [
    "Сформулируем гипотезы:\\\n",
    "H0: Доли совершивших события в контрольных группах 246 и 247 равны.\\\n",
    "H1: Доли совершивших события в контрольных группах 246 и 247 разные."
   ]
  },
  {
   "cell_type": "markdown",
   "metadata": {},
   "source": [
    "Проверять гипотезы будем с помощью z-теста."
   ]
  },
  {
   "cell_type": "code",
   "execution_count": 113,
   "metadata": {},
   "outputs": [],
   "source": [
    "def z_testing(df, alpha):\n",
    "    for row in range(len(df)):\n",
    "        p_value = pr.proportions_ztest([df.loc[row, 'success1'], df.loc[row, 'success2']], [df.loc[row, 'trial1'], df.loc[row, 'trial2']])[1]\n",
    "        print(df.loc[row, 'event'], 'p-значение:', round(p_value,5))\n",
    "        if p_value < alpha:\n",
    "            print('Отвергаем нулевую гипотезу: между долями есть значимая разница')\n",
    "        else:\n",
    "            print('Не получилось отвергнуть нулевую гипотезу, нет оснований считать доли разными')     \n",
    "    return"
   ]
  },
  {
   "cell_type": "code",
   "execution_count": 114,
   "metadata": {},
   "outputs": [],
   "source": [
    "def df_creater(group1, group2, group3):\n",
    "    df = logs_new[logs_new['group']!=group1].pivot_table(index='event', values='user_id', columns='group', aggfunc='nunique')\n",
    "    df.columns = ['success1', 'success2']\n",
    "    df['trial1'] = logs_new[logs_new['group']==group2]['user_id'].nunique()\n",
    "    df['trial2'] = logs_new[logs_new['group']==group3]['user_id'].nunique()\n",
    "    df['conversion1'] = round(df['success1']/df['trial1']*100,2)\n",
    "    df['conversion2'] = round(df['success2']/df['trial2']*100,2)\n",
    "    df = df.sort_values(by='success1', ascending = False).reset_index()\n",
    "    return df"
   ]
  },
  {
   "cell_type": "code",
   "execution_count": 115,
   "metadata": {},
   "outputs": [],
   "source": [
    "def bar_creater(df):\n",
    "    n = len(df) \n",
    "    r = np.arange(n)\n",
    "    width = 0.25\n",
    "    fig,ax = plt.subplots(figsize=(15,8))\n",
    "    ax=plt.bar(r, df['conversion1'], width=width, label='conversion1')\n",
    "    ax=plt.bar(r + width, df['conversion2'], width=width, label='conversion2')\n",
    "    plt.xlabel('Событие')\n",
    "    plt.ylabel('Конверсия, %')\n",
    "    plt.title('Конверсия в события по группам')\n",
    "    plt.xticks(r + width/2, df['event']) \n",
    "    plt.legend()\n",
    "    for x,y in zip(r, df['conversion1']):\n",
    "\n",
    "        label = \"{:.2f}\".format(y)\n",
    "\n",
    "        plt.annotate(label,\n",
    "                    (x, y), \n",
    "                    textcoords=\"offset points\", \n",
    "                    xytext=(0,5), \n",
    "                    ha='center')\n",
    "    for x,y in zip(r + width, df['conversion2']):\n",
    "\n",
    "        label = \"{:.2f}\".format(y)\n",
    "\n",
    "        plt.annotate(label,\n",
    "                     (x, y), \n",
    "                     textcoords=\"offset points\", \n",
    "                     xytext=(0,5), \n",
    "                     ha='center')\n",
    "    plt.show() \n",
    "    return"
   ]
  },
  {
   "cell_type": "code",
   "execution_count": 116,
   "metadata": {},
   "outputs": [
    {
     "data": {
      "text/html": [
       "<div>\n",
       "<style scoped>\n",
       "    .dataframe tbody tr th:only-of-type {\n",
       "        vertical-align: middle;\n",
       "    }\n",
       "\n",
       "    .dataframe tbody tr th {\n",
       "        vertical-align: top;\n",
       "    }\n",
       "\n",
       "    .dataframe thead th {\n",
       "        text-align: right;\n",
       "    }\n",
       "</style>\n",
       "<table border=\"1\" class=\"dataframe\">\n",
       "  <thead>\n",
       "    <tr style=\"text-align: right;\">\n",
       "      <th></th>\n",
       "      <th>event</th>\n",
       "      <th>success1</th>\n",
       "      <th>success2</th>\n",
       "      <th>trial1</th>\n",
       "      <th>trial2</th>\n",
       "      <th>conversion1</th>\n",
       "      <th>conversion2</th>\n",
       "    </tr>\n",
       "  </thead>\n",
       "  <tbody>\n",
       "    <tr>\n",
       "      <th>0</th>\n",
       "      <td>MainScreenAppear</td>\n",
       "      <td>2450</td>\n",
       "      <td>2479</td>\n",
       "      <td>2484</td>\n",
       "      <td>2517</td>\n",
       "      <td>98.63</td>\n",
       "      <td>98.49</td>\n",
       "    </tr>\n",
       "    <tr>\n",
       "      <th>1</th>\n",
       "      <td>OffersScreenAppear</td>\n",
       "      <td>1542</td>\n",
       "      <td>1524</td>\n",
       "      <td>2484</td>\n",
       "      <td>2517</td>\n",
       "      <td>62.08</td>\n",
       "      <td>60.55</td>\n",
       "    </tr>\n",
       "    <tr>\n",
       "      <th>2</th>\n",
       "      <td>CartScreenAppear</td>\n",
       "      <td>1266</td>\n",
       "      <td>1239</td>\n",
       "      <td>2484</td>\n",
       "      <td>2517</td>\n",
       "      <td>50.97</td>\n",
       "      <td>49.23</td>\n",
       "    </tr>\n",
       "    <tr>\n",
       "      <th>3</th>\n",
       "      <td>PaymentScreenSuccessful</td>\n",
       "      <td>1200</td>\n",
       "      <td>1158</td>\n",
       "      <td>2484</td>\n",
       "      <td>2517</td>\n",
       "      <td>48.31</td>\n",
       "      <td>46.01</td>\n",
       "    </tr>\n",
       "    <tr>\n",
       "      <th>4</th>\n",
       "      <td>Tutorial</td>\n",
       "      <td>278</td>\n",
       "      <td>284</td>\n",
       "      <td>2484</td>\n",
       "      <td>2517</td>\n",
       "      <td>11.19</td>\n",
       "      <td>11.28</td>\n",
       "    </tr>\n",
       "  </tbody>\n",
       "</table>\n",
       "</div>"
      ],
      "text/plain": [
       "                     event  success1  success2  trial1  trial2  conversion1  \\\n",
       "0         MainScreenAppear      2450      2479    2484    2517        98.63   \n",
       "1       OffersScreenAppear      1542      1524    2484    2517        62.08   \n",
       "2         CartScreenAppear      1266      1239    2484    2517        50.97   \n",
       "3  PaymentScreenSuccessful      1200      1158    2484    2517        48.31   \n",
       "4                 Tutorial       278       284    2484    2517        11.19   \n",
       "\n",
       "   conversion2  \n",
       "0        98.49  \n",
       "1        60.55  \n",
       "2        49.23  \n",
       "3        46.01  \n",
       "4        11.28  "
      ]
     },
     "execution_count": 116,
     "metadata": {},
     "output_type": "execute_result"
    }
   ],
   "source": [
    "aa_test = df_creater(248, 246, 247)\n",
    "aa_test"
   ]
  },
  {
   "cell_type": "code",
   "execution_count": 117,
   "metadata": {},
   "outputs": [
    {
     "data": {
      "image/png": "[encoded data removed]",
      "text/plain": [
       "<Figure size 1500x800 with 1 Axes>"
      ]
     },
     "metadata": {},
     "output_type": "display_data"
    }
   ],
   "source": [
    "aa_conversion = bar_creater(aa_test)"
   ]
  },
  {
   "cell_type": "code",
   "execution_count": 118,
   "metadata": {},
   "outputs": [
    {
     "name": "stdout",
     "output_type": "stream",
     "text": [
      "MainScreenAppear p-значение: 0.67562\n",
      "Не получилось отвергнуть нулевую гипотезу, нет оснований считать доли разными\n",
      "OffersScreenAppear p-значение: 0.26699\n",
      "Не получилось отвергнуть нулевую гипотезу, нет оснований считать доли разными\n",
      "CartScreenAppear p-значение: 0.21828\n",
      "Не получилось отвергнуть нулевую гипотезу, нет оснований считать доли разными\n",
      "PaymentScreenSuccessful p-значение: 0.10298\n",
      "Не получилось отвергнуть нулевую гипотезу, нет оснований считать доли разными\n",
      "Tutorial p-значение: 0.91828\n",
      "Не получилось отвергнуть нулевую гипотезу, нет оснований считать доли разными\n"
     ]
    }
   ],
   "source": [
    "z_testing(aa_test, alpha_new)"
   ]
  },
  {
   "cell_type": "markdown",
   "metadata": {},
   "source": [
    "z-тест показал, что для всех событий разница в долях между контрольными группами не является статистически значимой (p-value < 0.0022), то есть по долям группы 246 и 247 также примерно одинаковые."
   ]
  },
  {
   "cell_type": "markdown",
   "metadata": {},
   "source": [
    "Самым популярным событием является посещение главной страницы приложения. В каждой из контрольных групп переходили на главную страницу хотя бы раз 2450 из 2484 пользователей (98,63%) и 2476 из 2513 пользователей (98,53%) соответственно. "
   ]
  },
  {
   "cell_type": "markdown",
   "metadata": {},
   "source": [
    "Все проведенные тесты показали, что контрольные группы 246 и 247 почти неотличимы друг от друга.\\\n",
    "Отдельно стоит отметить, что на данный вывод не влияет выбор уровня значимости. Даже при alpha=0.05 все равно p-value > alpha по всем тестам, кроме времени посещения сайта, которое тем не менее все равно распределено примерно одинаково (это заметно на гистограммах распределения).\\\n",
    "Таким образом, разбиение на контрольные группы работает корректно."
   ]
  },
  {
   "cell_type": "markdown",
   "metadata": {},
   "source": [
    "#### Сравнение долей соверших события в экспериментальной группе с контрольными"
   ]
  },
  {
   "cell_type": "markdown",
   "metadata": {},
   "source": [
    "Для удобства в использовании функций возьмем контрольную группу за 1, а экспериментальную за 2."
   ]
  },
  {
   "cell_type": "markdown",
   "metadata": {},
   "source": [
    "##### Сравнение долей совершивших события в группах 248 и 246"
   ]
  },
  {
   "cell_type": "code",
   "execution_count": 119,
   "metadata": {},
   "outputs": [
    {
     "data": {
      "text/html": [
       "<div>\n",
       "<style scoped>\n",
       "    .dataframe tbody tr th:only-of-type {\n",
       "        vertical-align: middle;\n",
       "    }\n",
       "\n",
       "    .dataframe tbody tr th {\n",
       "        vertical-align: top;\n",
       "    }\n",
       "\n",
       "    .dataframe thead th {\n",
       "        text-align: right;\n",
       "    }\n",
       "</style>\n",
       "<table border=\"1\" class=\"dataframe\">\n",
       "  <thead>\n",
       "    <tr style=\"text-align: right;\">\n",
       "      <th></th>\n",
       "      <th>event</th>\n",
       "      <th>success1</th>\n",
       "      <th>success2</th>\n",
       "      <th>trial1</th>\n",
       "      <th>trial2</th>\n",
       "      <th>conversion1</th>\n",
       "      <th>conversion2</th>\n",
       "    </tr>\n",
       "  </thead>\n",
       "  <tbody>\n",
       "    <tr>\n",
       "      <th>0</th>\n",
       "      <td>MainScreenAppear</td>\n",
       "      <td>2450</td>\n",
       "      <td>2494</td>\n",
       "      <td>2484</td>\n",
       "      <td>2537</td>\n",
       "      <td>98.63</td>\n",
       "      <td>98.31</td>\n",
       "    </tr>\n",
       "    <tr>\n",
       "      <th>1</th>\n",
       "      <td>OffersScreenAppear</td>\n",
       "      <td>1542</td>\n",
       "      <td>1531</td>\n",
       "      <td>2484</td>\n",
       "      <td>2537</td>\n",
       "      <td>62.08</td>\n",
       "      <td>60.35</td>\n",
       "    </tr>\n",
       "    <tr>\n",
       "      <th>2</th>\n",
       "      <td>CartScreenAppear</td>\n",
       "      <td>1266</td>\n",
       "      <td>1231</td>\n",
       "      <td>2484</td>\n",
       "      <td>2537</td>\n",
       "      <td>50.97</td>\n",
       "      <td>48.52</td>\n",
       "    </tr>\n",
       "    <tr>\n",
       "      <th>3</th>\n",
       "      <td>PaymentScreenSuccessful</td>\n",
       "      <td>1200</td>\n",
       "      <td>1182</td>\n",
       "      <td>2484</td>\n",
       "      <td>2537</td>\n",
       "      <td>48.31</td>\n",
       "      <td>46.59</td>\n",
       "    </tr>\n",
       "    <tr>\n",
       "      <th>4</th>\n",
       "      <td>Tutorial</td>\n",
       "      <td>278</td>\n",
       "      <td>281</td>\n",
       "      <td>2484</td>\n",
       "      <td>2537</td>\n",
       "      <td>11.19</td>\n",
       "      <td>11.08</td>\n",
       "    </tr>\n",
       "  </tbody>\n",
       "</table>\n",
       "</div>"
      ],
      "text/plain": [
       "                     event  success1  success2  trial1  trial2  conversion1  \\\n",
       "0         MainScreenAppear      2450      2494    2484    2537        98.63   \n",
       "1       OffersScreenAppear      1542      1531    2484    2537        62.08   \n",
       "2         CartScreenAppear      1266      1231    2484    2537        50.97   \n",
       "3  PaymentScreenSuccessful      1200      1182    2484    2537        48.31   \n",
       "4                 Tutorial       278       281    2484    2537        11.19   \n",
       "\n",
       "   conversion2  \n",
       "0        98.31  \n",
       "1        60.35  \n",
       "2        48.52  \n",
       "3        46.59  \n",
       "4        11.08  "
      ]
     },
     "execution_count": 119,
     "metadata": {},
     "output_type": "execute_result"
    }
   ],
   "source": [
    "a1b_test = df_creater(247, 246, 248)\n",
    "a1b_test"
   ]
  },
  {
   "cell_type": "code",
   "execution_count": 120,
   "metadata": {},
   "outputs": [
    {
     "data": {
      "image/png": "[encoded data removed]",
      "text/plain": [
       "<Figure size 1500x800 with 1 Axes>"
      ]
     },
     "metadata": {},
     "output_type": "display_data"
    }
   ],
   "source": [
    "a1b_conversion = bar_creater(a1b_test)"
   ]
  },
  {
   "cell_type": "code",
   "execution_count": 121,
   "metadata": {},
   "outputs": [
    {
     "name": "stdout",
     "output_type": "stream",
     "text": [
      "MainScreenAppear p-значение: 0.34706\n",
      "Не получилось отвергнуть нулевую гипотезу, нет оснований считать доли разными\n",
      "OffersScreenAppear p-значение: 0.20836\n",
      "Не получилось отвергнуть нулевую гипотезу, нет оснований считать доли разными\n",
      "CartScreenAppear p-значение: 0.08328\n",
      "Не получилось отвергнуть нулевую гипотезу, нет оснований считать доли разными\n",
      "PaymentScreenSuccessful p-значение: 0.22269\n",
      "Не получилось отвергнуть нулевую гипотезу, нет оснований считать доли разными\n",
      "Tutorial p-значение: 0.89645\n",
      "Не получилось отвергнуть нулевую гипотезу, нет оснований считать доли разными\n"
     ]
    }
   ],
   "source": [
    "z_testing(a1b_test, alpha_new)"
   ]
  },
  {
   "cell_type": "markdown",
   "metadata": {},
   "source": [
    "z-тест показал, что для всех событий разница в долях между группами 248 и 246 не является статистически значимой (p-value < 0.0022). Более того, речь идет о падении по сравнению с контрольной группой по всем событиям.\\\n",
    "Отдельно стоит отметить, что на данный вывод не влияет выбор уровня значимости. Даже при alpha=0.05 все равно p-value > alpha по всем событиям.\\\n",
    "Таким образом, по сравнению с группой 246 введение нового шрифта не привело к каким-либо положительным изменениям с точки зрения долей совершающих события пользователей."
   ]
  },
  {
   "cell_type": "markdown",
   "metadata": {},
   "source": [
    "##### Сравнение долей совершивших события в группах 248 и 247"
   ]
  },
  {
   "cell_type": "code",
   "execution_count": 122,
   "metadata": {},
   "outputs": [
    {
     "data": {
      "text/html": [
       "<div>\n",
       "<style scoped>\n",
       "    .dataframe tbody tr th:only-of-type {\n",
       "        vertical-align: middle;\n",
       "    }\n",
       "\n",
       "    .dataframe tbody tr th {\n",
       "        vertical-align: top;\n",
       "    }\n",
       "\n",
       "    .dataframe thead th {\n",
       "        text-align: right;\n",
       "    }\n",
       "</style>\n",
       "<table border=\"1\" class=\"dataframe\">\n",
       "  <thead>\n",
       "    <tr style=\"text-align: right;\">\n",
       "      <th></th>\n",
       "      <th>event</th>\n",
       "      <th>success1</th>\n",
       "      <th>success2</th>\n",
       "      <th>trial1</th>\n",
       "      <th>trial2</th>\n",
       "      <th>conversion1</th>\n",
       "      <th>conversion2</th>\n",
       "    </tr>\n",
       "  </thead>\n",
       "  <tbody>\n",
       "    <tr>\n",
       "      <th>0</th>\n",
       "      <td>MainScreenAppear</td>\n",
       "      <td>2479</td>\n",
       "      <td>2494</td>\n",
       "      <td>2517</td>\n",
       "      <td>2537</td>\n",
       "      <td>98.49</td>\n",
       "      <td>98.31</td>\n",
       "    </tr>\n",
       "    <tr>\n",
       "      <th>1</th>\n",
       "      <td>OffersScreenAppear</td>\n",
       "      <td>1524</td>\n",
       "      <td>1531</td>\n",
       "      <td>2517</td>\n",
       "      <td>2537</td>\n",
       "      <td>60.55</td>\n",
       "      <td>60.35</td>\n",
       "    </tr>\n",
       "    <tr>\n",
       "      <th>2</th>\n",
       "      <td>CartScreenAppear</td>\n",
       "      <td>1239</td>\n",
       "      <td>1231</td>\n",
       "      <td>2517</td>\n",
       "      <td>2537</td>\n",
       "      <td>49.23</td>\n",
       "      <td>48.52</td>\n",
       "    </tr>\n",
       "    <tr>\n",
       "      <th>3</th>\n",
       "      <td>PaymentScreenSuccessful</td>\n",
       "      <td>1158</td>\n",
       "      <td>1182</td>\n",
       "      <td>2517</td>\n",
       "      <td>2537</td>\n",
       "      <td>46.01</td>\n",
       "      <td>46.59</td>\n",
       "    </tr>\n",
       "    <tr>\n",
       "      <th>4</th>\n",
       "      <td>Tutorial</td>\n",
       "      <td>284</td>\n",
       "      <td>281</td>\n",
       "      <td>2517</td>\n",
       "      <td>2537</td>\n",
       "      <td>11.28</td>\n",
       "      <td>11.08</td>\n",
       "    </tr>\n",
       "  </tbody>\n",
       "</table>\n",
       "</div>"
      ],
      "text/plain": [
       "                     event  success1  success2  trial1  trial2  conversion1  \\\n",
       "0         MainScreenAppear      2479      2494    2517    2537        98.49   \n",
       "1       OffersScreenAppear      1524      1531    2517    2537        60.55   \n",
       "2         CartScreenAppear      1239      1231    2517    2537        49.23   \n",
       "3  PaymentScreenSuccessful      1158      1182    2517    2537        46.01   \n",
       "4                 Tutorial       284       281    2517    2537        11.28   \n",
       "\n",
       "   conversion2  \n",
       "0        98.31  \n",
       "1        60.35  \n",
       "2        48.52  \n",
       "3        46.59  \n",
       "4        11.08  "
      ]
     },
     "execution_count": 122,
     "metadata": {},
     "output_type": "execute_result"
    }
   ],
   "source": [
    "a2b_test = df_creater(246, 247, 248)\n",
    "a2b_test"
   ]
  },
  {
   "cell_type": "code",
   "execution_count": 123,
   "metadata": {},
   "outputs": [
    {
     "data": {
      "image/png": "[encoded data removed]",
      "text/plain": [
       "<Figure size 1500x800 with 1 Axes>"
      ]
     },
     "metadata": {},
     "output_type": "display_data"
    }
   ],
   "source": [
    "a2b_conversion = bar_creater(a2b_test)"
   ]
  },
  {
   "cell_type": "code",
   "execution_count": 124,
   "metadata": {},
   "outputs": [
    {
     "name": "stdout",
     "output_type": "stream",
     "text": [
      "MainScreenAppear p-значение: 0.60017\n",
      "Не получилось отвергнуть нулевую гипотезу, нет оснований считать доли разными\n",
      "OffersScreenAppear p-значение: 0.8836\n",
      "Не получилось отвергнуть нулевую гипотезу, нет оснований считать доли разными\n",
      "CartScreenAppear p-значение: 0.61695\n",
      "Не получилось отвергнуть нулевую гипотезу, нет оснований считать доли разными\n",
      "PaymentScreenSuccessful p-значение: 0.67754\n",
      "Не получилось отвергнуть нулевую гипотезу, нет оснований считать доли разными\n",
      "Tutorial p-значение: 0.8152\n",
      "Не получилось отвергнуть нулевую гипотезу, нет оснований считать доли разными\n"
     ]
    }
   ],
   "source": [
    "z_testing(a2b_test, alpha_new)"
   ]
  },
  {
   "cell_type": "markdown",
   "metadata": {},
   "source": [
    "z-тест показал, что для всех событий разница в долях между группами 248 и 247 не является статистически значимой (p-value < 0.0022). Более того, речь идет о падении по сравнению с контрольной группой по всем событиям, кроме страницы платежа, где наблюдается небольшой рост с 46,01% до 46,59%, но он также не является статистически значимым.\\\n",
    "Отдельно стоит отметить, что на данный вывод не влияет выбор уровня значимости. Даже при alpha=0.05 все равно p-value > alpha по всем событиям.\\\n",
    "Таким образом, по сравнению с группой 247 введение нового шрифта не привело к каким-либо положительным изменениям с точки зрения долей совершающих события пользователей."
   ]
  },
  {
   "cell_type": "markdown",
   "metadata": {},
   "source": [
    "##### Сравнение долей совершивших события в группах 248 и (246+247)"
   ]
  },
  {
   "cell_type": "code",
   "execution_count": 125,
   "metadata": {},
   "outputs": [
    {
     "data": {
      "text/html": [
       "<div>\n",
       "<style scoped>\n",
       "    .dataframe tbody tr th:only-of-type {\n",
       "        vertical-align: middle;\n",
       "    }\n",
       "\n",
       "    .dataframe tbody tr th {\n",
       "        vertical-align: top;\n",
       "    }\n",
       "\n",
       "    .dataframe thead th {\n",
       "        text-align: right;\n",
       "    }\n",
       "</style>\n",
       "<table border=\"1\" class=\"dataframe\">\n",
       "  <thead>\n",
       "    <tr style=\"text-align: right;\">\n",
       "      <th></th>\n",
       "      <th>event</th>\n",
       "      <th>success2</th>\n",
       "      <th>success1</th>\n",
       "      <th>trial2</th>\n",
       "      <th>trial1</th>\n",
       "      <th>conversion2</th>\n",
       "      <th>conversion1</th>\n",
       "    </tr>\n",
       "  </thead>\n",
       "  <tbody>\n",
       "    <tr>\n",
       "      <th>0</th>\n",
       "      <td>MainScreenAppear</td>\n",
       "      <td>2494</td>\n",
       "      <td>4929</td>\n",
       "      <td>2537</td>\n",
       "      <td>5001</td>\n",
       "      <td>98.31</td>\n",
       "      <td>98.56</td>\n",
       "    </tr>\n",
       "    <tr>\n",
       "      <th>1</th>\n",
       "      <td>OffersScreenAppear</td>\n",
       "      <td>1531</td>\n",
       "      <td>3066</td>\n",
       "      <td>2537</td>\n",
       "      <td>5001</td>\n",
       "      <td>60.35</td>\n",
       "      <td>61.31</td>\n",
       "    </tr>\n",
       "    <tr>\n",
       "      <th>2</th>\n",
       "      <td>CartScreenAppear</td>\n",
       "      <td>1231</td>\n",
       "      <td>2505</td>\n",
       "      <td>2537</td>\n",
       "      <td>5001</td>\n",
       "      <td>48.52</td>\n",
       "      <td>50.09</td>\n",
       "    </tr>\n",
       "    <tr>\n",
       "      <th>3</th>\n",
       "      <td>PaymentScreenSuccessful</td>\n",
       "      <td>1182</td>\n",
       "      <td>2358</td>\n",
       "      <td>2537</td>\n",
       "      <td>5001</td>\n",
       "      <td>46.59</td>\n",
       "      <td>47.15</td>\n",
       "    </tr>\n",
       "    <tr>\n",
       "      <th>4</th>\n",
       "      <td>Tutorial</td>\n",
       "      <td>281</td>\n",
       "      <td>562</td>\n",
       "      <td>2537</td>\n",
       "      <td>5001</td>\n",
       "      <td>11.08</td>\n",
       "      <td>11.24</td>\n",
       "    </tr>\n",
       "  </tbody>\n",
       "</table>\n",
       "</div>"
      ],
      "text/plain": [
       "                     event  success2  success1  trial2  trial1  conversion2  \\\n",
       "0         MainScreenAppear      2494      4929    2537    5001        98.31   \n",
       "1       OffersScreenAppear      1531      3066    2537    5001        60.35   \n",
       "2         CartScreenAppear      1231      2505    2537    5001        48.52   \n",
       "3  PaymentScreenSuccessful      1182      2358    2537    5001        46.59   \n",
       "4                 Tutorial       281       562    2537    5001        11.08   \n",
       "\n",
       "   conversion1  \n",
       "0        98.56  \n",
       "1        61.31  \n",
       "2        50.09  \n",
       "3        47.15  \n",
       "4        11.24  "
      ]
     },
     "execution_count": 125,
     "metadata": {},
     "output_type": "execute_result"
    }
   ],
   "source": [
    "ab_test = logs_new.pivot_table(index='event', values='user_id', columns='group', aggfunc='nunique')\n",
    "ab_test['246+247'] = ab_test[246] + ab_test[247]\n",
    "ab_test = ab_test.drop(columns=[246, 247])\n",
    "ab_test.columns = ['success2', 'success1']\n",
    "ab_test['trial2'] = logs_new[logs_new['group']==248]['user_id'].nunique()\n",
    "ab_test['trial1'] = logs_new[logs_new['group']!=248]['user_id'].nunique()\n",
    "ab_test['conversion2'] = round(ab_test['success2']/ab_test['trial2']*100,2)\n",
    "ab_test['conversion1'] = round(ab_test['success1']/ab_test['trial1']*100,2)\n",
    "ab_test = ab_test.sort_values(by='success2', ascending = False).reset_index()\n",
    "ab_test"
   ]
  },
  {
   "cell_type": "code",
   "execution_count": 126,
   "metadata": {},
   "outputs": [
    {
     "data": {
      "image/png": "[encoded data removed]",
      "text/plain": [
       "<Figure size 1500x800 with 1 Axes>"
      ]
     },
     "metadata": {},
     "output_type": "display_data"
    }
   ],
   "source": [
    "ab_conversion = bar_creater(ab_test)"
   ]
  },
  {
   "cell_type": "code",
   "execution_count": 127,
   "metadata": {},
   "outputs": [
    {
     "name": "stdout",
     "output_type": "stream",
     "text": [
      "MainScreenAppear p-значение: 0.39299\n",
      "Не получилось отвергнуть нулевую гипотезу, нет оснований считать доли разными\n",
      "OffersScreenAppear p-значение: 0.419\n",
      "Не получилось отвергнуть нулевую гипотезу, нет оснований считать доли разными\n",
      "CartScreenAppear p-значение: 0.19819\n",
      "Не получилось отвергнуть нулевую гипотезу, нет оснований считать доли разными\n",
      "PaymentScreenSuccessful p-значение: 0.64521\n",
      "Не получилось отвергнуть нулевую гипотезу, нет оснований считать доли разными\n",
      "Tutorial p-значение: 0.8333\n",
      "Не получилось отвергнуть нулевую гипотезу, нет оснований считать доли разными\n"
     ]
    }
   ],
   "source": [
    "z_testing(ab_test, alpha_new)"
   ]
  },
  {
   "cell_type": "markdown",
   "metadata": {},
   "source": [
    "z-тест показал, что для всех событий разница в долях между экспериментальной группой 248 и контрольными группами 246 и 247 вместе не является статистически значимой (p-value < 0.0022). При этом важно отметить, что в экспериментальной группе наблюдается снижение долей по всем событиям.\\\n",
    "Отдельно стоит отметить, что на данный вывод не влияет выбор уровня значимости. Даже при alpha=0.05 все равно p-value > alpha по всем событиям. \\\n",
    "Таким образом, по сравнению с контрольной группой введение нового шрифта в экспериментальной группе не привело к каким-либо положительным изменениям с точки зрения долей совершающих события пользователей."
   ]
  },
  {
   "cell_type": "markdown",
   "metadata": {},
   "source": [
    "#### Решение по результатам A/A/B-теста"
   ]
  },
  {
   "cell_type": "markdown",
   "metadata": {},
   "source": [
    "Результат A/A/B-теста является однозначным: вводить новый шрифт не нужно, так как это не привело к статистически значимому увеличению конверсии пользователей ни по одному из осуществляемых на сайте событий.\\\n",
    "Единственное выявленное при сравнении групп 248 и 247 увеличение доли покупателей с 46,01% до 46,59% статистически значимым не является. Во всех остальных случаях наблюдается снижение доли покупателей.\\\n",
    "Результаты теста также подтверждают, что использование поправки Холма не имеет смысла, так как p-value по всем гипотезам либо больше 0.05, либо сильно меньше значений, используемых в других непошаговых поправках (например, 0.0022). "
   ]
  },
  {
   "cell_type": "markdown",
   "metadata": {},
   "source": [
    "### Выводы"
   ]
  },
  {
   "cell_type": "markdown",
   "metadata": {},
   "source": [
    "* Предобработка данных показала, что представленные в логе данные довольно высокого качества: в них отсутствуют пропуски, а количество явных дубликатов составляет 0,17%, поэтому они были удалены;\n",
    "* Подготовка к проведениию A/A/B-теста была проведена корректно: выборка поделена на группы равномерно (разница между группами составляет 1-2%), а пользователей, состоящих в 2 или 3 группах сразу, нет;\n",
    "* В рассматриваемом двухнедельном периоде на каждого пользователя в среднем приходится примерно 2,67 события, а медиана действий равна 20; \n",
    "* На первую неделю периода приходится всего лишь 0,82% от общего количества данных, что говорит о высокой вероятности их неполноты за данный период, поэтому в целях анализа рассматривалась только вторая половина периода без нарушения равномерного распределения пользователей по группам;\n",
    "* Пользователь в рамках пользования приложением проходит следующий путь (в скобках указана доля перешедших на данный этап из предыдущего): основная страница -> предложения (62%) -> корзина (81%) -> оплата товара (95%). При этом на основной странице побывали 98,47% пользователей, т.е. не все пользователи проходят данный путь, а до оплаты товара доходили 47% от общего количества пользователей, что является крайне высоким показателем конверсии посетителей в покупателей;\n",
    "* A/A/B тест показал, что вводить новый шрифт нецелесообразно: почти по всем событиям в результате нововведений конверсия упала (в 14 из 15 случаях), при этом ни один из результатов не является статистически значимым. Контрольные группы были сформированы корректно и A/A тест показал правильность всех механизмов и расчетов в рамках эксперимента."
   ]
  }
 ],
 "metadata": {
  "ExecuteTimeLog": [
   {
    "duration": 1312,
    "start_time": "2023-12-10T17:30:33.647Z"
   },
   {
    "duration": 614,
    "start_time": "2023-12-10T17:32:29.027Z"
   },
   {
    "duration": 12,
    "start_time": "2023-12-10T17:32:35.593Z"
   },
   {
    "duration": 73,
    "start_time": "2023-12-10T17:32:54.416Z"
   },
   {
    "duration": 78,
    "start_time": "2023-12-10T17:33:12.744Z"
   },
   {
    "duration": 171,
    "start_time": "2023-12-10T17:33:58.208Z"
   },
   {
    "duration": 8,
    "start_time": "2023-12-10T17:34:01.326Z"
   },
   {
    "duration": 52,
    "start_time": "2023-12-10T19:47:19.906Z"
   },
   {
    "duration": 1137,
    "start_time": "2023-12-10T19:47:27.441Z"
   },
   {
    "duration": 686,
    "start_time": "2023-12-10T19:47:28.580Z"
   },
   {
    "duration": 22,
    "start_time": "2023-12-10T19:47:29.267Z"
   },
   {
    "duration": 14,
    "start_time": "2023-12-10T19:50:22.552Z"
   },
   {
    "duration": 3,
    "start_time": "2023-12-10T19:55:59.507Z"
   },
   {
    "duration": 38,
    "start_time": "2023-12-10T20:00:14.041Z"
   },
   {
    "duration": 13,
    "start_time": "2023-12-10T20:00:17.574Z"
   },
   {
    "duration": 304,
    "start_time": "2023-12-10T20:04:06.802Z"
   },
   {
    "duration": 3,
    "start_time": "2023-12-10T20:04:57.075Z"
   },
   {
    "duration": 244,
    "start_time": "2023-12-10T20:05:03.887Z"
   },
   {
    "duration": 9,
    "start_time": "2023-12-10T20:11:38.111Z"
   },
   {
    "duration": 3,
    "start_time": "2023-12-10T20:12:03.503Z"
   },
   {
    "duration": 215,
    "start_time": "2023-12-10T20:12:03.508Z"
   },
   {
    "duration": 22,
    "start_time": "2023-12-10T20:12:03.726Z"
   },
   {
    "duration": 9,
    "start_time": "2023-12-10T20:12:03.749Z"
   },
   {
    "duration": 4,
    "start_time": "2023-12-10T20:12:03.760Z"
   },
   {
    "duration": 16,
    "start_time": "2023-12-10T20:12:03.765Z"
   },
   {
    "duration": 11,
    "start_time": "2023-12-10T20:12:12.023Z"
   },
   {
    "duration": 8,
    "start_time": "2023-12-10T20:13:42.962Z"
   },
   {
    "duration": 8,
    "start_time": "2023-12-10T20:16:41.040Z"
   },
   {
    "duration": 8,
    "start_time": "2023-12-10T20:16:49.972Z"
   },
   {
    "duration": 9,
    "start_time": "2023-12-10T20:16:57.952Z"
   },
   {
    "duration": 4,
    "start_time": "2023-12-10T20:17:02.609Z"
   },
   {
    "duration": 3,
    "start_time": "2023-12-10T20:17:19.906Z"
   },
   {
    "duration": 9,
    "start_time": "2023-12-10T20:17:31.370Z"
   },
   {
    "duration": 9,
    "start_time": "2023-12-10T20:17:42.897Z"
   },
   {
    "duration": 3,
    "start_time": "2023-12-10T20:18:08.963Z"
   },
   {
    "duration": 9,
    "start_time": "2023-12-10T20:21:14.191Z"
   },
   {
    "duration": 10,
    "start_time": "2023-12-10T20:22:52.766Z"
   },
   {
    "duration": 10,
    "start_time": "2023-12-10T20:23:12.997Z"
   },
   {
    "duration": 1075,
    "start_time": "2023-12-11T08:13:53.556Z"
   },
   {
    "duration": 476,
    "start_time": "2023-12-11T08:13:54.633Z"
   },
   {
    "duration": 18,
    "start_time": "2023-12-11T08:13:55.111Z"
   },
   {
    "duration": 30,
    "start_time": "2023-12-11T08:13:55.130Z"
   },
   {
    "duration": 12,
    "start_time": "2023-12-11T08:13:55.161Z"
   },
   {
    "duration": 115,
    "start_time": "2023-12-11T08:13:55.174Z"
   },
   {
    "duration": 3,
    "start_time": "2023-12-11T08:14:07.229Z"
   },
   {
    "duration": 1050,
    "start_time": "2023-12-11T08:19:59.205Z"
   },
   {
    "duration": 148,
    "start_time": "2023-12-11T08:20:00.257Z"
   },
   {
    "duration": 18,
    "start_time": "2023-12-11T08:20:00.406Z"
   },
   {
    "duration": 27,
    "start_time": "2023-12-11T08:20:00.425Z"
   },
   {
    "duration": 28,
    "start_time": "2023-12-11T08:20:00.454Z"
   },
   {
    "duration": 141,
    "start_time": "2023-12-11T08:20:00.483Z"
   },
   {
    "duration": 178,
    "start_time": "2023-12-11T08:20:23.115Z"
   },
   {
    "duration": 9,
    "start_time": "2023-12-11T08:20:56.521Z"
   },
   {
    "duration": 1049,
    "start_time": "2023-12-11T08:21:28.700Z"
   },
   {
    "duration": 147,
    "start_time": "2023-12-11T08:21:29.752Z"
   },
   {
    "duration": 17,
    "start_time": "2023-12-11T08:21:29.901Z"
   },
   {
    "duration": 11,
    "start_time": "2023-12-11T08:21:29.920Z"
   },
   {
    "duration": 4,
    "start_time": "2023-12-11T08:21:29.932Z"
   },
   {
    "duration": 161,
    "start_time": "2023-12-11T08:21:29.938Z"
   },
   {
    "duration": 6,
    "start_time": "2023-12-11T08:21:37.590Z"
   },
   {
    "duration": 12,
    "start_time": "2023-12-11T08:21:42.466Z"
   },
   {
    "duration": 182,
    "start_time": "2023-12-11T08:22:50.624Z"
   },
   {
    "duration": 12,
    "start_time": "2023-12-11T08:22:53.661Z"
   },
   {
    "duration": 1130,
    "start_time": "2023-12-11T08:23:02.422Z"
   },
   {
    "duration": 149,
    "start_time": "2023-12-11T08:23:03.554Z"
   },
   {
    "duration": 18,
    "start_time": "2023-12-11T08:23:03.705Z"
   },
   {
    "duration": 65,
    "start_time": "2023-12-11T08:23:03.724Z"
   },
   {
    "duration": 21,
    "start_time": "2023-12-11T08:23:03.790Z"
   },
   {
    "duration": 159,
    "start_time": "2023-12-11T08:23:03.812Z"
   },
   {
    "duration": 10,
    "start_time": "2023-12-11T08:23:03.972Z"
   },
   {
    "duration": 103,
    "start_time": "2023-12-11T09:01:41.248Z"
   },
   {
    "duration": 4,
    "start_time": "2023-12-11T09:01:47.719Z"
   },
   {
    "duration": 158,
    "start_time": "2023-12-11T09:01:47.725Z"
   },
   {
    "duration": 17,
    "start_time": "2023-12-11T09:01:47.885Z"
   },
   {
    "duration": 191,
    "start_time": "2023-12-11T09:01:47.903Z"
   },
   {
    "duration": 231,
    "start_time": "2023-12-11T09:01:48.096Z"
   },
   {
    "duration": 174,
    "start_time": "2023-12-11T09:01:48.329Z"
   },
   {
    "duration": 9,
    "start_time": "2023-12-11T09:01:48.504Z"
   },
   {
    "duration": 754,
    "start_time": "2023-12-11T09:02:32.275Z"
   },
   {
    "duration": 13,
    "start_time": "2023-12-11T09:02:37.313Z"
   },
   {
    "duration": 13,
    "start_time": "2023-12-11T09:02:52.223Z"
   },
   {
    "duration": 5,
    "start_time": "2023-12-11T09:04:32.082Z"
   },
   {
    "duration": 12,
    "start_time": "2023-12-11T09:06:24.243Z"
   },
   {
    "duration": 1875,
    "start_time": "2023-12-11T09:08:07.154Z"
   },
   {
    "duration": 2013,
    "start_time": "2023-12-11T09:08:30.816Z"
   },
   {
    "duration": 1069,
    "start_time": "2023-12-11T09:08:52.602Z"
   },
   {
    "duration": 5,
    "start_time": "2023-12-11T09:09:19.175Z"
   },
   {
    "duration": 734,
    "start_time": "2023-12-11T09:09:49.094Z"
   },
   {
    "duration": 3,
    "start_time": "2023-12-11T09:09:52.625Z"
   },
   {
    "duration": 156,
    "start_time": "2023-12-11T09:09:52.630Z"
   },
   {
    "duration": 15,
    "start_time": "2023-12-11T09:09:52.788Z"
   },
   {
    "duration": 9,
    "start_time": "2023-12-11T09:09:52.805Z"
   },
   {
    "duration": 14,
    "start_time": "2023-12-11T09:09:52.816Z"
   },
   {
    "duration": 148,
    "start_time": "2023-12-11T09:09:52.831Z"
   },
   {
    "duration": 10,
    "start_time": "2023-12-11T09:09:52.981Z"
   },
   {
    "duration": 674,
    "start_time": "2023-12-11T09:09:52.992Z"
   },
   {
    "duration": 4,
    "start_time": "2023-12-11T09:09:53.669Z"
   },
   {
    "duration": 28,
    "start_time": "2023-12-11T09:09:53.675Z"
   },
   {
    "duration": 13,
    "start_time": "2023-12-11T09:13:15.088Z"
   },
   {
    "duration": 32,
    "start_time": "2023-12-11T09:16:21.225Z"
   },
   {
    "duration": 14,
    "start_time": "2023-12-11T09:16:24.913Z"
   },
   {
    "duration": 9,
    "start_time": "2023-12-11T09:17:16.941Z"
   },
   {
    "duration": 18,
    "start_time": "2023-12-11T09:17:18.488Z"
   },
   {
    "duration": 3,
    "start_time": "2023-12-11T09:21:27.563Z"
   },
   {
    "duration": 170,
    "start_time": "2023-12-11T09:21:27.568Z"
   },
   {
    "duration": 18,
    "start_time": "2023-12-11T09:21:27.739Z"
   },
   {
    "duration": 31,
    "start_time": "2023-12-11T09:21:27.758Z"
   },
   {
    "duration": 158,
    "start_time": "2023-12-11T09:21:27.790Z"
   },
   {
    "duration": 735,
    "start_time": "2023-12-11T09:21:27.949Z"
   },
   {
    "duration": 12,
    "start_time": "2023-12-11T09:21:28.685Z"
   },
   {
    "duration": 23,
    "start_time": "2023-12-11T09:36:35.411Z"
   },
   {
    "duration": 32,
    "start_time": "2023-12-11T09:36:40.834Z"
   },
   {
    "duration": 18,
    "start_time": "2023-12-11T09:37:36.103Z"
   },
   {
    "duration": 32,
    "start_time": "2023-12-11T09:37:38.613Z"
   },
   {
    "duration": 13,
    "start_time": "2023-12-11T09:37:44.964Z"
   },
   {
    "duration": 8,
    "start_time": "2023-12-11T09:37:51.698Z"
   },
   {
    "duration": 9,
    "start_time": "2023-12-11T09:37:56.616Z"
   },
   {
    "duration": 9,
    "start_time": "2023-12-11T09:37:59.721Z"
   },
   {
    "duration": 1348,
    "start_time": "2023-12-11T11:39:09.161Z"
   },
   {
    "duration": 515,
    "start_time": "2023-12-11T11:39:10.511Z"
   },
   {
    "duration": 24,
    "start_time": "2023-12-11T11:39:11.027Z"
   },
   {
    "duration": 14,
    "start_time": "2023-12-11T11:39:11.052Z"
   },
   {
    "duration": 191,
    "start_time": "2023-12-11T11:39:11.068Z"
   },
   {
    "duration": 775,
    "start_time": "2023-12-11T11:39:11.261Z"
   },
   {
    "duration": 8,
    "start_time": "2023-12-11T11:39:12.037Z"
   },
   {
    "duration": 145,
    "start_time": "2023-12-11T11:39:12.047Z"
   },
   {
    "duration": 9,
    "start_time": "2023-12-11T11:39:43.320Z"
   },
   {
    "duration": 10,
    "start_time": "2023-12-11T11:39:47.888Z"
   },
   {
    "duration": 16,
    "start_time": "2023-12-11T11:39:56.796Z"
   },
   {
    "duration": 1059,
    "start_time": "2023-12-11T11:40:20.901Z"
   },
   {
    "duration": 837,
    "start_time": "2023-12-11T11:40:26.933Z"
   },
   {
    "duration": 101,
    "start_time": "2023-12-11T11:45:40.959Z"
   },
   {
    "duration": 87,
    "start_time": "2023-12-11T11:45:51.585Z"
   },
   {
    "duration": 85,
    "start_time": "2023-12-11T11:45:59.888Z"
   },
   {
    "duration": 109,
    "start_time": "2023-12-11T11:46:30.282Z"
   },
   {
    "duration": 14,
    "start_time": "2023-12-11T11:47:26.983Z"
   },
   {
    "duration": 89,
    "start_time": "2023-12-11T12:38:52.382Z"
   },
   {
    "duration": 84,
    "start_time": "2023-12-11T12:39:27.939Z"
   },
   {
    "duration": 9,
    "start_time": "2023-12-11T12:42:25.913Z"
   },
   {
    "duration": 103,
    "start_time": "2023-12-11T12:42:28.666Z"
   },
   {
    "duration": 94,
    "start_time": "2023-12-11T12:42:36.103Z"
   },
   {
    "duration": 12,
    "start_time": "2023-12-11T12:42:42.329Z"
   },
   {
    "duration": 43,
    "start_time": "2023-12-11T14:09:27.439Z"
   },
   {
    "duration": 1362,
    "start_time": "2023-12-11T14:09:30.684Z"
   },
   {
    "duration": 518,
    "start_time": "2023-12-11T14:09:32.049Z"
   },
   {
    "duration": 20,
    "start_time": "2023-12-11T14:09:32.569Z"
   },
   {
    "duration": 3,
    "start_time": "2023-12-11T14:09:32.591Z"
   },
   {
    "duration": 155,
    "start_time": "2023-12-11T14:09:32.595Z"
   },
   {
    "duration": 696,
    "start_time": "2023-12-11T14:09:32.751Z"
   },
   {
    "duration": 103,
    "start_time": "2023-12-11T14:09:33.448Z"
   },
   {
    "duration": 94,
    "start_time": "2023-12-11T14:09:33.553Z"
   },
   {
    "duration": 111,
    "start_time": "2023-12-11T14:09:33.648Z"
   },
   {
    "duration": 4,
    "start_time": "2023-12-11T14:09:33.761Z"
   },
   {
    "duration": 1412,
    "start_time": "2023-12-11T14:11:48.859Z"
   },
   {
    "duration": 1430,
    "start_time": "2023-12-11T14:12:00.318Z"
   },
   {
    "duration": 11,
    "start_time": "2023-12-11T14:12:15.567Z"
   },
   {
    "duration": 12,
    "start_time": "2023-12-11T14:12:25.518Z"
   },
   {
    "duration": 12,
    "start_time": "2023-12-11T14:12:30.457Z"
   },
   {
    "duration": 12,
    "start_time": "2023-12-11T14:12:36.152Z"
   },
   {
    "duration": 28,
    "start_time": "2023-12-11T14:14:49.679Z"
   },
   {
    "duration": 27,
    "start_time": "2023-12-11T14:15:05.329Z"
   },
   {
    "duration": 28,
    "start_time": "2023-12-11T14:15:08.174Z"
   },
   {
    "duration": 239,
    "start_time": "2023-12-11T14:15:15.266Z"
   },
   {
    "duration": 28,
    "start_time": "2023-12-11T14:15:17.876Z"
   },
   {
    "duration": 21,
    "start_time": "2023-12-11T14:15:48.123Z"
   },
   {
    "duration": 20,
    "start_time": "2023-12-11T14:15:59.562Z"
   },
   {
    "duration": 15,
    "start_time": "2023-12-11T14:18:18.980Z"
   },
   {
    "duration": 34,
    "start_time": "2023-12-11T14:19:14.978Z"
   },
   {
    "duration": 36,
    "start_time": "2023-12-11T14:21:41.375Z"
   },
   {
    "duration": 40,
    "start_time": "2023-12-11T14:22:53.076Z"
   },
   {
    "duration": 39,
    "start_time": "2023-12-11T14:23:33.869Z"
   },
   {
    "duration": 45,
    "start_time": "2023-12-11T14:23:39.125Z"
   },
   {
    "duration": 37,
    "start_time": "2023-12-11T14:23:46.524Z"
   },
   {
    "duration": 40,
    "start_time": "2023-12-11T14:23:53.520Z"
   },
   {
    "duration": 36,
    "start_time": "2023-12-11T14:23:55.479Z"
   },
   {
    "duration": 39,
    "start_time": "2023-12-11T14:23:59.897Z"
   },
   {
    "duration": 37,
    "start_time": "2023-12-11T14:24:14.701Z"
   },
   {
    "duration": 12,
    "start_time": "2023-12-11T14:25:53.277Z"
   },
   {
    "duration": 50,
    "start_time": "2023-12-11T14:26:00.451Z"
   },
   {
    "duration": 18,
    "start_time": "2023-12-11T14:26:04.392Z"
   },
   {
    "duration": 13,
    "start_time": "2023-12-11T14:26:25.506Z"
   },
   {
    "duration": 28,
    "start_time": "2023-12-11T14:30:26.902Z"
   },
   {
    "duration": 7,
    "start_time": "2023-12-11T14:31:24.742Z"
   },
   {
    "duration": 14,
    "start_time": "2023-12-11T14:34:57.930Z"
   },
   {
    "duration": 5,
    "start_time": "2023-12-11T14:35:03.914Z"
   },
   {
    "duration": 7,
    "start_time": "2023-12-11T14:35:12.256Z"
   },
   {
    "duration": 28,
    "start_time": "2023-12-11T14:35:13.472Z"
   },
   {
    "duration": 80,
    "start_time": "2023-12-11T14:38:19.874Z"
   },
   {
    "duration": 66,
    "start_time": "2023-12-11T14:39:43.270Z"
   },
   {
    "duration": 91,
    "start_time": "2023-12-11T14:39:51.270Z"
   },
   {
    "duration": 66,
    "start_time": "2023-12-11T14:39:58.814Z"
   },
   {
    "duration": 390,
    "start_time": "2023-12-11T14:41:30.016Z"
   },
   {
    "duration": 62,
    "start_time": "2023-12-11T14:41:56.919Z"
   },
   {
    "duration": 66,
    "start_time": "2023-12-11T14:42:01.866Z"
   },
   {
    "duration": 4,
    "start_time": "2023-12-11T14:42:21.609Z"
   },
   {
    "duration": 4,
    "start_time": "2023-12-11T14:42:32.926Z"
   },
   {
    "duration": 4,
    "start_time": "2023-12-11T14:42:54.844Z"
   },
   {
    "duration": 4,
    "start_time": "2023-12-11T14:43:01.581Z"
   },
   {
    "duration": 60,
    "start_time": "2023-12-11T14:43:22.254Z"
   },
   {
    "duration": 1240,
    "start_time": "2023-12-11T17:56:11.843Z"
   },
   {
    "duration": 699,
    "start_time": "2023-12-11T17:56:13.085Z"
   },
   {
    "duration": 21,
    "start_time": "2023-12-11T17:56:13.786Z"
   },
   {
    "duration": 8,
    "start_time": "2023-12-11T17:56:13.808Z"
   },
   {
    "duration": 157,
    "start_time": "2023-12-11T17:56:13.817Z"
   },
   {
    "duration": 709,
    "start_time": "2023-12-11T17:56:13.976Z"
   },
   {
    "duration": 94,
    "start_time": "2023-12-11T17:56:14.686Z"
   },
   {
    "duration": 83,
    "start_time": "2023-12-11T17:56:14.781Z"
   },
   {
    "duration": 104,
    "start_time": "2023-12-11T17:56:14.865Z"
   },
   {
    "duration": 40,
    "start_time": "2023-12-11T17:56:14.972Z"
   },
   {
    "duration": 23,
    "start_time": "2023-12-11T17:56:15.014Z"
   },
   {
    "duration": 44,
    "start_time": "2023-12-11T17:56:15.038Z"
   },
   {
    "duration": 52,
    "start_time": "2023-12-11T17:56:15.083Z"
   },
   {
    "duration": 11,
    "start_time": "2023-12-11T17:56:15.137Z"
   },
   {
    "duration": 74,
    "start_time": "2023-12-11T17:56:15.150Z"
   },
   {
    "duration": 4,
    "start_time": "2023-12-11T17:56:15.226Z"
   },
   {
    "duration": 27,
    "start_time": "2023-12-11T17:56:15.231Z"
   },
   {
    "duration": 17,
    "start_time": "2023-12-11T18:00:02.353Z"
   },
   {
    "duration": 17,
    "start_time": "2023-12-11T18:00:11.364Z"
   },
   {
    "duration": 15,
    "start_time": "2023-12-11T18:38:02.585Z"
   },
   {
    "duration": 55,
    "start_time": "2023-12-11T18:38:36.395Z"
   },
   {
    "duration": 54,
    "start_time": "2023-12-11T18:38:40.521Z"
   },
   {
    "duration": 675,
    "start_time": "2023-12-11T18:39:19.735Z"
   },
   {
    "duration": 67,
    "start_time": "2023-12-11T18:39:29.617Z"
   },
   {
    "duration": 53,
    "start_time": "2023-12-11T18:40:21.729Z"
   },
   {
    "duration": 575,
    "start_time": "2023-12-11T18:40:28.036Z"
   },
   {
    "duration": 51,
    "start_time": "2023-12-11T18:40:39.816Z"
   },
   {
    "duration": 4,
    "start_time": "2023-12-11T18:40:58.984Z"
   },
   {
    "duration": 52,
    "start_time": "2023-12-11T18:41:11.089Z"
   },
   {
    "duration": 53,
    "start_time": "2023-12-11T18:41:19.184Z"
   },
   {
    "duration": 56,
    "start_time": "2023-12-11T18:49:49.737Z"
   },
   {
    "duration": 60,
    "start_time": "2023-12-11T18:49:53.485Z"
   },
   {
    "duration": 123,
    "start_time": "2023-12-11T18:53:08.839Z"
   },
   {
    "duration": 752,
    "start_time": "2023-12-11T18:54:52.929Z"
   },
   {
    "duration": 215,
    "start_time": "2023-12-11T18:55:27.479Z"
   },
   {
    "duration": 189,
    "start_time": "2023-12-11T18:56:06.394Z"
   },
   {
    "duration": 4,
    "start_time": "2023-12-11T19:02:23.469Z"
   },
   {
    "duration": 175,
    "start_time": "2023-12-11T19:16:56.776Z"
   },
   {
    "duration": 173,
    "start_time": "2023-12-11T19:18:09.419Z"
   },
   {
    "duration": 183,
    "start_time": "2023-12-11T19:19:01.608Z"
   },
   {
    "duration": 221,
    "start_time": "2023-12-11T19:23:06.887Z"
   },
   {
    "duration": 245,
    "start_time": "2023-12-11T19:23:38.656Z"
   },
   {
    "duration": 231,
    "start_time": "2023-12-11T19:24:24.203Z"
   },
   {
    "duration": 241,
    "start_time": "2023-12-11T19:24:31.605Z"
   },
   {
    "duration": 15,
    "start_time": "2023-12-11T19:47:19.105Z"
   },
   {
    "duration": 59,
    "start_time": "2023-12-11T19:47:25.340Z"
   },
   {
    "duration": 197,
    "start_time": "2023-12-11T19:48:10.065Z"
   },
   {
    "duration": 25,
    "start_time": "2023-12-11T19:48:24.046Z"
   },
   {
    "duration": 13,
    "start_time": "2023-12-11T20:12:17.052Z"
   },
   {
    "duration": 824,
    "start_time": "2023-12-11T20:12:21.583Z"
   },
   {
    "duration": 179,
    "start_time": "2023-12-11T20:13:13.459Z"
   },
   {
    "duration": 3,
    "start_time": "2023-12-11T20:13:27.243Z"
   },
   {
    "duration": 6,
    "start_time": "2023-12-11T20:15:37.280Z"
   },
   {
    "duration": 222,
    "start_time": "2023-12-11T20:19:17.983Z"
   },
   {
    "duration": 67,
    "start_time": "2023-12-11T20:21:46.069Z"
   },
   {
    "duration": 4,
    "start_time": "2023-12-11T20:21:55.762Z"
   },
   {
    "duration": 3,
    "start_time": "2023-12-11T20:22:10.400Z"
   },
   {
    "duration": 224,
    "start_time": "2023-12-11T20:22:10.405Z"
   },
   {
    "duration": 19,
    "start_time": "2023-12-11T20:22:10.630Z"
   },
   {
    "duration": 17,
    "start_time": "2023-12-11T20:22:10.650Z"
   },
   {
    "duration": 193,
    "start_time": "2023-12-11T20:22:10.669Z"
   },
   {
    "duration": 67,
    "start_time": "2023-12-11T20:22:10.863Z"
   },
   {
    "duration": 113,
    "start_time": "2023-12-11T20:22:10.931Z"
   },
   {
    "duration": 81,
    "start_time": "2023-12-11T20:22:11.046Z"
   },
   {
    "duration": 97,
    "start_time": "2023-12-11T20:22:11.128Z"
   },
   {
    "duration": 30,
    "start_time": "2023-12-11T20:22:11.227Z"
   },
   {
    "duration": 20,
    "start_time": "2023-12-11T20:22:11.259Z"
   },
   {
    "duration": 51,
    "start_time": "2023-12-11T20:22:11.281Z"
   },
   {
    "duration": 26,
    "start_time": "2023-12-11T20:22:11.334Z"
   },
   {
    "duration": 86,
    "start_time": "2023-12-11T20:22:11.363Z"
   },
   {
    "duration": 102,
    "start_time": "2023-12-11T20:22:11.451Z"
   },
   {
    "duration": 4,
    "start_time": "2023-12-11T20:22:11.554Z"
   },
   {
    "duration": 23,
    "start_time": "2023-12-11T20:22:11.560Z"
   },
   {
    "duration": 30,
    "start_time": "2023-12-11T20:22:11.584Z"
   },
   {
    "duration": 25,
    "start_time": "2023-12-11T20:22:11.615Z"
   },
   {
    "duration": 57,
    "start_time": "2023-12-11T20:22:11.642Z"
   },
   {
    "duration": 265,
    "start_time": "2023-12-11T20:22:11.700Z"
   },
   {
    "duration": 15,
    "start_time": "2023-12-11T20:22:11.967Z"
   },
   {
    "duration": 215,
    "start_time": "2023-12-11T20:22:11.984Z"
   },
   {
    "duration": 75,
    "start_time": "2023-12-11T20:22:51.035Z"
   },
   {
    "duration": 4,
    "start_time": "2023-12-11T20:23:27.600Z"
   },
   {
    "duration": 4,
    "start_time": "2023-12-11T20:23:34.916Z"
   },
   {
    "duration": 165,
    "start_time": "2023-12-11T20:23:34.921Z"
   },
   {
    "duration": 18,
    "start_time": "2023-12-11T20:23:35.088Z"
   },
   {
    "duration": 15,
    "start_time": "2023-12-11T20:23:35.107Z"
   },
   {
    "duration": 154,
    "start_time": "2023-12-11T20:23:35.123Z"
   },
   {
    "duration": 73,
    "start_time": "2023-12-11T20:23:35.279Z"
   },
   {
    "duration": 5,
    "start_time": "2023-12-11T20:23:35.353Z"
   },
   {
    "duration": 99,
    "start_time": "2023-12-11T20:23:35.360Z"
   },
   {
    "duration": 83,
    "start_time": "2023-12-11T20:23:35.460Z"
   },
   {
    "duration": 98,
    "start_time": "2023-12-11T20:23:35.544Z"
   },
   {
    "duration": 33,
    "start_time": "2023-12-11T20:23:35.644Z"
   },
   {
    "duration": 39,
    "start_time": "2023-12-11T20:23:35.679Z"
   },
   {
    "duration": 36,
    "start_time": "2023-12-11T20:23:35.719Z"
   },
   {
    "duration": 42,
    "start_time": "2023-12-11T20:23:35.758Z"
   },
   {
    "duration": 7,
    "start_time": "2023-12-11T20:23:35.801Z"
   },
   {
    "duration": 92,
    "start_time": "2023-12-11T20:23:35.809Z"
   },
   {
    "duration": 4,
    "start_time": "2023-12-11T20:23:35.903Z"
   },
   {
    "duration": 9,
    "start_time": "2023-12-11T20:23:35.908Z"
   },
   {
    "duration": 21,
    "start_time": "2023-12-11T20:23:35.918Z"
   },
   {
    "duration": 31,
    "start_time": "2023-12-11T20:23:35.940Z"
   },
   {
    "duration": 57,
    "start_time": "2023-12-11T20:23:35.972Z"
   },
   {
    "duration": 240,
    "start_time": "2023-12-11T20:23:36.031Z"
   },
   {
    "duration": 12,
    "start_time": "2023-12-11T20:23:36.272Z"
   },
   {
    "duration": 234,
    "start_time": "2023-12-11T20:23:36.285Z"
   },
   {
    "duration": 12,
    "start_time": "2023-12-11T20:26:53.380Z"
   },
   {
    "duration": 13,
    "start_time": "2023-12-11T20:26:58.250Z"
   },
   {
    "duration": 35,
    "start_time": "2023-12-11T20:30:28.641Z"
   },
   {
    "duration": 8,
    "start_time": "2023-12-11T20:30:35.468Z"
   },
   {
    "duration": 4,
    "start_time": "2023-12-11T20:30:38.195Z"
   },
   {
    "duration": 13,
    "start_time": "2023-12-11T20:30:45.029Z"
   },
   {
    "duration": 103,
    "start_time": "2023-12-11T20:31:41.372Z"
   },
   {
    "duration": 4,
    "start_time": "2023-12-11T20:31:42.897Z"
   },
   {
    "duration": 22,
    "start_time": "2023-12-11T20:32:10.507Z"
   },
   {
    "duration": 1097,
    "start_time": "2023-12-11T20:32:37.593Z"
   },
   {
    "duration": 172,
    "start_time": "2023-12-11T20:32:38.692Z"
   },
   {
    "duration": 21,
    "start_time": "2023-12-11T20:32:38.866Z"
   },
   {
    "duration": 11,
    "start_time": "2023-12-11T20:32:38.888Z"
   },
   {
    "duration": 155,
    "start_time": "2023-12-11T20:32:38.901Z"
   },
   {
    "duration": 108,
    "start_time": "2023-12-11T20:32:39.058Z"
   },
   {
    "duration": 87,
    "start_time": "2023-12-11T20:32:39.167Z"
   },
   {
    "duration": 78,
    "start_time": "2023-12-11T20:32:39.255Z"
   },
   {
    "duration": 91,
    "start_time": "2023-12-11T20:32:39.335Z"
   },
   {
    "duration": 34,
    "start_time": "2023-12-11T20:32:39.427Z"
   },
   {
    "duration": 19,
    "start_time": "2023-12-11T20:32:39.463Z"
   },
   {
    "duration": 37,
    "start_time": "2023-12-11T20:32:39.499Z"
   },
   {
    "duration": 29,
    "start_time": "2023-12-11T20:32:39.537Z"
   },
   {
    "duration": 7,
    "start_time": "2023-12-11T20:32:39.568Z"
   },
   {
    "duration": 89,
    "start_time": "2023-12-11T20:32:39.577Z"
   },
   {
    "duration": 4,
    "start_time": "2023-12-11T20:32:39.668Z"
   },
   {
    "duration": 6,
    "start_time": "2023-12-11T20:32:39.673Z"
   },
   {
    "duration": 19,
    "start_time": "2023-12-11T20:32:39.680Z"
   },
   {
    "duration": 5,
    "start_time": "2023-12-11T20:32:39.701Z"
   },
   {
    "duration": 42,
    "start_time": "2023-12-11T20:32:39.707Z"
   },
   {
    "duration": 329,
    "start_time": "2023-12-11T20:32:39.750Z"
   },
   {
    "duration": 19,
    "start_time": "2023-12-11T20:32:40.081Z"
   },
   {
    "duration": 17,
    "start_time": "2023-12-11T20:32:40.102Z"
   },
   {
    "duration": 12,
    "start_time": "2023-12-11T20:32:40.121Z"
   },
   {
    "duration": 11,
    "start_time": "2023-12-11T20:33:15.157Z"
   },
   {
    "duration": 12,
    "start_time": "2023-12-11T20:33:24.321Z"
   },
   {
    "duration": 3,
    "start_time": "2023-12-11T20:34:34.952Z"
   },
   {
    "duration": 4,
    "start_time": "2023-12-11T20:34:43.764Z"
   },
   {
    "duration": 3,
    "start_time": "2023-12-11T20:34:48.995Z"
   },
   {
    "duration": 4,
    "start_time": "2023-12-11T20:35:20.728Z"
   },
   {
    "duration": 3,
    "start_time": "2023-12-11T20:35:23.510Z"
   },
   {
    "duration": 4,
    "start_time": "2023-12-11T20:36:25.383Z"
   },
   {
    "duration": 6,
    "start_time": "2023-12-11T20:39:22.461Z"
   },
   {
    "duration": 8,
    "start_time": "2023-12-11T20:40:03.345Z"
   },
   {
    "duration": 12,
    "start_time": "2023-12-11T20:40:21.263Z"
   },
   {
    "duration": 9,
    "start_time": "2023-12-11T20:40:33.959Z"
   },
   {
    "duration": 6,
    "start_time": "2023-12-11T20:40:37.660Z"
   },
   {
    "duration": 9,
    "start_time": "2023-12-11T20:40:41.060Z"
   },
   {
    "duration": 13,
    "start_time": "2023-12-11T20:41:28.241Z"
   },
   {
    "duration": 12,
    "start_time": "2023-12-11T20:41:32.738Z"
   },
   {
    "duration": 13,
    "start_time": "2023-12-11T20:41:41.900Z"
   },
   {
    "duration": 1286,
    "start_time": "2023-12-12T08:43:04.623Z"
   },
   {
    "duration": 731,
    "start_time": "2023-12-12T08:43:05.911Z"
   },
   {
    "duration": 20,
    "start_time": "2023-12-12T08:43:06.644Z"
   },
   {
    "duration": 2,
    "start_time": "2023-12-12T08:43:06.666Z"
   },
   {
    "duration": 162,
    "start_time": "2023-12-12T08:43:06.670Z"
   },
   {
    "duration": 102,
    "start_time": "2023-12-12T08:43:06.833Z"
   },
   {
    "duration": 85,
    "start_time": "2023-12-12T08:43:06.936Z"
   },
   {
    "duration": 81,
    "start_time": "2023-12-12T08:43:07.022Z"
   },
   {
    "duration": 88,
    "start_time": "2023-12-12T08:43:07.105Z"
   },
   {
    "duration": 31,
    "start_time": "2023-12-12T08:43:07.195Z"
   },
   {
    "duration": 17,
    "start_time": "2023-12-12T08:43:07.227Z"
   },
   {
    "duration": 46,
    "start_time": "2023-12-12T08:43:07.256Z"
   },
   {
    "duration": 28,
    "start_time": "2023-12-12T08:43:07.303Z"
   },
   {
    "duration": 6,
    "start_time": "2023-12-12T08:43:07.333Z"
   },
   {
    "duration": 79,
    "start_time": "2023-12-12T08:43:07.340Z"
   },
   {
    "duration": 3,
    "start_time": "2023-12-12T08:43:07.421Z"
   },
   {
    "duration": 21,
    "start_time": "2023-12-12T08:43:07.426Z"
   },
   {
    "duration": 22,
    "start_time": "2023-12-12T08:43:07.448Z"
   },
   {
    "duration": 20,
    "start_time": "2023-12-12T08:43:07.471Z"
   },
   {
    "duration": 43,
    "start_time": "2023-12-12T08:43:07.492Z"
   },
   {
    "duration": 309,
    "start_time": "2023-12-12T08:43:07.537Z"
   },
   {
    "duration": 18,
    "start_time": "2023-12-12T08:43:07.847Z"
   },
   {
    "duration": 4,
    "start_time": "2023-12-12T08:43:07.866Z"
   },
   {
    "duration": 10,
    "start_time": "2023-12-12T08:43:07.871Z"
   },
   {
    "duration": 21,
    "start_time": "2023-12-12T08:43:07.882Z"
   },
   {
    "duration": 17,
    "start_time": "2023-12-12T08:43:07.905Z"
   },
   {
    "duration": 50,
    "start_time": "2023-12-12T08:49:44.800Z"
   },
   {
    "duration": 37,
    "start_time": "2023-12-12T08:49:53.445Z"
   },
   {
    "duration": 18,
    "start_time": "2023-12-12T08:56:58.365Z"
   },
   {
    "duration": 44,
    "start_time": "2023-12-12T08:58:28.533Z"
   },
   {
    "duration": 30,
    "start_time": "2023-12-12T08:58:35.939Z"
   },
   {
    "duration": 17,
    "start_time": "2023-12-12T08:58:47.894Z"
   },
   {
    "duration": 34,
    "start_time": "2023-12-12T08:58:52.933Z"
   },
   {
    "duration": 117,
    "start_time": "2023-12-12T08:59:16.155Z"
   },
   {
    "duration": 40,
    "start_time": "2023-12-12T08:59:24.723Z"
   },
   {
    "duration": 33,
    "start_time": "2023-12-12T08:59:55.731Z"
   },
   {
    "duration": 35,
    "start_time": "2023-12-12T09:00:12.990Z"
   },
   {
    "duration": 32,
    "start_time": "2023-12-12T09:00:26.574Z"
   },
   {
    "duration": 63,
    "start_time": "2023-12-12T09:01:42.936Z"
   },
   {
    "duration": 50,
    "start_time": "2023-12-12T09:02:22.341Z"
   },
   {
    "duration": 52,
    "start_time": "2023-12-12T09:03:15.012Z"
   },
   {
    "duration": 8,
    "start_time": "2023-12-12T09:03:41.252Z"
   },
   {
    "duration": 61,
    "start_time": "2023-12-12T09:10:27.442Z"
   },
   {
    "duration": 8,
    "start_time": "2023-12-12T09:10:29.421Z"
   },
   {
    "duration": 51,
    "start_time": "2023-12-12T09:10:43.511Z"
   },
   {
    "duration": 8,
    "start_time": "2023-12-12T09:10:45.781Z"
   },
   {
    "duration": 9,
    "start_time": "2023-12-12T10:48:36.333Z"
   },
   {
    "duration": 12,
    "start_time": "2023-12-12T10:50:13.224Z"
   },
   {
    "duration": 5,
    "start_time": "2023-12-12T10:50:28.464Z"
   },
   {
    "duration": 9,
    "start_time": "2023-12-12T10:50:51.868Z"
   },
   {
    "duration": 125,
    "start_time": "2023-12-12T10:51:58.493Z"
   },
   {
    "duration": 10,
    "start_time": "2023-12-12T10:55:37.764Z"
   },
   {
    "duration": 124,
    "start_time": "2023-12-12T10:56:18.134Z"
   },
   {
    "duration": 123,
    "start_time": "2023-12-12T10:56:28.326Z"
   },
   {
    "duration": 115,
    "start_time": "2023-12-12T10:56:42.002Z"
   },
   {
    "duration": 121,
    "start_time": "2023-12-12T10:57:50.252Z"
   },
   {
    "duration": 134,
    "start_time": "2023-12-12T10:59:45.070Z"
   },
   {
    "duration": 221,
    "start_time": "2023-12-12T10:59:50.636Z"
   },
   {
    "duration": 140,
    "start_time": "2023-12-12T11:00:04.235Z"
   },
   {
    "duration": 136,
    "start_time": "2023-12-12T11:00:11.425Z"
   },
   {
    "duration": 144,
    "start_time": "2023-12-12T11:00:15.531Z"
   },
   {
    "duration": 148,
    "start_time": "2023-12-12T11:00:33.614Z"
   },
   {
    "duration": 134,
    "start_time": "2023-12-12T11:00:36.632Z"
   },
   {
    "duration": 151,
    "start_time": "2023-12-12T11:00:45.966Z"
   },
   {
    "duration": 137,
    "start_time": "2023-12-12T11:00:52.324Z"
   },
   {
    "duration": 128,
    "start_time": "2023-12-12T11:29:18.101Z"
   },
   {
    "duration": 97,
    "start_time": "2023-12-12T11:31:29.991Z"
   },
   {
    "duration": 139,
    "start_time": "2023-12-12T11:32:04.829Z"
   },
   {
    "duration": 230,
    "start_time": "2023-12-12T11:33:43.649Z"
   },
   {
    "duration": 551,
    "start_time": "2023-12-12T11:33:55.279Z"
   },
   {
    "duration": 378,
    "start_time": "2023-12-12T11:34:27.683Z"
   },
   {
    "duration": 138,
    "start_time": "2023-12-12T11:39:51.326Z"
   },
   {
    "duration": 381,
    "start_time": "2023-12-12T11:39:59.506Z"
   },
   {
    "duration": 473,
    "start_time": "2023-12-12T11:40:51.822Z"
   },
   {
    "duration": 494,
    "start_time": "2023-12-12T11:41:12.608Z"
   },
   {
    "duration": 518,
    "start_time": "2023-12-12T11:42:03.240Z"
   },
   {
    "duration": 8,
    "start_time": "2023-12-12T11:42:39.219Z"
   },
   {
    "duration": 56,
    "start_time": "2023-12-12T11:45:38.957Z"
   },
   {
    "duration": 646,
    "start_time": "2023-12-12T11:45:41.339Z"
   },
   {
    "duration": 487,
    "start_time": "2023-12-12T11:45:54.010Z"
   },
   {
    "duration": 8,
    "start_time": "2023-12-12T11:46:12.101Z"
   },
   {
    "duration": 9,
    "start_time": "2023-12-12T11:53:52.239Z"
   },
   {
    "duration": 8,
    "start_time": "2023-12-12T11:54:06.586Z"
   },
   {
    "duration": 4,
    "start_time": "2023-12-12T11:58:12.634Z"
   },
   {
    "duration": 56,
    "start_time": "2023-12-12T13:11:28.972Z"
   },
   {
    "duration": 129,
    "start_time": "2023-12-12T13:11:34.413Z"
   },
   {
    "duration": 20,
    "start_time": "2023-12-12T13:14:51.976Z"
   },
   {
    "duration": 32,
    "start_time": "2023-12-12T13:18:54.535Z"
   },
   {
    "duration": 14,
    "start_time": "2023-12-12T13:40:01.654Z"
   },
   {
    "duration": 6,
    "start_time": "2023-12-12T13:40:16.779Z"
   },
   {
    "duration": 3,
    "start_time": "2023-12-12T13:40:36.232Z"
   },
   {
    "duration": 215,
    "start_time": "2023-12-12T13:40:36.237Z"
   },
   {
    "duration": 21,
    "start_time": "2023-12-12T13:40:36.453Z"
   },
   {
    "duration": 4,
    "start_time": "2023-12-12T13:40:36.475Z"
   },
   {
    "duration": 158,
    "start_time": "2023-12-12T13:40:36.480Z"
   },
   {
    "duration": 103,
    "start_time": "2023-12-12T13:40:36.639Z"
   },
   {
    "duration": 124,
    "start_time": "2023-12-12T13:40:36.743Z"
   },
   {
    "duration": 62,
    "start_time": "2023-12-12T13:40:36.869Z"
   },
   {
    "duration": 44,
    "start_time": "2023-12-12T13:40:36.932Z"
   },
   {
    "duration": 17,
    "start_time": "2023-12-12T13:40:36.978Z"
   },
   {
    "duration": 36,
    "start_time": "2023-12-12T13:40:36.997Z"
   },
   {
    "duration": 47,
    "start_time": "2023-12-12T13:40:37.035Z"
   },
   {
    "duration": 81,
    "start_time": "2023-12-12T13:40:37.083Z"
   },
   {
    "duration": 4,
    "start_time": "2023-12-12T13:40:37.167Z"
   },
   {
    "duration": 19,
    "start_time": "2023-12-12T13:40:37.173Z"
   },
   {
    "duration": 7,
    "start_time": "2023-12-12T13:40:37.193Z"
   },
   {
    "duration": 35,
    "start_time": "2023-12-12T13:40:37.201Z"
   },
   {
    "duration": 254,
    "start_time": "2023-12-12T13:40:37.238Z"
   },
   {
    "duration": 11,
    "start_time": "2023-12-12T13:40:37.494Z"
   },
   {
    "duration": 5,
    "start_time": "2023-12-12T13:40:37.507Z"
   },
   {
    "duration": 10,
    "start_time": "2023-12-12T13:40:37.514Z"
   },
   {
    "duration": 13,
    "start_time": "2023-12-12T13:40:37.526Z"
   },
   {
    "duration": 27,
    "start_time": "2023-12-12T13:40:37.540Z"
   },
   {
    "duration": 32,
    "start_time": "2023-12-12T13:40:37.568Z"
   },
   {
    "duration": 83,
    "start_time": "2023-12-12T13:40:37.601Z"
   },
   {
    "duration": 498,
    "start_time": "2023-12-12T13:40:37.686Z"
   },
   {
    "duration": 7,
    "start_time": "2023-12-12T13:40:38.185Z"
   },
   {
    "duration": 128,
    "start_time": "2023-12-12T13:42:04.274Z"
   },
   {
    "duration": 50,
    "start_time": "2023-12-12T13:42:32.648Z"
   },
   {
    "duration": 129,
    "start_time": "2023-12-12T13:42:36.797Z"
   },
   {
    "duration": 49,
    "start_time": "2023-12-12T13:42:45.490Z"
   },
   {
    "duration": 69,
    "start_time": "2023-12-12T13:42:47.964Z"
   },
   {
    "duration": 126,
    "start_time": "2023-12-12T13:42:50.614Z"
   },
   {
    "duration": 18,
    "start_time": "2023-12-12T13:43:08.046Z"
   },
   {
    "duration": 66,
    "start_time": "2023-12-12T13:43:30.782Z"
   },
   {
    "duration": 18,
    "start_time": "2023-12-12T13:43:37.940Z"
   },
   {
    "duration": 9,
    "start_time": "2023-12-12T13:46:30.620Z"
   },
   {
    "duration": 8,
    "start_time": "2023-12-12T13:46:34.388Z"
   },
   {
    "duration": 4,
    "start_time": "2023-12-12T13:46:38.302Z"
   },
   {
    "duration": 4,
    "start_time": "2023-12-12T13:46:41.394Z"
   },
   {
    "duration": 9,
    "start_time": "2023-12-12T13:46:45.372Z"
   },
   {
    "duration": 5,
    "start_time": "2023-12-12T13:46:49.531Z"
   },
   {
    "duration": 8,
    "start_time": "2023-12-12T13:47:11.369Z"
   },
   {
    "duration": 9,
    "start_time": "2023-12-12T13:47:25.759Z"
   },
   {
    "duration": 5,
    "start_time": "2023-12-12T13:48:02.239Z"
   },
   {
    "duration": 6,
    "start_time": "2023-12-12T13:49:02.022Z"
   },
   {
    "duration": 6,
    "start_time": "2023-12-12T13:50:16.375Z"
   },
   {
    "duration": 5,
    "start_time": "2023-12-12T13:50:23.391Z"
   },
   {
    "duration": 5,
    "start_time": "2023-12-12T13:51:55.996Z"
   },
   {
    "duration": 4,
    "start_time": "2023-12-12T13:52:18.494Z"
   },
   {
    "duration": 19,
    "start_time": "2023-12-12T13:53:56.572Z"
   },
   {
    "duration": 18,
    "start_time": "2023-12-12T13:54:03.229Z"
   },
   {
    "duration": 1070,
    "start_time": "2023-12-12T14:17:17.008Z"
   },
   {
    "duration": 180,
    "start_time": "2023-12-12T14:17:18.080Z"
   },
   {
    "duration": 21,
    "start_time": "2023-12-12T14:17:18.261Z"
   },
   {
    "duration": 31,
    "start_time": "2023-12-12T14:17:18.284Z"
   },
   {
    "duration": 173,
    "start_time": "2023-12-12T14:17:18.317Z"
   },
   {
    "duration": 107,
    "start_time": "2023-12-12T14:17:18.492Z"
   },
   {
    "duration": 155,
    "start_time": "2023-12-12T14:17:18.600Z"
   },
   {
    "duration": 88,
    "start_time": "2023-12-12T14:17:18.757Z"
   },
   {
    "duration": 34,
    "start_time": "2023-12-12T14:17:18.855Z"
   },
   {
    "duration": 18,
    "start_time": "2023-12-12T14:17:18.891Z"
   },
   {
    "duration": 58,
    "start_time": "2023-12-12T14:17:18.910Z"
   },
   {
    "duration": 35,
    "start_time": "2023-12-12T14:17:18.969Z"
   },
   {
    "duration": 82,
    "start_time": "2023-12-12T14:17:19.006Z"
   },
   {
    "duration": 5,
    "start_time": "2023-12-12T14:17:19.091Z"
   },
   {
    "duration": 21,
    "start_time": "2023-12-12T14:17:19.098Z"
   },
   {
    "duration": 56,
    "start_time": "2023-12-12T14:17:19.120Z"
   },
   {
    "duration": 315,
    "start_time": "2023-12-12T14:17:19.177Z"
   },
   {
    "duration": 13,
    "start_time": "2023-12-12T14:17:19.494Z"
   },
   {
    "duration": 16,
    "start_time": "2023-12-12T14:17:19.508Z"
   },
   {
    "duration": 40,
    "start_time": "2023-12-12T14:17:19.526Z"
   },
   {
    "duration": 33,
    "start_time": "2023-12-12T14:17:19.568Z"
   },
   {
    "duration": 78,
    "start_time": "2023-12-12T14:17:19.603Z"
   },
   {
    "duration": 550,
    "start_time": "2023-12-12T14:17:19.682Z"
   },
   {
    "duration": 9,
    "start_time": "2023-12-12T14:17:20.234Z"
   },
   {
    "duration": 5,
    "start_time": "2023-12-12T14:27:46.667Z"
   },
   {
    "duration": 9,
    "start_time": "2023-12-12T14:27:50.476Z"
   },
   {
    "duration": 9,
    "start_time": "2023-12-12T14:28:24.797Z"
   },
   {
    "duration": 4,
    "start_time": "2023-12-12T14:28:38.749Z"
   },
   {
    "duration": 8,
    "start_time": "2023-12-12T14:28:40.343Z"
   },
   {
    "duration": 5,
    "start_time": "2023-12-12T14:32:02.304Z"
   },
   {
    "duration": 7,
    "start_time": "2023-12-12T14:32:04.980Z"
   },
   {
    "duration": 4,
    "start_time": "2023-12-12T14:32:36.023Z"
   },
   {
    "duration": 8,
    "start_time": "2023-12-12T14:32:38.784Z"
   },
   {
    "duration": 5,
    "start_time": "2023-12-12T14:36:07.894Z"
   },
   {
    "duration": 8,
    "start_time": "2023-12-12T14:36:15.573Z"
   },
   {
    "duration": 9,
    "start_time": "2023-12-12T14:36:33.316Z"
   },
   {
    "duration": 79,
    "start_time": "2023-12-12T14:36:51.244Z"
   },
   {
    "duration": 3,
    "start_time": "2023-12-12T14:36:54.005Z"
   },
   {
    "duration": 195,
    "start_time": "2023-12-12T14:36:54.011Z"
   },
   {
    "duration": 20,
    "start_time": "2023-12-12T14:36:54.208Z"
   },
   {
    "duration": 33,
    "start_time": "2023-12-12T14:36:54.229Z"
   },
   {
    "duration": 176,
    "start_time": "2023-12-12T14:36:54.264Z"
   },
   {
    "duration": 100,
    "start_time": "2023-12-12T14:36:54.442Z"
   },
   {
    "duration": 121,
    "start_time": "2023-12-12T14:36:54.543Z"
   },
   {
    "duration": 63,
    "start_time": "2023-12-12T14:36:54.665Z"
   },
   {
    "duration": 41,
    "start_time": "2023-12-12T14:36:54.730Z"
   },
   {
    "duration": 17,
    "start_time": "2023-12-12T14:36:54.773Z"
   },
   {
    "duration": 50,
    "start_time": "2023-12-12T14:36:54.791Z"
   },
   {
    "duration": 37,
    "start_time": "2023-12-12T14:36:54.842Z"
   },
   {
    "duration": 82,
    "start_time": "2023-12-12T14:36:54.880Z"
   },
   {
    "duration": 4,
    "start_time": "2023-12-12T14:36:54.964Z"
   },
   {
    "duration": 70,
    "start_time": "2023-12-12T14:36:54.970Z"
   },
   {
    "duration": 73,
    "start_time": "2023-12-12T14:36:55.041Z"
   },
   {
    "duration": 236,
    "start_time": "2023-12-12T14:36:55.116Z"
   },
   {
    "duration": 10,
    "start_time": "2023-12-12T14:36:55.354Z"
   },
   {
    "duration": 36,
    "start_time": "2023-12-12T14:36:55.365Z"
   },
   {
    "duration": 49,
    "start_time": "2023-12-12T14:36:55.403Z"
   },
   {
    "duration": 39,
    "start_time": "2023-12-12T14:36:55.453Z"
   },
   {
    "duration": 64,
    "start_time": "2023-12-12T14:36:55.493Z"
   },
   {
    "duration": 528,
    "start_time": "2023-12-12T14:36:55.558Z"
   },
   {
    "duration": 8,
    "start_time": "2023-12-12T14:36:56.088Z"
   },
   {
    "duration": 24,
    "start_time": "2023-12-12T14:36:56.098Z"
   },
   {
    "duration": 36,
    "start_time": "2023-12-12T14:36:56.123Z"
   },
   {
    "duration": 95,
    "start_time": "2023-12-12T14:58:38.455Z"
   },
   {
    "duration": 99,
    "start_time": "2023-12-12T14:58:43.942Z"
   },
   {
    "duration": 13,
    "start_time": "2023-12-12T14:58:56.030Z"
   },
   {
    "duration": 210,
    "start_time": "2023-12-12T14:59:10.682Z"
   },
   {
    "duration": 136,
    "start_time": "2023-12-12T14:59:13.428Z"
   },
   {
    "duration": 88,
    "start_time": "2023-12-12T15:00:01.062Z"
   },
   {
    "duration": 42,
    "start_time": "2023-12-12T15:00:10.283Z"
   },
   {
    "duration": 37,
    "start_time": "2023-12-12T15:01:10.139Z"
   },
   {
    "duration": 39,
    "start_time": "2023-12-12T15:01:13.965Z"
   },
   {
    "duration": 38,
    "start_time": "2023-12-12T15:01:59.730Z"
   },
   {
    "duration": 47,
    "start_time": "2023-12-12T15:05:19.924Z"
   },
   {
    "duration": 57,
    "start_time": "2023-12-12T15:06:02.941Z"
   },
   {
    "duration": 11,
    "start_time": "2023-12-12T15:06:20.855Z"
   },
   {
    "duration": 46,
    "start_time": "2023-12-12T15:06:26.786Z"
   },
   {
    "duration": 43,
    "start_time": "2023-12-12T15:06:48.104Z"
   },
   {
    "duration": 48,
    "start_time": "2023-12-12T15:06:55.277Z"
   },
   {
    "duration": 51,
    "start_time": "2023-12-12T15:07:05.801Z"
   },
   {
    "duration": 48,
    "start_time": "2023-12-12T15:07:11.122Z"
   },
   {
    "duration": 3,
    "start_time": "2023-12-12T15:10:32.628Z"
   },
   {
    "duration": 17,
    "start_time": "2023-12-12T15:13:42.932Z"
   },
   {
    "duration": 5,
    "start_time": "2023-12-12T15:14:14.019Z"
   },
   {
    "duration": 9,
    "start_time": "2023-12-12T15:14:19.909Z"
   },
   {
    "duration": 8,
    "start_time": "2023-12-12T15:14:47.875Z"
   },
   {
    "duration": 3,
    "start_time": "2023-12-12T15:15:47.928Z"
   },
   {
    "duration": 172,
    "start_time": "2023-12-12T15:15:47.933Z"
   },
   {
    "duration": 19,
    "start_time": "2023-12-12T15:15:48.106Z"
   },
   {
    "duration": 43,
    "start_time": "2023-12-12T15:15:48.127Z"
   },
   {
    "duration": 151,
    "start_time": "2023-12-12T15:15:48.172Z"
   },
   {
    "duration": 105,
    "start_time": "2023-12-12T15:15:48.324Z"
   },
   {
    "duration": 116,
    "start_time": "2023-12-12T15:15:48.430Z"
   },
   {
    "duration": 66,
    "start_time": "2023-12-12T15:15:48.548Z"
   },
   {
    "duration": 42,
    "start_time": "2023-12-12T15:15:48.616Z"
   },
   {
    "duration": 17,
    "start_time": "2023-12-12T15:15:48.660Z"
   },
   {
    "duration": 44,
    "start_time": "2023-12-12T15:15:48.679Z"
   },
   {
    "duration": 50,
    "start_time": "2023-12-12T15:15:48.725Z"
   },
   {
    "duration": 70,
    "start_time": "2023-12-12T15:15:48.776Z"
   },
   {
    "duration": 9,
    "start_time": "2023-12-12T15:15:48.848Z"
   },
   {
    "duration": 59,
    "start_time": "2023-12-12T15:15:48.859Z"
   },
   {
    "duration": 49,
    "start_time": "2023-12-12T15:15:48.920Z"
   },
   {
    "duration": 328,
    "start_time": "2023-12-12T15:15:48.970Z"
   },
   {
    "duration": 11,
    "start_time": "2023-12-12T15:15:49.300Z"
   },
   {
    "duration": 35,
    "start_time": "2023-12-12T15:15:49.312Z"
   },
   {
    "duration": 21,
    "start_time": "2023-12-12T15:15:49.349Z"
   },
   {
    "duration": 133,
    "start_time": "2023-12-12T15:15:49.372Z"
   },
   {
    "duration": 59,
    "start_time": "2023-12-12T15:15:49.506Z"
   },
   {
    "duration": 527,
    "start_time": "2023-12-12T15:15:49.566Z"
   },
   {
    "duration": 7,
    "start_time": "2023-12-12T15:15:50.095Z"
   },
   {
    "duration": 34,
    "start_time": "2023-12-12T15:15:50.103Z"
   },
   {
    "duration": 24,
    "start_time": "2023-12-12T15:15:50.139Z"
   },
   {
    "duration": 21,
    "start_time": "2023-12-12T15:15:50.164Z"
   },
   {
    "duration": 16,
    "start_time": "2023-12-12T15:37:53.959Z"
   },
   {
    "duration": 16,
    "start_time": "2023-12-12T15:38:05.462Z"
   },
   {
    "duration": 8,
    "start_time": "2023-12-12T15:38:28.796Z"
   },
   {
    "duration": 1505,
    "start_time": "2023-12-12T17:55:23.485Z"
   },
   {
    "duration": 508,
    "start_time": "2023-12-12T17:55:24.992Z"
   },
   {
    "duration": 23,
    "start_time": "2023-12-12T17:55:25.501Z"
   },
   {
    "duration": 6,
    "start_time": "2023-12-12T17:55:25.526Z"
   },
   {
    "duration": 189,
    "start_time": "2023-12-12T17:55:25.534Z"
   },
   {
    "duration": 122,
    "start_time": "2023-12-12T17:55:25.724Z"
   },
   {
    "duration": 164,
    "start_time": "2023-12-12T17:55:25.848Z"
   },
   {
    "duration": 98,
    "start_time": "2023-12-12T17:55:26.014Z"
   },
   {
    "duration": 37,
    "start_time": "2023-12-12T17:55:26.114Z"
   },
   {
    "duration": 34,
    "start_time": "2023-12-12T17:55:26.154Z"
   },
   {
    "duration": 40,
    "start_time": "2023-12-12T17:55:26.190Z"
   },
   {
    "duration": 35,
    "start_time": "2023-12-12T17:55:26.232Z"
   },
   {
    "duration": 93,
    "start_time": "2023-12-12T17:55:26.269Z"
   },
   {
    "duration": 4,
    "start_time": "2023-12-12T17:55:26.364Z"
   },
   {
    "duration": 22,
    "start_time": "2023-12-12T17:55:26.370Z"
   },
   {
    "duration": 52,
    "start_time": "2023-12-12T17:55:26.394Z"
   },
   {
    "duration": 366,
    "start_time": "2023-12-12T17:55:26.448Z"
   },
   {
    "duration": 13,
    "start_time": "2023-12-12T17:55:26.816Z"
   },
   {
    "duration": 17,
    "start_time": "2023-12-12T17:55:26.830Z"
   },
   {
    "duration": 45,
    "start_time": "2023-12-12T17:55:26.848Z"
   },
   {
    "duration": 35,
    "start_time": "2023-12-12T17:55:26.895Z"
   },
   {
    "duration": 81,
    "start_time": "2023-12-12T17:55:26.932Z"
   },
   {
    "duration": 636,
    "start_time": "2023-12-12T17:55:27.014Z"
   },
   {
    "duration": 8,
    "start_time": "2023-12-12T17:55:27.653Z"
   },
   {
    "duration": 14,
    "start_time": "2023-12-12T17:55:27.663Z"
   },
   {
    "duration": 19,
    "start_time": "2023-12-12T17:55:27.679Z"
   },
   {
    "duration": 161,
    "start_time": "2023-12-12T17:55:27.700Z"
   },
   {
    "duration": 40,
    "start_time": "2023-12-12T17:57:54.335Z"
   },
   {
    "duration": 1328,
    "start_time": "2023-12-13T08:42:51.604Z"
   },
   {
    "duration": 535,
    "start_time": "2023-12-13T08:42:52.934Z"
   },
   {
    "duration": 24,
    "start_time": "2023-12-13T08:42:53.471Z"
   },
   {
    "duration": 3,
    "start_time": "2023-12-13T08:42:53.497Z"
   },
   {
    "duration": 160,
    "start_time": "2023-12-13T08:42:53.501Z"
   },
   {
    "duration": 113,
    "start_time": "2023-12-13T08:42:53.662Z"
   },
   {
    "duration": 148,
    "start_time": "2023-12-13T08:42:53.776Z"
   },
   {
    "duration": 81,
    "start_time": "2023-12-13T08:42:53.926Z"
   },
   {
    "duration": 43,
    "start_time": "2023-12-13T08:42:54.009Z"
   },
   {
    "duration": 17,
    "start_time": "2023-12-13T08:42:54.055Z"
   },
   {
    "duration": 36,
    "start_time": "2023-12-13T08:42:54.073Z"
   },
   {
    "duration": 51,
    "start_time": "2023-12-13T08:42:54.110Z"
   },
   {
    "duration": 68,
    "start_time": "2023-12-13T08:42:54.162Z"
   },
   {
    "duration": 4,
    "start_time": "2023-12-13T08:42:54.231Z"
   },
   {
    "duration": 5,
    "start_time": "2023-12-13T08:42:54.252Z"
   },
   {
    "duration": 36,
    "start_time": "2023-12-13T08:42:54.258Z"
   },
   {
    "duration": 346,
    "start_time": "2023-12-13T08:42:54.295Z"
   },
   {
    "duration": 20,
    "start_time": "2023-12-13T08:42:54.642Z"
   },
   {
    "duration": 12,
    "start_time": "2023-12-13T08:42:54.663Z"
   },
   {
    "duration": 37,
    "start_time": "2023-12-13T08:42:54.677Z"
   },
   {
    "duration": 66,
    "start_time": "2023-12-13T08:42:54.716Z"
   },
   {
    "duration": 538,
    "start_time": "2023-12-13T08:42:54.784Z"
   },
   {
    "duration": 8,
    "start_time": "2023-12-13T08:42:55.324Z"
   },
   {
    "duration": 16,
    "start_time": "2023-12-13T08:42:55.333Z"
   },
   {
    "duration": 15,
    "start_time": "2023-12-13T08:42:55.352Z"
   },
   {
    "duration": 146,
    "start_time": "2023-12-13T08:42:55.368Z"
   },
   {
    "duration": 50,
    "start_time": "2023-12-13T08:42:55.516Z"
   },
   {
    "duration": 1279,
    "start_time": "2023-12-13T10:00:04.230Z"
   },
   {
    "duration": 191,
    "start_time": "2023-12-13T10:00:05.511Z"
   },
   {
    "duration": 23,
    "start_time": "2023-12-13T10:00:05.704Z"
   },
   {
    "duration": 69,
    "start_time": "2023-12-13T10:00:05.729Z"
   },
   {
    "duration": 199,
    "start_time": "2023-12-13T10:00:05.801Z"
   },
   {
    "duration": 114,
    "start_time": "2023-12-13T10:00:06.002Z"
   },
   {
    "duration": 198,
    "start_time": "2023-12-13T10:00:06.117Z"
   },
   {
    "duration": 93,
    "start_time": "2023-12-13T10:00:06.317Z"
   },
   {
    "duration": 66,
    "start_time": "2023-12-13T10:00:06.412Z"
   },
   {
    "duration": 22,
    "start_time": "2023-12-13T10:00:06.481Z"
   },
   {
    "duration": 52,
    "start_time": "2023-12-13T10:00:06.505Z"
   },
   {
    "duration": 32,
    "start_time": "2023-12-13T10:00:06.558Z"
   },
   {
    "duration": 83,
    "start_time": "2023-12-13T10:00:06.591Z"
   },
   {
    "duration": 5,
    "start_time": "2023-12-13T10:00:06.677Z"
   },
   {
    "duration": 18,
    "start_time": "2023-12-13T10:00:06.683Z"
   },
   {
    "duration": 56,
    "start_time": "2023-12-13T10:00:06.703Z"
   },
   {
    "duration": 332,
    "start_time": "2023-12-13T10:00:06.761Z"
   },
   {
    "duration": 12,
    "start_time": "2023-12-13T10:00:07.095Z"
   },
   {
    "duration": 5,
    "start_time": "2023-12-13T10:00:07.109Z"
   },
   {
    "duration": 54,
    "start_time": "2023-12-13T10:00:07.115Z"
   },
   {
    "duration": 102,
    "start_time": "2023-12-13T10:00:07.171Z"
   },
   {
    "duration": 609,
    "start_time": "2023-12-13T10:00:07.274Z"
   },
   {
    "duration": 8,
    "start_time": "2023-12-13T10:00:07.885Z"
   },
   {
    "duration": 26,
    "start_time": "2023-12-13T10:00:07.895Z"
   },
   {
    "duration": 26,
    "start_time": "2023-12-13T10:00:07.923Z"
   },
   {
    "duration": 153,
    "start_time": "2023-12-13T10:00:07.951Z"
   },
   {
    "duration": 57,
    "start_time": "2023-12-13T10:00:08.106Z"
   },
   {
    "duration": 105,
    "start_time": "2023-12-13T10:37:57.485Z"
   },
   {
    "duration": 4,
    "start_time": "2023-12-13T10:38:33.012Z"
   },
   {
    "duration": 90,
    "start_time": "2023-12-13T10:39:16.324Z"
   },
   {
    "duration": 4,
    "start_time": "2023-12-13T10:39:19.234Z"
   },
   {
    "duration": 18,
    "start_time": "2023-12-13T10:46:20.794Z"
   },
   {
    "duration": 96,
    "start_time": "2023-12-13T10:46:52.930Z"
   },
   {
    "duration": 58,
    "start_time": "2023-12-13T10:47:00.850Z"
   },
   {
    "duration": 1263,
    "start_time": "2023-12-13T10:47:28.208Z"
   },
   {
    "duration": 78,
    "start_time": "2023-12-13T10:48:23.709Z"
   },
   {
    "duration": 27,
    "start_time": "2023-12-13T10:48:28.056Z"
   },
   {
    "duration": 26,
    "start_time": "2023-12-13T10:48:34.128Z"
   },
   {
    "duration": 32,
    "start_time": "2023-12-13T10:49:05.558Z"
   },
   {
    "duration": 41,
    "start_time": "2023-12-13T10:49:18.607Z"
   },
   {
    "duration": 10,
    "start_time": "2023-12-13T10:49:24.965Z"
   },
   {
    "duration": 7,
    "start_time": "2023-12-13T10:49:38.039Z"
   },
   {
    "duration": 4,
    "start_time": "2023-12-13T10:53:46.306Z"
   },
   {
    "duration": 5,
    "start_time": "2023-12-13T10:54:29.194Z"
   },
   {
    "duration": 51,
    "start_time": "2023-12-13T11:46:56.768Z"
   },
   {
    "duration": 5,
    "start_time": "2023-12-13T11:47:00.362Z"
   },
   {
    "duration": 5,
    "start_time": "2023-12-13T11:47:14.951Z"
   },
   {
    "duration": 10,
    "start_time": "2023-12-13T11:54:21.598Z"
   },
   {
    "duration": 1531,
    "start_time": "2023-12-13T11:54:36.626Z"
   },
   {
    "duration": 56,
    "start_time": "2023-12-13T11:57:21.346Z"
   },
   {
    "duration": 7,
    "start_time": "2023-12-13T11:57:26.825Z"
   },
   {
    "duration": 138,
    "start_time": "2023-12-13T11:57:34.403Z"
   },
   {
    "duration": 14,
    "start_time": "2023-12-13T11:58:08.373Z"
   },
   {
    "duration": 200,
    "start_time": "2023-12-13T11:58:20.082Z"
   },
   {
    "duration": 125,
    "start_time": "2023-12-13T11:58:39.834Z"
   },
   {
    "duration": 137,
    "start_time": "2023-12-13T11:58:58.806Z"
   },
   {
    "duration": 4,
    "start_time": "2023-12-13T12:03:31.973Z"
   },
   {
    "duration": 4,
    "start_time": "2023-12-13T12:04:25.340Z"
   },
   {
    "duration": 5,
    "start_time": "2023-12-13T12:13:24.465Z"
   },
   {
    "duration": 4,
    "start_time": "2023-12-13T12:13:30.120Z"
   },
   {
    "duration": 4,
    "start_time": "2023-12-13T12:13:38.195Z"
   },
   {
    "duration": 9,
    "start_time": "2023-12-13T12:13:42.453Z"
   },
   {
    "duration": 5,
    "start_time": "2023-12-13T12:13:48.172Z"
   },
   {
    "duration": 8,
    "start_time": "2023-12-13T12:40:53.439Z"
   },
   {
    "duration": 12,
    "start_time": "2023-12-13T12:41:22.913Z"
   },
   {
    "duration": 1368,
    "start_time": "2023-12-13T14:12:51.550Z"
   },
   {
    "duration": 504,
    "start_time": "2023-12-13T14:12:52.920Z"
   },
   {
    "duration": 25,
    "start_time": "2023-12-13T14:12:53.425Z"
   },
   {
    "duration": 10,
    "start_time": "2023-12-13T14:12:53.451Z"
   },
   {
    "duration": 173,
    "start_time": "2023-12-13T14:12:53.463Z"
   },
   {
    "duration": 107,
    "start_time": "2023-12-13T14:12:53.637Z"
   },
   {
    "duration": 154,
    "start_time": "2023-12-13T14:12:53.751Z"
   },
   {
    "duration": 88,
    "start_time": "2023-12-13T14:12:53.907Z"
   },
   {
    "duration": 35,
    "start_time": "2023-12-13T14:12:53.997Z"
   },
   {
    "duration": 29,
    "start_time": "2023-12-13T14:12:54.034Z"
   },
   {
    "duration": 36,
    "start_time": "2023-12-13T14:12:54.064Z"
   },
   {
    "duration": 54,
    "start_time": "2023-12-13T14:12:54.102Z"
   },
   {
    "duration": 71,
    "start_time": "2023-12-13T14:12:54.158Z"
   },
   {
    "duration": 4,
    "start_time": "2023-12-13T14:12:54.232Z"
   },
   {
    "duration": 5,
    "start_time": "2023-12-13T14:12:54.252Z"
   },
   {
    "duration": 51,
    "start_time": "2023-12-13T14:12:54.259Z"
   },
   {
    "duration": 325,
    "start_time": "2023-12-13T14:12:54.312Z"
   },
   {
    "duration": 13,
    "start_time": "2023-12-13T14:12:54.639Z"
   },
   {
    "duration": 9,
    "start_time": "2023-12-13T14:12:54.654Z"
   },
   {
    "duration": 28,
    "start_time": "2023-12-13T14:12:54.665Z"
   },
   {
    "duration": 63,
    "start_time": "2023-12-13T14:12:54.694Z"
   },
   {
    "duration": 566,
    "start_time": "2023-12-13T14:12:54.758Z"
   },
   {
    "duration": 8,
    "start_time": "2023-12-13T14:12:55.325Z"
   },
   {
    "duration": 10,
    "start_time": "2023-12-13T14:12:55.335Z"
   },
   {
    "duration": 20,
    "start_time": "2023-12-13T14:12:55.351Z"
   },
   {
    "duration": 148,
    "start_time": "2023-12-13T14:12:55.373Z"
   },
   {
    "duration": 58,
    "start_time": "2023-12-13T14:12:55.523Z"
   },
   {
    "duration": 4,
    "start_time": "2023-12-13T14:12:55.583Z"
   },
   {
    "duration": 103,
    "start_time": "2023-12-13T14:12:55.588Z"
   },
   {
    "duration": 0,
    "start_time": "2023-12-13T14:12:55.693Z"
   },
   {
    "duration": 0,
    "start_time": "2023-12-13T14:12:55.694Z"
   },
   {
    "duration": 0,
    "start_time": "2023-12-13T14:12:55.695Z"
   },
   {
    "duration": 0,
    "start_time": "2023-12-13T14:12:55.697Z"
   },
   {
    "duration": 0,
    "start_time": "2023-12-13T14:12:55.698Z"
   },
   {
    "duration": 0,
    "start_time": "2023-12-13T14:12:55.699Z"
   },
   {
    "duration": 3,
    "start_time": "2023-12-13T14:13:05.813Z"
   },
   {
    "duration": 169,
    "start_time": "2023-12-13T14:13:05.817Z"
   },
   {
    "duration": 18,
    "start_time": "2023-12-13T14:13:05.987Z"
   },
   {
    "duration": 19,
    "start_time": "2023-12-13T14:13:06.006Z"
   },
   {
    "duration": 169,
    "start_time": "2023-12-13T14:13:06.026Z"
   },
   {
    "duration": 107,
    "start_time": "2023-12-13T14:13:06.196Z"
   },
   {
    "duration": 117,
    "start_time": "2023-12-13T14:13:06.304Z"
   },
   {
    "duration": 73,
    "start_time": "2023-12-13T14:13:06.423Z"
   },
   {
    "duration": 32,
    "start_time": "2023-12-13T14:13:06.497Z"
   },
   {
    "duration": 32,
    "start_time": "2023-12-13T14:13:06.531Z"
   },
   {
    "duration": 34,
    "start_time": "2023-12-13T14:13:06.565Z"
   },
   {
    "duration": 32,
    "start_time": "2023-12-13T14:13:06.601Z"
   },
   {
    "duration": 88,
    "start_time": "2023-12-13T14:13:06.634Z"
   },
   {
    "duration": 4,
    "start_time": "2023-12-13T14:13:06.726Z"
   },
   {
    "duration": 5,
    "start_time": "2023-12-13T14:13:06.731Z"
   },
   {
    "duration": 45,
    "start_time": "2023-12-13T14:13:06.738Z"
   },
   {
    "duration": 247,
    "start_time": "2023-12-13T14:13:06.785Z"
   },
   {
    "duration": 19,
    "start_time": "2023-12-13T14:13:07.033Z"
   },
   {
    "duration": 4,
    "start_time": "2023-12-13T14:13:07.053Z"
   },
   {
    "duration": 20,
    "start_time": "2023-12-13T14:13:07.058Z"
   },
   {
    "duration": 56,
    "start_time": "2023-12-13T14:13:07.080Z"
   },
   {
    "duration": 557,
    "start_time": "2023-12-13T14:13:07.138Z"
   },
   {
    "duration": 7,
    "start_time": "2023-12-13T14:13:07.696Z"
   },
   {
    "duration": 13,
    "start_time": "2023-12-13T14:13:07.705Z"
   },
   {
    "duration": 10,
    "start_time": "2023-12-13T14:13:07.719Z"
   },
   {
    "duration": 17,
    "start_time": "2023-12-13T14:13:07.730Z"
   },
   {
    "duration": 31,
    "start_time": "2023-12-13T14:13:07.751Z"
   },
   {
    "duration": 3,
    "start_time": "2023-12-13T14:13:07.783Z"
   },
   {
    "duration": 200,
    "start_time": "2023-12-13T14:13:07.787Z"
   },
   {
    "duration": 0,
    "start_time": "2023-12-13T14:13:07.988Z"
   },
   {
    "duration": 0,
    "start_time": "2023-12-13T14:13:07.989Z"
   },
   {
    "duration": 0,
    "start_time": "2023-12-13T14:13:07.990Z"
   },
   {
    "duration": 0,
    "start_time": "2023-12-13T14:13:07.991Z"
   },
   {
    "duration": 0,
    "start_time": "2023-12-13T14:13:07.992Z"
   },
   {
    "duration": 4,
    "start_time": "2023-12-13T14:13:36.890Z"
   },
   {
    "duration": 170,
    "start_time": "2023-12-13T14:13:36.895Z"
   },
   {
    "duration": 19,
    "start_time": "2023-12-13T14:13:37.066Z"
   },
   {
    "duration": 2,
    "start_time": "2023-12-13T14:13:37.087Z"
   },
   {
    "duration": 157,
    "start_time": "2023-12-13T14:13:37.091Z"
   },
   {
    "duration": 117,
    "start_time": "2023-12-13T14:13:37.251Z"
   },
   {
    "duration": 117,
    "start_time": "2023-12-13T14:13:37.370Z"
   },
   {
    "duration": 64,
    "start_time": "2023-12-13T14:13:37.489Z"
   },
   {
    "duration": 31,
    "start_time": "2023-12-13T14:13:37.555Z"
   },
   {
    "duration": 17,
    "start_time": "2023-12-13T14:13:37.588Z"
   },
   {
    "duration": 63,
    "start_time": "2023-12-13T14:13:37.606Z"
   },
   {
    "duration": 31,
    "start_time": "2023-12-13T14:13:37.671Z"
   },
   {
    "duration": 75,
    "start_time": "2023-12-13T14:13:37.704Z"
   },
   {
    "duration": 4,
    "start_time": "2023-12-13T14:13:37.783Z"
   },
   {
    "duration": 8,
    "start_time": "2023-12-13T14:13:37.788Z"
   },
   {
    "duration": 29,
    "start_time": "2023-12-13T14:13:37.797Z"
   },
   {
    "duration": 244,
    "start_time": "2023-12-13T14:13:37.828Z"
   },
   {
    "duration": 9,
    "start_time": "2023-12-13T14:13:38.074Z"
   },
   {
    "duration": 4,
    "start_time": "2023-12-13T14:13:38.084Z"
   },
   {
    "duration": 21,
    "start_time": "2023-12-13T14:13:38.089Z"
   },
   {
    "duration": 72,
    "start_time": "2023-12-13T14:13:38.111Z"
   },
   {
    "duration": 499,
    "start_time": "2023-12-13T14:13:38.184Z"
   },
   {
    "duration": 9,
    "start_time": "2023-12-13T14:13:38.685Z"
   },
   {
    "duration": 6,
    "start_time": "2023-12-13T14:13:38.695Z"
   },
   {
    "duration": 9,
    "start_time": "2023-12-13T14:13:38.702Z"
   },
   {
    "duration": 15,
    "start_time": "2023-12-13T14:13:38.712Z"
   },
   {
    "duration": 32,
    "start_time": "2023-12-13T14:13:38.751Z"
   },
   {
    "duration": 3,
    "start_time": "2023-12-13T14:13:38.785Z"
   },
   {
    "duration": 86,
    "start_time": "2023-12-13T14:13:38.789Z"
   },
   {
    "duration": 149,
    "start_time": "2023-12-13T14:13:38.877Z"
   },
   {
    "duration": 4,
    "start_time": "2023-12-13T14:13:39.028Z"
   },
   {
    "duration": 6,
    "start_time": "2023-12-13T14:13:39.033Z"
   },
   {
    "duration": 22,
    "start_time": "2023-12-13T14:13:39.040Z"
   },
   {
    "duration": 4,
    "start_time": "2023-12-13T14:41:25.353Z"
   },
   {
    "duration": 5,
    "start_time": "2023-12-13T14:43:08.506Z"
   },
   {
    "duration": 5,
    "start_time": "2023-12-13T14:45:11.656Z"
   },
   {
    "duration": 4,
    "start_time": "2023-12-13T14:47:23.706Z"
   },
   {
    "duration": 6,
    "start_time": "2023-12-13T14:47:57.776Z"
   },
   {
    "duration": 131,
    "start_time": "2023-12-13T14:48:33.690Z"
   },
   {
    "duration": 3,
    "start_time": "2023-12-13T14:51:29.297Z"
   },
   {
    "duration": 6,
    "start_time": "2023-12-13T14:51:35.248Z"
   },
   {
    "duration": 3,
    "start_time": "2023-12-13T14:51:39.549Z"
   },
   {
    "duration": 243,
    "start_time": "2023-12-13T14:52:35.011Z"
   },
   {
    "duration": 216,
    "start_time": "2023-12-13T14:52:40.260Z"
   },
   {
    "duration": 325,
    "start_time": "2023-12-13T14:52:53.970Z"
   },
   {
    "duration": 228,
    "start_time": "2023-12-13T14:52:58.921Z"
   },
   {
    "duration": 211,
    "start_time": "2023-12-13T14:53:01.187Z"
   },
   {
    "duration": 227,
    "start_time": "2023-12-13T14:53:16.445Z"
   },
   {
    "duration": 7,
    "start_time": "2023-12-13T14:54:55.580Z"
   },
   {
    "duration": 6,
    "start_time": "2023-12-13T14:55:07.594Z"
   },
   {
    "duration": 7,
    "start_time": "2023-12-13T15:02:00.425Z"
   },
   {
    "duration": 9,
    "start_time": "2023-12-13T15:03:02.846Z"
   },
   {
    "duration": 8,
    "start_time": "2023-12-13T15:07:18.493Z"
   },
   {
    "duration": 421,
    "start_time": "2023-12-13T15:10:02.973Z"
   },
   {
    "duration": 15,
    "start_time": "2023-12-13T15:10:20.040Z"
   },
   {
    "duration": 12,
    "start_time": "2023-12-13T15:11:34.676Z"
   },
   {
    "duration": 10,
    "start_time": "2023-12-13T15:12:06.114Z"
   },
   {
    "duration": 11,
    "start_time": "2023-12-13T15:12:16.488Z"
   },
   {
    "duration": 135,
    "start_time": "2023-12-13T15:15:40.948Z"
   },
   {
    "duration": 4,
    "start_time": "2023-12-13T15:16:26.202Z"
   },
   {
    "duration": 4,
    "start_time": "2023-12-13T15:16:31.178Z"
   },
   {
    "duration": 4,
    "start_time": "2023-12-13T15:16:35.447Z"
   },
   {
    "duration": 238,
    "start_time": "2023-12-13T15:18:22.030Z"
   },
   {
    "duration": 276,
    "start_time": "2023-12-13T15:18:46.219Z"
   },
   {
    "duration": 309,
    "start_time": "2023-12-13T15:18:56.811Z"
   },
   {
    "duration": 245,
    "start_time": "2023-12-13T15:19:22.973Z"
   },
   {
    "duration": 7,
    "start_time": "2023-12-13T15:20:12.821Z"
   },
   {
    "duration": 3,
    "start_time": "2023-12-13T15:20:16.799Z"
   },
   {
    "duration": 234,
    "start_time": "2023-12-13T15:20:17.872Z"
   },
   {
    "duration": 6,
    "start_time": "2023-12-13T15:20:19.774Z"
   },
   {
    "duration": 4,
    "start_time": "2023-12-13T15:20:56.987Z"
   },
   {
    "duration": 9,
    "start_time": "2023-12-13T15:21:11.128Z"
   },
   {
    "duration": 6,
    "start_time": "2023-12-13T15:21:48.361Z"
   },
   {
    "duration": 5,
    "start_time": "2023-12-13T15:22:19.400Z"
   },
   {
    "duration": 233,
    "start_time": "2023-12-13T15:23:50.660Z"
   },
   {
    "duration": 6,
    "start_time": "2023-12-13T15:23:59.173Z"
   },
   {
    "duration": 8,
    "start_time": "2023-12-13T15:26:01.674Z"
   },
   {
    "duration": 108,
    "start_time": "2023-12-13T15:31:10.766Z"
   },
   {
    "duration": 120,
    "start_time": "2023-12-13T15:32:14.743Z"
   },
   {
    "duration": 14,
    "start_time": "2023-12-13T15:36:25.950Z"
   },
   {
    "duration": 94,
    "start_time": "2023-12-13T15:38:34.637Z"
   },
   {
    "duration": 154,
    "start_time": "2023-12-13T15:39:00.006Z"
   },
   {
    "duration": 1919,
    "start_time": "2023-12-13T15:39:24.598Z"
   },
   {
    "duration": 260,
    "start_time": "2023-12-13T15:40:11.683Z"
   },
   {
    "duration": 18,
    "start_time": "2023-12-13T15:41:31.118Z"
   },
   {
    "duration": 142,
    "start_time": "2023-12-13T15:46:51.376Z"
   },
   {
    "duration": 152,
    "start_time": "2023-12-13T15:48:37.057Z"
   },
   {
    "duration": 162,
    "start_time": "2023-12-13T15:48:50.675Z"
   },
   {
    "duration": 144,
    "start_time": "2023-12-13T15:48:55.832Z"
   },
   {
    "duration": 162,
    "start_time": "2023-12-13T15:49:06.934Z"
   },
   {
    "duration": 8,
    "start_time": "2023-12-13T16:48:29.811Z"
   },
   {
    "duration": 4,
    "start_time": "2023-12-13T16:48:33.810Z"
   },
   {
    "duration": 181,
    "start_time": "2023-12-13T16:48:33.816Z"
   },
   {
    "duration": 19,
    "start_time": "2023-12-13T16:48:33.999Z"
   },
   {
    "duration": 13,
    "start_time": "2023-12-13T16:48:34.019Z"
   },
   {
    "duration": 156,
    "start_time": "2023-12-13T16:48:34.033Z"
   },
   {
    "duration": 99,
    "start_time": "2023-12-13T16:48:34.191Z"
   },
   {
    "duration": 110,
    "start_time": "2023-12-13T16:48:34.292Z"
   },
   {
    "duration": 67,
    "start_time": "2023-12-13T16:48:34.403Z"
   },
   {
    "duration": 31,
    "start_time": "2023-12-13T16:48:34.471Z"
   },
   {
    "duration": 17,
    "start_time": "2023-12-13T16:48:34.504Z"
   },
   {
    "duration": 60,
    "start_time": "2023-12-13T16:48:34.523Z"
   },
   {
    "duration": 31,
    "start_time": "2023-12-13T16:48:34.584Z"
   },
   {
    "duration": 88,
    "start_time": "2023-12-13T16:48:34.617Z"
   },
   {
    "duration": 4,
    "start_time": "2023-12-13T16:48:34.706Z"
   },
   {
    "duration": 10,
    "start_time": "2023-12-13T16:48:34.712Z"
   },
   {
    "duration": 47,
    "start_time": "2023-12-13T16:48:34.724Z"
   },
   {
    "duration": 356,
    "start_time": "2023-12-13T16:48:34.773Z"
   },
   {
    "duration": 8,
    "start_time": "2023-12-13T16:48:35.131Z"
   },
   {
    "duration": 13,
    "start_time": "2023-12-13T16:48:35.141Z"
   },
   {
    "duration": 22,
    "start_time": "2023-12-13T16:48:35.155Z"
   },
   {
    "duration": 76,
    "start_time": "2023-12-13T16:48:35.179Z"
   },
   {
    "duration": 518,
    "start_time": "2023-12-13T16:48:35.257Z"
   },
   {
    "duration": 7,
    "start_time": "2023-12-13T16:48:35.777Z"
   },
   {
    "duration": 7,
    "start_time": "2023-12-13T16:48:35.785Z"
   },
   {
    "duration": 12,
    "start_time": "2023-12-13T16:48:35.793Z"
   },
   {
    "duration": 9,
    "start_time": "2023-12-13T16:48:35.806Z"
   },
   {
    "duration": 54,
    "start_time": "2023-12-13T16:48:35.816Z"
   },
   {
    "duration": 3,
    "start_time": "2023-12-13T16:48:35.874Z"
   },
   {
    "duration": 90,
    "start_time": "2023-12-13T16:48:35.878Z"
   },
   {
    "duration": 4,
    "start_time": "2023-12-13T16:48:35.970Z"
   },
   {
    "duration": 235,
    "start_time": "2023-12-13T16:48:35.975Z"
   },
   {
    "duration": 6,
    "start_time": "2023-12-13T16:48:36.211Z"
   },
   {
    "duration": 39,
    "start_time": "2023-12-13T16:48:36.218Z"
   },
   {
    "duration": 38,
    "start_time": "2023-12-13T16:48:36.259Z"
   },
   {
    "duration": 13,
    "start_time": "2023-12-13T16:48:36.299Z"
   },
   {
    "duration": 247,
    "start_time": "2023-12-13T16:48:36.313Z"
   },
   {
    "duration": 6,
    "start_time": "2023-12-13T16:48:36.561Z"
   },
   {
    "duration": 9,
    "start_time": "2023-12-13T16:48:36.568Z"
   },
   {
    "duration": 265,
    "start_time": "2023-12-13T16:48:36.578Z"
   },
   {
    "duration": 21,
    "start_time": "2023-12-13T16:48:36.844Z"
   },
   {
    "duration": 160,
    "start_time": "2023-12-13T16:48:36.867Z"
   },
   {
    "duration": 12,
    "start_time": "2023-12-13T16:59:51.685Z"
   },
   {
    "duration": 4,
    "start_time": "2023-12-13T17:00:00.729Z"
   },
   {
    "duration": 3,
    "start_time": "2023-12-13T17:00:20.389Z"
   },
   {
    "duration": 12,
    "start_time": "2023-12-13T17:01:06.051Z"
   },
   {
    "duration": 1233,
    "start_time": "2023-12-13T17:01:12.766Z"
   },
   {
    "duration": 1273,
    "start_time": "2023-12-13T17:01:23.865Z"
   },
   {
    "duration": 1303,
    "start_time": "2023-12-13T17:01:33.005Z"
   },
   {
    "duration": 5,
    "start_time": "2023-12-13T17:07:52.894Z"
   },
   {
    "duration": 7,
    "start_time": "2023-12-13T17:10:35.447Z"
   },
   {
    "duration": 4,
    "start_time": "2023-12-13T17:10:39.807Z"
   },
   {
    "duration": 162,
    "start_time": "2023-12-13T17:10:39.813Z"
   },
   {
    "duration": 18,
    "start_time": "2023-12-13T17:10:39.977Z"
   },
   {
    "duration": 3,
    "start_time": "2023-12-13T17:10:39.997Z"
   },
   {
    "duration": 167,
    "start_time": "2023-12-13T17:10:40.002Z"
   },
   {
    "duration": 103,
    "start_time": "2023-12-13T17:10:40.170Z"
   },
   {
    "duration": 111,
    "start_time": "2023-12-13T17:10:40.274Z"
   },
   {
    "duration": 68,
    "start_time": "2023-12-13T17:10:40.386Z"
   },
   {
    "duration": 32,
    "start_time": "2023-12-13T17:10:40.455Z"
   },
   {
    "duration": 19,
    "start_time": "2023-12-13T17:10:40.488Z"
   },
   {
    "duration": 50,
    "start_time": "2023-12-13T17:10:40.509Z"
   },
   {
    "duration": 48,
    "start_time": "2023-12-13T17:10:40.560Z"
   },
   {
    "duration": 91,
    "start_time": "2023-12-13T17:10:40.610Z"
   },
   {
    "duration": 6,
    "start_time": "2023-12-13T17:10:40.705Z"
   },
   {
    "duration": 5,
    "start_time": "2023-12-13T17:10:40.713Z"
   },
   {
    "duration": 66,
    "start_time": "2023-12-13T17:10:40.720Z"
   },
   {
    "duration": 296,
    "start_time": "2023-12-13T17:10:40.788Z"
   },
   {
    "duration": 12,
    "start_time": "2023-12-13T17:10:41.086Z"
   },
   {
    "duration": 3,
    "start_time": "2023-12-13T17:10:41.100Z"
   },
   {
    "duration": 20,
    "start_time": "2023-12-13T17:10:41.105Z"
   },
   {
    "duration": 65,
    "start_time": "2023-12-13T17:10:41.127Z"
   },
   {
    "duration": 511,
    "start_time": "2023-12-13T17:10:41.194Z"
   },
   {
    "duration": 7,
    "start_time": "2023-12-13T17:10:41.706Z"
   },
   {
    "duration": 7,
    "start_time": "2023-12-13T17:10:41.715Z"
   },
   {
    "duration": 36,
    "start_time": "2023-12-13T17:10:41.723Z"
   },
   {
    "duration": 13,
    "start_time": "2023-12-13T17:10:41.760Z"
   },
   {
    "duration": 84,
    "start_time": "2023-12-13T17:10:41.774Z"
   },
   {
    "duration": 3,
    "start_time": "2023-12-13T17:10:41.859Z"
   },
   {
    "duration": 52,
    "start_time": "2023-12-13T17:10:41.863Z"
   },
   {
    "duration": 4,
    "start_time": "2023-12-13T17:10:41.917Z"
   },
   {
    "duration": 245,
    "start_time": "2023-12-13T17:10:41.922Z"
   },
   {
    "duration": 7,
    "start_time": "2023-12-13T17:10:42.169Z"
   },
   {
    "duration": 24,
    "start_time": "2023-12-13T17:10:42.177Z"
   },
   {
    "duration": 11,
    "start_time": "2023-12-13T17:10:42.203Z"
   },
   {
    "duration": 5,
    "start_time": "2023-12-13T17:10:42.215Z"
   },
   {
    "duration": 250,
    "start_time": "2023-12-13T17:10:42.221Z"
   },
   {
    "duration": 7,
    "start_time": "2023-12-13T17:10:42.473Z"
   },
   {
    "duration": 9,
    "start_time": "2023-12-13T17:10:42.482Z"
   },
   {
    "duration": 265,
    "start_time": "2023-12-13T17:10:42.492Z"
   },
   {
    "duration": 17,
    "start_time": "2023-12-13T17:10:42.759Z"
   },
   {
    "duration": 162,
    "start_time": "2023-12-13T17:10:42.780Z"
   },
   {
    "duration": 101,
    "start_time": "2023-12-13T17:10:42.943Z"
   },
   {
    "duration": 0,
    "start_time": "2023-12-13T17:10:43.045Z"
   },
   {
    "duration": 0,
    "start_time": "2023-12-13T17:10:43.047Z"
   },
   {
    "duration": 0,
    "start_time": "2023-12-13T17:10:43.047Z"
   },
   {
    "duration": 4,
    "start_time": "2023-12-13T17:16:02.086Z"
   },
   {
    "duration": 9,
    "start_time": "2023-12-13T17:16:26.096Z"
   },
   {
    "duration": 28480,
    "start_time": "2023-12-13T17:16:29.886Z"
   },
   {
    "duration": 74,
    "start_time": "2023-12-13T17:23:55.771Z"
   },
   {
    "duration": 4,
    "start_time": "2023-12-13T17:24:05.318Z"
   },
   {
    "duration": 6,
    "start_time": "2023-12-13T19:12:04.310Z"
   },
   {
    "duration": 5,
    "start_time": "2023-12-13T19:12:09.812Z"
   },
   {
    "duration": 17,
    "start_time": "2023-12-13T19:13:39.740Z"
   },
   {
    "duration": 47,
    "start_time": "2023-12-13T19:13:43.687Z"
   },
   {
    "duration": 50,
    "start_time": "2023-12-13T19:13:47.721Z"
   },
   {
    "duration": 121,
    "start_time": "2023-12-13T19:15:06.031Z"
   },
   {
    "duration": 50,
    "start_time": "2023-12-13T19:15:09.899Z"
   },
   {
    "duration": 57,
    "start_time": "2023-12-13T19:15:26.201Z"
   },
   {
    "duration": 7,
    "start_time": "2023-12-13T19:15:35.115Z"
   },
   {
    "duration": 61,
    "start_time": "2023-12-13T19:16:14.262Z"
   },
   {
    "duration": 6,
    "start_time": "2023-12-13T19:16:16.320Z"
   },
   {
    "duration": 8,
    "start_time": "2023-12-13T19:17:36.749Z"
   },
   {
    "duration": 4,
    "start_time": "2023-12-13T19:17:45.418Z"
   },
   {
    "duration": 15,
    "start_time": "2023-12-13T19:17:47.281Z"
   },
   {
    "duration": 3,
    "start_time": "2023-12-13T19:20:59.094Z"
   },
   {
    "duration": 13,
    "start_time": "2023-12-13T19:21:02.120Z"
   },
   {
    "duration": 9,
    "start_time": "2023-12-13T19:22:25.489Z"
   },
   {
    "duration": 10,
    "start_time": "2023-12-13T19:26:17.226Z"
   },
   {
    "duration": 9,
    "start_time": "2023-12-13T19:26:37.615Z"
   },
   {
    "duration": 4,
    "start_time": "2023-12-13T19:26:51.431Z"
   },
   {
    "duration": 4,
    "start_time": "2023-12-13T19:29:00.828Z"
   },
   {
    "duration": 1247,
    "start_time": "2023-12-13T19:29:06.106Z"
   },
   {
    "duration": 9,
    "start_time": "2023-12-13T19:30:05.382Z"
   },
   {
    "duration": 1308,
    "start_time": "2023-12-13T19:30:22.979Z"
   },
   {
    "duration": 69,
    "start_time": "2023-12-13T19:31:27.611Z"
   },
   {
    "duration": 3,
    "start_time": "2023-12-13T19:34:13.566Z"
   },
   {
    "duration": 7,
    "start_time": "2023-12-13T19:34:44.776Z"
   },
   {
    "duration": 58,
    "start_time": "2023-12-13T19:35:38.305Z"
   },
   {
    "duration": 6,
    "start_time": "2023-12-13T19:35:39.859Z"
   },
   {
    "duration": 4,
    "start_time": "2023-12-13T19:36:15.531Z"
   },
   {
    "duration": 4,
    "start_time": "2023-12-13T19:36:32.262Z"
   },
   {
    "duration": 68,
    "start_time": "2023-12-13T19:39:03.748Z"
   },
   {
    "duration": 67,
    "start_time": "2023-12-13T19:39:27.177Z"
   },
   {
    "duration": 77,
    "start_time": "2023-12-13T19:39:41.947Z"
   },
   {
    "duration": 3,
    "start_time": "2023-12-13T19:44:40.534Z"
   },
   {
    "duration": 3,
    "start_time": "2023-12-13T19:45:04.673Z"
   },
   {
    "duration": 1758,
    "start_time": "2023-12-13T19:45:08.488Z"
   },
   {
    "duration": 8,
    "start_time": "2023-12-13T19:45:51.849Z"
   },
   {
    "duration": 80,
    "start_time": "2023-12-13T19:45:57.402Z"
   },
   {
    "duration": 3,
    "start_time": "2023-12-13T19:45:59.839Z"
   },
   {
    "duration": 4,
    "start_time": "2023-12-13T19:46:08.678Z"
   },
   {
    "duration": 4,
    "start_time": "2023-12-13T19:46:11.653Z"
   },
   {
    "duration": 1206,
    "start_time": "2023-12-13T19:47:03.674Z"
   },
   {
    "duration": 6,
    "start_time": "2023-12-13T19:47:18.598Z"
   },
   {
    "duration": 1129,
    "start_time": "2023-12-13T19:47:22.733Z"
   },
   {
    "duration": 1104,
    "start_time": "2023-12-13T19:48:15.930Z"
   },
   {
    "duration": 1183,
    "start_time": "2023-12-13T19:49:41.621Z"
   },
   {
    "duration": 56,
    "start_time": "2023-12-13T19:52:14.500Z"
   },
   {
    "duration": 7,
    "start_time": "2023-12-13T19:52:20.207Z"
   },
   {
    "duration": 4,
    "start_time": "2023-12-13T19:53:29.229Z"
   },
   {
    "duration": 4,
    "start_time": "2023-12-13T19:53:50.098Z"
   },
   {
    "duration": 7,
    "start_time": "2023-12-13T19:53:54.140Z"
   },
   {
    "duration": 4,
    "start_time": "2023-12-13T19:55:11.618Z"
   },
   {
    "duration": 7,
    "start_time": "2023-12-13T19:55:13.386Z"
   },
   {
    "duration": 4,
    "start_time": "2023-12-13T19:55:51.319Z"
   },
   {
    "duration": 8,
    "start_time": "2023-12-13T19:55:54.291Z"
   },
   {
    "duration": 9,
    "start_time": "2023-12-13T20:15:36.398Z"
   },
   {
    "duration": 7,
    "start_time": "2023-12-13T20:15:37.369Z"
   },
   {
    "duration": 3,
    "start_time": "2023-12-13T20:16:17.263Z"
   },
   {
    "duration": 6,
    "start_time": "2023-12-13T20:16:21.103Z"
   },
   {
    "duration": 76,
    "start_time": "2023-12-13T20:16:31.658Z"
   },
   {
    "duration": 4,
    "start_time": "2023-12-13T20:16:35.269Z"
   },
   {
    "duration": 7,
    "start_time": "2023-12-13T20:16:37.274Z"
   },
   {
    "duration": 4,
    "start_time": "2023-12-13T20:16:57.626Z"
   },
   {
    "duration": 6,
    "start_time": "2023-12-13T20:17:00.197Z"
   },
   {
    "duration": 8,
    "start_time": "2023-12-13T20:17:01.734Z"
   },
   {
    "duration": 4,
    "start_time": "2023-12-13T20:17:10.443Z"
   },
   {
    "duration": 7,
    "start_time": "2023-12-13T20:17:12.107Z"
   },
   {
    "duration": 1336,
    "start_time": "2023-12-14T10:03:34.591Z"
   },
   {
    "duration": 503,
    "start_time": "2023-12-14T10:03:35.928Z"
   },
   {
    "duration": 21,
    "start_time": "2023-12-14T10:03:36.432Z"
   },
   {
    "duration": 3,
    "start_time": "2023-12-14T10:03:36.454Z"
   },
   {
    "duration": 153,
    "start_time": "2023-12-14T10:03:36.459Z"
   },
   {
    "duration": 101,
    "start_time": "2023-12-14T10:03:36.614Z"
   },
   {
    "duration": 147,
    "start_time": "2023-12-14T10:03:36.716Z"
   },
   {
    "duration": 74,
    "start_time": "2023-12-14T10:03:36.864Z"
   },
   {
    "duration": 39,
    "start_time": "2023-12-14T10:03:36.940Z"
   },
   {
    "duration": 18,
    "start_time": "2023-12-14T10:03:36.980Z"
   },
   {
    "duration": 56,
    "start_time": "2023-12-14T10:03:37.000Z"
   },
   {
    "duration": 32,
    "start_time": "2023-12-14T10:03:37.058Z"
   },
   {
    "duration": 85,
    "start_time": "2023-12-14T10:03:37.091Z"
   },
   {
    "duration": 4,
    "start_time": "2023-12-14T10:03:37.180Z"
   },
   {
    "duration": 29,
    "start_time": "2023-12-14T10:03:37.186Z"
   },
   {
    "duration": 44,
    "start_time": "2023-12-14T10:03:37.217Z"
   },
   {
    "duration": 342,
    "start_time": "2023-12-14T10:03:37.263Z"
   },
   {
    "duration": 14,
    "start_time": "2023-12-14T10:03:37.607Z"
   },
   {
    "duration": 5,
    "start_time": "2023-12-14T10:03:37.622Z"
   },
   {
    "duration": 36,
    "start_time": "2023-12-14T10:03:37.629Z"
   },
   {
    "duration": 61,
    "start_time": "2023-12-14T10:03:37.667Z"
   },
   {
    "duration": 588,
    "start_time": "2023-12-14T10:03:37.730Z"
   },
   {
    "duration": 8,
    "start_time": "2023-12-14T10:03:38.320Z"
   },
   {
    "duration": 6,
    "start_time": "2023-12-14T10:03:38.330Z"
   },
   {
    "duration": 31,
    "start_time": "2023-12-14T10:03:38.337Z"
   },
   {
    "duration": 140,
    "start_time": "2023-12-14T10:03:38.370Z"
   },
   {
    "duration": 52,
    "start_time": "2023-12-14T10:03:38.512Z"
   },
   {
    "duration": 3,
    "start_time": "2023-12-14T10:03:38.566Z"
   },
   {
    "duration": 108,
    "start_time": "2023-12-14T10:03:38.571Z"
   },
   {
    "duration": 4,
    "start_time": "2023-12-14T10:03:38.681Z"
   },
   {
    "duration": 263,
    "start_time": "2023-12-14T10:03:38.686Z"
   },
   {
    "duration": 6,
    "start_time": "2023-12-14T10:03:38.952Z"
   },
   {
    "duration": 8,
    "start_time": "2023-12-14T10:03:38.959Z"
   },
   {
    "duration": 14,
    "start_time": "2023-12-14T10:03:38.968Z"
   },
   {
    "duration": 5,
    "start_time": "2023-12-14T10:03:38.983Z"
   },
   {
    "duration": 338,
    "start_time": "2023-12-14T10:03:38.989Z"
   },
   {
    "duration": 7,
    "start_time": "2023-12-14T10:03:39.329Z"
   },
   {
    "duration": 15,
    "start_time": "2023-12-14T10:03:39.337Z"
   },
   {
    "duration": 281,
    "start_time": "2023-12-14T10:03:39.353Z"
   },
   {
    "duration": 24,
    "start_time": "2023-12-14T10:03:39.635Z"
   },
   {
    "duration": 162,
    "start_time": "2023-12-14T10:03:39.663Z"
   },
   {
    "duration": 4,
    "start_time": "2023-12-14T10:03:39.827Z"
   },
   {
    "duration": 77,
    "start_time": "2023-12-14T10:03:39.832Z"
   },
   {
    "duration": 6,
    "start_time": "2023-12-14T10:03:39.911Z"
   },
   {
    "duration": 101,
    "start_time": "2023-12-14T10:28:26.180Z"
   },
   {
    "duration": 7,
    "start_time": "2023-12-14T10:28:28.732Z"
   },
   {
    "duration": 148,
    "start_time": "2023-12-14T10:54:34.463Z"
   },
   {
    "duration": 153,
    "start_time": "2023-12-14T10:55:41.115Z"
   },
   {
    "duration": 148,
    "start_time": "2023-12-14T11:03:40.799Z"
   },
   {
    "duration": 164,
    "start_time": "2023-12-14T11:03:44.448Z"
   },
   {
    "duration": 152,
    "start_time": "2023-12-14T11:03:47.735Z"
   },
   {
    "duration": 163,
    "start_time": "2023-12-14T11:03:51.218Z"
   },
   {
    "duration": 13,
    "start_time": "2023-12-14T11:06:03.177Z"
   },
   {
    "duration": 4,
    "start_time": "2023-12-14T11:57:43.135Z"
   },
   {
    "duration": 67,
    "start_time": "2023-12-14T11:58:09.102Z"
   },
   {
    "duration": 4,
    "start_time": "2023-12-14T11:58:20.144Z"
   },
   {
    "duration": 70,
    "start_time": "2023-12-14T11:58:22.230Z"
   },
   {
    "duration": 4,
    "start_time": "2023-12-14T11:58:57.735Z"
   },
   {
    "duration": 72,
    "start_time": "2023-12-14T11:58:59.809Z"
   },
   {
    "duration": 4,
    "start_time": "2023-12-14T11:59:11.975Z"
   },
   {
    "duration": 80,
    "start_time": "2023-12-14T11:59:13.983Z"
   },
   {
    "duration": 68,
    "start_time": "2023-12-14T12:01:50.069Z"
   },
   {
    "duration": 72,
    "start_time": "2023-12-14T12:02:21.378Z"
   },
   {
    "duration": 4,
    "start_time": "2023-12-14T12:02:46.881Z"
   },
   {
    "duration": 71,
    "start_time": "2023-12-14T12:02:49.450Z"
   },
   {
    "duration": 69,
    "start_time": "2023-12-14T12:29:30.330Z"
   },
   {
    "duration": 89,
    "start_time": "2023-12-14T12:29:35.064Z"
   },
   {
    "duration": 71,
    "start_time": "2023-12-14T12:29:49.425Z"
   },
   {
    "duration": 75,
    "start_time": "2023-12-14T12:29:54.713Z"
   },
   {
    "duration": 8,
    "start_time": "2023-12-14T12:36:46.965Z"
   },
   {
    "duration": 103,
    "start_time": "2023-12-14T12:48:11.572Z"
   },
   {
    "duration": 79,
    "start_time": "2023-12-14T12:48:25.547Z"
   },
   {
    "duration": 13,
    "start_time": "2023-12-14T12:48:59.591Z"
   },
   {
    "duration": 61,
    "start_time": "2023-12-14T12:49:22.596Z"
   },
   {
    "duration": 8,
    "start_time": "2023-12-14T12:49:43.044Z"
   },
   {
    "duration": 76,
    "start_time": "2023-12-14T15:06:20.836Z"
   },
   {
    "duration": 1134,
    "start_time": "2023-12-14T15:07:54.326Z"
   },
   {
    "duration": 74,
    "start_time": "2023-12-14T15:08:08.529Z"
   },
   {
    "duration": 75,
    "start_time": "2023-12-14T15:08:14.472Z"
   },
   {
    "duration": 71,
    "start_time": "2023-12-14T15:14:59.885Z"
   },
   {
    "duration": 78,
    "start_time": "2023-12-14T15:15:04.444Z"
   },
   {
    "duration": 74,
    "start_time": "2023-12-14T15:15:52.862Z"
   },
   {
    "duration": 74,
    "start_time": "2023-12-14T15:15:59.773Z"
   },
   {
    "duration": 91,
    "start_time": "2023-12-14T15:18:00.375Z"
   },
   {
    "duration": 95,
    "start_time": "2023-12-14T15:19:34.000Z"
   },
   {
    "duration": 97,
    "start_time": "2023-12-14T15:19:38.310Z"
   },
   {
    "duration": 9,
    "start_time": "2023-12-14T15:20:27.159Z"
   },
   {
    "duration": 106,
    "start_time": "2023-12-14T15:33:34.225Z"
   },
   {
    "duration": 103,
    "start_time": "2023-12-14T15:33:45.079Z"
   },
   {
    "duration": 1256,
    "start_time": "2023-12-15T10:43:14.944Z"
   },
   {
    "duration": 474,
    "start_time": "2023-12-15T10:43:16.201Z"
   },
   {
    "duration": 17,
    "start_time": "2023-12-15T10:43:16.676Z"
   },
   {
    "duration": 3,
    "start_time": "2023-12-15T10:43:16.695Z"
   },
   {
    "duration": 139,
    "start_time": "2023-12-15T10:43:16.699Z"
   },
   {
    "duration": 92,
    "start_time": "2023-12-15T10:43:16.839Z"
   },
   {
    "duration": 159,
    "start_time": "2023-12-15T10:43:16.932Z"
   },
   {
    "duration": 80,
    "start_time": "2023-12-15T10:43:17.092Z"
   },
   {
    "duration": 42,
    "start_time": "2023-12-15T10:43:17.174Z"
   },
   {
    "duration": 16,
    "start_time": "2023-12-15T10:43:17.218Z"
   },
   {
    "duration": 34,
    "start_time": "2023-12-15T10:43:17.236Z"
   },
   {
    "duration": 46,
    "start_time": "2023-12-15T10:43:17.271Z"
   },
   {
    "duration": 64,
    "start_time": "2023-12-15T10:43:17.319Z"
   },
   {
    "duration": 4,
    "start_time": "2023-12-15T10:43:17.385Z"
   },
   {
    "duration": 7,
    "start_time": "2023-12-15T10:43:17.390Z"
   },
   {
    "duration": 31,
    "start_time": "2023-12-15T10:43:17.415Z"
   },
   {
    "duration": 301,
    "start_time": "2023-12-15T10:43:17.447Z"
   },
   {
    "duration": 11,
    "start_time": "2023-12-15T10:43:17.749Z"
   },
   {
    "duration": 20,
    "start_time": "2023-12-15T10:43:17.761Z"
   },
   {
    "duration": 23,
    "start_time": "2023-12-15T10:43:17.782Z"
   },
   {
    "duration": 65,
    "start_time": "2023-12-15T10:43:17.807Z"
   },
   {
    "duration": 489,
    "start_time": "2023-12-15T10:43:17.874Z"
   },
   {
    "duration": 11,
    "start_time": "2023-12-15T10:43:18.365Z"
   },
   {
    "duration": 6,
    "start_time": "2023-12-15T10:43:18.377Z"
   },
   {
    "duration": 12,
    "start_time": "2023-12-15T10:43:18.385Z"
   },
   {
    "duration": 155,
    "start_time": "2023-12-15T10:43:18.399Z"
   },
   {
    "duration": 33,
    "start_time": "2023-12-15T10:43:18.555Z"
   },
   {
    "duration": 25,
    "start_time": "2023-12-15T10:43:18.590Z"
   },
   {
    "duration": 51,
    "start_time": "2023-12-15T10:43:18.617Z"
   },
   {
    "duration": 49,
    "start_time": "2023-12-15T10:43:18.669Z"
   },
   {
    "duration": 220,
    "start_time": "2023-12-15T10:43:18.719Z"
   },
   {
    "duration": 6,
    "start_time": "2023-12-15T10:43:18.940Z"
   },
   {
    "duration": 36,
    "start_time": "2023-12-15T10:43:18.947Z"
   },
   {
    "duration": 17,
    "start_time": "2023-12-15T10:43:18.984Z"
   },
   {
    "duration": 22,
    "start_time": "2023-12-15T10:43:19.002Z"
   },
   {
    "duration": 278,
    "start_time": "2023-12-15T10:43:19.025Z"
   },
   {
    "duration": 6,
    "start_time": "2023-12-15T10:43:19.304Z"
   },
   {
    "duration": 8,
    "start_time": "2023-12-15T10:43:19.315Z"
   },
   {
    "duration": 245,
    "start_time": "2023-12-15T10:43:19.324Z"
   },
   {
    "duration": 19,
    "start_time": "2023-12-15T10:43:19.571Z"
   },
   {
    "duration": 145,
    "start_time": "2023-12-15T10:43:19.591Z"
   },
   {
    "duration": 3,
    "start_time": "2023-12-15T10:43:19.738Z"
   },
   {
    "duration": 5,
    "start_time": "2023-12-15T10:43:19.742Z"
   },
   {
    "duration": 88,
    "start_time": "2023-12-15T10:43:19.748Z"
   },
   {
    "duration": 6,
    "start_time": "2023-12-15T10:43:19.838Z"
   },
   {
    "duration": 95,
    "start_time": "2023-12-15T10:43:19.845Z"
   },
   {
    "duration": 6,
    "start_time": "2023-12-15T10:43:19.941Z"
   },
   {
    "duration": 83,
    "start_time": "2023-12-15T10:43:19.948Z"
   },
   {
    "duration": 8,
    "start_time": "2023-12-15T10:43:20.032Z"
   },
   {
    "duration": 103,
    "start_time": "2023-12-15T10:43:20.041Z"
   },
   {
    "duration": 1378,
    "start_time": "2023-12-15T10:43:20.145Z"
   },
   {
    "duration": 132,
    "start_time": "2023-12-15T10:48:52.522Z"
   },
   {
    "duration": 92,
    "start_time": "2023-12-15T10:49:01.807Z"
   },
   {
    "duration": 6,
    "start_time": "2023-12-15T10:49:07.463Z"
   },
   {
    "duration": 91,
    "start_time": "2023-12-15T11:10:16.450Z"
   },
   {
    "duration": 7,
    "start_time": "2023-12-15T11:10:20.016Z"
   },
   {
    "duration": 3,
    "start_time": "2023-12-15T11:56:15.909Z"
   },
   {
    "duration": 1295,
    "start_time": "2023-12-15T16:37:56.595Z"
   },
   {
    "duration": 63,
    "start_time": "2023-12-15T16:37:58.682Z"
   },
   {
    "duration": 68,
    "start_time": "2023-12-15T16:38:02.493Z"
   },
   {
    "duration": 3,
    "start_time": "2023-12-15T16:42:30.240Z"
   },
   {
    "duration": 3,
    "start_time": "2023-12-15T16:42:36.848Z"
   },
   {
    "duration": 114,
    "start_time": "2023-12-15T16:42:48.544Z"
   },
   {
    "duration": 3,
    "start_time": "2023-12-15T16:43:34.336Z"
   },
   {
    "duration": 10,
    "start_time": "2023-12-15T16:43:35.736Z"
   },
   {
    "duration": 3,
    "start_time": "2023-12-15T16:45:36.281Z"
   },
   {
    "duration": 113,
    "start_time": "2023-12-15T16:45:37.665Z"
   },
   {
    "duration": 4,
    "start_time": "2023-12-15T16:45:44.233Z"
   },
   {
    "duration": 112,
    "start_time": "2023-12-15T16:45:46.097Z"
   },
   {
    "duration": 4,
    "start_time": "2023-12-15T16:47:06.715Z"
   },
   {
    "duration": 120,
    "start_time": "2023-12-15T16:47:08.364Z"
   },
   {
    "duration": 3,
    "start_time": "2023-12-15T16:49:42.659Z"
   },
   {
    "duration": 104,
    "start_time": "2023-12-15T16:49:44.555Z"
   },
   {
    "duration": 3,
    "start_time": "2023-12-15T16:49:51.116Z"
   },
   {
    "duration": 119,
    "start_time": "2023-12-15T16:49:53.611Z"
   },
   {
    "duration": 4,
    "start_time": "2023-12-15T16:50:17.739Z"
   },
   {
    "duration": 9,
    "start_time": "2023-12-15T16:50:19.251Z"
   },
   {
    "duration": 3,
    "start_time": "2023-12-15T16:50:24.100Z"
   },
   {
    "duration": 113,
    "start_time": "2023-12-15T16:50:26.123Z"
   },
   {
    "duration": 3,
    "start_time": "2023-12-15T16:51:46.181Z"
   },
   {
    "duration": 89,
    "start_time": "2023-12-15T16:51:47.781Z"
   },
   {
    "duration": 4,
    "start_time": "2023-12-15T16:53:24.614Z"
   },
   {
    "duration": 248,
    "start_time": "2023-12-15T16:53:30.350Z"
   },
   {
    "duration": 4,
    "start_time": "2023-12-15T16:53:49.910Z"
   },
   {
    "duration": 211,
    "start_time": "2023-12-15T16:53:51.294Z"
   },
   {
    "duration": 4,
    "start_time": "2023-12-15T16:55:49.887Z"
   },
   {
    "duration": 163,
    "start_time": "2023-12-15T16:55:52.055Z"
   },
   {
    "duration": 3,
    "start_time": "2023-12-15T16:56:19.056Z"
   },
   {
    "duration": 158,
    "start_time": "2023-12-15T16:56:20.384Z"
   },
   {
    "duration": 3,
    "start_time": "2023-12-15T16:56:52.712Z"
   },
   {
    "duration": 150,
    "start_time": "2023-12-15T16:56:54.451Z"
   },
   {
    "duration": 4,
    "start_time": "2023-12-15T16:57:07.431Z"
   },
   {
    "duration": 146,
    "start_time": "2023-12-15T16:57:09.535Z"
   },
   {
    "duration": 150,
    "start_time": "2023-12-15T17:41:09.921Z"
   },
   {
    "duration": 155,
    "start_time": "2023-12-15T17:43:43.060Z"
   },
   {
    "duration": 3,
    "start_time": "2023-12-15T17:44:35.444Z"
   },
   {
    "duration": 155,
    "start_time": "2023-12-15T17:44:35.448Z"
   },
   {
    "duration": 23,
    "start_time": "2023-12-15T17:44:35.604Z"
   },
   {
    "duration": 21,
    "start_time": "2023-12-15T17:44:35.628Z"
   },
   {
    "duration": 147,
    "start_time": "2023-12-15T17:44:35.650Z"
   },
   {
    "duration": 81,
    "start_time": "2023-12-15T17:44:35.798Z"
   },
   {
    "duration": 106,
    "start_time": "2023-12-15T17:44:35.880Z"
   },
   {
    "duration": 57,
    "start_time": "2023-12-15T17:44:35.987Z"
   },
   {
    "duration": 32,
    "start_time": "2023-12-15T17:44:36.046Z"
   },
   {
    "duration": 16,
    "start_time": "2023-12-15T17:44:36.079Z"
   },
   {
    "duration": 70,
    "start_time": "2023-12-15T17:44:36.097Z"
   },
   {
    "duration": 26,
    "start_time": "2023-12-15T17:44:36.169Z"
   },
   {
    "duration": 61,
    "start_time": "2023-12-15T17:44:36.196Z"
   },
   {
    "duration": 4,
    "start_time": "2023-12-15T17:44:36.258Z"
   },
   {
    "duration": 21,
    "start_time": "2023-12-15T17:44:36.263Z"
   },
   {
    "duration": 30,
    "start_time": "2023-12-15T17:44:36.285Z"
   },
   {
    "duration": 201,
    "start_time": "2023-12-15T17:44:36.316Z"
   },
   {
    "duration": 11,
    "start_time": "2023-12-15T17:44:36.518Z"
   },
   {
    "duration": 7,
    "start_time": "2023-12-15T17:44:36.530Z"
   },
   {
    "duration": 17,
    "start_time": "2023-12-15T17:44:36.538Z"
   },
   {
    "duration": 64,
    "start_time": "2023-12-15T17:44:36.556Z"
   },
   {
    "duration": 494,
    "start_time": "2023-12-15T17:44:36.621Z"
   },
   {
    "duration": 6,
    "start_time": "2023-12-15T17:44:37.116Z"
   },
   {
    "duration": 4,
    "start_time": "2023-12-15T17:44:37.123Z"
   },
   {
    "duration": 16,
    "start_time": "2023-12-15T17:44:37.128Z"
   },
   {
    "duration": 8,
    "start_time": "2023-12-15T17:44:37.145Z"
   },
   {
    "duration": 29,
    "start_time": "2023-12-15T17:44:37.154Z"
   },
   {
    "duration": 3,
    "start_time": "2023-12-15T17:44:37.184Z"
   },
   {
    "duration": 70,
    "start_time": "2023-12-15T17:44:37.190Z"
   },
   {
    "duration": 3,
    "start_time": "2023-12-15T17:44:37.261Z"
   },
   {
    "duration": 203,
    "start_time": "2023-12-15T17:44:37.265Z"
   },
   {
    "duration": 5,
    "start_time": "2023-12-15T17:44:37.470Z"
   },
   {
    "duration": 7,
    "start_time": "2023-12-15T17:44:37.476Z"
   },
   {
    "duration": 13,
    "start_time": "2023-12-15T17:44:37.484Z"
   },
   {
    "duration": 18,
    "start_time": "2023-12-15T17:44:37.498Z"
   },
   {
    "duration": 209,
    "start_time": "2023-12-15T17:44:37.517Z"
   },
   {
    "duration": 6,
    "start_time": "2023-12-15T17:44:37.727Z"
   },
   {
    "duration": 6,
    "start_time": "2023-12-15T17:44:37.734Z"
   },
   {
    "duration": 238,
    "start_time": "2023-12-15T17:44:37.741Z"
   },
   {
    "duration": 15,
    "start_time": "2023-12-15T17:44:37.980Z"
   },
   {
    "duration": 131,
    "start_time": "2023-12-15T17:44:37.997Z"
   },
   {
    "duration": 3,
    "start_time": "2023-12-15T17:44:38.130Z"
   },
   {
    "duration": 6,
    "start_time": "2023-12-15T17:44:38.134Z"
   },
   {
    "duration": 5,
    "start_time": "2023-12-15T17:44:38.141Z"
   },
   {
    "duration": 69,
    "start_time": "2023-12-15T17:44:38.147Z"
   },
   {
    "duration": 158,
    "start_time": "2023-12-15T17:44:38.217Z"
   },
   {
    "duration": 7,
    "start_time": "2023-12-15T17:44:38.376Z"
   },
   {
    "duration": 70,
    "start_time": "2023-12-15T17:44:38.384Z"
   },
   {
    "duration": 153,
    "start_time": "2023-12-15T17:44:38.455Z"
   },
   {
    "duration": 9,
    "start_time": "2023-12-15T17:44:38.610Z"
   },
   {
    "duration": 70,
    "start_time": "2023-12-15T17:44:38.620Z"
   },
   {
    "duration": 152,
    "start_time": "2023-12-15T17:44:38.691Z"
   },
   {
    "duration": 6,
    "start_time": "2023-12-15T17:44:38.845Z"
   },
   {
    "duration": 91,
    "start_time": "2023-12-15T17:44:38.852Z"
   },
   {
    "duration": 6,
    "start_time": "2023-12-15T17:44:38.944Z"
   },
   {
    "duration": 144,
    "start_time": "2023-12-15T17:57:27.022Z"
   },
   {
    "duration": 2,
    "start_time": "2023-12-15T18:04:09.107Z"
   },
   {
    "duration": 130,
    "start_time": "2023-12-15T18:04:09.111Z"
   },
   {
    "duration": 15,
    "start_time": "2023-12-15T18:04:09.242Z"
   },
   {
    "duration": 2,
    "start_time": "2023-12-15T18:04:09.258Z"
   },
   {
    "duration": 153,
    "start_time": "2023-12-15T18:04:09.261Z"
   },
   {
    "duration": 78,
    "start_time": "2023-12-15T18:04:09.415Z"
   },
   {
    "duration": 102,
    "start_time": "2023-12-15T18:04:09.495Z"
   },
   {
    "duration": 55,
    "start_time": "2023-12-15T18:04:09.599Z"
   },
   {
    "duration": 28,
    "start_time": "2023-12-15T18:04:09.655Z"
   },
   {
    "duration": 15,
    "start_time": "2023-12-15T18:04:09.684Z"
   },
   {
    "duration": 32,
    "start_time": "2023-12-15T18:04:09.714Z"
   },
   {
    "duration": 26,
    "start_time": "2023-12-15T18:04:09.747Z"
   },
   {
    "duration": 73,
    "start_time": "2023-12-15T18:04:09.774Z"
   },
   {
    "duration": 4,
    "start_time": "2023-12-15T18:04:09.848Z"
   },
   {
    "duration": 21,
    "start_time": "2023-12-15T18:04:09.853Z"
   },
   {
    "duration": 51,
    "start_time": "2023-12-15T18:04:09.875Z"
   },
   {
    "duration": 202,
    "start_time": "2023-12-15T18:04:09.927Z"
   },
   {
    "duration": 8,
    "start_time": "2023-12-15T18:04:10.131Z"
   },
   {
    "duration": 4,
    "start_time": "2023-12-15T18:04:10.141Z"
   },
   {
    "duration": 17,
    "start_time": "2023-12-15T18:04:10.147Z"
   },
   {
    "duration": 64,
    "start_time": "2023-12-15T18:04:10.165Z"
   },
   {
    "duration": 544,
    "start_time": "2023-12-15T18:04:10.230Z"
   },
   {
    "duration": 7,
    "start_time": "2023-12-15T18:04:10.775Z"
   },
   {
    "duration": 11,
    "start_time": "2023-12-15T18:04:10.783Z"
   },
   {
    "duration": 10,
    "start_time": "2023-12-15T18:04:10.795Z"
   },
   {
    "duration": 11,
    "start_time": "2023-12-15T18:04:10.806Z"
   },
   {
    "duration": 43,
    "start_time": "2023-12-15T18:04:10.818Z"
   },
   {
    "duration": 3,
    "start_time": "2023-12-15T18:04:10.863Z"
   },
   {
    "duration": 51,
    "start_time": "2023-12-15T18:04:10.869Z"
   },
   {
    "duration": 4,
    "start_time": "2023-12-15T18:04:10.921Z"
   },
   {
    "duration": 212,
    "start_time": "2023-12-15T18:04:10.926Z"
   },
   {
    "duration": 6,
    "start_time": "2023-12-15T18:04:11.140Z"
   },
   {
    "duration": 7,
    "start_time": "2023-12-15T18:04:11.147Z"
   },
   {
    "duration": 14,
    "start_time": "2023-12-15T18:04:11.155Z"
   },
   {
    "duration": 6,
    "start_time": "2023-12-15T18:04:11.171Z"
   },
   {
    "duration": 226,
    "start_time": "2023-12-15T18:04:11.178Z"
   },
   {
    "duration": 12,
    "start_time": "2023-12-15T18:04:11.406Z"
   },
   {
    "duration": 15,
    "start_time": "2023-12-15T18:04:11.419Z"
   },
   {
    "duration": 232,
    "start_time": "2023-12-15T18:04:11.435Z"
   },
   {
    "duration": 15,
    "start_time": "2023-12-15T18:04:11.668Z"
   },
   {
    "duration": 134,
    "start_time": "2023-12-15T18:04:11.684Z"
   },
   {
    "duration": 3,
    "start_time": "2023-12-15T18:04:11.820Z"
   },
   {
    "duration": 5,
    "start_time": "2023-12-15T18:04:11.824Z"
   },
   {
    "duration": 5,
    "start_time": "2023-12-15T18:04:11.831Z"
   },
   {
    "duration": 58,
    "start_time": "2023-12-15T18:04:11.837Z"
   },
   {
    "duration": 159,
    "start_time": "2023-12-15T18:04:11.897Z"
   },
   {
    "duration": 7,
    "start_time": "2023-12-15T18:04:12.057Z"
   },
   {
    "duration": 80,
    "start_time": "2023-12-15T18:04:12.065Z"
   },
   {
    "duration": 149,
    "start_time": "2023-12-15T18:04:12.146Z"
   },
   {
    "duration": 7,
    "start_time": "2023-12-15T18:04:12.296Z"
   },
   {
    "duration": 59,
    "start_time": "2023-12-15T18:04:12.315Z"
   },
   {
    "duration": 158,
    "start_time": "2023-12-15T18:04:12.376Z"
   },
   {
    "duration": 6,
    "start_time": "2023-12-15T18:04:12.535Z"
   },
   {
    "duration": 88,
    "start_time": "2023-12-15T18:04:12.542Z"
   },
   {
    "duration": 151,
    "start_time": "2023-12-15T18:04:12.632Z"
   },
   {
    "duration": 7,
    "start_time": "2023-12-15T18:04:12.784Z"
   },
   {
    "duration": 1529,
    "start_time": "2023-12-15T21:14:11.527Z"
   },
   {
    "duration": 728,
    "start_time": "2023-12-15T21:14:13.058Z"
   },
   {
    "duration": 24,
    "start_time": "2023-12-15T21:14:13.788Z"
   },
   {
    "duration": 3,
    "start_time": "2023-12-15T21:14:13.813Z"
   },
   {
    "duration": 166,
    "start_time": "2023-12-15T21:14:13.819Z"
   },
   {
    "duration": 119,
    "start_time": "2023-12-15T21:14:13.987Z"
   },
   {
    "duration": 184,
    "start_time": "2023-12-15T21:14:14.108Z"
   },
   {
    "duration": 102,
    "start_time": "2023-12-15T21:14:14.294Z"
   },
   {
    "duration": 47,
    "start_time": "2023-12-15T21:14:14.397Z"
   },
   {
    "duration": 21,
    "start_time": "2023-12-15T21:14:14.446Z"
   },
   {
    "duration": 41,
    "start_time": "2023-12-15T21:14:14.469Z"
   },
   {
    "duration": 52,
    "start_time": "2023-12-15T21:14:14.511Z"
   },
   {
    "duration": 94,
    "start_time": "2023-12-15T21:14:14.565Z"
   },
   {
    "duration": 5,
    "start_time": "2023-12-15T21:14:14.662Z"
   },
   {
    "duration": 24,
    "start_time": "2023-12-15T21:14:14.674Z"
   },
   {
    "duration": 60,
    "start_time": "2023-12-15T21:14:14.700Z"
   },
   {
    "duration": 357,
    "start_time": "2023-12-15T21:14:14.762Z"
   },
   {
    "duration": 22,
    "start_time": "2023-12-15T21:14:15.121Z"
   },
   {
    "duration": 43,
    "start_time": "2023-12-15T21:14:15.145Z"
   },
   {
    "duration": 66,
    "start_time": "2023-12-15T21:14:15.189Z"
   },
   {
    "duration": 80,
    "start_time": "2023-12-15T21:14:15.257Z"
   },
   {
    "duration": 597,
    "start_time": "2023-12-15T21:14:15.339Z"
   },
   {
    "duration": 10,
    "start_time": "2023-12-15T21:14:15.938Z"
   },
   {
    "duration": 21,
    "start_time": "2023-12-15T21:14:15.950Z"
   },
   {
    "duration": 13,
    "start_time": "2023-12-15T21:14:15.973Z"
   },
   {
    "duration": 155,
    "start_time": "2023-12-15T21:14:15.987Z"
   },
   {
    "duration": 38,
    "start_time": "2023-12-15T21:14:16.144Z"
   },
   {
    "duration": 50,
    "start_time": "2023-12-15T21:14:16.183Z"
   },
   {
    "duration": 114,
    "start_time": "2023-12-15T21:14:16.234Z"
   },
   {
    "duration": 5,
    "start_time": "2023-12-15T21:14:16.349Z"
   },
   {
    "duration": 358,
    "start_time": "2023-12-15T21:14:16.355Z"
   },
   {
    "duration": 16,
    "start_time": "2023-12-15T21:14:16.715Z"
   },
   {
    "duration": 14,
    "start_time": "2023-12-15T21:14:16.732Z"
   },
   {
    "duration": 12,
    "start_time": "2023-12-15T21:14:16.747Z"
   },
   {
    "duration": 42,
    "start_time": "2023-12-15T21:14:16.761Z"
   },
   {
    "duration": 295,
    "start_time": "2023-12-15T21:14:16.805Z"
   },
   {
    "duration": 7,
    "start_time": "2023-12-15T21:14:17.102Z"
   },
   {
    "duration": 14,
    "start_time": "2023-12-15T21:14:17.117Z"
   },
   {
    "duration": 317,
    "start_time": "2023-12-15T21:14:17.133Z"
   },
   {
    "duration": 19,
    "start_time": "2023-12-15T21:14:17.452Z"
   },
   {
    "duration": 185,
    "start_time": "2023-12-15T21:14:17.476Z"
   },
   {
    "duration": 5,
    "start_time": "2023-12-15T21:14:17.663Z"
   },
   {
    "duration": 14,
    "start_time": "2023-12-15T21:14:17.669Z"
   },
   {
    "duration": 4,
    "start_time": "2023-12-15T21:14:17.685Z"
   },
   {
    "duration": 106,
    "start_time": "2023-12-15T21:14:17.691Z"
   },
   {
    "duration": 194,
    "start_time": "2023-12-15T21:14:17.799Z"
   },
   {
    "duration": 7,
    "start_time": "2023-12-15T21:14:17.995Z"
   },
   {
    "duration": 103,
    "start_time": "2023-12-15T21:14:18.004Z"
   },
   {
    "duration": 197,
    "start_time": "2023-12-15T21:14:18.109Z"
   },
   {
    "duration": 9,
    "start_time": "2023-12-15T21:14:18.308Z"
   },
   {
    "duration": 85,
    "start_time": "2023-12-15T21:14:18.332Z"
   },
   {
    "duration": 197,
    "start_time": "2023-12-15T21:14:18.419Z"
   },
   {
    "duration": 20,
    "start_time": "2023-12-15T21:14:18.618Z"
   },
   {
    "duration": 123,
    "start_time": "2023-12-15T21:14:18.639Z"
   },
   {
    "duration": 194,
    "start_time": "2023-12-15T21:14:18.764Z"
   },
   {
    "duration": 9,
    "start_time": "2023-12-15T21:14:18.960Z"
   },
   {
    "duration": 1432,
    "start_time": "2023-12-15T21:57:07.321Z"
   },
   {
    "duration": 203,
    "start_time": "2023-12-15T21:57:08.756Z"
   },
   {
    "duration": 25,
    "start_time": "2023-12-15T21:57:08.961Z"
   },
   {
    "duration": 8,
    "start_time": "2023-12-15T21:57:08.988Z"
   },
   {
    "duration": 215,
    "start_time": "2023-12-15T21:57:08.998Z"
   },
   {
    "duration": 140,
    "start_time": "2023-12-15T21:57:09.214Z"
   },
   {
    "duration": 213,
    "start_time": "2023-12-15T21:57:09.356Z"
   },
   {
    "duration": 122,
    "start_time": "2023-12-15T21:57:09.571Z"
   },
   {
    "duration": 52,
    "start_time": "2023-12-15T21:57:09.695Z"
   },
   {
    "duration": 24,
    "start_time": "2023-12-15T21:57:09.751Z"
   },
   {
    "duration": 39,
    "start_time": "2023-12-15T21:57:09.777Z"
   },
   {
    "duration": 50,
    "start_time": "2023-12-15T21:57:09.830Z"
   },
   {
    "duration": 103,
    "start_time": "2023-12-15T21:57:09.882Z"
   },
   {
    "duration": 5,
    "start_time": "2023-12-15T21:57:09.988Z"
   },
   {
    "duration": 26,
    "start_time": "2023-12-15T21:57:09.994Z"
   },
   {
    "duration": 66,
    "start_time": "2023-12-15T21:57:10.022Z"
   },
   {
    "duration": 398,
    "start_time": "2023-12-15T21:57:10.089Z"
   },
   {
    "duration": 14,
    "start_time": "2023-12-15T21:57:10.489Z"
   },
   {
    "duration": 4,
    "start_time": "2023-12-15T21:57:10.505Z"
   },
   {
    "duration": 52,
    "start_time": "2023-12-15T21:57:10.510Z"
   },
   {
    "duration": 92,
    "start_time": "2023-12-15T21:57:10.564Z"
   },
   {
    "duration": 616,
    "start_time": "2023-12-15T21:57:10.659Z"
   },
   {
    "duration": 9,
    "start_time": "2023-12-15T21:57:11.277Z"
   },
   {
    "duration": 7,
    "start_time": "2023-12-15T21:57:11.287Z"
   },
   {
    "duration": 11,
    "start_time": "2023-12-15T21:57:11.296Z"
   },
   {
    "duration": 189,
    "start_time": "2023-12-15T21:57:11.309Z"
   },
   {
    "duration": 71,
    "start_time": "2023-12-15T21:57:11.500Z"
   },
   {
    "duration": 5,
    "start_time": "2023-12-15T21:57:11.573Z"
   },
   {
    "duration": 178,
    "start_time": "2023-12-15T21:57:11.580Z"
   },
   {
    "duration": 11,
    "start_time": "2023-12-15T21:57:11.760Z"
   },
   {
    "duration": 324,
    "start_time": "2023-12-15T21:57:11.772Z"
   },
   {
    "duration": 6,
    "start_time": "2023-12-15T21:57:12.098Z"
   },
   {
    "duration": 12,
    "start_time": "2023-12-15T21:57:12.106Z"
   },
   {
    "duration": 23,
    "start_time": "2023-12-15T21:57:12.132Z"
   },
   {
    "duration": 18,
    "start_time": "2023-12-15T21:57:12.158Z"
   },
   {
    "duration": 398,
    "start_time": "2023-12-15T21:57:12.177Z"
   },
   {
    "duration": 7,
    "start_time": "2023-12-15T21:57:12.577Z"
   },
   {
    "duration": 9,
    "start_time": "2023-12-15T21:57:12.586Z"
   },
   {
    "duration": 366,
    "start_time": "2023-12-15T21:57:12.597Z"
   },
   {
    "duration": 19,
    "start_time": "2023-12-15T21:57:12.965Z"
   },
   {
    "duration": 226,
    "start_time": "2023-12-15T21:57:12.988Z"
   },
   {
    "duration": 18,
    "start_time": "2023-12-15T21:57:13.216Z"
   },
   {
    "duration": 6,
    "start_time": "2023-12-15T21:57:13.239Z"
   },
   {
    "duration": 21,
    "start_time": "2023-12-15T21:57:13.247Z"
   },
   {
    "duration": 102,
    "start_time": "2023-12-15T21:57:13.270Z"
   },
   {
    "duration": 213,
    "start_time": "2023-12-15T21:57:13.374Z"
   },
   {
    "duration": 9,
    "start_time": "2023-12-15T21:57:13.589Z"
   },
   {
    "duration": 117,
    "start_time": "2023-12-15T21:57:13.600Z"
   },
   {
    "duration": 215,
    "start_time": "2023-12-15T21:57:13.719Z"
   },
   {
    "duration": 11,
    "start_time": "2023-12-15T21:57:13.947Z"
   },
   {
    "duration": 100,
    "start_time": "2023-12-15T21:57:13.960Z"
   },
   {
    "duration": 212,
    "start_time": "2023-12-15T21:57:14.063Z"
   },
   {
    "duration": 7,
    "start_time": "2023-12-15T21:57:14.277Z"
   },
   {
    "duration": 125,
    "start_time": "2023-12-15T21:57:14.285Z"
   },
   {
    "duration": 228,
    "start_time": "2023-12-15T21:57:14.412Z"
   },
   {
    "duration": 10,
    "start_time": "2023-12-15T21:57:14.646Z"
   },
   {
    "duration": 1403,
    "start_time": "2023-12-16T09:22:12.903Z"
   },
   {
    "duration": 499,
    "start_time": "2023-12-16T09:22:14.310Z"
   },
   {
    "duration": 22,
    "start_time": "2023-12-16T09:22:14.811Z"
   },
   {
    "duration": 3,
    "start_time": "2023-12-16T09:22:14.835Z"
   },
   {
    "duration": 169,
    "start_time": "2023-12-16T09:22:14.840Z"
   },
   {
    "duration": 108,
    "start_time": "2023-12-16T09:22:15.011Z"
   },
   {
    "duration": 156,
    "start_time": "2023-12-16T09:22:15.121Z"
   },
   {
    "duration": 93,
    "start_time": "2023-12-16T09:22:15.279Z"
   },
   {
    "duration": 44,
    "start_time": "2023-12-16T09:22:15.374Z"
   },
   {
    "duration": 17,
    "start_time": "2023-12-16T09:22:15.422Z"
   },
   {
    "duration": 38,
    "start_time": "2023-12-16T09:22:15.441Z"
   },
   {
    "duration": 54,
    "start_time": "2023-12-16T09:22:15.481Z"
   },
   {
    "duration": 88,
    "start_time": "2023-12-16T09:22:15.536Z"
   },
   {
    "duration": 5,
    "start_time": "2023-12-16T09:22:15.626Z"
   },
   {
    "duration": 6,
    "start_time": "2023-12-16T09:22:15.633Z"
   },
   {
    "duration": 38,
    "start_time": "2023-12-16T09:22:15.641Z"
   },
   {
    "duration": 360,
    "start_time": "2023-12-16T09:22:15.681Z"
   },
   {
    "duration": 17,
    "start_time": "2023-12-16T09:22:16.043Z"
   },
   {
    "duration": 4,
    "start_time": "2023-12-16T09:22:16.061Z"
   },
   {
    "duration": 45,
    "start_time": "2023-12-16T09:22:16.067Z"
   },
   {
    "duration": 69,
    "start_time": "2023-12-16T09:22:16.114Z"
   },
   {
    "duration": 604,
    "start_time": "2023-12-16T09:22:16.186Z"
   },
   {
    "duration": 9,
    "start_time": "2023-12-16T09:22:16.791Z"
   },
   {
    "duration": 12,
    "start_time": "2023-12-16T09:22:16.802Z"
   },
   {
    "duration": 13,
    "start_time": "2023-12-16T09:22:16.815Z"
   },
   {
    "duration": 274,
    "start_time": "2023-12-16T09:22:16.830Z"
   },
   {
    "duration": 37,
    "start_time": "2023-12-16T09:22:17.106Z"
   },
   {
    "duration": 4,
    "start_time": "2023-12-16T09:22:17.148Z"
   },
   {
    "duration": 108,
    "start_time": "2023-12-16T09:22:17.153Z"
   },
   {
    "duration": 50,
    "start_time": "2023-12-16T09:22:17.263Z"
   },
   {
    "duration": 256,
    "start_time": "2023-12-16T09:22:17.315Z"
   },
   {
    "duration": 7,
    "start_time": "2023-12-16T09:22:17.573Z"
   },
   {
    "duration": 9,
    "start_time": "2023-12-16T09:22:17.581Z"
   },
   {
    "duration": 22,
    "start_time": "2023-12-16T09:22:17.601Z"
   },
   {
    "duration": 6,
    "start_time": "2023-12-16T09:22:17.625Z"
   },
   {
    "duration": 338,
    "start_time": "2023-12-16T09:22:17.633Z"
   },
   {
    "duration": 7,
    "start_time": "2023-12-16T09:22:17.972Z"
   },
   {
    "duration": 18,
    "start_time": "2023-12-16T09:22:17.981Z"
   },
   {
    "duration": 298,
    "start_time": "2023-12-16T09:22:18.001Z"
   },
   {
    "duration": 21,
    "start_time": "2023-12-16T09:22:18.300Z"
   },
   {
    "duration": 174,
    "start_time": "2023-12-16T09:22:18.322Z"
   },
   {
    "duration": 5,
    "start_time": "2023-12-16T09:22:18.497Z"
   },
   {
    "duration": 12,
    "start_time": "2023-12-16T09:22:18.503Z"
   },
   {
    "duration": 5,
    "start_time": "2023-12-16T09:22:18.516Z"
   },
   {
    "duration": 96,
    "start_time": "2023-12-16T09:22:18.522Z"
   },
   {
    "duration": 174,
    "start_time": "2023-12-16T09:22:18.619Z"
   },
   {
    "duration": 8,
    "start_time": "2023-12-16T09:22:18.794Z"
   },
   {
    "duration": 81,
    "start_time": "2023-12-16T09:22:18.811Z"
   },
   {
    "duration": 186,
    "start_time": "2023-12-16T09:22:18.895Z"
   },
   {
    "duration": 8,
    "start_time": "2023-12-16T09:22:19.083Z"
   },
   {
    "duration": 93,
    "start_time": "2023-12-16T09:22:19.093Z"
   },
   {
    "duration": 174,
    "start_time": "2023-12-16T09:22:19.188Z"
   },
   {
    "duration": 8,
    "start_time": "2023-12-16T09:22:19.364Z"
   },
   {
    "duration": 129,
    "start_time": "2023-12-16T09:22:19.374Z"
   },
   {
    "duration": 191,
    "start_time": "2023-12-16T09:22:19.504Z"
   },
   {
    "duration": 15,
    "start_time": "2023-12-16T09:22:19.697Z"
   },
   {
    "duration": 46,
    "start_time": "2023-12-16T10:27:11.811Z"
   },
   {
    "duration": 1440,
    "start_time": "2023-12-16T10:27:19.283Z"
   },
   {
    "duration": 485,
    "start_time": "2023-12-16T10:27:20.724Z"
   },
   {
    "duration": 22,
    "start_time": "2023-12-16T10:27:21.210Z"
   },
   {
    "duration": 20,
    "start_time": "2023-12-16T10:27:21.234Z"
   },
   {
    "duration": 181,
    "start_time": "2023-12-16T10:27:21.255Z"
   },
   {
    "duration": 109,
    "start_time": "2023-12-16T10:27:21.438Z"
   },
   {
    "duration": 158,
    "start_time": "2023-12-16T10:27:21.548Z"
   },
   {
    "duration": 81,
    "start_time": "2023-12-16T10:27:21.707Z"
   },
   {
    "duration": 45,
    "start_time": "2023-12-16T10:27:21.790Z"
   },
   {
    "duration": 18,
    "start_time": "2023-12-16T10:27:21.837Z"
   },
   {
    "duration": 38,
    "start_time": "2023-12-16T10:27:21.857Z"
   },
   {
    "duration": 50,
    "start_time": "2023-12-16T10:27:21.896Z"
   },
   {
    "duration": 83,
    "start_time": "2023-12-16T10:27:21.947Z"
   },
   {
    "duration": 5,
    "start_time": "2023-12-16T10:27:22.031Z"
   },
   {
    "duration": 56,
    "start_time": "2023-12-16T10:27:22.037Z"
   },
   {
    "duration": 7,
    "start_time": "2023-12-16T10:27:22.094Z"
   },
   {
    "duration": 83,
    "start_time": "2023-12-16T10:27:22.103Z"
   },
   {
    "duration": 354,
    "start_time": "2023-12-16T10:27:22.188Z"
   },
   {
    "duration": 12,
    "start_time": "2023-12-16T10:27:22.544Z"
   },
   {
    "duration": 5,
    "start_time": "2023-12-16T10:27:22.558Z"
   },
   {
    "duration": 25,
    "start_time": "2023-12-16T10:27:22.564Z"
   },
   {
    "duration": 80,
    "start_time": "2023-12-16T10:27:22.590Z"
   },
   {
    "duration": 590,
    "start_time": "2023-12-16T10:27:22.672Z"
   },
   {
    "duration": 8,
    "start_time": "2023-12-16T10:27:23.263Z"
   },
   {
    "duration": 4,
    "start_time": "2023-12-16T10:27:23.272Z"
   },
   {
    "duration": 10,
    "start_time": "2023-12-16T10:27:23.278Z"
   },
   {
    "duration": 164,
    "start_time": "2023-12-16T10:27:23.290Z"
   },
   {
    "duration": 57,
    "start_time": "2023-12-16T10:27:23.458Z"
   },
   {
    "duration": 4,
    "start_time": "2023-12-16T10:27:23.517Z"
   },
   {
    "duration": 117,
    "start_time": "2023-12-16T10:27:23.522Z"
   },
   {
    "duration": 5,
    "start_time": "2023-12-16T10:27:23.640Z"
   },
   {
    "duration": 283,
    "start_time": "2023-12-16T10:27:23.646Z"
   },
   {
    "duration": 6,
    "start_time": "2023-12-16T10:27:23.931Z"
   },
   {
    "duration": 25,
    "start_time": "2023-12-16T10:27:23.938Z"
   },
   {
    "duration": 30,
    "start_time": "2023-12-16T10:27:23.964Z"
   },
   {
    "duration": 9,
    "start_time": "2023-12-16T10:27:23.996Z"
   },
   {
    "duration": 337,
    "start_time": "2023-12-16T10:27:24.006Z"
   },
   {
    "duration": 6,
    "start_time": "2023-12-16T10:27:24.345Z"
   },
   {
    "duration": 41,
    "start_time": "2023-12-16T10:27:24.353Z"
   },
   {
    "duration": 283,
    "start_time": "2023-12-16T10:27:24.395Z"
   },
   {
    "duration": 18,
    "start_time": "2023-12-16T10:27:24.679Z"
   },
   {
    "duration": 183,
    "start_time": "2023-12-16T10:27:24.698Z"
   },
   {
    "duration": 4,
    "start_time": "2023-12-16T10:27:24.882Z"
   },
   {
    "duration": 14,
    "start_time": "2023-12-16T10:27:24.888Z"
   },
   {
    "duration": 16,
    "start_time": "2023-12-16T10:27:24.903Z"
   },
   {
    "duration": 79,
    "start_time": "2023-12-16T10:27:24.920Z"
   },
   {
    "duration": 171,
    "start_time": "2023-12-16T10:27:25.000Z"
   },
   {
    "duration": 7,
    "start_time": "2023-12-16T10:27:25.172Z"
   },
   {
    "duration": 86,
    "start_time": "2023-12-16T10:27:25.180Z"
   },
   {
    "duration": 175,
    "start_time": "2023-12-16T10:27:25.267Z"
   },
   {
    "duration": 7,
    "start_time": "2023-12-16T10:27:25.444Z"
   },
   {
    "duration": 92,
    "start_time": "2023-12-16T10:27:25.452Z"
   },
   {
    "duration": 189,
    "start_time": "2023-12-16T10:27:25.546Z"
   },
   {
    "duration": 7,
    "start_time": "2023-12-16T10:27:25.737Z"
   },
   {
    "duration": 114,
    "start_time": "2023-12-16T10:27:25.746Z"
   },
   {
    "duration": 173,
    "start_time": "2023-12-16T10:27:25.862Z"
   },
   {
    "duration": 8,
    "start_time": "2023-12-16T10:27:26.037Z"
   },
   {
    "duration": 7,
    "start_time": "2023-12-16T10:49:44.943Z"
   },
   {
    "duration": 8,
    "start_time": "2023-12-16T10:50:21.117Z"
   },
   {
    "duration": 107,
    "start_time": "2023-12-16T10:52:00.000Z"
   },
   {
    "duration": 100,
    "start_time": "2023-12-16T11:05:45.299Z"
   },
   {
    "duration": 108,
    "start_time": "2023-12-16T11:06:22.773Z"
   },
   {
    "duration": 111,
    "start_time": "2023-12-16T11:08:14.953Z"
   },
   {
    "duration": 115,
    "start_time": "2023-12-16T11:09:32.563Z"
   },
   {
    "duration": 213,
    "start_time": "2023-12-16T11:09:39.011Z"
   },
   {
    "duration": 119,
    "start_time": "2023-12-16T11:09:47.233Z"
   },
   {
    "duration": 108,
    "start_time": "2023-12-16T11:09:53.324Z"
   },
   {
    "duration": 83,
    "start_time": "2023-12-16T11:10:36.640Z"
   },
   {
    "duration": 102,
    "start_time": "2023-12-16T11:10:54.660Z"
   },
   {
    "duration": 109,
    "start_time": "2023-12-16T11:11:18.190Z"
   },
   {
    "duration": 114,
    "start_time": "2023-12-16T11:12:02.512Z"
   },
   {
    "duration": 125,
    "start_time": "2023-12-16T11:12:22.764Z"
   },
   {
    "duration": 128,
    "start_time": "2023-12-16T11:12:26.963Z"
   },
   {
    "duration": 100,
    "start_time": "2023-12-16T11:13:34.302Z"
   },
   {
    "duration": 102,
    "start_time": "2023-12-16T11:14:02.774Z"
   },
   {
    "duration": 97,
    "start_time": "2023-12-16T11:20:07.543Z"
   },
   {
    "duration": 111,
    "start_time": "2023-12-16T11:20:14.645Z"
   },
   {
    "duration": 123,
    "start_time": "2023-12-16T11:20:35.908Z"
   },
   {
    "duration": 214,
    "start_time": "2023-12-16T11:23:39.127Z"
   },
   {
    "duration": 113,
    "start_time": "2023-12-16T11:29:51.167Z"
   },
   {
    "duration": 113,
    "start_time": "2023-12-16T11:29:55.370Z"
   },
   {
    "duration": 206,
    "start_time": "2023-12-16T11:34:49.399Z"
   },
   {
    "duration": 255,
    "start_time": "2023-12-16T11:34:58.741Z"
   },
   {
    "duration": 220,
    "start_time": "2023-12-16T11:35:11.783Z"
   },
   {
    "duration": 5,
    "start_time": "2023-12-16T11:41:02.540Z"
   },
   {
    "duration": 122,
    "start_time": "2023-12-16T11:46:01.894Z"
   },
   {
    "duration": 263,
    "start_time": "2023-12-16T11:46:08.036Z"
   },
   {
    "duration": 11,
    "start_time": "2023-12-16T11:50:05.090Z"
   },
   {
    "duration": 11,
    "start_time": "2023-12-16T11:58:28.886Z"
   },
   {
    "duration": 13,
    "start_time": "2023-12-16T11:59:56.058Z"
   },
   {
    "duration": 11,
    "start_time": "2023-12-16T12:00:05.750Z"
   },
   {
    "duration": 11,
    "start_time": "2023-12-16T12:00:09.280Z"
   },
   {
    "duration": 11,
    "start_time": "2023-12-16T12:00:12.807Z"
   },
   {
    "duration": 10,
    "start_time": "2023-12-16T12:00:16.021Z"
   },
   {
    "duration": 9,
    "start_time": "2023-12-16T12:00:25.818Z"
   },
   {
    "duration": 10,
    "start_time": "2023-12-16T12:00:30.626Z"
   },
   {
    "duration": 10,
    "start_time": "2023-12-16T12:00:37.287Z"
   },
   {
    "duration": 10,
    "start_time": "2023-12-16T12:01:08.612Z"
   },
   {
    "duration": 10,
    "start_time": "2023-12-16T12:01:38.835Z"
   },
   {
    "duration": 11,
    "start_time": "2023-12-16T12:01:42.726Z"
   },
   {
    "duration": 1215,
    "start_time": "2023-12-16T12:03:14.784Z"
   },
   {
    "duration": 168,
    "start_time": "2023-12-16T12:03:16.000Z"
   },
   {
    "duration": 22,
    "start_time": "2023-12-16T12:03:16.169Z"
   },
   {
    "duration": 3,
    "start_time": "2023-12-16T12:03:16.192Z"
   },
   {
    "duration": 164,
    "start_time": "2023-12-16T12:03:16.197Z"
   },
   {
    "duration": 115,
    "start_time": "2023-12-16T12:03:16.362Z"
   },
   {
    "duration": 176,
    "start_time": "2023-12-16T12:03:16.478Z"
   },
   {
    "duration": 85,
    "start_time": "2023-12-16T12:03:16.656Z"
   },
   {
    "duration": 34,
    "start_time": "2023-12-16T12:03:16.743Z"
   },
   {
    "duration": 17,
    "start_time": "2023-12-16T12:03:16.779Z"
   },
   {
    "duration": 44,
    "start_time": "2023-12-16T12:03:16.797Z"
   },
   {
    "duration": 34,
    "start_time": "2023-12-16T12:03:16.843Z"
   },
   {
    "duration": 80,
    "start_time": "2023-12-16T12:03:16.879Z"
   },
   {
    "duration": 301,
    "start_time": "2023-12-16T12:03:16.962Z"
   },
   {
    "duration": 4,
    "start_time": "2023-12-16T12:03:17.264Z"
   },
   {
    "duration": 51,
    "start_time": "2023-12-16T12:03:17.269Z"
   },
   {
    "duration": 5,
    "start_time": "2023-12-16T12:03:17.321Z"
   },
   {
    "duration": 39,
    "start_time": "2023-12-16T12:03:17.327Z"
   },
   {
    "duration": 339,
    "start_time": "2023-12-16T12:03:17.367Z"
   },
   {
    "duration": 17,
    "start_time": "2023-12-16T12:03:17.708Z"
   },
   {
    "duration": 4,
    "start_time": "2023-12-16T12:03:17.726Z"
   },
   {
    "duration": 22,
    "start_time": "2023-12-16T12:03:17.731Z"
   },
   {
    "duration": 85,
    "start_time": "2023-12-16T12:03:17.754Z"
   },
   {
    "duration": 536,
    "start_time": "2023-12-16T12:03:17.840Z"
   },
   {
    "duration": 9,
    "start_time": "2023-12-16T12:03:18.377Z"
   },
   {
    "duration": 243,
    "start_time": "2023-12-16T12:03:18.387Z"
   },
   {
    "duration": 9,
    "start_time": "2023-12-16T12:03:18.632Z"
   },
   {
    "duration": 211,
    "start_time": "2023-12-16T12:03:18.643Z"
   },
   {
    "duration": 63,
    "start_time": "2023-12-16T12:03:18.856Z"
   },
   {
    "duration": 3,
    "start_time": "2023-12-16T12:03:18.920Z"
   },
   {
    "duration": 104,
    "start_time": "2023-12-16T12:03:18.925Z"
   },
   {
    "duration": 3,
    "start_time": "2023-12-16T12:03:19.031Z"
   },
   {
    "duration": 253,
    "start_time": "2023-12-16T12:03:19.036Z"
   },
   {
    "duration": 7,
    "start_time": "2023-12-16T12:03:19.290Z"
   },
   {
    "duration": 29,
    "start_time": "2023-12-16T12:03:19.298Z"
   },
   {
    "duration": 11,
    "start_time": "2023-12-16T12:03:19.328Z"
   },
   {
    "duration": 9,
    "start_time": "2023-12-16T12:03:19.341Z"
   },
   {
    "duration": 266,
    "start_time": "2023-12-16T12:03:19.351Z"
   },
   {
    "duration": 6,
    "start_time": "2023-12-16T12:03:19.618Z"
   },
   {
    "duration": 7,
    "start_time": "2023-12-16T12:03:19.625Z"
   },
   {
    "duration": 288,
    "start_time": "2023-12-16T12:03:19.636Z"
   },
   {
    "duration": 17,
    "start_time": "2023-12-16T12:03:19.925Z"
   },
   {
    "duration": 163,
    "start_time": "2023-12-16T12:03:19.943Z"
   },
   {
    "duration": 9,
    "start_time": "2023-12-16T12:03:20.107Z"
   },
   {
    "duration": 12,
    "start_time": "2023-12-16T12:03:20.117Z"
   },
   {
    "duration": 39,
    "start_time": "2023-12-16T12:03:20.130Z"
   },
   {
    "duration": 96,
    "start_time": "2023-12-16T12:03:20.171Z"
   },
   {
    "duration": 172,
    "start_time": "2023-12-16T12:03:20.269Z"
   },
   {
    "duration": 7,
    "start_time": "2023-12-16T12:03:20.443Z"
   },
   {
    "duration": 101,
    "start_time": "2023-12-16T12:03:20.451Z"
   },
   {
    "duration": 173,
    "start_time": "2023-12-16T12:03:20.553Z"
   },
   {
    "duration": 7,
    "start_time": "2023-12-16T12:03:20.728Z"
   },
   {
    "duration": 90,
    "start_time": "2023-12-16T12:03:20.736Z"
   },
   {
    "duration": 176,
    "start_time": "2023-12-16T12:03:20.828Z"
   },
   {
    "duration": 12,
    "start_time": "2023-12-16T12:03:21.005Z"
   },
   {
    "duration": 105,
    "start_time": "2023-12-16T12:03:21.018Z"
   },
   {
    "duration": 175,
    "start_time": "2023-12-16T12:03:21.124Z"
   },
   {
    "duration": 7,
    "start_time": "2023-12-16T12:03:21.300Z"
   },
   {
    "duration": 1358,
    "start_time": "2023-12-16T20:03:13.692Z"
   },
   {
    "duration": 737,
    "start_time": "2023-12-16T20:03:15.052Z"
   },
   {
    "duration": 30,
    "start_time": "2023-12-16T20:03:15.790Z"
   },
   {
    "duration": 3,
    "start_time": "2023-12-16T20:03:15.821Z"
   },
   {
    "duration": 187,
    "start_time": "2023-12-16T20:03:15.826Z"
   },
   {
    "duration": 118,
    "start_time": "2023-12-16T20:03:16.014Z"
   },
   {
    "duration": 162,
    "start_time": "2023-12-16T20:03:16.134Z"
   },
   {
    "duration": 86,
    "start_time": "2023-12-16T20:03:16.297Z"
   },
   {
    "duration": 45,
    "start_time": "2023-12-16T20:03:16.384Z"
   },
   {
    "duration": 16,
    "start_time": "2023-12-16T20:03:16.431Z"
   },
   {
    "duration": 52,
    "start_time": "2023-12-16T20:03:16.449Z"
   },
   {
    "duration": 39,
    "start_time": "2023-12-16T20:03:16.503Z"
   },
   {
    "duration": 86,
    "start_time": "2023-12-16T20:03:16.544Z"
   },
   {
    "duration": 226,
    "start_time": "2023-12-16T20:03:16.633Z"
   },
   {
    "duration": 4,
    "start_time": "2023-12-16T20:03:16.861Z"
   },
   {
    "duration": 14,
    "start_time": "2023-12-16T20:03:16.867Z"
   },
   {
    "duration": 8,
    "start_time": "2023-12-16T20:03:16.883Z"
   },
   {
    "duration": 40,
    "start_time": "2023-12-16T20:03:16.899Z"
   },
   {
    "duration": 329,
    "start_time": "2023-12-16T20:03:16.940Z"
   },
   {
    "duration": 20,
    "start_time": "2023-12-16T20:03:17.271Z"
   },
   {
    "duration": 9,
    "start_time": "2023-12-16T20:03:17.293Z"
   },
   {
    "duration": 43,
    "start_time": "2023-12-16T20:03:17.303Z"
   },
   {
    "duration": 70,
    "start_time": "2023-12-16T20:03:17.348Z"
   },
   {
    "duration": 592,
    "start_time": "2023-12-16T20:03:17.420Z"
   },
   {
    "duration": 10,
    "start_time": "2023-12-16T20:03:18.014Z"
   },
   {
    "duration": 5,
    "start_time": "2023-12-16T20:03:18.026Z"
   },
   {
    "duration": 9,
    "start_time": "2023-12-16T20:03:18.032Z"
   },
   {
    "duration": 315,
    "start_time": "2023-12-16T20:03:18.042Z"
   },
   {
    "duration": 58,
    "start_time": "2023-12-16T20:03:18.359Z"
   },
   {
    "duration": 3,
    "start_time": "2023-12-16T20:03:18.419Z"
   },
   {
    "duration": 114,
    "start_time": "2023-12-16T20:03:18.425Z"
   },
   {
    "duration": 5,
    "start_time": "2023-12-16T20:03:18.541Z"
   },
   {
    "duration": 288,
    "start_time": "2023-12-16T20:03:18.547Z"
   },
   {
    "duration": 7,
    "start_time": "2023-12-16T20:03:18.836Z"
   },
   {
    "duration": 7,
    "start_time": "2023-12-16T20:03:18.844Z"
   },
   {
    "duration": 20,
    "start_time": "2023-12-16T20:03:18.853Z"
   },
   {
    "duration": 6,
    "start_time": "2023-12-16T20:03:18.875Z"
   },
   {
    "duration": 251,
    "start_time": "2023-12-16T20:03:18.903Z"
   },
   {
    "duration": 6,
    "start_time": "2023-12-16T20:03:19.156Z"
   },
   {
    "duration": 7,
    "start_time": "2023-12-16T20:03:19.164Z"
   },
   {
    "duration": 291,
    "start_time": "2023-12-16T20:03:19.174Z"
   },
   {
    "duration": 16,
    "start_time": "2023-12-16T20:03:19.466Z"
   },
   {
    "duration": 174,
    "start_time": "2023-12-16T20:03:19.484Z"
   },
   {
    "duration": 3,
    "start_time": "2023-12-16T20:03:19.660Z"
   },
   {
    "duration": 7,
    "start_time": "2023-12-16T20:03:19.664Z"
   },
   {
    "duration": 8,
    "start_time": "2023-12-16T20:03:19.673Z"
   },
   {
    "duration": 95,
    "start_time": "2023-12-16T20:03:19.682Z"
   },
   {
    "duration": 170,
    "start_time": "2023-12-16T20:03:19.779Z"
   },
   {
    "duration": 8,
    "start_time": "2023-12-16T20:03:19.950Z"
   },
   {
    "duration": 96,
    "start_time": "2023-12-16T20:03:19.960Z"
   },
   {
    "duration": 198,
    "start_time": "2023-12-16T20:03:20.058Z"
   },
   {
    "duration": 6,
    "start_time": "2023-12-16T20:03:20.258Z"
   },
   {
    "duration": 85,
    "start_time": "2023-12-16T20:03:20.265Z"
   },
   {
    "duration": 174,
    "start_time": "2023-12-16T20:03:20.351Z"
   },
   {
    "duration": 6,
    "start_time": "2023-12-16T20:03:20.527Z"
   },
   {
    "duration": 108,
    "start_time": "2023-12-16T20:03:20.534Z"
   },
   {
    "duration": 180,
    "start_time": "2023-12-16T20:03:20.644Z"
   },
   {
    "duration": 8,
    "start_time": "2023-12-16T20:03:20.826Z"
   }
  ],
  "kernelspec": {
   "display_name": "Python 3 (ipykernel)",
   "language": "python",
   "name": "python3"
  },
  "language_info": {
   "codemirror_mode": {
    "name": "ipython",
    "version": 3
   },
   "file_extension": ".py",
   "mimetype": "text/x-python",
   "name": "python",
   "nbconvert_exporter": "python",
   "pygments_lexer": "ipython3",
   "version": "3.9.18"
  },
  "toc": {
   "base_numbering": 1,
   "nav_menu": {},
   "number_sections": true,
   "sideBar": true,
   "skip_h1_title": true,
   "title_cell": "Содержание",
   "title_sidebar": "Contents",
   "toc_cell": true,
   "toc_position": {
    "height": "calc(100% - 180px)",
    "left": "10px",
    "top": "150px",
    "width": "359.7px"
   },
   "toc_section_display": true,
   "toc_window_display": true
  }
 },
 "nbformat": 4,
 "nbformat_minor": 4
}
