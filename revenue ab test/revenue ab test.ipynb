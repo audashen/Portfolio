{
 "cells": [
  {
   "cell_type": "markdown",
   "metadata": {},
   "source": [
    "# Приоритизация гипотез и анализ результатов A/B-теста"
   ]
  },
  {
   "cell_type": "markdown",
   "metadata": {
    "toc": true
   },
   "source": [
    "<h1>Содержание<span class=\"tocSkip\"></span></h1>\n",
    "<div class=\"toc\"><ul class=\"toc-item\"><li><span><a href=\"#Загрузка-данных-и-подготовка-к-анализу\" data-toc-modified-id=\"Загрузка-данных-и-подготовка-к-анализу-1\"><span class=\"toc-item-num\">1&nbsp;&nbsp;</span>Загрузка данных и подготовка к анализу</a></span></li><li><span><a href=\"#Предобработка-данных\" data-toc-modified-id=\"Предобработка-данных-2\"><span class=\"toc-item-num\">2&nbsp;&nbsp;</span>Предобработка данных</a></span><ul class=\"toc-item\"><li><span><a href=\"#Изменение-типа-данных\" data-toc-modified-id=\"Изменение-типа-данных-2.1\"><span class=\"toc-item-num\">2.1&nbsp;&nbsp;</span>Изменение типа данных</a></span></li><li><span><a href=\"#Обработка-пропусков\" data-toc-modified-id=\"Обработка-пропусков-2.2\"><span class=\"toc-item-num\">2.2&nbsp;&nbsp;</span>Обработка пропусков</a></span></li><li><span><a href=\"#Обработка-дубликатов\" data-toc-modified-id=\"Обработка-дубликатов-2.3\"><span class=\"toc-item-num\">2.3&nbsp;&nbsp;</span>Обработка дубликатов</a></span></li><li><span><a href=\"#Проверка-правильности-подготовки-к-A/B-тесту\" data-toc-modified-id=\"Проверка-правильности-подготовки-к-A/B-тесту-2.4\"><span class=\"toc-item-num\">2.4&nbsp;&nbsp;</span>Проверка правильности подготовки к A/B тесту</a></span></li></ul></li><li><span><a href=\"#Приоритизация-гипотез\" data-toc-modified-id=\"Приоритизация-гипотез-3\"><span class=\"toc-item-num\">3&nbsp;&nbsp;</span>Приоритизация гипотез</a></span></li><li><span><a href=\"#Анализ-A/B-теста\" data-toc-modified-id=\"Анализ-A/B-теста-4\"><span class=\"toc-item-num\">4&nbsp;&nbsp;</span>Анализ A/B-теста</a></span><ul class=\"toc-item\"><li><span><a href=\"#График-кумулятивной-выручки-по-группам\" data-toc-modified-id=\"График-кумулятивной-выручки-по-группам-4.1\"><span class=\"toc-item-num\">4.1&nbsp;&nbsp;</span>График кумулятивной выручки по группам</a></span></li><li><span><a href=\"#График-кумулятивного-среднего-чека-по-группам\" data-toc-modified-id=\"График-кумулятивного-среднего-чека-по-группам-4.2\"><span class=\"toc-item-num\">4.2&nbsp;&nbsp;</span>График кумулятивного среднего чека по группам</a></span></li><li><span><a href=\"#График-кумулятивного-среднего-количества-заказов\" data-toc-modified-id=\"График-кумулятивного-среднего-количества-заказов-4.3\"><span class=\"toc-item-num\">4.3&nbsp;&nbsp;</span>График кумулятивного среднего количества заказов</a></span></li><li><span><a href=\"#Диаграмма-рассеяния-количества-заказов-по-пользователям\" data-toc-modified-id=\"Диаграмма-рассеяния-количества-заказов-по-пользователям-4.4\"><span class=\"toc-item-num\">4.4&nbsp;&nbsp;</span>Диаграмма рассеяния количества заказов по пользователям</a></span></li><li><span><a href=\"#Диаграмма-рассеяния-стоимостей-заказов\" data-toc-modified-id=\"Диаграмма-рассеяния-стоимостей-заказов-4.5\"><span class=\"toc-item-num\">4.5&nbsp;&nbsp;</span>Диаграмма рассеяния стоимостей заказов</a></span></li><li><span><a href=\"#Cтатистическая-значимость-различий-в-среднем-количестве-заказов-между-группами-по-«сырым»-данным\" data-toc-modified-id=\"Cтатистическая-значимость-различий-в-среднем-количестве-заказов-между-группами-по-«сырым»-данным-4.6\"><span class=\"toc-item-num\">4.6&nbsp;&nbsp;</span>Cтатистическая значимость различий в среднем количестве заказов между группами по «сырым» данным</a></span></li><li><span><a href=\"#Cтатистическая-значимость-различий-в-среднем-чеке-между-группами-по-«сырым»-данным\" data-toc-modified-id=\"Cтатистическая-значимость-различий-в-среднем-чеке-между-группами-по-«сырым»-данным-4.7\"><span class=\"toc-item-num\">4.7&nbsp;&nbsp;</span>Cтатистическая значимость различий в среднем чеке между группами по «сырым» данным</a></span></li><li><span><a href=\"#Cтатистическая-значимость-различий-в-среднем-количестве-заказов-между-группами-по-«очищенным»-данным\" data-toc-modified-id=\"Cтатистическая-значимость-различий-в-среднем-количестве-заказов-между-группами-по-«очищенным»-данным-4.8\"><span class=\"toc-item-num\">4.8&nbsp;&nbsp;</span>Cтатистическая значимость различий в среднем количестве заказов между группами по «очищенным» данным</a></span></li><li><span><a href=\"#Cтатистическая-значимость-различий-в-среднем-чеке-между-группами-по-«очищенным»-данным\" data-toc-modified-id=\"Cтатистическая-значимость-различий-в-среднем-чеке-между-группами-по-«очищенным»-данным-4.9\"><span class=\"toc-item-num\">4.9&nbsp;&nbsp;</span>Cтатистическая значимость различий в среднем чеке между группами по «очищенным» данным</a></span></li><li><span><a href=\"#Решение-по-результатам-теста\" data-toc-modified-id=\"Решение-по-результатам-теста-4.10\"><span class=\"toc-item-num\">4.10&nbsp;&nbsp;</span>Решение по результатам теста</a></span></li></ul></li><li><span><a href=\"#Выводы\" data-toc-modified-id=\"Выводы-5\"><span class=\"toc-item-num\">5&nbsp;&nbsp;</span>Выводы</a></span></li></ul></div>"
   ]
  },
  {
   "cell_type": "markdown",
   "metadata": {},
   "source": [
    "Краткое описание проекта: отдел аналитики крупного интернет-магазина вместе с отделом маркетинга подготовил список гипотез для увеличения выручки. Необходимо приоритизировать гипотезы, запустить A/B-тест и проанализировать результаты. "
   ]
  },
  {
   "cell_type": "markdown",
   "metadata": {},
   "source": [
    "Описание данных:\n",
    "\n",
    "Структура `/datasets/hypothesis.csv.`:\n",
    "* `Hypothesis` — краткое описание гипотезы;\n",
    "* `Reach` — охват пользователей по 10-балльной шкале;\n",
    "* `Impact` — влияние на пользователей по 10-балльной шкале;\n",
    "* `Confidence` — уверенность в гипотезе по 10-балльной шкале;\n",
    "* `Efforts` — затраты ресурсов на проверку гипотезы по 10-балльной шкале. Чем больше значение `Efforts`, тем дороже проверка гипотезы.\n",
    "\n",
    "Структура `/datasets/orders.csv.`:\n",
    "* `transactionId` — идентификатор заказа;\n",
    "* `visitorId` — идентификатор пользователя, совершившего заказ;\n",
    "* `date` — дата, когда был совершён заказ;\n",
    "* `revenue` — выручка заказа;\n",
    "* `group` — группа A/B-теста, в которую попал заказ.\n",
    "\n",
    "Структура `/datasets/visitors.csv.`:\n",
    "* `date` — дата;\n",
    "* `group` — группа A/B-теста;\n",
    "* `visitors` — количество пользователей в указанную дату в указанной группе A/B-теста."
   ]
  },
  {
   "cell_type": "markdown",
   "metadata": {},
   "source": [
    "План исследования: \n",
    "1. Выгрузка данных и первичное знакомство с данными.\n",
    "2. Изменение типов данных, обработка дубликатов и пропусков.\n",
    "3. Проверка корректности подготовки к проведению A/B-теста.\n",
    "4. Приоритизация гипотез фреймворками ICE и RICE.\n",
    "5. Построение графиков кумулятивных метрик по группам.\n",
    "6. Поиск и анализ аномалий в группах. \n",
    "7. Расчет различия в метриках между группами и его статистической значимости.\n",
    "8. Принятие решения по результатам A/B-теста.\n",
    "9. Выводы. "
   ]
  },
  {
   "cell_type": "markdown",
   "metadata": {},
   "source": [
    "Цель проекта: проверка гипотез и принятие решений, которые помогут увеличить выручку интернет-магазина. "
   ]
  },
  {
   "cell_type": "code",
   "execution_count": 1,
   "metadata": {},
   "outputs": [],
   "source": [
    "import pandas as pd\n",
    "import matplotlib.pyplot as plt\n",
    "import numpy as np\n",
    "import seaborn as sns\n",
    "import datetime as dt\n",
    "from scipy import stats as st\n",
    "from scipy.stats import binom, norm\n",
    "from math import sqrt\n",
    "from IPython.display import display"
   ]
  },
  {
   "cell_type": "markdown",
   "metadata": {},
   "source": [
    "### Загрузка данных и подготовка к анализу"
   ]
  },
  {
   "cell_type": "code",
   "execution_count": 2,
   "metadata": {},
   "outputs": [],
   "source": [
    "rice = pd.read_csv('hypothesis.csv')\n",
    "orders = pd.read_csv('orders.csv')\n",
    "visitors = pd.read_csv('visitors.csv')"
   ]
  },
  {
   "cell_type": "code",
   "execution_count": 3,
   "metadata": {},
   "outputs": [
    {
     "name": "stdout",
     "output_type": "stream",
     "text": [
      "<class 'pandas.core.frame.DataFrame'>\n",
      "RangeIndex: 9 entries, 0 to 8\n",
      "Data columns (total 5 columns):\n",
      " #   Column      Non-Null Count  Dtype \n",
      "---  ------      --------------  ----- \n",
      " 0   Hypothesis  9 non-null      object\n",
      " 1   Reach       9 non-null      int64 \n",
      " 2   Impact      9 non-null      int64 \n",
      " 3   Confidence  9 non-null      int64 \n",
      " 4   Efforts     9 non-null      int64 \n",
      "dtypes: int64(4), object(1)\n",
      "memory usage: 488.0+ bytes\n",
      "<class 'pandas.core.frame.DataFrame'>\n",
      "RangeIndex: 1197 entries, 0 to 1196\n",
      "Data columns (total 5 columns):\n",
      " #   Column         Non-Null Count  Dtype \n",
      "---  ------         --------------  ----- \n",
      " 0   transactionId  1197 non-null   int64 \n",
      " 1   visitorId      1197 non-null   int64 \n",
      " 2   date           1197 non-null   object\n",
      " 3   revenue        1197 non-null   int64 \n",
      " 4   group          1197 non-null   object\n",
      "dtypes: int64(3), object(2)\n",
      "memory usage: 46.9+ KB\n",
      "<class 'pandas.core.frame.DataFrame'>\n",
      "RangeIndex: 62 entries, 0 to 61\n",
      "Data columns (total 3 columns):\n",
      " #   Column    Non-Null Count  Dtype \n",
      "---  ------    --------------  ----- \n",
      " 0   date      62 non-null     object\n",
      " 1   group     62 non-null     object\n",
      " 2   visitors  62 non-null     int64 \n",
      "dtypes: int64(1), object(2)\n",
      "memory usage: 1.6+ KB\n"
     ]
    }
   ],
   "source": [
    "rice.info()\n",
    "orders.info()\n",
    "visitors.info()"
   ]
  },
  {
   "cell_type": "markdown",
   "metadata": {},
   "source": [
    "### Предобработка данных"
   ]
  },
  {
   "cell_type": "markdown",
   "metadata": {},
   "source": [
    "#### Изменение типа данных"
   ]
  },
  {
   "cell_type": "markdown",
   "metadata": {},
   "source": [
    "Из первичного знакомства с данными видно, что у столбцов со временем строковый формат, поэтому его нужно поменять на datetime. Также нужно поменять названия столбцов: применить нижний регистр и добавить нижние подчеркивания между словами."
   ]
  },
  {
   "cell_type": "code",
   "execution_count": 4,
   "metadata": {},
   "outputs": [],
   "source": [
    "orders['date'] = orders['date'].map(\n",
    "    lambda x: dt.datetime.strptime(x, '%Y-%m-%d')\n",
    ")\n",
    "visitors['date'] = visitors['date'].map(\n",
    "    lambda x: dt.datetime.strptime(x, '%Y-%m-%d')\n",
    ")"
   ]
  },
  {
   "cell_type": "code",
   "execution_count": 5,
   "metadata": {},
   "outputs": [],
   "source": [
    "rice.columns = rice.columns.str.lower()\n",
    "orders.columns = orders.columns.str.lower()\n",
    "visitors.columns = visitors.columns.str.lower()"
   ]
  },
  {
   "cell_type": "code",
   "execution_count": 6,
   "metadata": {},
   "outputs": [],
   "source": [
    "orders.columns = orders.columns.str.replace('id', '_id')\n",
    "visitors.columns = visitors.columns.str.replace('id', '_id')"
   ]
  },
  {
   "cell_type": "markdown",
   "metadata": {},
   "source": [
    "#### Обработка пропусков"
   ]
  },
  {
   "cell_type": "markdown",
   "metadata": {},
   "source": [
    "Из первичного знакомства с данными видно, что пропуски отсутствуют. "
   ]
  },
  {
   "cell_type": "markdown",
   "metadata": {},
   "source": [
    "#### Обработка дубликатов"
   ]
  },
  {
   "cell_type": "code",
   "execution_count": 7,
   "metadata": {},
   "outputs": [
    {
     "data": {
      "text/plain": [
       "0"
      ]
     },
     "execution_count": 7,
     "metadata": {},
     "output_type": "execute_result"
    }
   ],
   "source": [
    "rice.duplicated().sum()"
   ]
  },
  {
   "cell_type": "code",
   "execution_count": 8,
   "metadata": {},
   "outputs": [
    {
     "data": {
      "text/plain": [
       "0"
      ]
     },
     "execution_count": 8,
     "metadata": {},
     "output_type": "execute_result"
    }
   ],
   "source": [
    "orders.duplicated().sum()"
   ]
  },
  {
   "cell_type": "code",
   "execution_count": 9,
   "metadata": {},
   "outputs": [
    {
     "data": {
      "text/plain": [
       "0"
      ]
     },
     "execution_count": 9,
     "metadata": {},
     "output_type": "execute_result"
    }
   ],
   "source": [
    "visitors.duplicated().sum()"
   ]
  },
  {
   "cell_type": "markdown",
   "metadata": {},
   "source": [
    "Явные дубликаты отсутствуют. Из самих данных сложно предоположить наличие неявных дубликатов. Можно проверить есть ли одинаковые пары пользователь-заказ, так как иногда это может быть дубликатом."
   ]
  },
  {
   "cell_type": "code",
   "execution_count": 10,
   "metadata": {},
   "outputs": [
    {
     "data": {
      "text/plain": [
       "0"
      ]
     },
     "execution_count": 10,
     "metadata": {},
     "output_type": "execute_result"
    }
   ],
   "source": [
    "orders.query('visitor_id.duplicated()==True and transaction_id.duplicated()==True')['visitor_id'].nunique()"
   ]
  },
  {
   "cell_type": "markdown",
   "metadata": {},
   "source": [
    "#### Проверка правильности подготовки к A/B тесту"
   ]
  },
  {
   "cell_type": "markdown",
   "metadata": {},
   "source": [
    "Проверим корректность деления трафика, в идеале пользователей должно быть равное количество:"
   ]
  },
  {
   "cell_type": "code",
   "execution_count": 11,
   "metadata": {},
   "outputs": [
    {
     "data": {
      "text/plain": [
       "16.5"
      ]
     },
     "execution_count": 11,
     "metadata": {},
     "output_type": "execute_result"
    }
   ],
   "source": [
    "sampleA = orders.query('group==\"A\"')['visitor_id'].nunique()\n",
    "sampleB = orders.query('group==\"B\"')['visitor_id'].nunique()\n",
    "round(sampleB/sampleA-1,3)*100"
   ]
  },
  {
   "cell_type": "markdown",
   "metadata": {},
   "source": [
    "Количество пользователей в sampleB (586) на 16,5% выше, чем в sampleA (503). Это может привести к некорректным выводам."
   ]
  },
  {
   "cell_type": "markdown",
   "metadata": {},
   "source": [
    "Проверим есть ли в данных пользователи, которые входят в обе группы A/B теста:"
   ]
  },
  {
   "cell_type": "code",
   "execution_count": 12,
   "metadata": {
    "scrolled": true
   },
   "outputs": [
    {
     "data": {
      "text/plain": [
       "58"
      ]
     },
     "execution_count": 12,
     "metadata": {},
     "output_type": "execute_result"
    }
   ],
   "source": [
    "orders.groupby('visitor_id', as_index=False).agg({'group': 'nunique'}).query('group==2')['visitor_id'].nunique()"
   ]
  },
  {
   "cell_type": "markdown",
   "metadata": {},
   "source": [
    "В выборке имеется 58 пользователей, которые входят в две группы одновременно. Это скорее всего связано с ошибками при подготовке к тесту, например некорректное деление трафика. Предпочтительным является удаление таких пользователей из теста, однако это не представляется возможным, так как для удаления данных пользователей из таблицы visitors информации недостаточно. Поэтому оставим все как есть. "
   ]
  },
  {
   "cell_type": "markdown",
   "metadata": {},
   "source": [
    "Предварительная обработка данных показала, что с точки зрения качества данные очень хорошие: в них полностью отсутствуют пропуски и дубликаты. Единственное, что пришлось исправить, это поменять тип данных в столбцах с датой и временем и привести регистр названия столбцов к snake_case.\\\n",
    "С другой стороны, к A/B тесту подготовились не очень хорошо: в группах разное количество пользователей и есть пользователи в обеих группах сразу. "
   ]
  },
  {
   "cell_type": "markdown",
   "metadata": {},
   "source": [
    "### Приоритизация гипотез"
   ]
  },
  {
   "cell_type": "code",
   "execution_count": 13,
   "metadata": {},
   "outputs": [],
   "source": [
    "rice['ice'] = (\n",
    "    rice['impact']*rice['confidence']/rice['efforts']\n",
    ").round(2)\n",
    "rice['rice'] = (\n",
    "    rice['reach']*rice['impact']*rice['confidence']/rice['efforts']\n",
    ").round(2)"
   ]
  },
  {
   "cell_type": "code",
   "execution_count": 14,
   "metadata": {
    "scrolled": true
   },
   "outputs": [],
   "source": [
    "rice.sort_values(by='ice', ascending=False)\n",
    "pd.set_option('display.max_colwidth', False)"
   ]
  },
  {
   "cell_type": "code",
   "execution_count": 15,
   "metadata": {},
   "outputs": [
    {
     "data": {
      "text/html": [
       "<div>\n",
       "<style scoped>\n",
       "    .dataframe tbody tr th:only-of-type {\n",
       "        vertical-align: middle;\n",
       "    }\n",
       "\n",
       "    .dataframe tbody tr th {\n",
       "        vertical-align: top;\n",
       "    }\n",
       "\n",
       "    .dataframe thead th {\n",
       "        text-align: right;\n",
       "    }\n",
       "</style>\n",
       "<table border=\"1\" class=\"dataframe\">\n",
       "  <thead>\n",
       "    <tr style=\"text-align: right;\">\n",
       "      <th></th>\n",
       "      <th>hypothesis</th>\n",
       "      <th>reach</th>\n",
       "      <th>impact</th>\n",
       "      <th>confidence</th>\n",
       "      <th>efforts</th>\n",
       "      <th>ice</th>\n",
       "      <th>rice</th>\n",
       "    </tr>\n",
       "  </thead>\n",
       "  <tbody>\n",
       "    <tr>\n",
       "      <th>7</th>\n",
       "      <td>Добавить форму подписки на все основные страницы, чтобы собрать базу клиентов для email-рассылок</td>\n",
       "      <td>10</td>\n",
       "      <td>7</td>\n",
       "      <td>8</td>\n",
       "      <td>5</td>\n",
       "      <td>11.20</td>\n",
       "      <td>112.0</td>\n",
       "    </tr>\n",
       "    <tr>\n",
       "      <th>2</th>\n",
       "      <td>Добавить блоки рекомендаций товаров на сайт интернет магазина, чтобы повысить конверсию и средний чек заказа</td>\n",
       "      <td>8</td>\n",
       "      <td>3</td>\n",
       "      <td>7</td>\n",
       "      <td>3</td>\n",
       "      <td>7.00</td>\n",
       "      <td>56.0</td>\n",
       "    </tr>\n",
       "    <tr>\n",
       "      <th>0</th>\n",
       "      <td>Добавить два новых канала привлечения трафика, что позволит привлекать на 30% больше пользователей</td>\n",
       "      <td>3</td>\n",
       "      <td>10</td>\n",
       "      <td>8</td>\n",
       "      <td>6</td>\n",
       "      <td>13.33</td>\n",
       "      <td>40.0</td>\n",
       "    </tr>\n",
       "    <tr>\n",
       "      <th>6</th>\n",
       "      <td>Показать на главной странице баннеры с актуальными акциями и распродажами, чтобы увеличить конверсию</td>\n",
       "      <td>5</td>\n",
       "      <td>3</td>\n",
       "      <td>8</td>\n",
       "      <td>3</td>\n",
       "      <td>8.00</td>\n",
       "      <td>40.0</td>\n",
       "    </tr>\n",
       "    <tr>\n",
       "      <th>8</th>\n",
       "      <td>Запустить акцию, дающую скидку на товар в день рождения</td>\n",
       "      <td>1</td>\n",
       "      <td>9</td>\n",
       "      <td>9</td>\n",
       "      <td>5</td>\n",
       "      <td>16.20</td>\n",
       "      <td>16.2</td>\n",
       "    </tr>\n",
       "    <tr>\n",
       "      <th>3</th>\n",
       "      <td>Изменить структура категорий, что увеличит конверсию, т.к. пользователи быстрее найдут нужный товар</td>\n",
       "      <td>8</td>\n",
       "      <td>3</td>\n",
       "      <td>3</td>\n",
       "      <td>8</td>\n",
       "      <td>1.12</td>\n",
       "      <td>9.0</td>\n",
       "    </tr>\n",
       "    <tr>\n",
       "      <th>1</th>\n",
       "      <td>Запустить собственную службу доставки, что сократит срок доставки заказов</td>\n",
       "      <td>2</td>\n",
       "      <td>5</td>\n",
       "      <td>4</td>\n",
       "      <td>10</td>\n",
       "      <td>2.00</td>\n",
       "      <td>4.0</td>\n",
       "    </tr>\n",
       "    <tr>\n",
       "      <th>5</th>\n",
       "      <td>Добавить страницу отзывов клиентов о магазине, что позволит увеличить количество заказов</td>\n",
       "      <td>3</td>\n",
       "      <td>2</td>\n",
       "      <td>2</td>\n",
       "      <td>3</td>\n",
       "      <td>1.33</td>\n",
       "      <td>4.0</td>\n",
       "    </tr>\n",
       "    <tr>\n",
       "      <th>4</th>\n",
       "      <td>Изменить цвет фона главной страницы, чтобы увеличить вовлеченность пользователей</td>\n",
       "      <td>3</td>\n",
       "      <td>1</td>\n",
       "      <td>1</td>\n",
       "      <td>1</td>\n",
       "      <td>1.00</td>\n",
       "      <td>3.0</td>\n",
       "    </tr>\n",
       "  </tbody>\n",
       "</table>\n",
       "</div>"
      ],
      "text/plain": [
       "                                                                                                     hypothesis  \\\n",
       "7  Добавить форму подписки на все основные страницы, чтобы собрать базу клиентов для email-рассылок               \n",
       "2  Добавить блоки рекомендаций товаров на сайт интернет магазина, чтобы повысить конверсию и средний чек заказа   \n",
       "0  Добавить два новых канала привлечения трафика, что позволит привлекать на 30% больше пользователей             \n",
       "6  Показать на главной странице баннеры с актуальными акциями и распродажами, чтобы увеличить конверсию           \n",
       "8  Запустить акцию, дающую скидку на товар в день рождения                                                        \n",
       "3  Изменить структура категорий, что увеличит конверсию, т.к. пользователи быстрее найдут нужный товар            \n",
       "1  Запустить собственную службу доставки, что сократит срок доставки заказов                                      \n",
       "5  Добавить страницу отзывов клиентов о магазине, что позволит увеличить количество заказов                       \n",
       "4  Изменить цвет фона главной страницы, чтобы увеличить вовлеченность пользователей                               \n",
       "\n",
       "   reach  impact  confidence  efforts    ice   rice  \n",
       "7  10     7       8           5        11.20  112.0  \n",
       "2  8      3       7           3        7.00   56.0   \n",
       "0  3      10      8           6        13.33  40.0   \n",
       "6  5      3       8           3        8.00   40.0   \n",
       "8  1      9       9           5        16.20  16.2   \n",
       "3  8      3       3           8        1.12   9.0    \n",
       "1  2      5       4           10       2.00   4.0    \n",
       "5  3      2       2           3        1.33   4.0    \n",
       "4  3      1       1           1        1.00   3.0    "
      ]
     },
     "execution_count": 15,
     "metadata": {},
     "output_type": "execute_result"
    }
   ],
   "source": [
    "rice.sort_values(by='rice', ascending=False)"
   ]
  },
  {
   "cell_type": "markdown",
   "metadata": {},
   "source": [
    "По фреймворку ICE на 1-ом месте гипотеза 8, по RICE - 7. На последнем месте в обоих случаях гипотеза 4. Изменение позиций в рейтинге обусловлено введением нового параметра reach, который отвечает за охват, то есть количество пользователей, которых затронет рассматриваемое в гипотезе нововведение. "
   ]
  },
  {
   "cell_type": "markdown",
   "metadata": {},
   "source": [
    "### Анализ A/B-теста"
   ]
  },
  {
   "cell_type": "code",
   "execution_count": 16,
   "metadata": {},
   "outputs": [],
   "source": [
    "datesGroups = orders[['date', 'group']].drop_duplicates()\n",
    "\n",
    "ordersAggregated = datesGroups.apply(\n",
    "    lambda x: orders[\n",
    "        np.logical_and(\n",
    "            orders['date'] <= x['date'], orders['group'] == x['group']\n",
    "        )\n",
    "    ].agg(\n",
    "        {\n",
    "            'date': 'max',\n",
    "            'group': 'max',\n",
    "            'transaction_id': 'nunique',\n",
    "            'visitor_id': 'nunique',\n",
    "            'revenue': 'sum',\n",
    "        }\n",
    "    ),\n",
    "    axis=1,\n",
    ").sort_values(by=['date', 'group'])\n",
    "\n",
    "visitorsAggregated = datesGroups.apply(\n",
    "    lambda x: visitors[\n",
    "        np.logical_and(\n",
    "            visitors['date'] <= x['date'], visitors['group'] == x['group']\n",
    "        )\n",
    "    ].agg({'date': 'max', 'group': 'max', 'visitors': 'sum'}),\n",
    "    axis=1,\n",
    ").sort_values(by=['date', 'group'])\n",
    "\n",
    "cumulativeData = ordersAggregated.merge(\n",
    "    visitorsAggregated, on=['date', 'group'])\n",
    "\n",
    "cumulativeData.columns = [\n",
    "    'date',\n",
    "    'group',\n",
    "    'orders',\n",
    "    'buyers',\n",
    "    'revenue',\n",
    "    'visitors',\n",
    "]"
   ]
  },
  {
   "cell_type": "markdown",
   "metadata": {},
   "source": [
    "#### График кумулятивной выручки по группам "
   ]
  },
  {
   "cell_type": "code",
   "execution_count": 17,
   "metadata": {},
   "outputs": [],
   "source": [
    "cumulativeRevenueA = cumulativeData[cumulativeData['group']=='A'][['date', 'revenue', 'orders']]\n",
    "cumulativeRevenueB = cumulativeData[cumulativeData['group']=='B'][['date', 'revenue', 'orders']]"
   ]
  },
  {
   "cell_type": "code",
   "execution_count": 18,
   "metadata": {
    "scrolled": true
   },
   "outputs": [
    {
     "data": {
      "image/png": "[encoded data removed]",
      "text/plain": [
       "<Figure size 1000x500 with 1 Axes>"
      ]
     },
     "metadata": {},
     "output_type": "display_data"
    }
   ],
   "source": [
    "fig, ax = plt.subplots(figsize=(10,5))\n",
    "ax.plot(cumulativeRevenueA['date'], cumulativeRevenueA['revenue'], label='A')\n",
    "ax.plot(cumulativeRevenueB['date'], cumulativeRevenueB['revenue'], label='B')\n",
    "ax.xaxis_date() \n",
    "ax.set_xlabel('Дата')\n",
    "ax.set_ylabel('Кумулятивная выручка')\n",
    "ax.set_title('Динамика кумулятивной выручки по группам')\n",
    "ax.grid()\n",
    "fig.autofmt_xdate() \n",
    "plt.legend()\n",
    "plt.show()"
   ]
  },
  {
   "cell_type": "markdown",
   "metadata": {},
   "source": [
    "На графике видно, что на протяжении первых 5 дней кумулятивная выручка по обеим группам была примерно одинаковой, затем группа B вырвалась в лидерство, которое сохраняется до конца периода. Примерно в середине периода произошел резкий скачок выручки по группе B, что может говорить о наличи заказов с аномально высокой стоимостью купленных товаров."
   ]
  },
  {
   "cell_type": "markdown",
   "metadata": {},
   "source": [
    "#### График кумулятивного среднего чека по группам"
   ]
  },
  {
   "cell_type": "code",
   "execution_count": 19,
   "metadata": {
    "scrolled": false
   },
   "outputs": [
    {
     "data": {
      "image/png": "[encoded data removed]",
      "text/plain": [
       "<Figure size 1000x500 with 1 Axes>"
      ]
     },
     "metadata": {},
     "output_type": "display_data"
    }
   ],
   "source": [
    "fig, ax = plt.subplots(figsize=(10,5))\n",
    "ax.plot(cumulativeRevenueA['date'], cumulativeRevenueA['revenue']/cumulativeRevenueA['orders'], label='A')\n",
    "ax.plot(cumulativeRevenueB['date'], cumulativeRevenueB['revenue']/cumulativeRevenueB['orders'], label='B')\n",
    "ax.xaxis_date() \n",
    "ax.set_xlabel('Дата')\n",
    "ax.set_ylabel('Кумулятивный средний чек')\n",
    "ax.set_title('Динамика кумулятивного среднего чека по группам')\n",
    "ax.grid()\n",
    "fig.autofmt_xdate() \n",
    "plt.axhline(y=0, color='black', linestyle='--')\n",
    "plt.legend()\n",
    "plt.show()"
   ]
  },
  {
   "cell_type": "markdown",
   "metadata": {},
   "source": [
    "В начале периода средний чек в группе B был выше группы А, однако в какой-то момент средний чек группы А стал постепенно расти при небольшом уменьшении группы B, что в итоге привело к выходу группы А в лидерство (этот момент совпадает с тем, когда кумулятивная выручка группы А сравнялась с B). Далее мы вновь видим резкий рост группы B. При этом после этого средний чек группы B постепенно падает, а группы A - постепенно растет. Это вновь говорит о том, что резкий рост группы B обусловлен аномально высокой стоимостью каких-то заказов, соответствено из данной информации вряд ли можно сделать вывод о том, что группа B лучше группы A.  "
   ]
  },
  {
   "cell_type": "code",
   "execution_count": 20,
   "metadata": {
    "scrolled": true
   },
   "outputs": [
    {
     "data": {
      "image/png": "[encoded data removed]",
      "text/plain": [
       "<Figure size 1000x500 with 1 Axes>"
      ]
     },
     "metadata": {},
     "output_type": "display_data"
    }
   ],
   "source": [
    "mergedCumulativeRevenue = cumulativeRevenueA.merge(cumulativeRevenueB, on='date', suffixes=['A', 'B'])\n",
    "fig, ax = plt.subplots(figsize=(10,5))\n",
    "ax.plot(mergedCumulativeRevenue['date'], (\n",
    "    mergedCumulativeRevenue['revenueB']/mergedCumulativeRevenue['ordersB'])/(\n",
    "    mergedCumulativeRevenue['revenueA']/mergedCumulativeRevenue['ordersA'])-1)\n",
    "ax.xaxis_date() \n",
    "ax.set_xlabel('Дата')\n",
    "ax.set_ylabel('Отношение среднего чека')\n",
    "ax.set_title('Динамика отношения кумулятивного среднего чека группы В к А')\n",
    "ax.grid()\n",
    "fig.autofmt_xdate()\n",
    "plt.axhline(y=0, color='black', linestyle='--')\n",
    "plt.show()"
   ]
  },
  {
   "cell_type": "markdown",
   "metadata": {},
   "source": [
    "Данный график подтверждает правильность выводов, которые следуют из предыдущих графиков. На нем довольно наглядно видно неравенство средних чеков двух групп друг другу. По состоянию на конец периода средний чек группы B оказался примерно на 26% большим, чем у группы А."
   ]
  },
  {
   "cell_type": "markdown",
   "metadata": {},
   "source": [
    "#### График кумулятивного среднего количества заказов"
   ]
  },
  {
   "cell_type": "code",
   "execution_count": 21,
   "metadata": {},
   "outputs": [],
   "source": [
    "cumulativeData['conversion'] = cumulativeData['orders']/cumulativeData['visitors']\n",
    "cumulativeDataA = cumulativeData[cumulativeData['group']=='A']\n",
    "cumulativeDataB = cumulativeData[cumulativeData['group']=='B']"
   ]
  },
  {
   "cell_type": "code",
   "execution_count": 22,
   "metadata": {
    "scrolled": true
   },
   "outputs": [
    {
     "data": {
      "image/png": "[encoded data removed]",
      "text/plain": [
       "<Figure size 1000x500 with 1 Axes>"
      ]
     },
     "metadata": {},
     "output_type": "display_data"
    }
   ],
   "source": [
    "fig, ax = plt.subplots(figsize=(10,5))\n",
    "ax.plot(cumulativeDataA['date'], cumulativeDataA['conversion'], label='A')\n",
    "ax.plot(cumulativeDataB['date'], cumulativeDataB['conversion'], label='B')\n",
    "ax.xaxis_date() \n",
    "ax.set_xlabel('Дата')\n",
    "ax.set_ylabel('Среднее количество заказов')\n",
    "ax.set_title('Динамика среднего количества заказов по группам')\n",
    "ax.grid()\n",
    "ax.set(ylim=(0, 0.05))\n",
    "fig.autofmt_xdate() \n",
    "plt.legend()\n",
    "plt.show()"
   ]
  },
  {
   "cell_type": "markdown",
   "metadata": {},
   "source": [
    "На графике видны колебания в начале периода, затем показатели стабилизируются. В группе B среднее количество заказов выше, чем у группы А. Однако пока неясно, является это различие статистически значимым. В целом показатель находится в диапазоне от 0,03 до 0,035."
   ]
  },
  {
   "cell_type": "code",
   "execution_count": 23,
   "metadata": {},
   "outputs": [],
   "source": [
    "mergedCumulativeConversions = cumulativeDataA[['date','conversion']].merge(cumulativeDataB[['date','conversion']], \n",
    "                                                                              on='date', suffixes=['A','B'])"
   ]
  },
  {
   "cell_type": "code",
   "execution_count": 24,
   "metadata": {
    "scrolled": false
   },
   "outputs": [
    {
     "data": {
      "image/png": "[encoded data removed]",
      "text/plain": [
       "<Figure size 1000x500 with 1 Axes>"
      ]
     },
     "metadata": {},
     "output_type": "display_data"
    }
   ],
   "source": [
    "fig, ax = plt.subplots(figsize=(10,5))\n",
    "ax.plot(mergedCumulativeConversions['date'], \n",
    "        mergedCumulativeConversions['conversionB']/mergedCumulativeConversions['conversionA']-1)\n",
    "ax.xaxis_date() \n",
    "ax.set_xlabel('Дата')\n",
    "ax.set_ylabel('Отношение среднего заказов')\n",
    "ax.set_title('Динамика отношения среднего количества заказов по группам')\n",
    "ax.grid()\n",
    "fig.autofmt_xdate() \n",
    "plt.axhline(y=0, color='black', linestyle='--')\n",
    "plt.axhline(y=0.1, color='grey', linestyle='--')\n",
    "plt.axhline(y=0.2, color='brown', linestyle='--')\n",
    "plt.show()"
   ]
  },
  {
   "cell_type": "markdown",
   "metadata": {},
   "source": [
    "График иллюстрирует правильность сделанных ранее выводов об отличиях среднего количества заказов по группам: с определенного момента группа B вышла в уверенное лидерство и стабилизировалсь на уровне на 10-15% выше, чем А."
   ]
  },
  {
   "cell_type": "markdown",
   "metadata": {},
   "source": [
    "#### Диаграмма рассеяния количества заказов по пользователям"
   ]
  },
  {
   "cell_type": "code",
   "execution_count": 25,
   "metadata": {
    "scrolled": true
   },
   "outputs": [
    {
     "data": {
      "image/png": "[encoded data removed]",
      "text/plain": [
       "<Figure size 1000x500 with 1 Axes>"
      ]
     },
     "metadata": {},
     "output_type": "display_data"
    }
   ],
   "source": [
    "ordersByUsers = (\n",
    "    orders.groupby('visitor_id', as_index=False)\n",
    "    .agg({'transaction_id': 'nunique'})\n",
    ")\n",
    "ordersByUsers.columns = ['user_id', 'orders']\n",
    "\n",
    "x_values = pd.Series(range(0, len(ordersByUsers)))\n",
    "fig, ax = plt.subplots(figsize=(10,5))\n",
    "ax.scatter(x_values, ordersByUsers['orders'])\n",
    "ax.set_xlabel('Покупатели')\n",
    "ax.set_ylabel('Количество заказов')\n",
    "ax.set_title('Диаграмма рассеяния количества заказов по пользователям')\n",
    "plt.show()"
   ]
  },
  {
   "cell_type": "markdown",
   "metadata": {},
   "source": [
    "Пользователей, заказавывавших более 2 раз, довольно мало. Являются ли они аномальными, можно выяснить с помощью перцентилей."
   ]
  },
  {
   "cell_type": "code",
   "execution_count": 26,
   "metadata": {
    "scrolled": true
   },
   "outputs": [
    {
     "data": {
      "text/plain": [
       "array([1., 2., 4.])"
      ]
     },
     "execution_count": 26,
     "metadata": {},
     "output_type": "execute_result"
    }
   ],
   "source": [
    "ord_perc = np.percentile(ordersByUsers['orders'], [90, 95, 99])\n",
    "ord_perc"
   ]
  },
  {
   "cell_type": "markdown",
   "metadata": {},
   "source": [
    "Не более 5% пользователей совершили более двух заказов. Не более 1% пользователей совершили более 4 заказов. Поэтому в качестве аномально большого количества заказов для одного пользователя можно принять 3 заказа и более (обычно отсекают от 1 до 5% выборки). "
   ]
  },
  {
   "cell_type": "markdown",
   "metadata": {},
   "source": [
    "#### Диаграмма рассеяния стоимостей заказов"
   ]
  },
  {
   "cell_type": "code",
   "execution_count": 27,
   "metadata": {
    "scrolled": true
   },
   "outputs": [
    {
     "data": {
      "image/png": "[encoded data removed]",
      "text/plain": [
       "<Figure size 1000x500 with 1 Axes>"
      ]
     },
     "metadata": {},
     "output_type": "display_data"
    }
   ],
   "source": [
    "x_values = pd.Series(range(0, len(orders)))\n",
    "fig, ax = plt.subplots(figsize=(10,5))\n",
    "ax.scatter(x_values, orders['revenue'])\n",
    "ax.set_xlabel('Заказы')\n",
    "ax.set_ylabel('Стоимость заказа')\n",
    "ax.set_title('Диаграмма рассеяния стоимостей заказов')\n",
    "plt.show()"
   ]
  },
  {
   "cell_type": "markdown",
   "metadata": {},
   "source": [
    "На графике выделяются 2 заказа стоимостью 200 000 и более 1 200 000. Они явно являются аномальными. Так как из-за этих заказов не видны отличия между основными заказами, то можно построить новый график с ограничением по оси ординат."
   ]
  },
  {
   "cell_type": "code",
   "execution_count": 28,
   "metadata": {
    "scrolled": false
   },
   "outputs": [
    {
     "data": {
      "image/png": "[encoded data removed]",
      "text/plain": [
       "<Figure size 1000x500 with 1 Axes>"
      ]
     },
     "metadata": {},
     "output_type": "display_data"
    }
   ],
   "source": [
    "x_values = pd.Series(range(0, len(orders)))\n",
    "fig, ax = plt.subplots(figsize=(10,5))\n",
    "ax.scatter(x_values, orders['revenue'])\n",
    "ax.set_xlabel('Заказы')\n",
    "ax.set_ylabel('Стоимость заказа')\n",
    "ax.set_title('Диаграмма рассеяния стоимостей заказов')\n",
    "ax.set_ylim(ymin= 0, ymax=210000)\n",
    "plt.show()"
   ]
  },
  {
   "cell_type": "markdown",
   "metadata": {},
   "source": [
    "На графике с заказами стоимостью до 210 000 видно, что все заказы от 50 000 также с большой вероятностью являются аномальными. Проверим это при помощи вычисления перцентилей."
   ]
  },
  {
   "cell_type": "code",
   "execution_count": 29,
   "metadata": {
    "scrolled": true
   },
   "outputs": [
    {
     "data": {
      "text/plain": [
       "array([18168. , 28000. , 58233.2])"
      ]
     },
     "execution_count": 29,
     "metadata": {},
     "output_type": "execute_result"
    }
   ],
   "source": [
    "rev_perc = np.percentile(orders['revenue'], [90, 95, 99])\n",
    "rev_perc"
   ]
  },
  {
   "cell_type": "markdown",
   "metadata": {},
   "source": [
    "В выборке имеется не более 5% заказов стоимостью более 28 000, не более 1% - стоимостью более 58 233,2. Поэтому в качестве аномально больших по стоимости заказов можно принять заказы стоимостью более 28 000 (обычно отсекают от 1 до 5% выборки)."
   ]
  },
  {
   "cell_type": "markdown",
   "metadata": {},
   "source": [
    "#### Cтатистическая значимость различий в среднем количестве заказов между группами по «сырым» данным"
   ]
  },
  {
   "cell_type": "code",
   "execution_count": 30,
   "metadata": {},
   "outputs": [],
   "source": [
    "visitorsADaily = visitors[visitors['group'] == 'A'][['date', 'visitors']]\n",
    "visitorsADaily.columns = ['date', 'visitorsPerDateA']\n",
    "\n",
    "visitorsACummulative = visitorsADaily.apply(\n",
    "    lambda x: visitorsADaily[visitorsADaily['date'] <= x['date']].agg(\n",
    "        {'date': 'max', 'visitorsPerDateA': 'sum'}\n",
    "    ),\n",
    "    axis=1,\n",
    ")\n",
    "visitorsACummulative.columns = ['date', 'visitorsCummulativeA']\n",
    "\n",
    "visitorsBDaily = visitors[visitors['group'] == 'B'][['date', 'visitors']]\n",
    "visitorsBDaily.columns = ['date', 'visitorsPerDateB']\n",
    "\n",
    "visitorsBCummulative = visitorsBDaily.apply(\n",
    "    lambda x: visitorsBDaily[visitorsBDaily['date'] <= x['date']].agg(\n",
    "        {'date': 'max', 'visitorsPerDateB': 'sum'}\n",
    "    ),\n",
    "    axis=1,\n",
    ")\n",
    "visitorsBCummulative.columns = ['date', 'visitorsCummulativeB']\n",
    "\n",
    "ordersADaily = (\n",
    "    orders[orders['group'] == 'A'][['date', 'transaction_id', 'visitor_id', 'revenue']]\n",
    "    .groupby('date', as_index=False)\n",
    "    .agg({'transaction_id': pd.Series.nunique, 'revenue': 'sum'})\n",
    ")\n",
    "ordersADaily.columns = ['date', 'ordersPerDateA', 'revenuePerDateA']\n",
    "\n",
    "ordersACummulative = ordersADaily.apply(\n",
    "    lambda x: ordersADaily[ordersADaily['date'] <= x['date']].agg(\n",
    "        {'date': 'max', 'ordersPerDateA': 'sum', 'revenuePerDateA': 'sum'}\n",
    "    ),\n",
    "    axis=1,\n",
    ").sort_values(by=['date'])\n",
    "ordersACummulative.columns = [\n",
    "    'date',\n",
    "    'ordersCummulativeA',\n",
    "    'revenueCummulativeA',\n",
    "]\n",
    "\n",
    "ordersBDaily = (\n",
    "    orders[orders['group'] == 'B'][['date', 'transaction_id', 'visitor_id', 'revenue']]\n",
    "    .groupby('date', as_index=False)\n",
    "    .agg({'transaction_id': pd.Series.nunique, 'revenue': 'sum'})\n",
    ")\n",
    "ordersBDaily.columns = ['date', 'ordersPerDateB', 'revenuePerDateB']\n",
    "\n",
    "ordersBCummulative = ordersBDaily.apply(\n",
    "    lambda x: ordersBDaily[ordersBDaily['date'] <= x['date']].agg(\n",
    "        {'date': 'max', 'ordersPerDateB': 'sum', 'revenuePerDateB': 'sum'}\n",
    "    ),\n",
    "    axis=1,\n",
    ").sort_values(by=['date'])\n",
    "ordersBCummulative.columns = [\n",
    "    'date',\n",
    "    'ordersCummulativeB',\n",
    "    'revenueCummulativeB',\n",
    "]\n",
    "\n",
    "data = (\n",
    "    ordersADaily.merge(\n",
    "        ordersBDaily, left_on='date', right_on='date', how='left'\n",
    "    )\n",
    "    .merge(ordersACummulative, left_on='date', right_on='date', how='left')\n",
    "    .merge(ordersBCummulative, left_on='date', right_on='date', how='left')\n",
    "    .merge(visitorsADaily, left_on='date', right_on='date', how='left')\n",
    "    .merge(visitorsBDaily, left_on='date', right_on='date', how='left')\n",
    "    .merge(visitorsACummulative, left_on='date', right_on='date', how='left')\n",
    "    .merge(visitorsBCummulative, left_on='date', right_on='date', how='left')\n",
    ")"
   ]
  },
  {
   "cell_type": "code",
   "execution_count": 31,
   "metadata": {},
   "outputs": [],
   "source": [
    "ordersByUsersA = orders[orders['group']=='A'].groupby(by='visitor_id', as_index=False).agg({'transaction_id':pd.Series.nunique})\n",
    "ordersByUsersB = orders[orders['group']=='B'].groupby(by='visitor_id', as_index=False).agg({'transaction_id':pd.Series.nunique})\n",
    "ordersByUsersA.columns = ['user_id', 'orders']\n",
    "ordersByUsersB.columns = ['user_id', 'orders']\n",
    "\n",
    "sampleA = pd.concat([ordersByUsersA['orders'], \n",
    "                    pd.Series(0, index=np.arange(data['visitorsPerDateA'].sum()-len(ordersByUsersA['orders'])), \n",
    "                              name='orders')], axis=0)\n",
    "sampleB = pd.concat([ordersByUsersB['orders'], \n",
    "                    pd.Series(0, index=np.arange(data['visitorsPerDateB'].sum()-len(ordersByUsersB['orders'])),\n",
    "                              name='orders')], axis=0)"
   ]
  },
  {
   "cell_type": "markdown",
   "metadata": {},
   "source": [
    "Сформулируем нулевую и альтернативную гипотезы для проверки:\\\n",
    "H0: Выборочное среднее количества заказов группы A = Выборочное среднее количества заказов группы B\\\n",
    "H1: Выборочное среднее количества заказов группы А ≠ Выборочное среднее количества заказов группы B"
   ]
  },
  {
   "cell_type": "markdown",
   "metadata": {},
   "source": [
    "Посмотрим, как распределены данные в целом:"
   ]
  },
  {
   "cell_type": "code",
   "execution_count": 32,
   "metadata": {},
   "outputs": [
    {
     "data": {
      "image/png": "[encoded data removed]",
      "text/plain": [
       "<Figure size 1000x500 with 1 Axes>"
      ]
     },
     "metadata": {},
     "output_type": "display_data"
    }
   ],
   "source": [
    "fig, ax = plt.subplots(figsize=(10,5))\n",
    "ax.hist(ordersByUsers['orders'])\n",
    "ax.set_xlabel('Количество закаов')\n",
    "ax.set_ylabel('Стоимость пользователей')\n",
    "ax.set_title('Гистограмма количества заказов')\n",
    "plt.show()"
   ]
  },
  {
   "cell_type": "code",
   "execution_count": 33,
   "metadata": {},
   "outputs": [
    {
     "data": {
      "text/plain": [
       "ShapiroResult(statistic=0.226848304271698, pvalue=0.0)"
      ]
     },
     "execution_count": 33,
     "metadata": {},
     "output_type": "execute_result"
    }
   ],
   "source": [
    "st.shapiro(ordersByUsers['orders'])"
   ]
  },
  {
   "cell_type": "markdown",
   "metadata": {},
   "source": [
    "Уровень значимости alpha примем равным 0.05. На гистограмме и по результатам теста Шапиро-Уилка видно, что данные распределены ненормально, поэтому будем использовать статистический критерий Манна-Уитни для проведения непараметрического теста."
   ]
  },
  {
   "cell_type": "code",
   "execution_count": 34,
   "metadata": {},
   "outputs": [
    {
     "name": "stdout",
     "output_type": "stream",
     "text": [
      "p-value: 0.01679\n",
      "Относительная разница среднего количества заказов B к A: 0.138\n"
     ]
    }
   ],
   "source": [
    "print('p-value:', '{0:.5f}'.format(st.mannwhitneyu(sampleA, sampleB)[1]))\n",
    "print('Относительная разница среднего количества заказов B к A:', '{0:.3f}'.format(sampleB.mean()/sampleA.mean()-1))"
   ]
  },
  {
   "cell_type": "markdown",
   "metadata": {},
   "source": [
    "Среднее количество заказов группы B на 13.8% выше, чем среднее количество заказов группы A. На уровне значимости 0.05 различие является статистически значимым (p-value 0.01679 < 0.05). Поэтому данное различие можно считать значимым. "
   ]
  },
  {
   "cell_type": "markdown",
   "metadata": {},
   "source": [
    "#### Cтатистическая значимость различий в среднем чеке между группами по «сырым» данным"
   ]
  },
  {
   "cell_type": "markdown",
   "metadata": {},
   "source": [
    "Сформулируем нулевую и альтернативную гипотезы для проверки:\\\n",
    "H0: Выборочный средний чек группы A = Выборочный средний чек группы В\\\n",
    "H1: Выборочный средний чек группы A ≠ Выборочный средний чек группы В"
   ]
  },
  {
   "cell_type": "markdown",
   "metadata": {},
   "source": [
    "Посмотрим как распределены данные в целом без учета аномального заказа в более чем 1 200 000 у.е.:"
   ]
  },
  {
   "cell_type": "code",
   "execution_count": 35,
   "metadata": {
    "scrolled": false
   },
   "outputs": [
    {
     "data": {
      "image/png": "[encoded data removed]",
      "text/plain": [
       "<Figure size 1000x500 with 1 Axes>"
      ]
     },
     "metadata": {},
     "output_type": "display_data"
    }
   ],
   "source": [
    "fig, ax = plt.subplots(figsize=(10,5))\n",
    "ax.hist(orders['revenue'], bins=100)\n",
    "ax.set_xlabel('Количество закаов')\n",
    "ax.set_ylabel('Стоимость пользователей')\n",
    "ax.set_title('Гистограмма количества заказов')\n",
    "ax.set_xlim(xmin= 0, xmax=210000)\n",
    "plt.show()"
   ]
  },
  {
   "cell_type": "code",
   "execution_count": 36,
   "metadata": {},
   "outputs": [
    {
     "data": {
      "text/plain": [
       "ShapiroResult(statistic=0.10345423221588135, pvalue=0.0)"
      ]
     },
     "execution_count": 36,
     "metadata": {},
     "output_type": "execute_result"
    }
   ],
   "source": [
    "st.shapiro(orders['revenue'])"
   ]
  },
  {
   "cell_type": "markdown",
   "metadata": {},
   "source": [
    "Уровень значимости alpha примем равным 0.05. На гистограмме и по результатам теста Шапиро-Уилка видно, что данные распределены ненормально, поэтому будем использовать статистический критерий Манна-Уитни для проведения непараметрического теста."
   ]
  },
  {
   "cell_type": "code",
   "execution_count": 37,
   "metadata": {},
   "outputs": [
    {
     "name": "stdout",
     "output_type": "stream",
     "text": [
      "p-value: 0.729\n",
      "Относительная разница среднего чека В к А: 0.259\n"
     ]
    }
   ],
   "source": [
    "print('p-value:', '{0:.3f}'.format(st.mannwhitneyu(orders[orders['group']=='A']['revenue'], \n",
    "                                                   orders[orders['group']=='B']['revenue'])[1]))\n",
    "print('Относительная разница среднего чека В к А:','{0:.3f}'.format(\n",
    "    orders[orders['group']=='B']['revenue'].mean()/orders[orders['group']=='A']['revenue'].mean()-1))"
   ]
  },
  {
   "cell_type": "markdown",
   "metadata": {},
   "source": [
    "Средний чек группы B сильно больше A (на 25,9%). При этом различие не является статистически значимым (0.729 > 0.05). С учетом ранее построенного графика отношения среднего чека группы B и A, скорее всего это связано с аномально дорогими заказами, которые попали в группу B."
   ]
  },
  {
   "cell_type": "markdown",
   "metadata": {},
   "source": [
    "#### Cтатистическая значимость различий в среднем количестве заказов между группами по «очищенным» данным"
   ]
  },
  {
   "cell_type": "code",
   "execution_count": 38,
   "metadata": {},
   "outputs": [],
   "source": [
    "usersWithManyOrders = ordersByUsers[ordersByUsers['orders'] > ord_perc[1]]['user_id']"
   ]
  },
  {
   "cell_type": "code",
   "execution_count": 39,
   "metadata": {},
   "outputs": [],
   "source": [
    "usersWithExpensiveOrders = orders[orders['revenue'] > rev_perc[1]]['visitor_id']"
   ]
  },
  {
   "cell_type": "code",
   "execution_count": 40,
   "metadata": {},
   "outputs": [],
   "source": [
    "abnormalUsers = (\n",
    "    pd.concat([usersWithManyOrders, usersWithExpensiveOrders], axis=0)\n",
    "    .drop_duplicates()\n",
    "    .sort_values()\n",
    ")"
   ]
  },
  {
   "cell_type": "code",
   "execution_count": 41,
   "metadata": {},
   "outputs": [],
   "source": [
    "sampleAFiltered = pd.concat(\n",
    "    [\n",
    "        ordersByUsersA[\n",
    "            np.logical_not(ordersByUsersA['user_id'].isin(abnormalUsers))\n",
    "        ]['orders'], pd.Series(\n",
    "            0,\n",
    "            index=np.arange(\n",
    "                data['visitorsPerDateA'].sum() - len(ordersByUsersA['orders'])\n",
    "            ),\n",
    "            name='orders',\n",
    "        )\n",
    "    ],\n",
    "    axis=0\n",
    ")\n",
    "\n",
    "sampleBFiltered = pd.concat(\n",
    "    [\n",
    "        ordersByUsersB[\n",
    "            np.logical_not(ordersByUsersB['user_id'].isin(abnormalUsers))\n",
    "        ]['orders'], pd.Series(\n",
    "            0,\n",
    "            index=np.arange(\n",
    "                data['visitorsPerDateB'].sum() - len(ordersByUsersB['orders'])\n",
    "            ),\n",
    "            name='orders',\n",
    "        )\n",
    "    ],\n",
    "    axis=0\n",
    ")"
   ]
  },
  {
   "cell_type": "markdown",
   "metadata": {},
   "source": [
    "Сформулируем нулевую и альтернативную гипотезы для проверки на данных после удаления аномалий:\\\n",
    "H0: Выборочное среднее количества заказов группы A = Выборочное среднее количества заказов группы B\\\n",
    "H1: Выборочное среднее количества заказов группы А ≠ Выборочное среднее количества заказов группы B"
   ]
  },
  {
   "cell_type": "markdown",
   "metadata": {},
   "source": [
    "Уровень значимости alpha примем равным 0.05. На гистограмме видно, что данные распределены ненормально, поэтому будем использовать статистический критерий Манна-Уитни для проведения непараметрического теста."
   ]
  },
  {
   "cell_type": "code",
   "execution_count": 42,
   "metadata": {
    "scrolled": true
   },
   "outputs": [
    {
     "name": "stdout",
     "output_type": "stream",
     "text": [
      "p-value: 0.012\n",
      "Относительная разница среднего количества заказов B к A: 0.176\n"
     ]
    }
   ],
   "source": [
    "print('p-value:','{0:.3f}'.format(st.mannwhitneyu(sampleAFiltered, sampleBFiltered)[1]))\n",
    "print('Относительная разница среднего количества заказов B к A:',\n",
    "      '{0:.3f}'.format(sampleBFiltered.mean()/sampleAFiltered.mean()-1)) "
   ]
  },
  {
   "cell_type": "markdown",
   "metadata": {},
   "source": [
    "После удаления аномалий среднее количество заказов в группе B оказалось выше группы А на 17,6% (с аномалиями было 13,8%). На уровне значимости 0,05 разница по-прежнему является значимой (0.012 < 0.05). Из этого можно сделать вывод о том, что группа B все-таки отличается от группы A по количеству заказов."
   ]
  },
  {
   "cell_type": "markdown",
   "metadata": {},
   "source": [
    "#### Cтатистическая значимость различий в среднем чеке между группами по «очищенным» данным"
   ]
  },
  {
   "cell_type": "markdown",
   "metadata": {},
   "source": [
    "Сформулируем нулевую и альтернативную гипотезы для проверки на данных после удаления аномалий:\\\n",
    "H0: Выборочный средний чек группы A = Выборочный средний чек группы В\\\n",
    "H1: Выборочный средний чек группы A ≠ Выборочный средний чек группы В"
   ]
  },
  {
   "cell_type": "markdown",
   "metadata": {},
   "source": [
    "Уровень значимости alpha примем равным 0.05. На гистограмме видно, что данные распределены ненормально, поэтому будем использовать статистический критерий Манна-Уитни для проведения непараметрического теста."
   ]
  },
  {
   "cell_type": "code",
   "execution_count": 43,
   "metadata": {
    "scrolled": true
   },
   "outputs": [
    {
     "name": "stdout",
     "output_type": "stream",
     "text": [
      "p-value: 0.753\n",
      "Относительная разница среднего чека В к А: -0.022\n"
     ]
    }
   ],
   "source": [
    "print('p-value:',\n",
    "    '{0:.3f}'.format(\n",
    "        st.mannwhitneyu(\n",
    "            orders[\n",
    "                np.logical_and(\n",
    "                    orders['group'] == 'A',\n",
    "                    np.logical_not(orders['visitor_id'].isin(abnormalUsers)),\n",
    "                )\n",
    "            ]['revenue'],\n",
    "            orders[\n",
    "                np.logical_and(\n",
    "                    orders['group'] == 'B',\n",
    "                    np.logical_not(orders['visitor_id'].isin(abnormalUsers)),\n",
    "                )\n",
    "            ]['revenue'],\n",
    "        )[1]\n",
    "    )\n",
    ")\n",
    "\n",
    "print('Относительная разница среднего чека В к А:',\n",
    "    \"{0:.3f}\".format(\n",
    "        orders[\n",
    "            np.logical_and(\n",
    "                orders['group'] == 'B',\n",
    "                np.logical_not(orders['visitor_id'].isin(abnormalUsers)),\n",
    "            )\n",
    "        ]['revenue'].mean()\n",
    "        / orders[\n",
    "            np.logical_and(\n",
    "                orders['group'] == 'A',\n",
    "                np.logical_not(orders['visitor_id'].isin(abnormalUsers)),\n",
    "            )\n",
    "        ]['revenue'].mean()\n",
    "        - 1\n",
    "    )\n",
    ") "
   ]
  },
  {
   "cell_type": "markdown",
   "metadata": {},
   "source": [
    "После удаления аномалий средний чек в группе A оказался на 2,2% выше, чем в группе B, то есть лидерство группы B при анализе по \"сырым данным\" обусловлено исключительно наличием аномально высоких заказов, относящихся к группе B. При этом p-значение осталось очень высоким, что подтверждает отсутствие значимого различия между двумя группами (0.753 > 0.05), а также указывает на некоторую устойчивость теста Манна-Уитни к наличию аномалий в данном случае."
   ]
  },
  {
   "cell_type": "markdown",
   "metadata": {},
   "source": [
    "#### Решение по результатам теста"
   ]
  },
  {
   "cell_type": "markdown",
   "metadata": {},
   "source": [
    "* По графику кумулятивного среднего количества заказов видно, что группы A и B стабилизировались, в группе B количество заказов стабильно выше, чем в А, и выход группы А в лидерство при продолжении теста кажется крайне маловероятным. При этом тест Манна-Уитни показал, что среднее количество заказов в группе B выше на 13,8% по \"сырым\" данным и на 17,6% по \"очищенным\" данным, и в обоих случаях разница оказалась статистически значимой, что подтверждает наблюдаемые на графике кумулятивного среднего количества тенденции;\n",
    "* По графику кумулятивного среднего чека видно, что группы A и B не стабилизировались (после середины периода было резкое повышение группы B, обусловленное аномалиями, однако затем до самого конца происходит постепенный рост группы A и постепенное падение группы B, что может в будущем привести к выравниваню двух групп или даже смене лидера, если тест продолжать). Статистический тест показал отсутствие значимого различия между двумя группами, и действительно без учета аномалий разница составляет всего лишь 2,2%, что не является существенным. При этом большая разница с учетом аномалий в 25,9% также оказалась статистический незначимой, что позволяет сделать о том, что при продолжении теста вряд ли эта разница станет значимой;\n",
    "* Таким образом, тест следует закончить и признать победу группы B, так как в ней среднее количество заказов стабильно выше, чем в группе A, а по среднему чеку между группами разницы нет. При переходе от варианта А к варианту В выручка в целом с высокой вероятностью вырастет за счет роста количества заказов."
   ]
  },
  {
   "cell_type": "markdown",
   "metadata": {},
   "source": [
    "### Выводы"
   ]
  },
  {
   "cell_type": "markdown",
   "metadata": {},
   "source": [
    "* Предобработка данных показала, что качество данных довольно высокое, пропуски и дубликаты отсутствуют;\n",
    "* При разделении выборки на группы в целях проведения A/B теста были допущены некоторые ошибки, что привело к тому, что в группе B пользователей больше, чем в А (586 против 503), а также есть 58 пользователей, которые попали в обе группы сразу;\n",
    "* Приортизация гипотез с помощью фреймворка ICE и RICE показала разные результаты за счет влияния на количество пользователей, подверженных рассматриваемым в гипотезе изменениям;\n",
    "* Анализ A/B теста показал, что стоит ввести изменения и отказаться от варианта A в пользу B, так как такое изменение положительно влияет на среднее количество заказов (рост 13,8% с аномалиями и 17,6% без аномалий), что с высокой вероятностью приведет к росту выручки в целом, а разницы в среднем чеке между группами нет. Продолжать тест не имеет смысла. "
   ]
  }
 ],
 "metadata": {
  "ExecuteTimeLog": [
   {
    "duration": 1408,
    "start_time": "2023-12-05T07:05:54.618Z"
   },
   {
    "duration": 239,
    "start_time": "2023-12-05T08:28:35.148Z"
   },
   {
    "duration": 115,
    "start_time": "2023-12-05T08:28:43.240Z"
   },
   {
    "duration": 25,
    "start_time": "2023-12-05T08:29:05.271Z"
   },
   {
    "duration": 12,
    "start_time": "2023-12-05T08:30:03.944Z"
   },
   {
    "duration": 11,
    "start_time": "2023-12-05T08:32:16.953Z"
   },
   {
    "duration": 7,
    "start_time": "2023-12-05T09:21:54.260Z"
   },
   {
    "duration": 21,
    "start_time": "2023-12-05T09:22:03.443Z"
   },
   {
    "duration": 24,
    "start_time": "2023-12-05T09:22:13.400Z"
   },
   {
    "duration": 4,
    "start_time": "2023-12-05T09:25:50.470Z"
   },
   {
    "duration": 92,
    "start_time": "2023-12-05T09:25:50.476Z"
   },
   {
    "duration": 25,
    "start_time": "2023-12-05T09:25:50.570Z"
   },
   {
    "duration": 3,
    "start_time": "2023-12-05T09:25:50.596Z"
   },
   {
    "duration": 390,
    "start_time": "2023-12-05T09:25:50.601Z"
   },
   {
    "duration": 4,
    "start_time": "2023-12-05T09:26:38.564Z"
   },
   {
    "duration": 147,
    "start_time": "2023-12-05T09:26:38.571Z"
   },
   {
    "duration": 28,
    "start_time": "2023-12-05T09:26:38.720Z"
   },
   {
    "duration": 7,
    "start_time": "2023-12-05T09:26:38.750Z"
   },
   {
    "duration": 455,
    "start_time": "2023-12-05T09:26:38.759Z"
   },
   {
    "duration": 11,
    "start_time": "2023-12-05T09:26:58.027Z"
   },
   {
    "duration": 10,
    "start_time": "2023-12-05T09:27:15.543Z"
   },
   {
    "duration": 4,
    "start_time": "2023-12-05T09:27:32.814Z"
   },
   {
    "duration": 91,
    "start_time": "2023-12-05T09:27:32.820Z"
   },
   {
    "duration": 23,
    "start_time": "2023-12-05T09:27:32.913Z"
   },
   {
    "duration": 3,
    "start_time": "2023-12-05T09:27:32.937Z"
   },
   {
    "duration": 27,
    "start_time": "2023-12-05T09:27:32.942Z"
   },
   {
    "duration": 54,
    "start_time": "2023-12-05T09:27:32.970Z"
   },
   {
    "duration": 21,
    "start_time": "2023-12-05T09:28:04.901Z"
   },
   {
    "duration": 13,
    "start_time": "2023-12-05T09:28:21.338Z"
   },
   {
    "duration": 11,
    "start_time": "2023-12-05T09:29:48.639Z"
   },
   {
    "duration": 8,
    "start_time": "2023-12-05T09:30:59.953Z"
   },
   {
    "duration": 24,
    "start_time": "2023-12-05T09:31:13.083Z"
   },
   {
    "duration": 13,
    "start_time": "2023-12-05T09:31:22.977Z"
   },
   {
    "duration": 1244,
    "start_time": "2023-12-05T09:36:31.137Z"
   },
   {
    "duration": 76,
    "start_time": "2023-12-05T09:36:32.383Z"
   },
   {
    "duration": 24,
    "start_time": "2023-12-05T09:36:32.461Z"
   },
   {
    "duration": 23,
    "start_time": "2023-12-05T09:36:32.487Z"
   },
   {
    "duration": 5,
    "start_time": "2023-12-05T09:37:57.005Z"
   },
   {
    "duration": 4,
    "start_time": "2023-12-05T09:38:38.276Z"
   },
   {
    "duration": 22,
    "start_time": "2023-12-05T09:38:42.232Z"
   },
   {
    "duration": 3,
    "start_time": "2023-12-05T09:39:24.233Z"
   },
   {
    "duration": 92,
    "start_time": "2023-12-05T09:39:24.238Z"
   },
   {
    "duration": 22,
    "start_time": "2023-12-05T09:39:24.332Z"
   },
   {
    "duration": 12,
    "start_time": "2023-12-05T09:39:24.356Z"
   },
   {
    "duration": 15,
    "start_time": "2023-12-05T09:39:24.370Z"
   },
   {
    "duration": 21,
    "start_time": "2023-12-05T09:39:24.387Z"
   },
   {
    "duration": 3,
    "start_time": "2023-12-05T09:40:52.989Z"
   },
   {
    "duration": 96,
    "start_time": "2023-12-05T09:40:52.994Z"
   },
   {
    "duration": 23,
    "start_time": "2023-12-05T09:40:53.092Z"
   },
   {
    "duration": 13,
    "start_time": "2023-12-05T09:40:53.117Z"
   },
   {
    "duration": 18,
    "start_time": "2023-12-05T09:40:53.132Z"
   },
   {
    "duration": 31,
    "start_time": "2023-12-05T09:40:53.152Z"
   },
   {
    "duration": 28,
    "start_time": "2023-12-05T09:40:56.065Z"
   },
   {
    "duration": 97,
    "start_time": "2023-12-05T09:41:33.164Z"
   },
   {
    "duration": 11,
    "start_time": "2023-12-05T09:42:20.908Z"
   },
   {
    "duration": 7,
    "start_time": "2023-12-05T09:43:28.233Z"
   },
   {
    "duration": 5,
    "start_time": "2023-12-05T09:43:39.195Z"
   },
   {
    "duration": 7,
    "start_time": "2023-12-05T09:43:51.879Z"
   },
   {
    "duration": 11,
    "start_time": "2023-12-05T09:51:28.742Z"
   },
   {
    "duration": 1301,
    "start_time": "2023-12-05T09:53:28.084Z"
   },
   {
    "duration": 10,
    "start_time": "2023-12-05T09:53:53.782Z"
   },
   {
    "duration": 9,
    "start_time": "2023-12-05T09:54:04.260Z"
   },
   {
    "duration": 8,
    "start_time": "2023-12-05T09:54:13.017Z"
   },
   {
    "duration": 7,
    "start_time": "2023-12-05T09:54:28.910Z"
   },
   {
    "duration": 7,
    "start_time": "2023-12-05T09:54:46.793Z"
   },
   {
    "duration": 8,
    "start_time": "2023-12-05T09:55:20.878Z"
   },
   {
    "duration": 11,
    "start_time": "2023-12-05T10:44:34.108Z"
   },
   {
    "duration": 12,
    "start_time": "2023-12-05T10:44:49.886Z"
   },
   {
    "duration": 12,
    "start_time": "2023-12-05T10:45:24.551Z"
   },
   {
    "duration": 10,
    "start_time": "2023-12-05T10:45:32.565Z"
   },
   {
    "duration": 10,
    "start_time": "2023-12-05T10:45:45.403Z"
   },
   {
    "duration": 10,
    "start_time": "2023-12-05T10:45:54.735Z"
   },
   {
    "duration": 9,
    "start_time": "2023-12-05T10:46:13.866Z"
   },
   {
    "duration": 12,
    "start_time": "2023-12-05T10:46:18.403Z"
   },
   {
    "duration": 10,
    "start_time": "2023-12-05T10:46:52.366Z"
   },
   {
    "duration": 10,
    "start_time": "2023-12-05T10:47:08.382Z"
   },
   {
    "duration": 18,
    "start_time": "2023-12-05T10:52:23.860Z"
   },
   {
    "duration": 7,
    "start_time": "2023-12-05T10:52:32.596Z"
   },
   {
    "duration": 7,
    "start_time": "2023-12-05T10:52:43.497Z"
   },
   {
    "duration": 8,
    "start_time": "2023-12-05T10:53:24.395Z"
   },
   {
    "duration": 8,
    "start_time": "2023-12-05T10:53:41.133Z"
   },
   {
    "duration": 91,
    "start_time": "2023-12-05T10:56:40.707Z"
   },
   {
    "duration": 102,
    "start_time": "2023-12-05T10:56:49.342Z"
   },
   {
    "duration": 70,
    "start_time": "2023-12-05T10:56:51.655Z"
   },
   {
    "duration": 8,
    "start_time": "2023-12-05T10:57:18.369Z"
   },
   {
    "duration": 5,
    "start_time": "2023-12-05T10:57:22.467Z"
   },
   {
    "duration": 6,
    "start_time": "2023-12-05T10:57:24.816Z"
   },
   {
    "duration": 4,
    "start_time": "2023-12-05T10:57:26.890Z"
   },
   {
    "duration": 4,
    "start_time": "2023-12-05T10:57:47.014Z"
   },
   {
    "duration": 3,
    "start_time": "2023-12-05T10:58:01.515Z"
   },
   {
    "duration": 3,
    "start_time": "2023-12-05T10:58:03.697Z"
   },
   {
    "duration": 4,
    "start_time": "2023-12-05T10:58:07.224Z"
   },
   {
    "duration": 4,
    "start_time": "2023-12-05T10:58:10.790Z"
   },
   {
    "duration": 10,
    "start_time": "2023-12-05T10:58:39.429Z"
   },
   {
    "duration": 10,
    "start_time": "2023-12-05T11:00:56.412Z"
   },
   {
    "duration": 9,
    "start_time": "2023-12-05T11:03:30.728Z"
   },
   {
    "duration": 9,
    "start_time": "2023-12-05T11:03:42.747Z"
   },
   {
    "duration": 9,
    "start_time": "2023-12-05T11:04:05.578Z"
   },
   {
    "duration": 8,
    "start_time": "2023-12-05T11:04:48.999Z"
   },
   {
    "duration": 48,
    "start_time": "2023-12-05T17:55:20.529Z"
   },
   {
    "duration": 1293,
    "start_time": "2023-12-05T17:55:22.991Z"
   },
   {
    "duration": 198,
    "start_time": "2023-12-05T17:55:24.289Z"
   },
   {
    "duration": 25,
    "start_time": "2023-12-05T17:55:24.489Z"
   },
   {
    "duration": 14,
    "start_time": "2023-12-05T17:55:24.516Z"
   },
   {
    "duration": 9,
    "start_time": "2023-12-05T17:55:24.533Z"
   },
   {
    "duration": 7,
    "start_time": "2023-12-05T17:55:24.544Z"
   },
   {
    "duration": 17,
    "start_time": "2023-12-05T17:55:24.552Z"
   },
   {
    "duration": 6,
    "start_time": "2023-12-05T17:55:24.571Z"
   },
   {
    "duration": 6,
    "start_time": "2023-12-05T17:55:24.579Z"
   },
   {
    "duration": 14,
    "start_time": "2023-12-05T17:55:24.587Z"
   },
   {
    "duration": 9,
    "start_time": "2023-12-05T17:55:24.603Z"
   },
   {
    "duration": 10,
    "start_time": "2023-12-05T17:55:24.613Z"
   },
   {
    "duration": 43,
    "start_time": "2023-12-05T17:55:24.625Z"
   },
   {
    "duration": 1229,
    "start_time": "2023-12-05T17:55:24.670Z"
   },
   {
    "duration": 5,
    "start_time": "2023-12-05T17:56:18.868Z"
   },
   {
    "duration": 9,
    "start_time": "2023-12-05T17:56:25.170Z"
   },
   {
    "duration": 5,
    "start_time": "2023-12-05T17:57:45.117Z"
   },
   {
    "duration": 8,
    "start_time": "2023-12-05T17:57:48.095Z"
   },
   {
    "duration": 5,
    "start_time": "2023-12-05T18:00:49.066Z"
   },
   {
    "duration": 5,
    "start_time": "2023-12-05T18:00:56.728Z"
   },
   {
    "duration": 8,
    "start_time": "2023-12-05T18:00:58.381Z"
   },
   {
    "duration": 10,
    "start_time": "2023-12-05T18:03:08.511Z"
   },
   {
    "duration": 10,
    "start_time": "2023-12-05T18:04:21.342Z"
   },
   {
    "duration": 5,
    "start_time": "2023-12-05T18:05:40.252Z"
   },
   {
    "duration": 5,
    "start_time": "2023-12-05T18:08:42.271Z"
   },
   {
    "duration": 5,
    "start_time": "2023-12-05T18:09:14.148Z"
   },
   {
    "duration": 9,
    "start_time": "2023-12-05T18:09:16.757Z"
   },
   {
    "duration": 11,
    "start_time": "2023-12-05T18:10:44.457Z"
   },
   {
    "duration": 5,
    "start_time": "2023-12-05T18:12:13.341Z"
   },
   {
    "duration": 4,
    "start_time": "2023-12-05T18:12:18.532Z"
   },
   {
    "duration": 10,
    "start_time": "2023-12-05T18:13:03.448Z"
   },
   {
    "duration": 10,
    "start_time": "2023-12-05T18:13:55.466Z"
   },
   {
    "duration": 9,
    "start_time": "2023-12-05T18:14:13.644Z"
   },
   {
    "duration": 11,
    "start_time": "2023-12-05T18:14:29.539Z"
   },
   {
    "duration": 4,
    "start_time": "2023-12-05T18:33:55.523Z"
   },
   {
    "duration": 10,
    "start_time": "2023-12-05T18:33:59.693Z"
   },
   {
    "duration": 9,
    "start_time": "2023-12-05T18:34:15.170Z"
   },
   {
    "duration": 10,
    "start_time": "2023-12-05T18:34:32.937Z"
   },
   {
    "duration": 10,
    "start_time": "2023-12-05T18:35:10.097Z"
   },
   {
    "duration": 10,
    "start_time": "2023-12-05T18:35:18.312Z"
   },
   {
    "duration": 4,
    "start_time": "2023-12-05T18:36:19.455Z"
   },
   {
    "duration": 5,
    "start_time": "2023-12-05T18:36:21.233Z"
   },
   {
    "duration": 10,
    "start_time": "2023-12-05T18:36:23.247Z"
   },
   {
    "duration": 10,
    "start_time": "2023-12-05T18:36:28.132Z"
   },
   {
    "duration": 4,
    "start_time": "2023-12-05T18:36:59.581Z"
   },
   {
    "duration": 5,
    "start_time": "2023-12-05T18:37:06.013Z"
   },
   {
    "duration": 10,
    "start_time": "2023-12-05T18:37:07.528Z"
   },
   {
    "duration": 306,
    "start_time": "2023-12-05T18:38:46.863Z"
   },
   {
    "duration": 334,
    "start_time": "2023-12-05T18:38:54.887Z"
   },
   {
    "duration": 293,
    "start_time": "2023-12-05T18:38:58.459Z"
   },
   {
    "duration": 313,
    "start_time": "2023-12-05T18:39:28.339Z"
   },
   {
    "duration": 297,
    "start_time": "2023-12-05T18:41:28.209Z"
   },
   {
    "duration": 309,
    "start_time": "2023-12-05T18:42:36.614Z"
   },
   {
    "duration": 4,
    "start_time": "2023-12-05T18:43:20.415Z"
   },
   {
    "duration": 5,
    "start_time": "2023-12-05T18:43:29.064Z"
   },
   {
    "duration": 9,
    "start_time": "2023-12-05T18:43:32.472Z"
   },
   {
    "duration": 10,
    "start_time": "2023-12-05T18:43:40.410Z"
   },
   {
    "duration": 4,
    "start_time": "2023-12-05T18:48:55.968Z"
   },
   {
    "duration": 9,
    "start_time": "2023-12-05T18:49:02.193Z"
   },
   {
    "duration": 10,
    "start_time": "2023-12-05T18:49:05.016Z"
   },
   {
    "duration": 5,
    "start_time": "2023-12-05T18:49:47.703Z"
   },
   {
    "duration": 16,
    "start_time": "2023-12-05T18:49:50.819Z"
   },
   {
    "duration": 6,
    "start_time": "2023-12-05T18:56:05.867Z"
   },
   {
    "duration": 4,
    "start_time": "2023-12-05T18:56:07.082Z"
   },
   {
    "duration": 10,
    "start_time": "2023-12-05T18:56:09.050Z"
   },
   {
    "duration": 12,
    "start_time": "2023-12-05T18:56:11.164Z"
   },
   {
    "duration": 15,
    "start_time": "2023-12-05T18:56:48.766Z"
   },
   {
    "duration": 5,
    "start_time": "2023-12-05T19:29:58.451Z"
   },
   {
    "duration": 10,
    "start_time": "2023-12-05T19:30:16.615Z"
   },
   {
    "duration": 5,
    "start_time": "2023-12-05T19:30:20.116Z"
   },
   {
    "duration": 5,
    "start_time": "2023-12-05T19:31:03.406Z"
   },
   {
    "duration": 13,
    "start_time": "2023-12-05T19:31:05.744Z"
   },
   {
    "duration": 11,
    "start_time": "2023-12-05T19:31:08.251Z"
   },
   {
    "duration": 13,
    "start_time": "2023-12-05T19:39:39.924Z"
   },
   {
    "duration": 10,
    "start_time": "2023-12-05T19:39:44.441Z"
   },
   {
    "duration": 264,
    "start_time": "2023-12-05T20:00:40.271Z"
   },
   {
    "duration": 11,
    "start_time": "2023-12-05T20:00:51.015Z"
   },
   {
    "duration": 259,
    "start_time": "2023-12-05T20:01:35.408Z"
   },
   {
    "duration": 10,
    "start_time": "2023-12-05T20:01:40.716Z"
   },
   {
    "duration": 258,
    "start_time": "2023-12-05T20:02:48.152Z"
   },
   {
    "duration": 264,
    "start_time": "2023-12-05T20:04:36.541Z"
   },
   {
    "duration": 13,
    "start_time": "2023-12-05T20:04:42.527Z"
   },
   {
    "duration": 252,
    "start_time": "2023-12-05T20:06:08.887Z"
   },
   {
    "duration": 12,
    "start_time": "2023-12-05T20:06:10.423Z"
   },
   {
    "duration": 258,
    "start_time": "2023-12-05T20:06:16.386Z"
   },
   {
    "duration": 12,
    "start_time": "2023-12-05T20:06:18.097Z"
   },
   {
    "duration": 269,
    "start_time": "2023-12-05T21:17:41.699Z"
   },
   {
    "duration": 222,
    "start_time": "2023-12-05T21:18:01.120Z"
   },
   {
    "duration": 210,
    "start_time": "2023-12-05T21:18:05.908Z"
   },
   {
    "duration": 179,
    "start_time": "2023-12-05T21:18:10.593Z"
   },
   {
    "duration": 22,
    "start_time": "2023-12-05T21:19:22.814Z"
   },
   {
    "duration": 75,
    "start_time": "2023-12-05T21:20:23.254Z"
   },
   {
    "duration": 176,
    "start_time": "2023-12-05T21:20:32.017Z"
   },
   {
    "duration": 187,
    "start_time": "2023-12-05T21:25:21.059Z"
   },
   {
    "duration": 255,
    "start_time": "2023-12-05T21:26:27.440Z"
   },
   {
    "duration": 185,
    "start_time": "2023-12-05T21:28:40.141Z"
   },
   {
    "duration": 5,
    "start_time": "2023-12-05T21:30:22.857Z"
   },
   {
    "duration": 190,
    "start_time": "2023-12-05T21:30:24.788Z"
   },
   {
    "duration": 13,
    "start_time": "2023-12-05T21:30:59.695Z"
   },
   {
    "duration": 180,
    "start_time": "2023-12-05T21:32:58.005Z"
   },
   {
    "duration": 166,
    "start_time": "2023-12-05T21:35:36.617Z"
   },
   {
    "duration": 160,
    "start_time": "2023-12-05T21:35:53.419Z"
   },
   {
    "duration": 171,
    "start_time": "2023-12-05T21:36:00.296Z"
   },
   {
    "duration": 183,
    "start_time": "2023-12-05T21:36:08.599Z"
   },
   {
    "duration": 159,
    "start_time": "2023-12-05T21:37:46.846Z"
   },
   {
    "duration": 197,
    "start_time": "2023-12-05T21:37:54.488Z"
   },
   {
    "duration": 196,
    "start_time": "2023-12-05T21:38:58.454Z"
   },
   {
    "duration": 1257,
    "start_time": "2023-12-06T10:02:25.551Z"
   },
   {
    "duration": 179,
    "start_time": "2023-12-06T10:02:26.810Z"
   },
   {
    "duration": 21,
    "start_time": "2023-12-06T10:02:26.990Z"
   },
   {
    "duration": 47,
    "start_time": "2023-12-06T10:02:27.013Z"
   },
   {
    "duration": 35,
    "start_time": "2023-12-06T10:02:27.061Z"
   },
   {
    "duration": 19,
    "start_time": "2023-12-06T10:02:27.098Z"
   },
   {
    "duration": 16,
    "start_time": "2023-12-06T10:02:27.119Z"
   },
   {
    "duration": 25,
    "start_time": "2023-12-06T10:02:27.137Z"
   },
   {
    "duration": 29,
    "start_time": "2023-12-06T10:02:27.164Z"
   },
   {
    "duration": 21,
    "start_time": "2023-12-06T10:02:27.195Z"
   },
   {
    "duration": 31,
    "start_time": "2023-12-06T10:02:27.217Z"
   },
   {
    "duration": 23,
    "start_time": "2023-12-06T10:02:27.249Z"
   },
   {
    "duration": 27,
    "start_time": "2023-12-06T10:02:27.274Z"
   },
   {
    "duration": 43,
    "start_time": "2023-12-06T10:02:27.304Z"
   },
   {
    "duration": 15,
    "start_time": "2023-12-06T10:02:27.349Z"
   },
   {
    "duration": 118,
    "start_time": "2023-12-06T10:02:27.366Z"
   },
   {
    "duration": 0,
    "start_time": "2023-12-06T10:02:27.486Z"
   },
   {
    "duration": 0,
    "start_time": "2023-12-06T10:02:27.487Z"
   },
   {
    "duration": 0,
    "start_time": "2023-12-06T10:02:27.488Z"
   },
   {
    "duration": 3,
    "start_time": "2023-12-06T10:15:36.437Z"
   },
   {
    "duration": 109,
    "start_time": "2023-12-06T10:15:36.442Z"
   },
   {
    "duration": 20,
    "start_time": "2023-12-06T10:15:36.553Z"
   },
   {
    "duration": 14,
    "start_time": "2023-12-06T10:15:36.575Z"
   },
   {
    "duration": 14,
    "start_time": "2023-12-06T10:15:36.591Z"
   },
   {
    "duration": 10,
    "start_time": "2023-12-06T10:15:36.607Z"
   },
   {
    "duration": 12,
    "start_time": "2023-12-06T10:15:36.618Z"
   },
   {
    "duration": 11,
    "start_time": "2023-12-06T10:15:36.631Z"
   },
   {
    "duration": 5,
    "start_time": "2023-12-06T10:15:36.644Z"
   },
   {
    "duration": 9,
    "start_time": "2023-12-06T10:15:36.650Z"
   },
   {
    "duration": 23,
    "start_time": "2023-12-06T10:15:36.661Z"
   },
   {
    "duration": 8,
    "start_time": "2023-12-06T10:15:36.685Z"
   },
   {
    "duration": 4,
    "start_time": "2023-12-06T10:15:36.695Z"
   },
   {
    "duration": 15,
    "start_time": "2023-12-06T10:15:36.700Z"
   },
   {
    "duration": 12,
    "start_time": "2023-12-06T10:15:36.716Z"
   },
   {
    "duration": 264,
    "start_time": "2023-12-06T10:15:36.729Z"
   },
   {
    "duration": 5,
    "start_time": "2023-12-06T10:15:36.994Z"
   },
   {
    "duration": 290,
    "start_time": "2023-12-06T10:15:37.000Z"
   },
   {
    "duration": 101,
    "start_time": "2023-12-06T10:15:37.292Z"
   },
   {
    "duration": 160,
    "start_time": "2023-12-06T10:20:32.587Z"
   },
   {
    "duration": 185,
    "start_time": "2023-12-06T10:20:47.067Z"
   },
   {
    "duration": 208,
    "start_time": "2023-12-06T10:21:20.618Z"
   },
   {
    "duration": 367,
    "start_time": "2023-12-06T10:24:45.068Z"
   },
   {
    "duration": 307,
    "start_time": "2023-12-06T10:59:20.833Z"
   },
   {
    "duration": 343,
    "start_time": "2023-12-06T10:59:45.423Z"
   },
   {
    "duration": 273,
    "start_time": "2023-12-06T11:00:03.617Z"
   },
   {
    "duration": 307,
    "start_time": "2023-12-06T11:00:22.240Z"
   },
   {
    "duration": 5,
    "start_time": "2023-12-06T12:11:38.193Z"
   },
   {
    "duration": 10,
    "start_time": "2023-12-06T12:12:07.065Z"
   },
   {
    "duration": 5,
    "start_time": "2023-12-06T12:12:19.681Z"
   },
   {
    "duration": 200,
    "start_time": "2023-12-06T12:14:39.930Z"
   },
   {
    "duration": 224,
    "start_time": "2023-12-06T12:15:12.379Z"
   },
   {
    "duration": 206,
    "start_time": "2023-12-06T12:21:11.062Z"
   },
   {
    "duration": 140,
    "start_time": "2023-12-06T14:06:56.631Z"
   },
   {
    "duration": 142,
    "start_time": "2023-12-06T14:07:10.510Z"
   },
   {
    "duration": 146,
    "start_time": "2023-12-06T14:07:57.266Z"
   },
   {
    "duration": 193,
    "start_time": "2023-12-06T14:08:48.451Z"
   },
   {
    "duration": 8,
    "start_time": "2023-12-06T14:09:37.106Z"
   },
   {
    "duration": 196,
    "start_time": "2023-12-06T14:10:36.908Z"
   },
   {
    "duration": 382,
    "start_time": "2023-12-06T14:10:54.828Z"
   },
   {
    "duration": 275,
    "start_time": "2023-12-06T14:12:20.996Z"
   },
   {
    "duration": 19,
    "start_time": "2023-12-06T14:30:05.838Z"
   },
   {
    "duration": 6,
    "start_time": "2023-12-06T14:30:16.822Z"
   },
   {
    "duration": 106,
    "start_time": "2023-12-06T14:31:13.503Z"
   },
   {
    "duration": 110,
    "start_time": "2023-12-06T14:32:01.007Z"
   },
   {
    "duration": 111,
    "start_time": "2023-12-06T14:32:36.241Z"
   },
   {
    "duration": 144,
    "start_time": "2023-12-06T14:33:50.696Z"
   },
   {
    "duration": 5,
    "start_time": "2023-12-06T14:38:42.626Z"
   },
   {
    "duration": 1342,
    "start_time": "2023-12-07T09:32:17.639Z"
   },
   {
    "duration": 195,
    "start_time": "2023-12-07T09:32:18.983Z"
   },
   {
    "duration": 25,
    "start_time": "2023-12-07T09:32:19.179Z"
   },
   {
    "duration": 18,
    "start_time": "2023-12-07T09:32:19.205Z"
   },
   {
    "duration": 42,
    "start_time": "2023-12-07T09:32:19.225Z"
   },
   {
    "duration": 40,
    "start_time": "2023-12-07T09:32:19.268Z"
   },
   {
    "duration": 40,
    "start_time": "2023-12-07T09:32:19.310Z"
   },
   {
    "duration": 19,
    "start_time": "2023-12-07T09:32:19.352Z"
   },
   {
    "duration": 31,
    "start_time": "2023-12-07T09:32:19.372Z"
   },
   {
    "duration": 37,
    "start_time": "2023-12-07T09:32:19.405Z"
   },
   {
    "duration": 33,
    "start_time": "2023-12-07T09:32:19.444Z"
   },
   {
    "duration": 31,
    "start_time": "2023-12-07T09:32:19.479Z"
   },
   {
    "duration": 36,
    "start_time": "2023-12-07T09:32:19.512Z"
   },
   {
    "duration": 42,
    "start_time": "2023-12-07T09:32:19.550Z"
   },
   {
    "duration": 18,
    "start_time": "2023-12-07T09:32:19.594Z"
   },
   {
    "duration": 293,
    "start_time": "2023-12-07T09:32:19.614Z"
   },
   {
    "duration": 6,
    "start_time": "2023-12-07T09:32:19.909Z"
   },
   {
    "duration": 310,
    "start_time": "2023-12-07T09:32:19.917Z"
   },
   {
    "duration": 389,
    "start_time": "2023-12-07T09:32:20.228Z"
   },
   {
    "duration": 336,
    "start_time": "2023-12-07T09:32:20.618Z"
   },
   {
    "duration": 5,
    "start_time": "2023-12-07T09:32:20.956Z"
   },
   {
    "duration": 250,
    "start_time": "2023-12-07T09:32:20.966Z"
   },
   {
    "duration": 7,
    "start_time": "2023-12-07T09:32:21.217Z"
   },
   {
    "duration": 358,
    "start_time": "2023-12-07T09:32:21.226Z"
   },
   {
    "duration": 134,
    "start_time": "2023-12-07T09:32:21.585Z"
   },
   {
    "duration": 4,
    "start_time": "2023-12-07T09:32:21.720Z"
   },
   {
    "duration": 15,
    "start_time": "2023-12-07T15:01:44.504Z"
   },
   {
    "duration": 239,
    "start_time": "2023-12-07T15:25:15.813Z"
   },
   {
    "duration": 139,
    "start_time": "2023-12-07T15:43:57.430Z"
   },
   {
    "duration": 143,
    "start_time": "2023-12-07T15:46:50.975Z"
   },
   {
    "duration": 145,
    "start_time": "2023-12-07T15:48:35.375Z"
   },
   {
    "duration": 147,
    "start_time": "2023-12-07T15:54:48.678Z"
   },
   {
    "duration": 144,
    "start_time": "2023-12-07T15:54:54.775Z"
   },
   {
    "duration": 5,
    "start_time": "2023-12-07T15:57:06.624Z"
   },
   {
    "duration": 195,
    "start_time": "2023-12-07T16:33:26.077Z"
   },
   {
    "duration": 12,
    "start_time": "2023-12-07T16:34:14.220Z"
   },
   {
    "duration": 11,
    "start_time": "2023-12-07T16:34:19.716Z"
   },
   {
    "duration": 212,
    "start_time": "2023-12-07T16:38:26.169Z"
   },
   {
    "duration": 7,
    "start_time": "2023-12-07T16:51:20.110Z"
   },
   {
    "duration": 16,
    "start_time": "2023-12-07T16:53:30.951Z"
   },
   {
    "duration": 126,
    "start_time": "2023-12-07T17:00:46.981Z"
   },
   {
    "duration": 27,
    "start_time": "2023-12-07T17:25:17.609Z"
   },
   {
    "duration": 13,
    "start_time": "2023-12-07T18:48:38.280Z"
   },
   {
    "duration": 13,
    "start_time": "2023-12-07T18:55:19.219Z"
   },
   {
    "duration": 1274,
    "start_time": "2023-12-09T07:32:51.973Z"
   },
   {
    "duration": 200,
    "start_time": "2023-12-09T07:32:53.249Z"
   },
   {
    "duration": 21,
    "start_time": "2023-12-09T07:32:53.450Z"
   },
   {
    "duration": 12,
    "start_time": "2023-12-09T07:32:53.473Z"
   },
   {
    "duration": 11,
    "start_time": "2023-12-09T07:32:53.487Z"
   },
   {
    "duration": 14,
    "start_time": "2023-12-09T07:32:53.499Z"
   },
   {
    "duration": 7,
    "start_time": "2023-12-09T07:32:53.514Z"
   },
   {
    "duration": 14,
    "start_time": "2023-12-09T07:32:53.523Z"
   },
   {
    "duration": 27,
    "start_time": "2023-12-09T07:32:53.538Z"
   },
   {
    "duration": 20,
    "start_time": "2023-12-09T07:32:53.566Z"
   },
   {
    "duration": 9,
    "start_time": "2023-12-09T07:32:53.588Z"
   },
   {
    "duration": 10,
    "start_time": "2023-12-09T07:32:53.598Z"
   },
   {
    "duration": 8,
    "start_time": "2023-12-09T07:32:53.609Z"
   },
   {
    "duration": 19,
    "start_time": "2023-12-09T07:32:53.620Z"
   },
   {
    "duration": 9,
    "start_time": "2023-12-09T07:32:53.641Z"
   },
   {
    "duration": 248,
    "start_time": "2023-12-09T07:32:53.652Z"
   },
   {
    "duration": 5,
    "start_time": "2023-12-09T07:32:53.902Z"
   },
   {
    "duration": 263,
    "start_time": "2023-12-09T07:32:53.909Z"
   },
   {
    "duration": 340,
    "start_time": "2023-12-09T07:32:54.173Z"
   },
   {
    "duration": 304,
    "start_time": "2023-12-09T07:32:54.515Z"
   },
   {
    "duration": 6,
    "start_time": "2023-12-09T07:32:54.820Z"
   },
   {
    "duration": 185,
    "start_time": "2023-12-09T07:32:54.828Z"
   },
   {
    "duration": 9,
    "start_time": "2023-12-09T07:32:55.015Z"
   },
   {
    "duration": 356,
    "start_time": "2023-12-09T07:32:55.025Z"
   },
   {
    "duration": 132,
    "start_time": "2023-12-09T07:32:55.383Z"
   },
   {
    "duration": 4,
    "start_time": "2023-12-09T07:32:55.517Z"
   },
   {
    "duration": 195,
    "start_time": "2023-12-09T07:32:55.522Z"
   },
   {
    "duration": 5,
    "start_time": "2023-12-09T07:32:55.719Z"
   },
   {
    "duration": 201,
    "start_time": "2023-12-09T07:32:55.725Z"
   },
   {
    "duration": 130,
    "start_time": "2023-12-09T07:32:55.927Z"
   },
   {
    "duration": 28,
    "start_time": "2023-12-09T07:32:56.059Z"
   },
   {
    "duration": 9,
    "start_time": "2023-12-09T07:32:56.089Z"
   },
   {
    "duration": 9,
    "start_time": "2023-12-09T07:32:56.100Z"
   },
   {
    "duration": 3,
    "start_time": "2023-12-09T08:33:37.133Z"
   },
   {
    "duration": 78,
    "start_time": "2023-12-09T08:33:37.138Z"
   },
   {
    "duration": 18,
    "start_time": "2023-12-09T08:33:37.218Z"
   },
   {
    "duration": 17,
    "start_time": "2023-12-09T08:33:37.237Z"
   },
   {
    "duration": 17,
    "start_time": "2023-12-09T08:33:37.256Z"
   },
   {
    "duration": 6,
    "start_time": "2023-12-09T08:33:37.275Z"
   },
   {
    "duration": 10,
    "start_time": "2023-12-09T08:33:37.282Z"
   },
   {
    "duration": 27,
    "start_time": "2023-12-09T08:33:37.293Z"
   },
   {
    "duration": 6,
    "start_time": "2023-12-09T08:33:37.321Z"
   },
   {
    "duration": 23,
    "start_time": "2023-12-09T08:33:37.328Z"
   },
   {
    "duration": 13,
    "start_time": "2023-12-09T08:33:37.353Z"
   },
   {
    "duration": 8,
    "start_time": "2023-12-09T08:33:37.367Z"
   },
   {
    "duration": 4,
    "start_time": "2023-12-09T08:33:37.376Z"
   },
   {
    "duration": 10,
    "start_time": "2023-12-09T08:33:37.382Z"
   },
   {
    "duration": 14,
    "start_time": "2023-12-09T08:33:37.393Z"
   },
   {
    "duration": 260,
    "start_time": "2023-12-09T08:33:37.408Z"
   },
   {
    "duration": 6,
    "start_time": "2023-12-09T08:33:37.670Z"
   },
   {
    "duration": 187,
    "start_time": "2023-12-09T08:33:37.677Z"
   },
   {
    "duration": 290,
    "start_time": "2023-12-09T08:33:37.865Z"
   },
   {
    "duration": 295,
    "start_time": "2023-12-09T08:33:38.157Z"
   },
   {
    "duration": 5,
    "start_time": "2023-12-09T08:33:38.453Z"
   },
   {
    "duration": 178,
    "start_time": "2023-12-09T08:33:38.469Z"
   },
   {
    "duration": 7,
    "start_time": "2023-12-09T08:33:38.648Z"
   },
   {
    "duration": 293,
    "start_time": "2023-12-09T08:33:38.656Z"
   },
   {
    "duration": 127,
    "start_time": "2023-12-09T08:33:38.951Z"
   },
   {
    "duration": 4,
    "start_time": "2023-12-09T08:33:39.080Z"
   },
   {
    "duration": 140,
    "start_time": "2023-12-09T08:33:39.086Z"
   },
   {
    "duration": 6,
    "start_time": "2023-12-09T08:33:39.227Z"
   },
   {
    "duration": 188,
    "start_time": "2023-12-09T08:33:39.234Z"
   },
   {
    "duration": 128,
    "start_time": "2023-12-09T08:33:39.424Z"
   },
   {
    "duration": 27,
    "start_time": "2023-12-09T08:33:39.554Z"
   },
   {
    "duration": 8,
    "start_time": "2023-12-09T08:33:39.583Z"
   },
   {
    "duration": 6,
    "start_time": "2023-12-09T08:33:39.592Z"
   },
   {
    "duration": 100,
    "start_time": "2023-12-09T08:43:19.634Z"
   },
   {
    "duration": 8,
    "start_time": "2023-12-09T08:43:29.027Z"
   },
   {
    "duration": 7,
    "start_time": "2023-12-09T08:43:43.198Z"
   },
   {
    "duration": 1392,
    "start_time": "2023-12-09T08:43:58.852Z"
   },
   {
    "duration": 1118,
    "start_time": "2023-12-09T08:44:26.451Z"
   },
   {
    "duration": 5,
    "start_time": "2023-12-09T08:44:33.019Z"
   },
   {
    "duration": 131,
    "start_time": "2023-12-09T08:45:21.615Z"
   },
   {
    "duration": 7,
    "start_time": "2023-12-09T08:45:39.494Z"
   },
   {
    "duration": 8,
    "start_time": "2023-12-09T08:45:52.045Z"
   },
   {
    "duration": 5,
    "start_time": "2023-12-09T08:45:56.838Z"
   },
   {
    "duration": 4,
    "start_time": "2023-12-09T09:22:29.353Z"
   },
   {
    "duration": 7,
    "start_time": "2023-12-09T09:22:30.804Z"
   },
   {
    "duration": 3,
    "start_time": "2023-12-09T09:24:14.382Z"
   },
   {
    "duration": 1152,
    "start_time": "2023-12-09T09:25:09.213Z"
   },
   {
    "duration": 4,
    "start_time": "2023-12-09T09:25:18.428Z"
   },
   {
    "duration": 12,
    "start_time": "2023-12-09T09:25:30.140Z"
   },
   {
    "duration": 4,
    "start_time": "2023-12-09T09:26:04.191Z"
   },
   {
    "duration": 11,
    "start_time": "2023-12-09T11:01:51.088Z"
   },
   {
    "duration": 1127,
    "start_time": "2023-12-09T11:03:03.806Z"
   },
   {
    "duration": 12,
    "start_time": "2023-12-09T11:04:07.270Z"
   },
   {
    "duration": 11,
    "start_time": "2023-12-09T11:04:24.517Z"
   },
   {
    "duration": 1081,
    "start_time": "2023-12-09T11:57:51.526Z"
   },
   {
    "duration": 8,
    "start_time": "2023-12-09T11:58:35.973Z"
   },
   {
    "duration": 36,
    "start_time": "2023-12-09T13:21:35.084Z"
   },
   {
    "duration": 1347,
    "start_time": "2023-12-09T15:37:17.802Z"
   },
   {
    "duration": 200,
    "start_time": "2023-12-09T15:37:19.151Z"
   },
   {
    "duration": 22,
    "start_time": "2023-12-09T15:37:19.352Z"
   },
   {
    "duration": 13,
    "start_time": "2023-12-09T15:37:19.375Z"
   },
   {
    "duration": 7,
    "start_time": "2023-12-09T15:37:19.389Z"
   },
   {
    "duration": 20,
    "start_time": "2023-12-09T15:37:19.397Z"
   },
   {
    "duration": 16,
    "start_time": "2023-12-09T15:37:19.418Z"
   },
   {
    "duration": 10,
    "start_time": "2023-12-09T15:37:19.436Z"
   },
   {
    "duration": 16,
    "start_time": "2023-12-09T15:37:19.447Z"
   },
   {
    "duration": 14,
    "start_time": "2023-12-09T15:37:19.464Z"
   },
   {
    "duration": 8,
    "start_time": "2023-12-09T15:37:19.480Z"
   },
   {
    "duration": 15,
    "start_time": "2023-12-09T15:37:19.490Z"
   },
   {
    "duration": 7,
    "start_time": "2023-12-09T15:37:19.507Z"
   },
   {
    "duration": 17,
    "start_time": "2023-12-09T15:37:19.518Z"
   },
   {
    "duration": 10,
    "start_time": "2023-12-09T15:37:19.536Z"
   },
   {
    "duration": 296,
    "start_time": "2023-12-09T15:37:19.548Z"
   },
   {
    "duration": 6,
    "start_time": "2023-12-09T15:37:19.846Z"
   },
   {
    "duration": 330,
    "start_time": "2023-12-09T15:37:19.854Z"
   },
   {
    "duration": 377,
    "start_time": "2023-12-09T15:37:20.187Z"
   },
   {
    "duration": 316,
    "start_time": "2023-12-09T15:37:20.565Z"
   },
   {
    "duration": 5,
    "start_time": "2023-12-09T15:37:20.883Z"
   },
   {
    "duration": 227,
    "start_time": "2023-12-09T15:37:20.890Z"
   },
   {
    "duration": 7,
    "start_time": "2023-12-09T15:37:21.119Z"
   },
   {
    "duration": 303,
    "start_time": "2023-12-09T15:37:21.128Z"
   },
   {
    "duration": 138,
    "start_time": "2023-12-09T15:37:21.433Z"
   },
   {
    "duration": 4,
    "start_time": "2023-12-09T15:37:21.573Z"
   },
   {
    "duration": 168,
    "start_time": "2023-12-09T15:37:21.578Z"
   },
   {
    "duration": 6,
    "start_time": "2023-12-09T15:37:21.747Z"
   },
   {
    "duration": 302,
    "start_time": "2023-12-09T15:37:21.754Z"
   },
   {
    "duration": 147,
    "start_time": "2023-12-09T15:37:22.058Z"
   },
   {
    "duration": 34,
    "start_time": "2023-12-09T15:37:22.208Z"
   },
   {
    "duration": 16,
    "start_time": "2023-12-09T15:37:22.243Z"
   },
   {
    "duration": 11,
    "start_time": "2023-12-09T15:37:22.260Z"
   },
   {
    "duration": 19,
    "start_time": "2023-12-09T15:37:22.273Z"
   },
   {
    "duration": 20,
    "start_time": "2023-12-09T15:37:22.294Z"
   },
   {
    "duration": 36,
    "start_time": "2023-12-09T15:37:22.315Z"
   },
   {
    "duration": 33,
    "start_time": "2023-12-09T15:37:22.352Z"
   },
   {
    "duration": 13,
    "start_time": "2023-12-09T15:37:22.387Z"
   },
   {
    "duration": 55,
    "start_time": "2023-12-09T18:58:52.989Z"
   },
   {
    "duration": 1357,
    "start_time": "2023-12-09T18:58:58.765Z"
   },
   {
    "duration": 188,
    "start_time": "2023-12-09T18:59:00.124Z"
   },
   {
    "duration": 26,
    "start_time": "2023-12-09T18:59:00.314Z"
   },
   {
    "duration": 47,
    "start_time": "2023-12-09T18:59:00.342Z"
   },
   {
    "duration": 16,
    "start_time": "2023-12-09T18:59:00.391Z"
   },
   {
    "duration": 20,
    "start_time": "2023-12-09T18:59:00.409Z"
   },
   {
    "duration": 36,
    "start_time": "2023-12-09T18:59:00.431Z"
   },
   {
    "duration": 41,
    "start_time": "2023-12-09T18:59:00.469Z"
   },
   {
    "duration": 28,
    "start_time": "2023-12-09T18:59:00.512Z"
   },
   {
    "duration": 43,
    "start_time": "2023-12-09T18:59:00.542Z"
   },
   {
    "duration": 29,
    "start_time": "2023-12-09T18:59:00.587Z"
   },
   {
    "duration": 29,
    "start_time": "2023-12-09T18:59:00.618Z"
   },
   {
    "duration": 35,
    "start_time": "2023-12-09T18:59:00.648Z"
   },
   {
    "duration": 31,
    "start_time": "2023-12-09T18:59:00.686Z"
   },
   {
    "duration": 54,
    "start_time": "2023-12-09T18:59:00.719Z"
   },
   {
    "duration": 324,
    "start_time": "2023-12-09T18:59:00.775Z"
   },
   {
    "duration": 7,
    "start_time": "2023-12-09T18:59:01.101Z"
   },
   {
    "duration": 353,
    "start_time": "2023-12-09T18:59:01.110Z"
   },
   {
    "duration": 412,
    "start_time": "2023-12-09T18:59:01.465Z"
   },
   {
    "duration": 372,
    "start_time": "2023-12-09T18:59:01.879Z"
   },
   {
    "duration": 5,
    "start_time": "2023-12-09T18:59:02.253Z"
   },
   {
    "duration": 250,
    "start_time": "2023-12-09T18:59:02.260Z"
   },
   {
    "duration": 8,
    "start_time": "2023-12-09T18:59:02.511Z"
   },
   {
    "duration": 357,
    "start_time": "2023-12-09T18:59:02.521Z"
   },
   {
    "duration": 154,
    "start_time": "2023-12-09T18:59:02.880Z"
   },
   {
    "duration": 5,
    "start_time": "2023-12-09T18:59:03.036Z"
   },
   {
    "duration": 255,
    "start_time": "2023-12-09T18:59:03.042Z"
   },
   {
    "duration": 5,
    "start_time": "2023-12-09T18:59:03.299Z"
   },
   {
    "duration": 299,
    "start_time": "2023-12-09T18:59:03.307Z"
   },
   {
    "duration": 144,
    "start_time": "2023-12-09T18:59:03.608Z"
   },
   {
    "duration": 28,
    "start_time": "2023-12-09T18:59:03.754Z"
   },
   {
    "duration": 29,
    "start_time": "2023-12-09T18:59:03.784Z"
   },
   {
    "duration": 13,
    "start_time": "2023-12-09T18:59:03.815Z"
   },
   {
    "duration": 30,
    "start_time": "2023-12-09T18:59:03.830Z"
   },
   {
    "duration": 33,
    "start_time": "2023-12-09T18:59:03.861Z"
   },
   {
    "duration": 28,
    "start_time": "2023-12-09T18:59:03.896Z"
   },
   {
    "duration": 45,
    "start_time": "2023-12-09T18:59:03.926Z"
   },
   {
    "duration": 16,
    "start_time": "2023-12-09T18:59:03.973Z"
   },
   {
    "duration": 4,
    "start_time": "2023-12-09T19:09:12.559Z"
   },
   {
    "duration": 12,
    "start_time": "2023-12-09T19:09:15.645Z"
   },
   {
    "duration": 72,
    "start_time": "2023-12-09T19:09:20.625Z"
   },
   {
    "duration": 4,
    "start_time": "2023-12-09T19:09:33.287Z"
   },
   {
    "duration": 14,
    "start_time": "2023-12-09T19:09:35.109Z"
   },
   {
    "duration": 3,
    "start_time": "2023-12-09T19:09:40.429Z"
   },
   {
    "duration": 11,
    "start_time": "2023-12-09T19:09:42.335Z"
   },
   {
    "duration": 4,
    "start_time": "2023-12-09T19:09:45.878Z"
   },
   {
    "duration": 11,
    "start_time": "2023-12-09T19:09:47.591Z"
   },
   {
    "duration": 4,
    "start_time": "2023-12-09T19:09:53.740Z"
   },
   {
    "duration": 12,
    "start_time": "2023-12-09T19:09:56.087Z"
   },
   {
    "duration": 4,
    "start_time": "2023-12-09T19:14:07.542Z"
   },
   {
    "duration": 90,
    "start_time": "2023-12-09T19:14:07.548Z"
   },
   {
    "duration": 23,
    "start_time": "2023-12-09T19:14:07.639Z"
   },
   {
    "duration": 15,
    "start_time": "2023-12-09T19:14:07.664Z"
   },
   {
    "duration": 26,
    "start_time": "2023-12-09T19:14:07.681Z"
   },
   {
    "duration": 5,
    "start_time": "2023-12-09T19:14:07.709Z"
   },
   {
    "duration": 8,
    "start_time": "2023-12-09T19:14:07.715Z"
   },
   {
    "duration": 7,
    "start_time": "2023-12-09T19:14:07.724Z"
   },
   {
    "duration": 11,
    "start_time": "2023-12-09T19:14:07.732Z"
   },
   {
    "duration": 32,
    "start_time": "2023-12-09T19:14:07.744Z"
   },
   {
    "duration": 38,
    "start_time": "2023-12-09T19:14:07.778Z"
   },
   {
    "duration": 20,
    "start_time": "2023-12-09T19:14:07.817Z"
   },
   {
    "duration": 24,
    "start_time": "2023-12-09T19:14:07.838Z"
   },
   {
    "duration": 13,
    "start_time": "2023-12-09T19:14:07.865Z"
   },
   {
    "duration": 36,
    "start_time": "2023-12-09T19:14:07.880Z"
   },
   {
    "duration": 302,
    "start_time": "2023-12-09T19:14:07.918Z"
   },
   {
    "duration": 7,
    "start_time": "2023-12-09T19:14:08.221Z"
   },
   {
    "duration": 255,
    "start_time": "2023-12-09T19:14:08.229Z"
   },
   {
    "duration": 366,
    "start_time": "2023-12-09T19:14:08.486Z"
   },
   {
    "duration": 326,
    "start_time": "2023-12-09T19:14:08.854Z"
   },
   {
    "duration": 6,
    "start_time": "2023-12-09T19:14:09.181Z"
   },
   {
    "duration": 232,
    "start_time": "2023-12-09T19:14:09.189Z"
   },
   {
    "duration": 8,
    "start_time": "2023-12-09T19:14:09.423Z"
   },
   {
    "duration": 382,
    "start_time": "2023-12-09T19:14:09.432Z"
   },
   {
    "duration": 153,
    "start_time": "2023-12-09T19:14:09.815Z"
   },
   {
    "duration": 6,
    "start_time": "2023-12-09T19:14:09.970Z"
   },
   {
    "duration": 172,
    "start_time": "2023-12-09T19:14:09.978Z"
   },
   {
    "duration": 5,
    "start_time": "2023-12-09T19:14:10.151Z"
   },
   {
    "duration": 264,
    "start_time": "2023-12-09T19:14:10.158Z"
   },
   {
    "duration": 157,
    "start_time": "2023-12-09T19:14:10.424Z"
   },
   {
    "duration": 32,
    "start_time": "2023-12-09T19:14:10.583Z"
   },
   {
    "duration": 11,
    "start_time": "2023-12-09T19:14:10.616Z"
   },
   {
    "duration": 31,
    "start_time": "2023-12-09T19:14:10.629Z"
   },
   {
    "duration": 33,
    "start_time": "2023-12-09T19:14:10.662Z"
   },
   {
    "duration": 35,
    "start_time": "2023-12-09T19:14:10.697Z"
   },
   {
    "duration": 39,
    "start_time": "2023-12-09T19:14:10.734Z"
   },
   {
    "duration": 59,
    "start_time": "2023-12-09T19:14:10.774Z"
   },
   {
    "duration": 14,
    "start_time": "2023-12-09T19:14:10.835Z"
   },
   {
    "duration": 338,
    "start_time": "2023-12-09T19:17:43.185Z"
   },
   {
    "duration": 204,
    "start_time": "2023-12-09T19:44:17.052Z"
   },
   {
    "duration": 200,
    "start_time": "2023-12-09T19:44:44.115Z"
   },
   {
    "duration": 148,
    "start_time": "2023-12-09T19:45:12.646Z"
   },
   {
    "duration": 145,
    "start_time": "2023-12-09T19:45:16.278Z"
   },
   {
    "duration": 144,
    "start_time": "2023-12-09T19:45:21.500Z"
   },
   {
    "duration": 134,
    "start_time": "2023-12-09T19:45:39.945Z"
   },
   {
    "duration": 155,
    "start_time": "2023-12-09T19:46:34.641Z"
   },
   {
    "duration": 131,
    "start_time": "2023-12-09T19:46:55.032Z"
   },
   {
    "duration": 129,
    "start_time": "2023-12-09T19:47:37.189Z"
   },
   {
    "duration": 182,
    "start_time": "2023-12-09T19:47:45.797Z"
   },
   {
    "duration": 153,
    "start_time": "2023-12-09T19:47:49.228Z"
   },
   {
    "duration": 140,
    "start_time": "2023-12-09T19:47:53.198Z"
   },
   {
    "duration": 209,
    "start_time": "2023-12-09T19:47:57.715Z"
   },
   {
    "duration": 83,
    "start_time": "2023-12-09T19:50:38.274Z"
   },
   {
    "duration": 160,
    "start_time": "2023-12-09T19:52:26.502Z"
   },
   {
    "duration": 145,
    "start_time": "2023-12-09T19:52:45.020Z"
   },
   {
    "duration": 154,
    "start_time": "2023-12-09T19:52:53.885Z"
   },
   {
    "duration": 169,
    "start_time": "2023-12-09T19:53:08.065Z"
   },
   {
    "duration": 26,
    "start_time": "2023-12-09T19:59:17.310Z"
   },
   {
    "duration": 25,
    "start_time": "2023-12-09T19:59:30.344Z"
   },
   {
    "duration": 158,
    "start_time": "2023-12-09T20:06:22.673Z"
   },
   {
    "duration": 164,
    "start_time": "2023-12-09T20:07:49.108Z"
   },
   {
    "duration": 160,
    "start_time": "2023-12-09T20:07:56.725Z"
   },
   {
    "duration": 158,
    "start_time": "2023-12-09T20:08:07.322Z"
   },
   {
    "duration": 458,
    "start_time": "2023-12-09T20:08:23.310Z"
   },
   {
    "duration": 260,
    "start_time": "2023-12-09T20:08:27.992Z"
   },
   {
    "duration": 130,
    "start_time": "2023-12-09T20:08:50.520Z"
   },
   {
    "duration": 26,
    "start_time": "2023-12-09T20:11:18.076Z"
   },
   {
    "duration": 10,
    "start_time": "2023-12-09T20:12:29.312Z"
   },
   {
    "duration": 11,
    "start_time": "2023-12-09T20:12:41.022Z"
   },
   {
    "duration": 11,
    "start_time": "2023-12-09T20:12:44.568Z"
   },
   {
    "duration": 11,
    "start_time": "2023-12-09T20:12:47.463Z"
   },
   {
    "duration": 11,
    "start_time": "2023-12-09T20:12:53.611Z"
   },
   {
    "duration": 10,
    "start_time": "2023-12-09T20:12:58.009Z"
   },
   {
    "duration": 11,
    "start_time": "2023-12-09T20:13:39.028Z"
   },
   {
    "duration": 25,
    "start_time": "2023-12-09T20:13:48.937Z"
   },
   {
    "duration": 3,
    "start_time": "2023-12-09T20:16:10.710Z"
   },
   {
    "duration": 4,
    "start_time": "2023-12-09T20:16:21.021Z"
   },
   {
    "duration": 4,
    "start_time": "2023-12-09T20:16:37.722Z"
   },
   {
    "duration": 5,
    "start_time": "2023-12-09T20:16:45.783Z"
   },
   {
    "duration": 5,
    "start_time": "2023-12-09T20:16:52.475Z"
   },
   {
    "duration": 6,
    "start_time": "2023-12-09T20:16:58.691Z"
   },
   {
    "duration": 3,
    "start_time": "2023-12-09T20:18:22.338Z"
   },
   {
    "duration": 76,
    "start_time": "2023-12-09T20:18:22.343Z"
   },
   {
    "duration": 22,
    "start_time": "2023-12-09T20:18:22.420Z"
   },
   {
    "duration": 14,
    "start_time": "2023-12-09T20:18:22.444Z"
   },
   {
    "duration": 15,
    "start_time": "2023-12-09T20:18:22.460Z"
   },
   {
    "duration": 5,
    "start_time": "2023-12-09T20:18:22.476Z"
   },
   {
    "duration": 8,
    "start_time": "2023-12-09T20:18:22.482Z"
   },
   {
    "duration": 20,
    "start_time": "2023-12-09T20:18:22.491Z"
   },
   {
    "duration": 6,
    "start_time": "2023-12-09T20:18:22.513Z"
   },
   {
    "duration": 12,
    "start_time": "2023-12-09T20:18:22.520Z"
   },
   {
    "duration": 10,
    "start_time": "2023-12-09T20:18:22.534Z"
   },
   {
    "duration": 12,
    "start_time": "2023-12-09T20:18:22.546Z"
   },
   {
    "duration": 6,
    "start_time": "2023-12-09T20:18:22.559Z"
   },
   {
    "duration": 3,
    "start_time": "2023-12-09T20:18:22.569Z"
   },
   {
    "duration": 41,
    "start_time": "2023-12-09T20:18:22.574Z"
   },
   {
    "duration": 294,
    "start_time": "2023-12-09T20:18:22.616Z"
   },
   {
    "duration": 5,
    "start_time": "2023-12-09T20:18:22.912Z"
   },
   {
    "duration": 209,
    "start_time": "2023-12-09T20:18:22.919Z"
   },
   {
    "duration": 316,
    "start_time": "2023-12-09T20:18:23.130Z"
   },
   {
    "duration": 290,
    "start_time": "2023-12-09T20:18:23.448Z"
   },
   {
    "duration": 6,
    "start_time": "2023-12-09T20:18:23.739Z"
   },
   {
    "duration": 208,
    "start_time": "2023-12-09T20:18:23.746Z"
   },
   {
    "duration": 7,
    "start_time": "2023-12-09T20:18:23.956Z"
   },
   {
    "duration": 343,
    "start_time": "2023-12-09T20:18:23.965Z"
   },
   {
    "duration": 140,
    "start_time": "2023-12-09T20:18:24.310Z"
   },
   {
    "duration": 5,
    "start_time": "2023-12-09T20:18:24.452Z"
   },
   {
    "duration": 262,
    "start_time": "2023-12-09T20:18:24.458Z"
   },
   {
    "duration": 177,
    "start_time": "2023-12-09T20:18:24.722Z"
   },
   {
    "duration": 9,
    "start_time": "2023-12-09T20:18:24.900Z"
   },
   {
    "duration": 239,
    "start_time": "2023-12-09T20:18:24.911Z"
   },
   {
    "duration": 134,
    "start_time": "2023-12-09T20:18:25.152Z"
   },
   {
    "duration": 145,
    "start_time": "2023-12-09T20:18:25.288Z"
   },
   {
    "duration": 25,
    "start_time": "2023-12-09T20:18:25.435Z"
   },
   {
    "duration": 269,
    "start_time": "2023-12-09T20:18:25.462Z"
   },
   {
    "duration": 12,
    "start_time": "2023-12-09T20:18:25.733Z"
   },
   {
    "duration": 47,
    "start_time": "2023-12-09T20:18:25.747Z"
   },
   {
    "duration": 21,
    "start_time": "2023-12-09T20:18:25.796Z"
   },
   {
    "duration": 12,
    "start_time": "2023-12-09T20:18:25.818Z"
   },
   {
    "duration": 12,
    "start_time": "2023-12-09T20:18:25.832Z"
   },
   {
    "duration": 25,
    "start_time": "2023-12-09T20:18:25.845Z"
   },
   {
    "duration": 14,
    "start_time": "2023-12-09T20:18:25.874Z"
   },
   {
    "duration": 75,
    "start_time": "2023-12-09T20:20:50.712Z"
   },
   {
    "duration": 26,
    "start_time": "2023-12-09T20:22:12.004Z"
   },
   {
    "duration": 26,
    "start_time": "2023-12-09T20:22:24.465Z"
   },
   {
    "duration": 75,
    "start_time": "2023-12-09T20:24:28.180Z"
   },
   {
    "duration": 80,
    "start_time": "2023-12-09T20:25:40.568Z"
   },
   {
    "duration": 14,
    "start_time": "2023-12-09T20:26:17.708Z"
   },
   {
    "duration": 1202,
    "start_time": "2023-12-09T20:28:15.023Z"
   },
   {
    "duration": 74,
    "start_time": "2023-12-09T20:28:16.227Z"
   },
   {
    "duration": 24,
    "start_time": "2023-12-09T20:28:16.302Z"
   },
   {
    "duration": 15,
    "start_time": "2023-12-09T20:28:16.327Z"
   },
   {
    "duration": 5,
    "start_time": "2023-12-09T20:28:16.345Z"
   },
   {
    "duration": 10,
    "start_time": "2023-12-09T20:28:16.351Z"
   },
   {
    "duration": 9,
    "start_time": "2023-12-09T20:28:16.363Z"
   },
   {
    "duration": 12,
    "start_time": "2023-12-09T20:28:16.374Z"
   },
   {
    "duration": 24,
    "start_time": "2023-12-09T20:28:16.387Z"
   },
   {
    "duration": 18,
    "start_time": "2023-12-09T20:28:16.413Z"
   },
   {
    "duration": 9,
    "start_time": "2023-12-09T20:28:16.433Z"
   },
   {
    "duration": 18,
    "start_time": "2023-12-09T20:28:16.444Z"
   },
   {
    "duration": 5,
    "start_time": "2023-12-09T20:28:16.463Z"
   },
   {
    "duration": 5,
    "start_time": "2023-12-09T20:28:16.471Z"
   },
   {
    "duration": 33,
    "start_time": "2023-12-09T20:28:16.478Z"
   },
   {
    "duration": 303,
    "start_time": "2023-12-09T20:28:16.513Z"
   },
   {
    "duration": 6,
    "start_time": "2023-12-09T20:28:16.818Z"
   },
   {
    "duration": 310,
    "start_time": "2023-12-09T20:28:16.825Z"
   },
   {
    "duration": 306,
    "start_time": "2023-12-09T20:28:17.137Z"
   },
   {
    "duration": 298,
    "start_time": "2023-12-09T20:28:17.445Z"
   },
   {
    "duration": 6,
    "start_time": "2023-12-09T20:28:17.745Z"
   },
   {
    "duration": 222,
    "start_time": "2023-12-09T20:28:17.752Z"
   },
   {
    "duration": 8,
    "start_time": "2023-12-09T20:28:17.976Z"
   },
   {
    "duration": 337,
    "start_time": "2023-12-09T20:28:17.986Z"
   },
   {
    "duration": 152,
    "start_time": "2023-12-09T20:28:18.324Z"
   },
   {
    "duration": 5,
    "start_time": "2023-12-09T20:28:18.479Z"
   },
   {
    "duration": 170,
    "start_time": "2023-12-09T20:28:18.486Z"
   },
   {
    "duration": 251,
    "start_time": "2023-12-09T20:28:18.658Z"
   },
   {
    "duration": 5,
    "start_time": "2023-12-09T20:28:18.910Z"
   },
   {
    "duration": 242,
    "start_time": "2023-12-09T20:28:18.917Z"
   },
   {
    "duration": 172,
    "start_time": "2023-12-09T20:28:19.160Z"
   },
   {
    "duration": 141,
    "start_time": "2023-12-09T20:28:19.334Z"
   },
   {
    "duration": 34,
    "start_time": "2023-12-09T20:28:19.476Z"
   },
   {
    "duration": 264,
    "start_time": "2023-12-09T20:28:19.511Z"
   },
   {
    "duration": 11,
    "start_time": "2023-12-09T20:28:19.776Z"
   },
   {
    "duration": 24,
    "start_time": "2023-12-09T20:28:19.788Z"
   },
   {
    "duration": 4,
    "start_time": "2023-12-09T20:28:19.814Z"
   },
   {
    "duration": 11,
    "start_time": "2023-12-09T20:28:19.820Z"
   },
   {
    "duration": 14,
    "start_time": "2023-12-09T20:28:19.833Z"
   },
   {
    "duration": 37,
    "start_time": "2023-12-09T20:28:19.849Z"
   },
   {
    "duration": 18,
    "start_time": "2023-12-09T20:28:19.889Z"
   },
   {
    "duration": 1241,
    "start_time": "2023-12-09T20:30:02.613Z"
   },
   {
    "duration": 74,
    "start_time": "2023-12-09T20:30:03.857Z"
   },
   {
    "duration": 25,
    "start_time": "2023-12-09T20:30:03.933Z"
   },
   {
    "duration": 14,
    "start_time": "2023-12-09T20:30:03.959Z"
   },
   {
    "duration": 5,
    "start_time": "2023-12-09T20:30:03.976Z"
   },
   {
    "duration": 6,
    "start_time": "2023-12-09T20:30:03.983Z"
   },
   {
    "duration": 8,
    "start_time": "2023-12-09T20:30:03.990Z"
   },
   {
    "duration": 10,
    "start_time": "2023-12-09T20:30:04.000Z"
   },
   {
    "duration": 10,
    "start_time": "2023-12-09T20:30:04.012Z"
   },
   {
    "duration": 18,
    "start_time": "2023-12-09T20:30:04.024Z"
   },
   {
    "duration": 9,
    "start_time": "2023-12-09T20:30:04.043Z"
   },
   {
    "duration": 9,
    "start_time": "2023-12-09T20:30:04.054Z"
   },
   {
    "duration": 5,
    "start_time": "2023-12-09T20:30:04.064Z"
   },
   {
    "duration": 3,
    "start_time": "2023-12-09T20:30:04.072Z"
   },
   {
    "duration": 41,
    "start_time": "2023-12-09T20:30:04.077Z"
   },
   {
    "duration": 295,
    "start_time": "2023-12-09T20:30:04.119Z"
   },
   {
    "duration": 6,
    "start_time": "2023-12-09T20:30:04.416Z"
   },
   {
    "duration": 321,
    "start_time": "2023-12-09T20:30:04.423Z"
   },
   {
    "duration": 304,
    "start_time": "2023-12-09T20:30:04.746Z"
   },
   {
    "duration": 307,
    "start_time": "2023-12-09T20:30:05.051Z"
   },
   {
    "duration": 6,
    "start_time": "2023-12-09T20:30:05.360Z"
   },
   {
    "duration": 234,
    "start_time": "2023-12-09T20:30:05.367Z"
   },
   {
    "duration": 10,
    "start_time": "2023-12-09T20:30:05.603Z"
   },
   {
    "duration": 327,
    "start_time": "2023-12-09T20:30:05.615Z"
   },
   {
    "duration": 167,
    "start_time": "2023-12-09T20:30:05.943Z"
   },
   {
    "duration": 5,
    "start_time": "2023-12-09T20:30:06.111Z"
   },
   {
    "duration": 167,
    "start_time": "2023-12-09T20:30:06.118Z"
   },
   {
    "duration": 237,
    "start_time": "2023-12-09T20:30:06.287Z"
   },
   {
    "duration": 5,
    "start_time": "2023-12-09T20:30:06.526Z"
   },
   {
    "duration": 242,
    "start_time": "2023-12-09T20:30:06.532Z"
   },
   {
    "duration": 137,
    "start_time": "2023-12-09T20:30:06.776Z"
   },
   {
    "duration": 145,
    "start_time": "2023-12-09T20:30:06.915Z"
   },
   {
    "duration": 26,
    "start_time": "2023-12-09T20:30:07.062Z"
   },
   {
    "duration": 267,
    "start_time": "2023-12-09T20:30:07.090Z"
   },
   {
    "duration": 11,
    "start_time": "2023-12-09T20:30:07.359Z"
   },
   {
    "duration": 4,
    "start_time": "2023-12-09T20:30:07.371Z"
   },
   {
    "duration": 6,
    "start_time": "2023-12-09T20:30:07.376Z"
   },
   {
    "duration": 24,
    "start_time": "2023-12-09T20:30:07.383Z"
   },
   {
    "duration": 13,
    "start_time": "2023-12-09T20:30:07.408Z"
   },
   {
    "duration": 26,
    "start_time": "2023-12-09T20:30:07.423Z"
   },
   {
    "duration": 14,
    "start_time": "2023-12-09T20:30:07.453Z"
   },
   {
    "duration": 1483,
    "start_time": "2023-12-10T07:53:50.814Z"
   },
   {
    "duration": 189,
    "start_time": "2023-12-10T07:53:52.299Z"
   },
   {
    "duration": 28,
    "start_time": "2023-12-10T07:53:52.490Z"
   },
   {
    "duration": 16,
    "start_time": "2023-12-10T07:53:52.521Z"
   },
   {
    "duration": 8,
    "start_time": "2023-12-10T07:53:52.540Z"
   },
   {
    "duration": 11,
    "start_time": "2023-12-10T07:53:52.550Z"
   },
   {
    "duration": 13,
    "start_time": "2023-12-10T07:53:52.563Z"
   },
   {
    "duration": 15,
    "start_time": "2023-12-10T07:53:52.578Z"
   },
   {
    "duration": 16,
    "start_time": "2023-12-10T07:53:52.595Z"
   },
   {
    "duration": 20,
    "start_time": "2023-12-10T07:53:52.612Z"
   },
   {
    "duration": 12,
    "start_time": "2023-12-10T07:53:52.633Z"
   },
   {
    "duration": 15,
    "start_time": "2023-12-10T07:53:52.647Z"
   },
   {
    "duration": 6,
    "start_time": "2023-12-10T07:53:52.664Z"
   },
   {
    "duration": 7,
    "start_time": "2023-12-10T07:53:52.675Z"
   },
   {
    "duration": 48,
    "start_time": "2023-12-10T07:53:52.684Z"
   },
   {
    "duration": 311,
    "start_time": "2023-12-10T07:53:52.734Z"
   },
   {
    "duration": 8,
    "start_time": "2023-12-10T07:53:53.047Z"
   },
   {
    "duration": 342,
    "start_time": "2023-12-10T07:53:53.056Z"
   },
   {
    "duration": 407,
    "start_time": "2023-12-10T07:53:53.401Z"
   },
   {
    "duration": 337,
    "start_time": "2023-12-10T07:53:53.809Z"
   },
   {
    "duration": 6,
    "start_time": "2023-12-10T07:53:54.148Z"
   },
   {
    "duration": 222,
    "start_time": "2023-12-10T07:53:54.156Z"
   },
   {
    "duration": 7,
    "start_time": "2023-12-10T07:53:54.380Z"
   },
   {
    "duration": 362,
    "start_time": "2023-12-10T07:53:54.389Z"
   },
   {
    "duration": 164,
    "start_time": "2023-12-10T07:53:54.753Z"
   },
   {
    "duration": 11,
    "start_time": "2023-12-10T07:53:54.919Z"
   },
   {
    "duration": 176,
    "start_time": "2023-12-10T07:53:54.932Z"
   },
   {
    "duration": 252,
    "start_time": "2023-12-10T07:53:55.110Z"
   },
   {
    "duration": 5,
    "start_time": "2023-12-10T07:53:55.364Z"
   },
   {
    "duration": 249,
    "start_time": "2023-12-10T07:53:55.371Z"
   },
   {
    "duration": 157,
    "start_time": "2023-12-10T07:53:55.621Z"
   },
   {
    "duration": 148,
    "start_time": "2023-12-10T07:53:55.780Z"
   },
   {
    "duration": 26,
    "start_time": "2023-12-10T07:53:55.930Z"
   },
   {
    "duration": 286,
    "start_time": "2023-12-10T07:53:55.958Z"
   },
   {
    "duration": 13,
    "start_time": "2023-12-10T07:53:56.246Z"
   },
   {
    "duration": 5,
    "start_time": "2023-12-10T07:53:56.260Z"
   },
   {
    "duration": 7,
    "start_time": "2023-12-10T07:53:56.267Z"
   },
   {
    "duration": 38,
    "start_time": "2023-12-10T07:53:56.276Z"
   },
   {
    "duration": 9,
    "start_time": "2023-12-10T07:53:56.316Z"
   },
   {
    "duration": 26,
    "start_time": "2023-12-10T07:53:56.327Z"
   },
   {
    "duration": 16,
    "start_time": "2023-12-10T07:53:56.357Z"
   },
   {
    "duration": 1332,
    "start_time": "2023-12-10T19:35:39.946Z"
   },
   {
    "duration": 190,
    "start_time": "2023-12-10T19:35:41.280Z"
   },
   {
    "duration": 25,
    "start_time": "2023-12-10T19:35:41.471Z"
   },
   {
    "duration": 18,
    "start_time": "2023-12-10T19:35:41.498Z"
   },
   {
    "duration": 10,
    "start_time": "2023-12-10T19:35:41.518Z"
   },
   {
    "duration": 6,
    "start_time": "2023-12-10T19:35:41.530Z"
   },
   {
    "duration": 16,
    "start_time": "2023-12-10T19:35:41.538Z"
   },
   {
    "duration": 8,
    "start_time": "2023-12-10T19:35:41.556Z"
   },
   {
    "duration": 6,
    "start_time": "2023-12-10T19:35:41.565Z"
   },
   {
    "duration": 16,
    "start_time": "2023-12-10T19:35:41.574Z"
   },
   {
    "duration": 10,
    "start_time": "2023-12-10T19:35:41.592Z"
   },
   {
    "duration": 27,
    "start_time": "2023-12-10T19:35:41.604Z"
   },
   {
    "duration": 6,
    "start_time": "2023-12-10T19:35:41.633Z"
   },
   {
    "duration": 9,
    "start_time": "2023-12-10T19:35:41.641Z"
   },
   {
    "duration": 18,
    "start_time": "2023-12-10T19:35:41.651Z"
   },
   {
    "duration": 293,
    "start_time": "2023-12-10T19:35:41.670Z"
   },
   {
    "duration": 6,
    "start_time": "2023-12-10T19:35:41.965Z"
   },
   {
    "duration": 291,
    "start_time": "2023-12-10T19:35:41.973Z"
   },
   {
    "duration": 333,
    "start_time": "2023-12-10T19:35:42.266Z"
   },
   {
    "duration": 324,
    "start_time": "2023-12-10T19:35:42.601Z"
   },
   {
    "duration": 6,
    "start_time": "2023-12-10T19:35:42.931Z"
   },
   {
    "duration": 199,
    "start_time": "2023-12-10T19:35:42.939Z"
   },
   {
    "duration": 8,
    "start_time": "2023-12-10T19:35:43.139Z"
   },
   {
    "duration": 288,
    "start_time": "2023-12-10T19:35:43.149Z"
   },
   {
    "duration": 138,
    "start_time": "2023-12-10T19:35:43.439Z"
   },
   {
    "duration": 5,
    "start_time": "2023-12-10T19:35:43.578Z"
   },
   {
    "duration": 159,
    "start_time": "2023-12-10T19:35:43.585Z"
   },
   {
    "duration": 225,
    "start_time": "2023-12-10T19:35:43.747Z"
   },
   {
    "duration": 4,
    "start_time": "2023-12-10T19:35:43.973Z"
   },
   {
    "duration": 209,
    "start_time": "2023-12-10T19:35:43.979Z"
   },
   {
    "duration": 125,
    "start_time": "2023-12-10T19:35:44.190Z"
   },
   {
    "duration": 127,
    "start_time": "2023-12-10T19:35:44.316Z"
   },
   {
    "duration": 23,
    "start_time": "2023-12-10T19:35:44.445Z"
   },
   {
    "duration": 243,
    "start_time": "2023-12-10T19:35:44.470Z"
   },
   {
    "duration": 18,
    "start_time": "2023-12-10T19:35:44.715Z"
   },
   {
    "duration": 9,
    "start_time": "2023-12-10T19:35:44.735Z"
   },
   {
    "duration": 22,
    "start_time": "2023-12-10T19:35:44.745Z"
   },
   {
    "duration": 19,
    "start_time": "2023-12-10T19:35:44.770Z"
   },
   {
    "duration": 14,
    "start_time": "2023-12-10T19:35:44.791Z"
   },
   {
    "duration": 31,
    "start_time": "2023-12-10T19:35:44.807Z"
   },
   {
    "duration": 14,
    "start_time": "2023-12-10T19:35:44.840Z"
   },
   {
    "duration": 5,
    "start_time": "2023-12-10T19:38:16.804Z"
   },
   {
    "duration": 5,
    "start_time": "2023-12-10T19:42:31.717Z"
   },
   {
    "duration": 4,
    "start_time": "2023-12-10T20:14:47.061Z"
   },
   {
    "duration": 85,
    "start_time": "2023-12-10T20:14:47.067Z"
   },
   {
    "duration": 23,
    "start_time": "2023-12-10T20:14:47.154Z"
   },
   {
    "duration": 28,
    "start_time": "2023-12-10T20:14:47.178Z"
   },
   {
    "duration": 10,
    "start_time": "2023-12-10T20:14:47.208Z"
   },
   {
    "duration": 15,
    "start_time": "2023-12-10T20:14:47.220Z"
   },
   {
    "duration": 23,
    "start_time": "2023-12-10T20:14:47.236Z"
   },
   {
    "duration": 6,
    "start_time": "2023-12-10T20:14:47.261Z"
   },
   {
    "duration": 16,
    "start_time": "2023-12-10T20:14:47.269Z"
   },
   {
    "duration": 16,
    "start_time": "2023-12-10T20:14:47.287Z"
   },
   {
    "duration": 19,
    "start_time": "2023-12-10T20:14:47.304Z"
   },
   {
    "duration": 44,
    "start_time": "2023-12-10T20:14:47.324Z"
   },
   {
    "duration": 8,
    "start_time": "2023-12-10T20:14:47.369Z"
   },
   {
    "duration": 12,
    "start_time": "2023-12-10T20:14:47.380Z"
   },
   {
    "duration": 24,
    "start_time": "2023-12-10T20:14:47.393Z"
   },
   {
    "duration": 256,
    "start_time": "2023-12-10T20:14:47.419Z"
   },
   {
    "duration": 5,
    "start_time": "2023-12-10T20:14:47.677Z"
   },
   {
    "duration": 224,
    "start_time": "2023-12-10T20:14:47.684Z"
   },
   {
    "duration": 335,
    "start_time": "2023-12-10T20:14:47.910Z"
   },
   {
    "duration": 307,
    "start_time": "2023-12-10T20:14:48.247Z"
   },
   {
    "duration": 5,
    "start_time": "2023-12-10T20:14:48.556Z"
   },
   {
    "duration": 199,
    "start_time": "2023-12-10T20:14:48.563Z"
   },
   {
    "duration": 7,
    "start_time": "2023-12-10T20:14:48.764Z"
   },
   {
    "duration": 305,
    "start_time": "2023-12-10T20:14:48.773Z"
   },
   {
    "duration": 145,
    "start_time": "2023-12-10T20:14:49.080Z"
   },
   {
    "duration": 5,
    "start_time": "2023-12-10T20:14:49.230Z"
   },
   {
    "duration": 256,
    "start_time": "2023-12-10T20:14:49.236Z"
   },
   {
    "duration": 163,
    "start_time": "2023-12-10T20:14:49.493Z"
   },
   {
    "duration": 5,
    "start_time": "2023-12-10T20:14:49.658Z"
   },
   {
    "duration": 210,
    "start_time": "2023-12-10T20:14:49.664Z"
   },
   {
    "duration": 129,
    "start_time": "2023-12-10T20:14:49.875Z"
   },
   {
    "duration": 131,
    "start_time": "2023-12-10T20:14:50.006Z"
   },
   {
    "duration": 5,
    "start_time": "2023-12-10T20:14:50.139Z"
   },
   {
    "duration": 31,
    "start_time": "2023-12-10T20:14:50.145Z"
   },
   {
    "duration": 254,
    "start_time": "2023-12-10T20:14:50.177Z"
   },
   {
    "duration": 4,
    "start_time": "2023-12-10T20:14:50.433Z"
   },
   {
    "duration": 21,
    "start_time": "2023-12-10T20:14:50.439Z"
   },
   {
    "duration": 8,
    "start_time": "2023-12-10T20:14:50.462Z"
   },
   {
    "duration": 17,
    "start_time": "2023-12-10T20:14:50.472Z"
   },
   {
    "duration": 23,
    "start_time": "2023-12-10T20:14:50.491Z"
   },
   {
    "duration": 38,
    "start_time": "2023-12-10T20:14:50.519Z"
   },
   {
    "duration": 58,
    "start_time": "2023-12-10T20:14:50.558Z"
   },
   {
    "duration": 16,
    "start_time": "2023-12-10T20:14:50.618Z"
   },
   {
    "duration": 1236,
    "start_time": "2023-12-11T08:04:04.420Z"
   },
   {
    "duration": 187,
    "start_time": "2023-12-11T08:04:05.658Z"
   },
   {
    "duration": 22,
    "start_time": "2023-12-11T08:04:05.846Z"
   },
   {
    "duration": 41,
    "start_time": "2023-12-11T08:04:05.870Z"
   },
   {
    "duration": 9,
    "start_time": "2023-12-11T08:04:05.912Z"
   },
   {
    "duration": 4,
    "start_time": "2023-12-11T08:04:05.923Z"
   },
   {
    "duration": 39,
    "start_time": "2023-12-11T08:04:05.936Z"
   },
   {
    "duration": 21,
    "start_time": "2023-12-11T08:04:05.976Z"
   },
   {
    "duration": 6,
    "start_time": "2023-12-11T08:04:05.998Z"
   },
   {
    "duration": 29,
    "start_time": "2023-12-11T08:04:06.006Z"
   },
   {
    "duration": 34,
    "start_time": "2023-12-11T08:04:06.037Z"
   },
   {
    "duration": 20,
    "start_time": "2023-12-11T08:04:06.072Z"
   },
   {
    "duration": 5,
    "start_time": "2023-12-11T08:04:06.093Z"
   },
   {
    "duration": 6,
    "start_time": "2023-12-11T08:04:06.099Z"
   },
   {
    "duration": 20,
    "start_time": "2023-12-11T08:04:06.106Z"
   },
   {
    "duration": 267,
    "start_time": "2023-12-11T08:04:06.127Z"
   },
   {
    "duration": 5,
    "start_time": "2023-12-11T08:04:06.395Z"
   },
   {
    "duration": 270,
    "start_time": "2023-12-11T08:04:06.402Z"
   },
   {
    "duration": 337,
    "start_time": "2023-12-11T08:04:06.674Z"
   },
   {
    "duration": 277,
    "start_time": "2023-12-11T08:04:07.013Z"
   },
   {
    "duration": 5,
    "start_time": "2023-12-11T08:04:07.292Z"
   },
   {
    "duration": 190,
    "start_time": "2023-12-11T08:04:07.299Z"
   },
   {
    "duration": 8,
    "start_time": "2023-12-11T08:04:07.491Z"
   },
   {
    "duration": 277,
    "start_time": "2023-12-11T08:04:07.500Z"
   },
   {
    "duration": 128,
    "start_time": "2023-12-11T08:04:07.778Z"
   },
   {
    "duration": 4,
    "start_time": "2023-12-11T08:04:07.908Z"
   },
   {
    "duration": 164,
    "start_time": "2023-12-11T08:04:07.913Z"
   },
   {
    "duration": 209,
    "start_time": "2023-12-11T08:04:08.080Z"
   },
   {
    "duration": 4,
    "start_time": "2023-12-11T08:04:08.291Z"
   },
   {
    "duration": 200,
    "start_time": "2023-12-11T08:04:08.296Z"
   },
   {
    "duration": 135,
    "start_time": "2023-12-11T08:04:08.498Z"
   },
   {
    "duration": 126,
    "start_time": "2023-12-11T08:04:08.635Z"
   },
   {
    "duration": 10,
    "start_time": "2023-12-11T08:04:08.762Z"
   },
   {
    "duration": 45,
    "start_time": "2023-12-11T08:04:08.773Z"
   },
   {
    "duration": 209,
    "start_time": "2023-12-11T08:04:08.819Z"
   },
   {
    "duration": 4,
    "start_time": "2023-12-11T08:04:09.030Z"
   },
   {
    "duration": 11,
    "start_time": "2023-12-11T08:04:09.035Z"
   },
   {
    "duration": 3,
    "start_time": "2023-12-11T08:04:09.047Z"
   },
   {
    "duration": 21,
    "start_time": "2023-12-11T08:04:09.052Z"
   },
   {
    "duration": 14,
    "start_time": "2023-12-11T08:04:09.074Z"
   },
   {
    "duration": 7,
    "start_time": "2023-12-11T08:04:09.090Z"
   },
   {
    "duration": 19,
    "start_time": "2023-12-11T08:04:09.099Z"
   },
   {
    "duration": 16,
    "start_time": "2023-12-11T08:04:09.120Z"
   },
   {
    "duration": 3,
    "start_time": "2023-12-11T08:04:15.809Z"
   }
  ],
  "kernelspec": {
   "display_name": "Python 3 (ipykernel)",
   "language": "python",
   "name": "python3"
  },
  "language_info": {
   "codemirror_mode": {
    "name": "ipython",
    "version": 3
   },
   "file_extension": ".py",
   "mimetype": "text/x-python",
   "name": "python",
   "nbconvert_exporter": "python",
   "pygments_lexer": "ipython3",
   "version": "3.9.18"
  },
  "toc": {
   "base_numbering": 1,
   "nav_menu": {},
   "number_sections": true,
   "sideBar": true,
   "skip_h1_title": true,
   "title_cell": "Содержание",
   "title_sidebar": "Contents",
   "toc_cell": true,
   "toc_position": {
    "height": "calc(100% - 180px)",
    "left": "10px",
    "top": "150px",
    "width": "334.2px"
   },
   "toc_section_display": true,
   "toc_window_display": false
  }
 },
 "nbformat": 4,
 "nbformat_minor": 2
}
